{
 "cells": [
  {
   "cell_type": "markdown",
   "metadata": {},
   "source": [
    "## Coding Exercise #0302"
   ]
  },
  {
   "cell_type": "markdown",
   "metadata": {},
   "source": [
    "### 1. Linear regression and diagnostics:"
   ]
  },
  {
   "cell_type": "code",
   "execution_count": null,
   "metadata": {},
   "outputs": [],
   "source": [
    "# import numpy as np\n",
    "import pandas as pd\n",
    "import matplotlib.pyplot as plt\n",
    "import seaborn as sns\n",
    "from sklearn.linear_model import LinearRegression\n",
    "from sklearn.model_selection import train_test_split\n",
    "#from sklearn.datasets import load_boston\n",
    "from sklearn import metrics\n",
    "import pandas as pd\n",
    "import numpy as np\n",
    "\n",
    "\n",
    "data_url = \"http://lib.stat.cmu.edu/datasets/boston\"\n",
    "raw_df = pd.read_csv(data_url, sep=\"\\s+\", skiprows=22, header=None)\n",
    "data = np.hstack([raw_df.values[::2, :], raw_df.values[1::2, :2]])\n",
    "target = raw_df.values[1::2, 2]\n",
    "\n",
    "X = pd.DataFrame(data)\n",
    "Y = pd.DataFrame(target)\n",
    "\n",
    "# define column names\n",
    "column_names = [\n",
    "    'CRIM', 'ZN', 'INDUS', 'CHAS', 'NOX', 'RM', 'AGE', 'DIS', \n",
    "    'RAD', 'TAX', 'PTRATIO', 'B', 'LSTAT', 'MEDV'\n",
    "]\n",
    "\n",
    "# add column names to the DataFrame\n",
    "X.columns = column_names[:-1]  # all columns except the last one\n",
    "Y.columns = [column_names[-1]]  # only the last column\n"
   ]
  },
  {
   "cell_type": "markdown",
   "metadata": {},
   "source": [
    "#### 1.1. Load the 'Boston' dataset from Scikit-Learn:"
   ]
  },
  {
   "cell_type": "code",
   "execution_count": null,
   "metadata": {},
   "outputs": [],
   "source": [
    "# Display the description on the data.\n",
    "print(X)"
   ]
  },
  {
   "cell_type": "code",
   "execution_count": null,
   "metadata": {},
   "outputs": [],
   "source": [
    "# Display the description on the data.\n",
    "print(Y)"
   ]
  },
  {
   "cell_type": "markdown",
   "metadata": {},
   "source": [
    "#### 1.2. Convert the data into a DataFrame and then explore:"
   ]
  },
  {
   "cell_type": "code",
   "execution_count": null,
   "metadata": {},
   "outputs": [],
   "source": [
    "df = pd.DataFrame(np.append(X,Y,axis = 1), columns = column_names)"
   ]
  },
  {
   "cell_type": "code",
   "execution_count": null,
   "metadata": {},
   "outputs": [],
   "source": [
    "df.head(5)"
   ]
  },
  {
   "cell_type": "code",
   "execution_count": null,
   "metadata": {},
   "outputs": [],
   "source": [
    "df.tail(5)"
   ]
  },
  {
   "cell_type": "code",
   "execution_count": null,
   "metadata": {},
   "outputs": [],
   "source": [
    "# Descriptive statistics of the variables (columns).\n",
    "df.describe()"
   ]
  },
  {
   "cell_type": "code",
   "execution_count": null,
   "metadata": {},
   "outputs": [],
   "source": [
    "# Q: Show the pair-wise correlation matrix (values rounded to two decimals) \n",
    "# Check https://pandas.pydata.org/docs/reference/api/pandas.DataFrame.corr.html and https://docs.scipy.org/doc/numpy-1.13.0/reference/generated/numpy.round_.html\n",
    "??"
   ]
  },
  {
   "cell_type": "code",
   "execution_count": null,
   "metadata": {},
   "outputs": [],
   "source": [
    "# Q:  Visualize the correlation matrix (use the function heatmap from the saborn library: https://seaborn.pydata.org/generated/seaborn.heatmap.html)\n",
    "??"
   ]
  },
  {
   "cell_type": "code",
   "execution_count": null,
   "metadata": {},
   "outputs": [],
   "source": [
    "# In the Boston housing dataset, 'RM' is the average number of rooms per dwelling and 'PRICE'(MEDV) is the Median value of owner-occupied homes in $1000's. \n",
    "# Q: Visualize RM vs PRICE. (e.g., we can visualize the relationship between these two variables using a scatter plot)\n",
    "\n",
    "??"
   ]
  },
  {
   "cell_type": "markdown",
   "metadata": {},
   "source": [
    "#### 1.3. Train by linear regression:"
   ]
  },
  {
   "cell_type": "code",
   "execution_count": null,
   "metadata": {},
   "outputs": [],
   "source": [
    "# Q:  Train and fit a Linear Regression model using X and Y.\n",
    "lm = ??\n",
    "lm.??"
   ]
  },
  {
   "cell_type": "code",
   "execution_count": null,
   "metadata": {},
   "outputs": [],
   "source": [
    "# Q: The intercept.\n",
    "lm.intercept_"
   ]
  },
  {
   "cell_type": "code",
   "execution_count": null,
   "metadata": {},
   "outputs": [],
   "source": [
    "# Q: The rest of coefficients (parameters).\n",
    "lm.coef_"
   ]
  },
  {
   "cell_type": "code",
   "execution_count": null,
   "metadata": {},
   "outputs": [],
   "source": [
    "# Display the parameters as a DataFrame.\n",
    "\n",
    "# Get the intercept and parameters as data\n",
    "data = np.append(lm.intercept_, lm.coef_)\n",
    "\n",
    "# Create a pandas DataFrame\n",
    "parameters_df = pd.DataFrame(data, columns=['Parameters'], index=['Intercept'] + column_names[:-1])\n",
    "\n",
    "# Print the DataFrame\n",
    "print(parameters_df)"
   ]
  },
  {
   "cell_type": "markdown",
   "metadata": {},
   "source": [
    "#### 1.4. Diagnostics:"
   ]
  },
  {
   "cell_type": "code",
   "execution_count": null,
   "metadata": {},
   "outputs": [],
   "source": [
    "# In-sample prediction.\n",
    "predY = lm.predict(X)"
   ]
  },
  {
   "cell_type": "code",
   "execution_count": null,
   "metadata": {},
   "outputs": [],
   "source": [
    "# Q:  Display real Y vs predicted Y (use the scatter function: https://matplotlib.org/stable/api/_as_gen/matplotlib.pyplot.scatter.html).\n",
    "plt.??"
   ]
  },
  {
   "cell_type": "code",
   "execution_count": null,
   "metadata": {},
   "outputs": [],
   "source": [
    "# Coefficient of determination (R^2):\n",
    "rsq_AllData = lm.score(X,Y)\n",
    "print(rsq_AllData)"
   ]
  },
  {
   "cell_type": "markdown",
   "metadata": {},
   "source": [
    "#### 1.5. SPLIT DATA: In-sample (training data) and out-of-sample (test data) testing:"
   ]
  },
  {
   "cell_type": "code",
   "execution_count": null,
   "metadata": {},
   "outputs": [],
   "source": [
    "# Q: Split the dataset into train and test (test size = 0.3, random seed = 123)\n",
    "X_train, X_test, Y_train, Y_test = ??\n",
    "print(X_train.shape)\n",
    "print(X_test.shape)\n",
    "print(Y_train.shape)\n",
    "print(Y_test.shape)"
   ]
  },
  {
   "cell_type": "code",
   "execution_count": null,
   "metadata": {},
   "outputs": [],
   "source": [
    "# Q: Check the prediction for:\n",
    "# predY_in = in-sample prediction of Y (X_train)\n",
    "# predY_out = out-of-sample prediction of Y (X_test).\n",
    "lm = LinearRegression()\n",
    "lm.fit(X_train,Y_train)\n",
    "predY_in = ??\n",
    "predY_out = ??"
   ]
  },
  {
   "cell_type": "code",
   "execution_count": null,
   "metadata": {},
   "outputs": [],
   "source": [
    "print('In-sample MSE is      : ' + str(metrics.mean_squared_error(Y_train, predY_in)))\n",
    "print('Out-of-sample MSE is  : ' + str(metrics.mean_squared_error(Y_test, predY_out)))\n",
    "print('-'*50)\n",
    "print('In-sample RMSE is     : ' + str(np.sqrt(metrics.mean_squared_error(Y_train, predY_in))))\n",
    "print('Out-of-sample RMSE is : ' + str(np.sqrt(metrics.mean_squared_error(Y_test, predY_out))))"
   ]
  },
  {
   "cell_type": "markdown",
   "metadata": {},
   "source": [
    "NOTE: In-sample error are a bit smaller but not by much."
   ]
  },
  {
   "cell_type": "code",
   "execution_count": null,
   "metadata": {},
   "outputs": [],
   "source": [
    "# Coefficient of determination (R^2):\n",
    "rsq_Test = lm.score(X_test,Y_test)\n",
    "print(rsq_Test)"
   ]
  },
  {
   "cell_type": "code",
   "execution_count": null,
   "metadata": {},
   "outputs": [],
   "source": [
    "# Show the intercept.\n",
    "lm.intercept_"
   ]
  },
  {
   "cell_type": "code",
   "execution_count": null,
   "metadata": {},
   "outputs": [],
   "source": [
    "# Show other parameters.\n",
    "lm.coef_"
   ]
  },
  {
   "cell_type": "markdown",
   "metadata": {},
   "source": [
    "#### 1.6. Residual analysis:"
   ]
  },
  {
   "cell_type": "code",
   "execution_count": null,
   "metadata": {},
   "outputs": [],
   "source": [
    "# Q: Calculate residual.\n",
    "residual = Y_train - predY_in"
   ]
  },
  {
   "cell_type": "code",
   "execution_count": null,
   "metadata": {},
   "outputs": [],
   "source": [
    "# Q: Can you check \"visually\" that the mean = 0 and variance = constant? (Pot Y_train vs. the residual)\n",
    "plt.??"
   ]
  },
  {
   "cell_type": "code",
   "execution_count": null,
   "metadata": {},
   "outputs": [],
   "source": [
    "# Q: Are the residuals normally distributed centered around 0? Use https://seaborn.pydata.org/generated/seaborn.distplot.html\n",
    "# to plot a hisogram of the \"residual\" variable with 50 bins.\n",
    "sns.??"
   ]
  },
  {
   "cell_type": "markdown",
   "metadata": {},
   "source": [
    "#### 1.7. Given a new set of values for the explanatory variables, predict the response:  \n",
    "- CRIM     : 0.03\n",
    "- ZN       : 0.0\n",
    "- INDUS    : 13.0\n",
    "- CHAS     : 0.0\n",
    "- NOX      : 0.4\n",
    "- RM       : 4.3\n",
    "- AGE      : 23.5\n",
    "- DIS      : 1.9\n",
    "- RAD      : 1.0\n",
    "- TAX      : 273.0\n",
    "- PTRATIO  : 18.0 \n",
    "- B        : 380.0\n",
    "- LSTAT    : 7.5"
   ]
  },
  {
   "cell_type": "code",
   "execution_count": null,
   "metadata": {},
   "outputs": [],
   "source": [
    "X_new = np.array([0.03, 0.0, 13.0, 0.0, 0.4, 4.3, 23.5, 1.9, 1.0, 273.0, 18.0, 380.0, 7.5]).reshape(1,-1)  # Reshaped as a row.\n",
    "Y_pred_new = lm.predict(X_new)\n",
    "print(np.round(Y_pred_new[0,0],3))"
   ]
  },
  {
   "cell_type": "markdown",
   "metadata": {},
   "source": [
    "### 1.7 Regularized regressions\n"
   ]
  },
  {
   "cell_type": "markdown",
   "metadata": {},
   "source": [
    "#### 1.7.1 Ridge regression"
   ]
  },
  {
   "cell_type": "code",
   "execution_count": null,
   "metadata": {},
   "outputs": [],
   "source": [
    "from sklearn.linear_model import Ridge, Lasso"
   ]
  },
  {
   "cell_type": "code",
   "execution_count": null,
   "metadata": {},
   "outputs": [],
   "source": [
    "lambdaRange = range(1,100) # Lambda = 0 -> same as lm()"
   ]
  },
  {
   "cell_type": "code",
   "execution_count": null,
   "metadata": {
    "scrolled": true
   },
   "outputs": [],
   "source": [
    "bestRsq = 0.0                                                # To contain the best R^2.\n",
    "bestLambda = 0.0                                             # To contain the best lambda.\n",
    "for aLambda in lambdaRange:\n",
    "    ridge = Ridge(aLambda)\n",
    "    ridge.fit(X_train,Y_train)                               # Train with the training set.\n",
    "    rsq = ridge.score(X_test,Y_test)                         # Calculate R^2 with the testing set. \n",
    "    if (rsq > bestRsq):                                      # If R^2 is better, replace bestRsq.\n",
    "        bestRsq = rsq\n",
    "        bestLambda = aLambda\n",
    "        print(\"Lambda = \", bestLambda, \" and  R^2 = \", np.round(rsq,3))\n",
    "ridge = Ridge(bestLambda)                                    # Final run with the bestLambda.\n",
    "ridge.fit(X,Y)                                                  "
   ]
  },
  {
   "cell_type": "code",
   "execution_count": null,
   "metadata": {},
   "outputs": [],
   "source": [
    "# Show the intercept.\n",
    "ridge.intercept_\n"
   ]
  },
  {
   "cell_type": "code",
   "execution_count": null,
   "metadata": {},
   "outputs": [],
   "source": [
    "# Show other parameters.\n",
    "ridge.coef_"
   ]
  },
  {
   "cell_type": "markdown",
   "metadata": {},
   "source": [
    "#### 1.7.2 Lasso regression"
   ]
  },
  {
   "cell_type": "code",
   "execution_count": null,
   "metadata": {},
   "outputs": [],
   "source": [
    "lambdaRange = range(1,100) # Try also lambdaRange = np.arange(0.01, 1, 0.01)"
   ]
  },
  {
   "cell_type": "code",
   "execution_count": null,
   "metadata": {},
   "outputs": [],
   "source": [
    "# Q: Check the best lamda for Lasso (as done with Ridge) (https://scikit-learn.org/stable/modules/generated/sklearn.linear_model.Lasso.html)\n"
   ]
  },
  {
   "cell_type": "code",
   "execution_count": null,
   "metadata": {},
   "outputs": [],
   "source": [
    "# Show the intercept.\n",
    "lasso.intercept_"
   ]
  },
  {
   "cell_type": "code",
   "execution_count": null,
   "metadata": {},
   "outputs": [],
   "source": [
    "# Show other parameters.\n",
    "lasso.coef_"
   ]
  },
  {
   "cell_type": "markdown",
   "metadata": {},
   "source": [
    "NOTE: Lasso can make some parameters exactly 0 when $\\lambda$ is large enough."
   ]
  }
 ],
 "metadata": {
  "kernelspec": {
   "display_name": "Python 3 (ipykernel)",
   "language": "python",
   "name": "python3"
  },
  "language_info": {
   "codemirror_mode": {
    "name": "ipython",
    "version": 3
   },
   "file_extension": ".py",
   "mimetype": "text/x-python",
   "name": "python",
   "nbconvert_exporter": "python",
   "pygments_lexer": "ipython3",
   "version": "3.10.9"
  }
 },
 "nbformat": 4,
 "nbformat_minor": 2
}
