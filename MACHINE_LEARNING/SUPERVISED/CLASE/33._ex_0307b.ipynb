{
 "cells": [
  {
   "cell_type": "markdown",
   "metadata": {},
   "source": [
    "## Coding Exercise #0307"
   ]
  },
  {
   "cell_type": "markdown",
   "metadata": {},
   "source": [
    "### 1. Classification with logistic regression:"
   ]
  },
  {
   "cell_type": "code",
   "execution_count": 1,
   "metadata": {},
   "outputs": [],
   "source": [
    "import numpy as np\n",
    "import pandas as pd\n",
    "import matplotlib.pyplot as plt\n",
    "import seaborn as sns\n",
    "from sklearn.datasets import load_breast_cancer\n",
    "from sklearn.model_selection import train_test_split\n",
    "from sklearn.linear_model import LogisticRegression\n",
    "from sklearn import metrics\n",
    "%matplotlib inline"
   ]
  },
  {
   "cell_type": "markdown",
   "metadata": {},
   "source": [
    "#### 1.1. Read in data and explore:"
   ]
  },
  {
   "cell_type": "code",
   "execution_count": 2,
   "metadata": {},
   "outputs": [],
   "source": [
    "# Load data.\n",
    "data = load_breast_cancer()"
   ]
  },
  {
   "cell_type": "code",
   "execution_count": 3,
   "metadata": {},
   "outputs": [
    {
     "name": "stdout",
     "output_type": "stream",
     "text": [
      ".. _breast_cancer_dataset:\n",
      "\n",
      "Breast cancer wisconsin (diagnostic) dataset\n",
      "--------------------------------------------\n",
      "\n",
      "**Data Set Characteristics:**\n",
      "\n",
      ":Number of Instances: 569\n",
      "\n",
      ":Number of Attributes: 30 numeric, predictive attributes and the class\n",
      "\n",
      ":Attribute Information:\n",
      "    - radius (mean of distances from center to points on the perimeter)\n",
      "    - texture (standard deviation of gray-scale values)\n",
      "    - perimeter\n",
      "    - area\n",
      "    - smoothness (local variation in radius lengths)\n",
      "    - compactness (perimeter^2 / area - 1.0)\n",
      "    - concavity (severity of concave portions of the contour)\n",
      "    - concave points (number of concave portions of the contour)\n",
      "    - symmetry\n",
      "    - fractal dimension (\"coastline approximation\" - 1)\n",
      "\n",
      "    The mean, standard error, and \"worst\" or largest (mean of the three\n",
      "    worst/largest values) of these features were computed for each image,\n",
      "    resulting in 30 features.  For instance, field 0 is Mean Radius, field\n",
      "    10 is Radius SE, field 20 is Worst Radius.\n",
      "\n",
      "    - class:\n",
      "            - WDBC-Malignant\n",
      "            - WDBC-Benign\n",
      "\n",
      ":Summary Statistics:\n",
      "\n",
      "===================================== ====== ======\n",
      "                                        Min    Max\n",
      "===================================== ====== ======\n",
      "radius (mean):                        6.981  28.11\n",
      "texture (mean):                       9.71   39.28\n",
      "perimeter (mean):                     43.79  188.5\n",
      "area (mean):                          143.5  2501.0\n",
      "smoothness (mean):                    0.053  0.163\n",
      "compactness (mean):                   0.019  0.345\n",
      "concavity (mean):                     0.0    0.427\n",
      "concave points (mean):                0.0    0.201\n",
      "symmetry (mean):                      0.106  0.304\n",
      "fractal dimension (mean):             0.05   0.097\n",
      "radius (standard error):              0.112  2.873\n",
      "texture (standard error):             0.36   4.885\n",
      "perimeter (standard error):           0.757  21.98\n",
      "area (standard error):                6.802  542.2\n",
      "smoothness (standard error):          0.002  0.031\n",
      "compactness (standard error):         0.002  0.135\n",
      "concavity (standard error):           0.0    0.396\n",
      "concave points (standard error):      0.0    0.053\n",
      "symmetry (standard error):            0.008  0.079\n",
      "fractal dimension (standard error):   0.001  0.03\n",
      "radius (worst):                       7.93   36.04\n",
      "texture (worst):                      12.02  49.54\n",
      "perimeter (worst):                    50.41  251.2\n",
      "area (worst):                         185.2  4254.0\n",
      "smoothness (worst):                   0.071  0.223\n",
      "compactness (worst):                  0.027  1.058\n",
      "concavity (worst):                    0.0    1.252\n",
      "concave points (worst):               0.0    0.291\n",
      "symmetry (worst):                     0.156  0.664\n",
      "fractal dimension (worst):            0.055  0.208\n",
      "===================================== ====== ======\n",
      "\n",
      ":Missing Attribute Values: None\n",
      "\n",
      ":Class Distribution: 212 - Malignant, 357 - Benign\n",
      "\n",
      ":Creator:  Dr. William H. Wolberg, W. Nick Street, Olvi L. Mangasarian\n",
      "\n",
      ":Donor: Nick Street\n",
      "\n",
      ":Date: November, 1995\n",
      "\n",
      "This is a copy of UCI ML Breast Cancer Wisconsin (Diagnostic) datasets.\n",
      "https://goo.gl/U2Uwz2\n",
      "\n",
      "Features are computed from a digitized image of a fine needle\n",
      "aspirate (FNA) of a breast mass.  They describe\n",
      "characteristics of the cell nuclei present in the image.\n",
      "\n",
      "Separating plane described above was obtained using\n",
      "Multisurface Method-Tree (MSM-T) [K. P. Bennett, \"Decision Tree\n",
      "Construction Via Linear Programming.\" Proceedings of the 4th\n",
      "Midwest Artificial Intelligence and Cognitive Science Society,\n",
      "pp. 97-101, 1992], a classification method which uses linear\n",
      "programming to construct a decision tree.  Relevant features\n",
      "were selected using an exhaustive search in the space of 1-4\n",
      "features and 1-3 separating planes.\n",
      "\n",
      "The actual linear program used to obtain the separating plane\n",
      "in the 3-dimensional space is that described in:\n",
      "[K. P. Bennett and O. L. Mangasarian: \"Robust Linear\n",
      "Programming Discrimination of Two Linearly Inseparable Sets\",\n",
      "Optimization Methods and Software 1, 1992, 23-34].\n",
      "\n",
      "This database is also available through the UW CS ftp server:\n",
      "\n",
      "ftp ftp.cs.wisc.edu\n",
      "cd math-prog/cpo-dataset/machine-learn/WDBC/\n",
      "\n",
      "|details-start|\n",
      "**References**\n",
      "|details-split|\n",
      "\n",
      "- W.N. Street, W.H. Wolberg and O.L. Mangasarian. Nuclear feature extraction\n",
      "  for breast tumor diagnosis. IS&T/SPIE 1993 International Symposium on\n",
      "  Electronic Imaging: Science and Technology, volume 1905, pages 861-870,\n",
      "  San Jose, CA, 1993.\n",
      "- O.L. Mangasarian, W.N. Street and W.H. Wolberg. Breast cancer diagnosis and\n",
      "  prognosis via linear programming. Operations Research, 43(4), pages 570-577,\n",
      "  July-August 1995.\n",
      "- W.H. Wolberg, W.N. Street, and O.L. Mangasarian. Machine learning techniques\n",
      "  to diagnose breast cancer from fine-needle aspirates. Cancer Letters 77 (1994)\n",
      "  163-171.\n",
      "\n",
      "|details-end|\n",
      "\n"
     ]
    }
   ],
   "source": [
    "# Display the description.\n",
    "print(data.DESCR)"
   ]
  },
  {
   "cell_type": "code",
   "execution_count": 7,
   "metadata": {},
   "outputs": [
    {
     "name": "stdout",
     "output_type": "stream",
     "text": [
      "['mean radius' 'mean texture' 'mean perimeter' 'mean area'\n",
      " 'mean smoothness' 'mean compactness' 'mean concavity'\n",
      " 'mean concave points' 'mean symmetry' 'mean fractal dimension'\n",
      " 'radius error' 'texture error' 'perimeter error' 'area error'\n",
      " 'smoothness error' 'compactness error' 'concavity error'\n",
      " 'concave points error' 'symmetry error' 'fractal dimension error'\n",
      " 'worst radius' 'worst texture' 'worst perimeter' 'worst area'\n",
      " 'worst smoothness' 'worst compactness' 'worst concavity'\n",
      " 'worst concave points' 'worst symmetry' 'worst fractal dimension']\n"
     ]
    }
   ],
   "source": [
    "# Explanatory variables.\n",
    "X = data['data']\n",
    "print(data['feature_names'])"
   ]
  },
  {
   "cell_type": "code",
   "execution_count": 5,
   "metadata": {},
   "outputs": [
    {
     "data": {
      "text/plain": [
       "(569, 30)"
      ]
     },
     "execution_count": 5,
     "metadata": {},
     "output_type": "execute_result"
    }
   ],
   "source": [
    "X.shape"
   ]
  },
  {
   "cell_type": "code",
   "execution_count": 14,
   "metadata": {},
   "outputs": [
    {
     "data": {
      "text/plain": [
       "array(['malignant', 'benign'], dtype='<U9')"
      ]
     },
     "execution_count": 14,
     "metadata": {},
     "output_type": "execute_result"
    }
   ],
   "source": [
    "data['target_names']"
   ]
  },
  {
   "cell_type": "code",
   "execution_count": 15,
   "metadata": {},
   "outputs": [
    {
     "name": "stdout",
     "output_type": "stream",
     "text": [
      "['benign', 'malignant']\n"
     ]
    }
   ],
   "source": [
    "# Response variable.\n",
    "# Relabel such that 0 = 'benign' and 1 = malignant.\n",
    "Y = 1 - data['target']\n",
    "label = list(data['target_names'])\n",
    "label.reverse()\n",
    "print(label)"
   ]
  },
  {
   "cell_type": "code",
   "execution_count": 34,
   "metadata": {},
   "outputs": [
    {
     "name": "stdout",
     "output_type": "stream",
     "text": [
      "0    357\n",
      "1    212\n",
      "Name: count, dtype: int64\n"
     ]
    },
    {
     "data": {
      "image/png": "[encoded data removed]",
      "text/plain": [
       "<Figure size 640x480 with 1 Axes>"
      ]
     },
     "metadata": {},
     "output_type": "display_data"
    }
   ],
   "source": [
    "# Visualize the frequency table.\n",
    "ser = pd.Series(Y)\n",
    "table = ser.value_counts()\n",
    "table = table.sort_index()                                         # Has to be sorted for correct labeling.\n",
    "print(table)\n",
    "sns.barplot(x = label, y = table.values, hue= label)\n",
    "plt.show()"
   ]
  },
  {
   "cell_type": "markdown",
   "metadata": {},
   "source": [
    "#### 1.2. Train and test:"
   ]
  },
  {
   "cell_type": "code",
   "execution_count": 18,
   "metadata": {},
   "outputs": [],
   "source": [
    "# Split the dataset into training and testing.\n",
    "X_train, X_test, Y_train, Y_test = train_test_split(X, Y, test_size = 0.25, random_state = 42)"
   ]
  },
  {
   "cell_type": "code",
   "execution_count": 19,
   "metadata": {},
   "outputs": [
    {
     "name": "stdout",
     "output_type": "stream",
     "text": [
      "(426, 30)\n",
      "(143, 30)\n",
      "(426,)\n",
      "(143,)\n"
     ]
    }
   ],
   "source": [
    "print(X_train.shape)\n",
    "print(X_test.shape)\n",
    "print(Y_train.shape)\n",
    "print(Y_test.shape)"
   ]
  },
  {
   "cell_type": "code",
   "execution_count": 35,
   "metadata": {},
   "outputs": [
    {
     "name": "stdout",
     "output_type": "stream",
     "text": [
      "[0 1 1 0 0 1 1 1 0 0 0 1 0 1 0 1 0 0 0 1 0 0 1 0 0 0 0 0 0 1 0 0 0 0 0 0 1\n",
      " 0 1 0 0 1 0 0 0 0 0 0 0 0 1 1 0 0 0 0 0 1 0 0 0 1 1 0 0 0 1 1 0 0 1 1 0 1\n",
      " 0 0 0 0 0 0 1 0 0 1 1 1 1 1 0 0 0 0 0 0 0 0 1 1 0 1 1 0 1 1 0 0 0 1 0 0 1\n",
      " 0 1 1 0 1 0 0 0 1 1 0 0 1 0 1 1 0 0 1 1 1 0 0 0 1 0 0 0 1 0 1 0]\n"
     ]
    }
   ],
   "source": [
    "# Train a Logistic Regression with hyperparameters \"solver='liblinear'\" & \"max_iter=200\" \n",
    "# (https://scikit-learn.org/stable/modules/generated/sklearn.linear_model.LogisticRegression.html) \n",
    "# and predict using the test data.\n",
    "# solver='liblinear' -> This is a parameter that specifies which algorithm to use for solving the optimization problem that underlies logistic regression. `liblinear` is a good choice for small datasets or datasets with a large number of features. It is especially effective for binary classification.\n",
    "# max_iter=200: This parameter sets the maximum number of iterations that the solver will run for if it doesn't converge earlier. This is to prevent the solver from running indefinitely. The default is usually 100, so setting it to 200 allows potentially more complex\n",
    "LL = LogisticRegression(solver='liblinear',max_iter=200)\n",
    "LL.fit(X_train,Y_train)\n",
    "Y_pred_test = LL.predict(X_test)\n",
    "print(Y_pred_test)"
   ]
  },
  {
   "cell_type": "code",
   "execution_count": 23,
   "metadata": {},
   "outputs": [
    {
     "name": "stdout",
     "output_type": "stream",
     "text": [
      "[[87  2]\n",
      " [ 3 51]]\n"
     ]
    }
   ],
   "source": [
    "# Confusion matrix.\n",
    "conf_mat = metrics.confusion_matrix(Y_test,Y_pred_test)\n",
    "print(conf_mat) # Actual (rows) x Predicted (cols)"
   ]
  },
  {
   "cell_type": "code",
   "execution_count": 36,
   "metadata": {},
   "outputs": [
    {
     "name": "stdout",
     "output_type": "stream",
     "text": [
      "Accuracy    = 0.965\n",
      "Sensitvity  = 0.944\n",
      "Especificity  = 0.978\n",
      "Precision   = 0.962\n"
     ]
    }
   ],
   "source": [
    "# Accuracy, Sensitivity, Specificity and Precision using the confusion matrix.\n",
    "accuracy = (conf_mat[0,0] + conf_mat[1,1])/np.sum(conf_mat)\n",
    "sensitivity = conf_mat[1,1]/(conf_mat[1,0]+conf_mat[1,1])\n",
    "specificity = conf_mat[0,0]/(conf_mat[0,0]+conf_mat[0,1])\n",
    "precision = conf_mat[1,1]/(conf_mat[0,1]+conf_mat[1,1])\n",
    "print('Accuracy    = {}'.format(np.round(accuracy,3)))\n",
    "print('Recall  = {}'.format(np.round(sensitivity,3)))\n",
    "print('Especificity  = {}'.format(np.round(specificity,3)))\n",
    "print('Precision   = {}'.format(np.round(precision,3)))"
   ]
  },
  {
   "cell_type": "code",
   "execution_count": 27,
   "metadata": {},
   "outputs": [
    {
     "name": "stdout",
     "output_type": "stream",
     "text": [
      "Accuracy    = 0.965\n",
      "Recall  = 0.944\n",
      "Precision   = 0.962\n"
     ]
    }
   ],
   "source": [
    "# Alternative way.\n",
    "accuracy = metrics.accuracy_score(Y_test,Y_pred_test)                      # Alternative way to calculate the accuracy.\n",
    "recall = metrics.recall_score(Y_test,Y_pred_test)\n",
    "precision = metrics.precision_score(Y_test,Y_pred_test)\n",
    "print('Accuracy    = {}'.format(np.round(accuracy,3)))\n",
    "print('Recall  = {}'.format(np.round(sensitivity,3)))\n",
    "print('Precision   = {}'.format(np.round(precision,3)))"
   ]
  },
  {
   "cell_type": "markdown",
   "metadata": {},
   "source": [
    "#### 1.3. Cutoff (threshold):"
   ]
  },
  {
   "cell_type": "code",
   "execution_count": 33,
   "metadata": {},
   "outputs": [
    {
     "name": "stdout",
     "output_type": "stream",
     "text": [
      "[[8.42025909e-01 1.57974091e-01]\n",
      " [1.32292399e-10 1.00000000e+00]\n",
      " [7.00592401e-04 9.99299408e-01]\n",
      " [9.96589976e-01 3.41002377e-03]\n",
      " [9.99151543e-01 8.48457396e-04]\n",
      " [4.00577349e-11 1.00000000e+00]\n",
      " [1.48769885e-14 1.00000000e+00]\n",
      " [5.28717578e-03 9.94712824e-01]\n",
      " [9.99153776e-01 8.46224297e-04]\n",
      " [9.90198934e-01 9.80106579e-03]\n",
      " [9.53049668e-01 4.69503321e-02]\n",
      " [1.41575043e-04 9.99858425e-01]\n",
      " [9.92957952e-01 7.04204830e-03]\n",
      " [1.07635583e-01 8.92364417e-01]\n",
      " [9.98457716e-01 1.54228441e-03]\n",
      " [3.97322953e-04 9.99602677e-01]\n",
      " [9.97915925e-01 2.08407523e-03]\n",
      " [9.99617961e-01 3.82038526e-04]\n",
      " [9.98666868e-01 1.33313164e-03]\n",
      " [5.46071011e-09 9.99999995e-01]\n",
      " [8.57285048e-01 1.42714952e-01]\n",
      " [9.85543898e-01 1.44561017e-02]\n",
      " [1.65258918e-11 1.00000000e+00]\n",
      " [9.95845643e-01 4.15435683e-03]\n",
      " [9.89361549e-01 1.06384508e-02]\n",
      " [9.99437267e-01 5.62733112e-04]\n",
      " [9.97711706e-01 2.28829358e-03]\n",
      " [9.89467881e-01 1.05321195e-02]\n",
      " [9.94410876e-01 5.58912379e-03]\n",
      " [3.00490521e-10 1.00000000e+00]\n",
      " [9.94116985e-01 5.88301549e-03]\n",
      " [9.99150931e-01 8.49068797e-04]\n",
      " [9.79422626e-01 2.05773737e-02]\n",
      " [9.81865323e-01 1.81346767e-02]\n",
      " [9.98369492e-01 1.63050840e-03]\n",
      " [9.95736380e-01 4.26361998e-03]\n",
      " [1.60818957e-03 9.98391810e-01]\n",
      " [9.95890421e-01 4.10957920e-03]\n",
      " [4.92719180e-07 9.99999507e-01]\n",
      " [7.60929958e-01 2.39070042e-01]\n",
      " [9.97374304e-01 2.62569592e-03]\n",
      " [4.11958357e-04 9.99588042e-01]\n",
      " [9.98607437e-01 1.39256252e-03]\n",
      " [9.89217455e-01 1.07825448e-02]\n",
      " [9.97750975e-01 2.24902548e-03]\n",
      " [9.56180586e-01 4.38194142e-02]\n",
      " [9.98823980e-01 1.17601983e-03]\n",
      " [9.88125289e-01 1.18747107e-02]\n",
      " [9.25013293e-01 7.49867070e-02]\n",
      " [9.96246191e-01 3.75380909e-03]\n",
      " [1.51602345e-05 9.99984840e-01]\n",
      " [3.97231137e-11 1.00000000e+00]\n",
      " [8.93288129e-01 1.06711871e-01]\n",
      " [9.99090540e-01 9.09459914e-04]\n",
      " [9.98566909e-01 1.43309118e-03]\n",
      " [9.79980282e-01 2.00197179e-02]\n",
      " [9.96975957e-01 3.02404271e-03]\n",
      " [2.22044605e-16 1.00000000e+00]\n",
      " [6.68498766e-01 3.31501234e-01]\n",
      " [9.99640226e-01 3.59774279e-04]\n",
      " [9.83377095e-01 1.66229046e-02]\n",
      " [9.51811552e-09 9.99999990e-01]\n",
      " [1.58095759e-13 1.00000000e+00]\n",
      " [9.39317077e-01 6.06829231e-02]\n",
      " [9.96305578e-01 3.69442191e-03]\n",
      " [8.77092920e-01 1.22907080e-01]\n",
      " [3.42937333e-06 9.99996571e-01]\n",
      " [1.02615028e-10 1.00000000e+00]\n",
      " [9.97938750e-01 2.06125029e-03]\n",
      " [9.76735694e-01 2.32643058e-02]\n",
      " [2.25882392e-02 9.77411761e-01]\n",
      " [8.20276100e-06 9.99991797e-01]\n",
      " [9.97983966e-01 2.01603414e-03]\n",
      " [8.42337369e-02 9.15766263e-01]\n",
      " [9.75508216e-01 2.44917836e-02]\n",
      " [9.98268852e-01 1.73114765e-03]\n",
      " [9.62478164e-01 3.75218356e-02]\n",
      " [4.80840408e-01 5.19159592e-01]\n",
      " [9.98209040e-01 1.79096009e-03]\n",
      " [9.96987299e-01 3.01270107e-03]\n",
      " [4.27071495e-04 9.99572929e-01]\n",
      " [9.97822428e-01 2.17757150e-03]\n",
      " [5.57674389e-01 4.42325611e-01]\n",
      " [2.68229883e-13 1.00000000e+00]\n",
      " [6.23547302e-04 9.99376453e-01]\n",
      " [2.34434201e-02 9.76556580e-01]\n",
      " [1.65085206e-03 9.98349148e-01]\n",
      " [1.98037877e-08 9.99999980e-01]\n",
      " [9.92704318e-01 7.29568249e-03]\n",
      " [9.95837023e-01 4.16297728e-03]\n",
      " [9.87595840e-01 1.24041597e-02]\n",
      " [9.19793449e-01 8.02065509e-02]\n",
      " [8.61573907e-01 1.38426093e-01]\n",
      " [9.94677956e-01 5.32204432e-03]\n",
      " [9.98532633e-01 1.46736729e-03]\n",
      " [9.97184489e-01 2.81551120e-03]\n",
      " [2.15260743e-09 9.99999998e-01]\n",
      " [3.11316260e-07 9.99999689e-01]\n",
      " [9.99707244e-01 2.92755840e-04]\n",
      " [2.97983923e-05 9.99970202e-01]\n",
      " [3.76210391e-05 9.99962379e-01]\n",
      " [9.99852653e-01 1.47346854e-04]\n",
      " [8.15068013e-11 1.00000000e+00]\n",
      " [6.02975338e-04 9.99397025e-01]\n",
      " [9.17406220e-01 8.25937798e-02]\n",
      " [9.30409436e-01 6.95905639e-02]\n",
      " [9.88015089e-01 1.19849108e-02]\n",
      " [0.00000000e+00 1.00000000e+00]\n",
      " [9.75156478e-01 2.48435218e-02]\n",
      " [9.10467915e-01 8.95320848e-02]\n",
      " [5.41756431e-05 9.99945824e-01]\n",
      " [9.96899124e-01 3.10087613e-03]\n",
      " [2.09428005e-01 7.90571995e-01]\n",
      " [0.00000000e+00 1.00000000e+00]\n",
      " [9.48850510e-01 5.11494897e-02]\n",
      " [1.04694031e-12 1.00000000e+00]\n",
      " [9.98625402e-01 1.37459812e-03]\n",
      " [9.24068764e-01 7.59312357e-02]\n",
      " [9.98627346e-01 1.37265351e-03]\n",
      " [6.86490355e-04 9.99313510e-01]\n",
      " [1.82580805e-01 8.17419195e-01]\n",
      " [9.98494709e-01 1.50529052e-03]\n",
      " [9.91471933e-01 8.52806687e-03]\n",
      " [5.38025963e-06 9.99994620e-01]\n",
      " [9.49853711e-01 5.01462886e-02]\n",
      " [5.18602938e-11 1.00000000e+00]\n",
      " [4.13480166e-04 9.99586520e-01]\n",
      " [9.83527662e-01 1.64723377e-02]\n",
      " [9.97157168e-01 2.84283192e-03]\n",
      " [5.77897952e-10 9.99999999e-01]\n",
      " [0.00000000e+00 1.00000000e+00]\n",
      " [5.05460146e-04 9.99494540e-01]\n",
      " [8.62112733e-01 1.37887267e-01]\n",
      " [9.98223484e-01 1.77651591e-03]\n",
      " [9.62526645e-01 3.74733551e-02]\n",
      " [3.12911934e-02 9.68708807e-01]\n",
      " [9.44456651e-01 5.55433487e-02]\n",
      " [9.92968983e-01 7.03101682e-03]\n",
      " [8.61953328e-01 1.38046672e-01]\n",
      " [6.69607992e-03 9.93303920e-01]\n",
      " [9.91816851e-01 8.18314858e-03]\n",
      " [0.00000000e+00 1.00000000e+00]\n",
      " [9.99543742e-01 4.56257594e-04]]\n"
     ]
    }
   ],
   "source": [
    "# Now, predict the probability of Y  = 1.\n",
    "#Probabilidades, predicciones no discretas\n",
    "Y_pred_test_prob=LL.predict_proba(X_test)[:,1]\n",
    "#preguntar que es la primera parte del vector\n",
    "print(LL.predict_proba(X_test))"
   ]
  },
  {
   "cell_type": "code",
   "execution_count": 37,
   "metadata": {},
   "outputs": [
    {
     "name": "stdout",
     "output_type": "stream",
     "text": [
      "[[87  2]\n",
      " [ 4 50]]\n"
     ]
    }
   ],
   "source": [
    "# One can change the cutoff at will\n",
    "cutoff = 0.7                                                      # cutoff can be a value between 0 and 1.\n",
    "Y_pred_test_val = (Y_pred_test_prob > cutoff).astype(int)\n",
    "conf_mat = metrics.confusion_matrix(Y_test,Y_pred_test_val)\n",
    "print(conf_mat)"
   ]
  },
  {
   "cell_type": "code",
   "execution_count": 38,
   "metadata": {},
   "outputs": [
    {
     "name": "stdout",
     "output_type": "stream",
     "text": [
      "Accuracy    = 0.958\n",
      "Sensitvity  = 0.926\n",
      "Specificity = 0.978\n",
      "Precision   = 0.962\n"
     ]
    }
   ],
   "source": [
    "accuracy = (conf_mat[0,0] + conf_mat[1,1])/np.sum(conf_mat)\n",
    "sensitivity = conf_mat[1,1]/(conf_mat[1,0]+conf_mat[1,1])\n",
    "specificity = conf_mat[0,0]/(conf_mat[0,0]+conf_mat[0,1])\n",
    "precision = conf_mat[1,1]/(conf_mat[0,1]+conf_mat[1,1])\n",
    "print('Accuracy    = {}'.format(np.round(accuracy,3)))\n",
    "print('Sensitvity  = {}'.format(np.round(sensitivity,3)))\n",
    "print('Specificity = {}'.format(np.round(specificity,3)))\n",
    "print('Precision   = {}'.format(np.round(precision,3)))"
   ]
  },
  {
   "cell_type": "markdown",
   "metadata": {},
   "source": [
    "#### 1.4. ROC curve:"
   ]
  },
  {
   "cell_type": "code",
   "execution_count": 39,
   "metadata": {},
   "outputs": [],
   "source": [
    "# Initialize.\n",
    "cutoff_grid = np.linspace(0.0,1.0,100)\n",
    "TPR = []                                                   # True Positive Rate.\n",
    "FPR = []                                                   # False Positive Rate."
   ]
  },
  {
   "cell_type": "code",
   "execution_count": 40,
   "metadata": {},
   "outputs": [],
   "source": [
    "# Populate the TP and FP lists.\n",
    "for cutoff in cutoff_grid:\n",
    "    Y_pred_test_val = (Y_pred_test_prob > cutoff).astype(int)\n",
    "    conf_mat = metrics.confusion_matrix(Y_test,Y_pred_test_val)\n",
    "    sensitivity = conf_mat[1,1]/(conf_mat[1,0]+conf_mat[1,1])\n",
    "    specificity = conf_mat[0,0]/(conf_mat[0,0]+conf_mat[0,1])\n",
    "    TPR.append(sensitivity)\n",
    "    FPR.append(1-specificity)                             "
   ]
  },
  {
   "cell_type": "code",
   "execution_count": 41,
   "metadata": {},
   "outputs": [
    {
     "data": {
      "image/png": "[encoded data removed]",
      "text/plain": [
       "<Figure size 640x480 with 1 Axes>"
      ]
     },
     "metadata": {},
     "output_type": "display_data"
    }
   ],
   "source": [
    "# Visualize.\n",
    "plt.plot(FPR,TPR,c='red',linewidth=1.0)\n",
    "plt.xlabel('False Positive Rate')\n",
    "plt.ylabel('True Positive Rate')\n",
    "plt.title('ROC Curve')\n",
    "plt.show()"
   ]
  },
  {
   "cell_type": "markdown",
   "metadata": {},
   "source": [
    "#### 1.5. ROC curve (sklearn):"
   ]
  },
  {
   "cell_type": "code",
   "execution_count": 42,
   "metadata": {},
   "outputs": [],
   "source": [
    "# Calculate the TPR and FPR using a Scikit Learn function.\n",
    "FPR, TPR, cutoffs = metrics.roc_curve(Y_test,Y_pred_test_prob,pos_label=1)      # positive label = 1."
   ]
  },
  {
   "cell_type": "code",
   "execution_count": 43,
   "metadata": {},
   "outputs": [
    {
     "data": {
      "image/png": "[encoded data removed]",
      "text/plain": [
       "<Figure size 640x480 with 1 Axes>"
      ]
     },
     "metadata": {},
     "output_type": "display_data"
    }
   ],
   "source": [
    "# Visualize.\n",
    "plt.plot(FPR,TPR,c='red',linewidth=1.0)\n",
    "plt.xlabel('False Positive')\n",
    "plt.ylabel('True Positive')\n",
    "plt.title('ROC Curve')\n",
    "plt.show()"
   ]
  },
  {
   "cell_type": "code",
   "execution_count": 44,
   "metadata": {},
   "outputs": [
    {
     "name": "stdout",
     "output_type": "stream",
     "text": [
      "AUC  = 0.998\n"
     ]
    }
   ],
   "source": [
    "# AUC.\n",
    "auc = metrics.roc_auc_score(Y_test,Y_pred_test_prob)\n",
    "print('AUC  = {}'.format(np.round(auc,3)))"
   ]
  },
  {
   "cell_type": "code",
   "execution_count": null,
   "metadata": {},
   "outputs": [],
   "source": []
  }
 ],
 "metadata": {
  "kernelspec": {
   "display_name": "Python 3 (ipykernel)",
   "language": "python",
   "name": "python3"
  },
  "language_info": {
   "codemirror_mode": {
    "name": "ipython",
    "version": 3
   },
   "file_extension": ".py",
   "mimetype": "text/x-python",
   "name": "python",
   "nbconvert_exporter": "python",
   "pygments_lexer": "ipython3",
   "version": "3.12.0"
  }
 },
 "nbformat": 4,
 "nbformat_minor": 2
}
