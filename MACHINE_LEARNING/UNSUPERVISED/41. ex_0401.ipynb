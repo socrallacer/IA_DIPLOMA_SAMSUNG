{
 "cells": [
  {
   "cell_type": "markdown",
   "metadata": {},
   "source": [
    "## Coding Exercise #0401"
   ]
  },
  {
   "cell_type": "markdown",
   "metadata": {},
   "source": [
    "### 1. K-Means clustering with simulated data:"
   ]
  },
  {
   "cell_type": "code",
   "execution_count": null,
   "metadata": {},
   "outputs": [],
   "source": [
    "import numpy as np\n",
    "import pandas as pd\n",
    "import matplotlib.pyplot as plt\n",
    "import os\n",
    "from sklearn.cluster import KMeans\n",
    "from sklearn.datasets import make_blobs\n",
    "%matplotlib inline"
   ]
  },
  {
   "cell_type": "markdown",
   "metadata": {},
   "source": [
    "#### 1.1. Generate simulated data and visualize:"
   ]
  },
  {
   "cell_type": "code",
   "execution_count": null,
   "metadata": {},
   "outputs": [],
   "source": [
    "# Dataset #1.\n",
    "X1, label1 = make_blobs(n_samples=100, n_features=2, centers=2, cluster_std = 5, random_state=123)\n",
    "plt.scatter(X1[:,0],X1[:,1], c= label1, alpha=0.7 )\n",
    "plt.title('Dataset #1 : Original')\n",
    "plt.show()"
   ]
  },
  {
   "cell_type": "code",
   "execution_count": null,
   "metadata": {},
   "outputs": [],
   "source": [
    "# Dataset #2\n",
    "X2, label2 = make_blobs(n_samples=100, n_features=2, centers=3, cluster_std = 1, random_state=321)\n",
    "plt.scatter(X2[:,0],X2[:,1], c= label2, alpha=0.7 )\n",
    "plt.title('Dataset #2 : Original')\n",
    "plt.show()"
   ]
  },
  {
   "cell_type": "markdown",
   "metadata": {},
   "source": [
    "#### 1.2. Apply k-means clustering and visualize:"
   ]
  },
  {
   "cell_type": "code",
   "execution_count": null,
   "metadata": {},
   "outputs": [],
   "source": [
    "# Dataset #1 and two clusters. Check https://scikit-learn.org/stable/modules/generated/sklearn.cluster.KMeans.html\n",
    "kmeans = ??           # kmeans object for 2 clusters. radom_state=123 means deterministic initialization.\n",
    "kmeans.fit(X1)                                                 # Unsupervised learning => Only X1.    \n",
    "myColors = {0:'red',1:'green', 2:'blue'}                       # Define a color palette: 0~2.\n",
    "plt.scatter(X1[:,0],X1[:,1], c= pd.Series(kmeans.labels_).apply(lambda x: myColors[x]), alpha=0.7 )   \n",
    "plt.title('Dataset #1 : K-Means')\n",
    "plt.show()"
   ]
  },
  {
   "cell_type": "code",
   "execution_count": null,
   "metadata": {},
   "outputs": [],
   "source": [
    "# # Q: Apply and fit KMeans to Dataset #1 for 3 clusters.\n",
    "kmeans = ??       # kmeans object for 3 clusters. radom_state=123 means deterministic initialization.\n",
    "kmeans.fit(X1)     # Unsupervised learning => Only X1.    \n",
    "plt.scatter(X1[:,0],X1[:,1], c= pd.Series(kmeans.labels_).apply(lambda x: myColors[x]), alpha=0.7 ) \n",
    "plt.title('Dataset #1 : K-Means')\n",
    "plt.show()"
   ]
  },
  {
   "cell_type": "code",
   "execution_count": null,
   "metadata": {},
   "outputs": [],
   "source": [
    "# Q: Apply and fit KMeans to Dataset #2 for 2 clusters.\n",
    "kmeans = ?? # kmeans object for 2 clusters. radom_state=123 \n",
    "kmeans.fit(X2) # Unsupervised learning => Only X2.    \n",
    "plt.scatter(X2[:,0],X2[:,1], c= pd.Series(kmeans.labels_).apply(lambda x: myColors[x]), alpha=0.7 )  \n",
    "plt.title('Dataset #2 : K-Means')\n",
    "plt.show()"
   ]
  },
  {
   "cell_type": "code",
   "execution_count": null,
   "metadata": {},
   "outputs": [],
   "source": [
    "# Q: Apply and fit KMeans to Dataset #2 for 3 clusters.\n",
    "kmeans = ?? # kmeans object for 3 clusters. radom_state=123\n",
    "kmeans.fit(X2) # Unsupervised learning => Only X2.    \n",
    "plt.scatter(X2[:,0],X2[:,1], c= pd.Series(kmeans.labels_).apply(lambda x: myColors[x]), alpha=0.7 )  \n",
    "plt.title('Dataset #2 : K-Means')\n",
    "plt.show()"
   ]
  },
  {
   "cell_type": "markdown",
   "metadata": {},
   "source": [
    "NOTE: k means clusters have linear boundaries. The clustering result may reveal the existing structure, but this is not always guaranteed."
   ]
  }
 ],
 "metadata": {
  "kernelspec": {
   "display_name": "Python 3 (ipykernel)",
   "language": "python",
   "name": "python3"
  },
  "language_info": {
   "codemirror_mode": {
    "name": "ipython",
    "version": 3
   },
   "file_extension": ".py",
   "mimetype": "text/x-python",
   "name": "python",
   "nbconvert_exporter": "python",
   "pygments_lexer": "ipython3",
   "version": "3.10.9"
  }
 },
 "nbformat": 4,
 "nbformat_minor": 2
}
