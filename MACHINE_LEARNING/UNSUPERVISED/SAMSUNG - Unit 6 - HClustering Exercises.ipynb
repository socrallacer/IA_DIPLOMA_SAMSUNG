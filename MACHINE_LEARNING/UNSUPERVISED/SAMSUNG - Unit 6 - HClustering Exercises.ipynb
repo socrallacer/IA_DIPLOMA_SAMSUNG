{
 "cells": [
  {
   "cell_type": "code",
   "execution_count": null,
   "metadata": {},
   "outputs": [],
   "source": [
    "from sklearn.datasets import make_blobs, make_moons\n",
    "import matplotlib.pyplot as plt"
   ]
  },
  {
   "cell_type": "code",
   "execution_count": null,
   "metadata": {},
   "outputs": [],
   "source": [
    "X1, label1 = make_blobs(n_samples = 200, n_features = 2, centers = 2, cluster_std = 5, random_state = 123)\n",
    "plt.scatter(X1[:,0], X1[:,1], c= label1, alpha = 0.7)\n",
    "plt.title(\"Dataset #1: Original\")\n",
    "plt.show()\n"
   ]
  },
  {
   "cell_type": "code",
   "execution_count": null,
   "metadata": {},
   "outputs": [],
   "source": [
    "X2, label2 = make_moons(n_samples = 200, noise = 0.08, random_state = 123)\n",
    "plt.scatter(X2[:,0], X2[:,1], c= label2, alpha = 0.7)\n",
    "plt.title(\"Dataset #2: Original\")\n",
    "plt.show()"
   ]
  },
  {
   "cell_type": "code",
   "execution_count": null,
   "metadata": {},
   "outputs": [],
   "source": [
    "from sklearn.cluster import AgglomerativeClustering\n",
    "import numpy as np\n",
    "import pandas as pd"
   ]
  },
  {
   "cell_type": "code",
   "execution_count": null,
   "metadata": {},
   "outputs": [],
   "source": [
    "agglo = AgglomerativeClustering(n_clusters = 2)\n",
    "agglo.fit(X1)\n",
    "print(agglo.labels_)\n",
    "\n",
    "\n",
    "myColors = {0:\"red\", 1:\"green\"}\n",
    "plt.scatter(X1[:,0], X1[:,1], c= pd.Series(agglo.labels_).apply(lambda x: myColors[x]), alpha = 0.7)\n",
    "plt.title(\"Dataset #1: Agglomerative\")\n",
    "plt.show()\n"
   ]
  },
  {
   "cell_type": "code",
   "execution_count": null,
   "metadata": {},
   "outputs": [],
   "source": [
    "# Check the clusters for Dataset #2\n"
   ]
  },
  {
   "cell_type": "code",
   "execution_count": null,
   "metadata": {},
   "outputs": [],
   "source": [
    "from scipy.cluster.hierarchy import linkage, dendrogram, fcluster"
   ]
  },
  {
   "cell_type": "code",
   "execution_count": null,
   "metadata": {
    "scrolled": true
   },
   "outputs": [],
   "source": [
    "myLinkage = linkage(X1, method = \"single\")\n",
    "plt.figure(figsize = (20,5))\n",
    "dendrogram(myLinkage)\n",
    "plt.show()"
   ]
  },
  {
   "cell_type": "code",
   "execution_count": null,
   "metadata": {},
   "outputs": [],
   "source": [
    "labels = fcluster(myLinkage, 5, criterion = 'distance')\n",
    "pd.Series(labels).value_counts()"
   ]
  },
  {
   "cell_type": "code",
   "execution_count": null,
   "metadata": {},
   "outputs": [],
   "source": [
    "# Check the cluster for Dataset 2 and show the dendrogram.\n",
    "# Cluster hierarchically using single linkage.\n",
    "\n",
    "\n"
   ]
  },
  {
   "cell_type": "code",
   "execution_count": null,
   "metadata": {},
   "outputs": [],
   "source": [
    "# Cut the dendrogram at the height (distance) = 0.23 (change this value at will) and show the clusters.\n",
    "\n"
   ]
  },
  {
   "cell_type": "code",
   "execution_count": null,
   "metadata": {},
   "outputs": [],
   "source": [
    "#IRIS\n",
    "\n",
    "from sklearn.datasets import load_iris"
   ]
  },
  {
   "cell_type": "code",
   "execution_count": null,
   "metadata": {},
   "outputs": [],
   "source": [
    "import pandas as pd\n",
    "import numpy as np\n",
    "import matplotlib.pyplot as plt\n",
    "import math"
   ]
  },
  {
   "cell_type": "code",
   "execution_count": null,
   "metadata": {},
   "outputs": [],
   "source": [
    "iris = load_iris()"
   ]
  },
  {
   "cell_type": "code",
   "execution_count": null,
   "metadata": {},
   "outputs": [],
   "source": [
    "iris_data = iris.data\n",
    "iris_data_pd = pd.DataFrame(iris.data, columns = iris.feature_names)\n",
    "iris_data_pd"
   ]
  },
  {
   "cell_type": "code",
   "execution_count": null,
   "metadata": {},
   "outputs": [],
   "source": [
    "iris_data_pd.iloc[:,2:4]\n"
   ]
  },
  {
   "cell_type": "code",
   "execution_count": null,
   "metadata": {},
   "outputs": [],
   "source": [
    "from sklearn.cluster import AgglomerativeClustering\n",
    "likage = {\"complete\", \"average\", \"single\"}\n",
    "for idx, i in enumerate(likage):\n",
    "    plt.figure(idx)\n",
    "    hier = AgglomerativeClustering(n_clusters = 3, affinity = \"euclidean\", linkage = i)\n",
    "    hier.fit(iris_data_pd.iloc[:,2:4])\n",
    "    \n",
    "    plt.scatter(iris_data_pd.iloc[:,2], iris_data_pd.iloc[:,3], c=hier.labels_)\n",
    "    plt.title(\"Clustering: \" + i)\n",
    "    plt.xlabel(\"Petal Length\")\n",
    "    plt.xlabel(\"Petal Width\")\n",
    "    plt.show()"
   ]
  },
  {
   "cell_type": "code",
   "execution_count": null,
   "metadata": {},
   "outputs": [],
   "source": [
    "from scipy.cluster import hierarchy"
   ]
  },
  {
   "cell_type": "code",
   "execution_count": null,
   "metadata": {},
   "outputs": [],
   "source": [
    "# As illustrated previously, use the hierarchy.linkage() method to check the dendrograms for the single and complete linkage.\n",
    "\n"
   ]
  },
  {
   "cell_type": "code",
   "execution_count": null,
   "metadata": {},
   "outputs": [],
   "source": []
  }
 ],
 "metadata": {
  "kernelspec": {
   "display_name": "Python 3 (ipykernel)",
   "language": "python",
   "name": "python3"
  },
  "language_info": {
   "codemirror_mode": {
    "name": "ipython",
    "version": 3
   },
   "file_extension": ".py",
   "mimetype": "text/x-python",
   "name": "python",
   "nbconvert_exporter": "python",
   "pygments_lexer": "ipython3",
   "version": "3.10.9"
  }
 },
 "nbformat": 4,
 "nbformat_minor": 4
}
