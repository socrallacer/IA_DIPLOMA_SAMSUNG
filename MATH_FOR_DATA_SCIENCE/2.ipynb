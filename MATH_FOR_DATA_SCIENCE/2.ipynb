{
 "cells": [
  {
   "cell_type": "code",
   "execution_count": 1,
   "metadata": {},
   "outputs": [],
   "source": [
    "import numpy as np\n",
    "from numpy import linalg as la"
   ]
  },
  {
   "cell_type": "code",
   "execution_count": 3,
   "metadata": {},
   "outputs": [
    {
     "name": "stdout",
     "output_type": "stream",
     "text": [
      "[[-1.  0.]\n",
      " [ 0.  1.]]\n"
     ]
    }
   ],
   "source": [
    "\n",
    "A = np.array([[0,1],[1,0]])\n",
    "P = np.array([[-1,1],[1,1]])\n",
    "#D es la diagonal\n",
    "D= la.inv(P)@A@P\n",
    "\n",
    "print(D)"
   ]
  },
  {
   "cell_type": "code",
   "execution_count": 8,
   "metadata": {},
   "outputs": [
    {
     "name": "stdout",
     "output_type": "stream",
     "text": [
      "[ 1. -1.] \n",
      " [[ 0.70710678 -0.70710678]\n",
      " [ 0.70710678  0.70710678]]\n"
     ]
    }
   ],
   "source": [
    "# autovalores, autovectores = la.eig()\n",
    "autoval, autovec= la.eig(A)\n",
    "\n",
    "print(autoval,'\\n', autovec)"
   ]
  },
  {
   "cell_type": "code",
   "execution_count": 9,
   "metadata": {},
   "outputs": [
    {
     "name": "stdout",
     "output_type": "stream",
     "text": [
      "[[-0.5  0.5]\n",
      " [ 0.5  0.5]]\n"
     ]
    }
   ],
   "source": [
    "print(la.inv(P))"
   ]
  },
  {
   "cell_type": "code",
   "execution_count": 10,
   "metadata": {},
   "outputs": [
    {
     "name": "stdout",
     "output_type": "stream",
     "text": [
      "[[1 0 0 0 2]\n",
      " [0 0 3 0 0]\n",
      " [0 0 0 0 0]\n",
      " [0 2 0 0 0]]\n"
     ]
    }
   ],
   "source": [
    "A = np.array([[1,0,0,0,2],[0,0,3,0,0],[0,0,0,0,0],[0,2,0,0,0]])\n",
    "print(A)"
   ]
  },
  {
   "cell_type": "code",
   "execution_count": 12,
   "metadata": {},
   "outputs": [],
   "source": [
    "V = A.T@A\n",
    "U = A@A.T"
   ]
  },
  {
   "cell_type": "code",
   "execution_count": 15,
   "metadata": {},
   "outputs": [
    {
     "name": "stdout",
     "output_type": "stream",
     "text": [
      "[0. 5. 4. 9. 0.]\n",
      "[5. 9. 0. 4.]\n"
     ]
    }
   ],
   "source": [
    "val, vec = la.eig(V)\n",
    "print(val)\n",
    "\n",
    "val, vec = la.eig(U)\n",
    "print(val)"
   ]
  },
  {
   "cell_type": "code",
   "execution_count": 20,
   "metadata": {},
   "outputs": [
    {
     "name": "stdout",
     "output_type": "stream",
     "text": [
      "[[ 0.  1.  0.  0.]\n",
      " [ 1.  0.  0.  0.]\n",
      " [ 0.  0.  0.  1.]\n",
      " [ 0.  0. -1.  0.]] \n",
      "\n",
      "[3.         2.23606798 2.         0.        ] \n",
      "\n",
      "[[-0.          0.          1.         -0.          0.        ]\n",
      " [ 0.4472136   0.          0.          0.          0.89442719]\n",
      " [ 0.         -1.          0.          0.          0.        ]\n",
      " [ 0.          0.          0.          1.          0.        ]] \n",
      "\n",
      "[[1. 0. 0. 0. 2.]\n",
      " [0. 0. 3. 0. 0.]\n",
      " [0. 0. 0. 0. 0.]\n",
      " [0. 2. 0. 0. 0.]]\n"
     ]
    }
   ],
   "source": [
    "U, S, V = la.svd(A, full_matrices=False)\n",
    "print( U, '\\n')\n",
    "#Raices de los sigma que son los valores propos de U y V\n",
    "print( S, '\\n')\n",
    "print( V, '\\n')\n",
    "\n",
    "S= np.diag(S)\n",
    "\n",
    "#construir matriz A\n",
    "print(U@S@V)"
   ]
  },
  {
   "cell_type": "code",
   "execution_count": 28,
   "metadata": {},
   "outputs": [
    {
     "name": "stdout",
     "output_type": "stream",
     "text": [
      "[[3.         0.         0.         0.        ]\n",
      " [0.         2.23606798 0.         0.        ]\n",
      " [0.         0.         2.         0.        ]\n",
      " [0.         0.         0.         0.        ]]\n",
      "[[0. 0. 0. 0. 0.]\n",
      " [0. 0. 3. 0. 0.]\n",
      " [0. 0. 0. 0. 0.]\n",
      " [0. 0. 0. 0. 0.]]\n",
      "[[1. 0. 0. 0. 2.]\n",
      " [0. 0. 3. 0. 0.]\n",
      " [0. 0. 0. 0. 0.]\n",
      " [0. 0. 0. 0. 0.]]\n",
      "[[1. 0. 0. 0. 2.]\n",
      " [0. 0. 3. 0. 0.]\n",
      " [0. 0. 0. 0. 0.]\n",
      " [0. 2. 0. 0. 0.]]\n"
     ]
    }
   ],
   "source": [
    "#Realizamos la  suma para diferentes valores de K\n",
    "print(S)\n",
    "# k=1\n",
    "print(S[0,0]*U[:,0:1]@V[0:1,:])\n",
    "#k=2\n",
    "print(S[0,0]*U[:,0:1]@V[0:1,:]+S[1,1]*U[:,1:2]@V[1:2,:])\n",
    "#K=3\n",
    "print(S[0,0]*U[:,0:1]@V[0:1,:]+S[1,1]*U[:,1:2]@V[1:2,:]+S[2,2]*U[:,2:3]@V[2:3,:])\n"
   ]
  },
  {
   "cell_type": "code",
   "execution_count": null,
   "metadata": {},
   "outputs": [],
   "source": []
  }
 ],
 "metadata": {
  "kernelspec": {
   "display_name": "Python 3",
   "language": "python",
   "name": "python3"
  },
  "language_info": {
   "codemirror_mode": {
    "name": "ipython",
    "version": 3
   },
   "file_extension": ".py",
   "mimetype": "text/x-python",
   "name": "python",
   "nbconvert_exporter": "python",
   "pygments_lexer": "ipython3",
   "version": "3.12.0"
  }
 },
 "nbformat": 4,
 "nbformat_minor": 2
}
