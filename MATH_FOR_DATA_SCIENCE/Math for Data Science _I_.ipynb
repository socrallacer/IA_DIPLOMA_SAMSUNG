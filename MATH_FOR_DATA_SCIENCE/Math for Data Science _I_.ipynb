{
 "cells": [
  {
   "cell_type": "markdown",
   "metadata": {},
   "source": [
    "# Matemáticas para Inteligencia Artificial (I)\n",
    "\n",
    "\n",
    "\n",
    "\n",
    "### 1. Normas, distancias y ángulos\n",
    "\n",
    "\n",
    "\n",
    "\n",
    "Sea $V$ un $\\mathbb{R}$-espacio vectorial donde se ha definido un producto escalar $\\langle\\cdot,\\cdot\\rangle$. Recordemos que para que $\\langle \\cdot , \\cdot\\rangle$ sea un producto escalar, debe cumplir las siguientes propiedades: \n",
    "\n",
    "- $\\langle x,y\\rangle=\\langle y,x\\rangle, \\; \\forall\\, x,y\\in V$\n",
    "- $\\langle \\alpha x + \\beta y,z\\rangle=\\alpha \\langle x,z\\rangle+\\beta\\langle y, z\\rangle, \\; \\forall\\, x,y,z\\in V$, $\\forall\\, \\alpha,\\beta\\in\\mathbb{R}$\n",
    "- $\\langle x,x\\rangle \\geq 0$, $\\forall\\, x\\in V$.\n",
    "- $\\langle x,x\\rangle =0$ si y sólo si $x=0$. \n",
    "\n",
    "\n",
    "Si se ha definido un producto escalar en $V$, entonces podemos calcular:\n",
    "\n",
    "- normas de elementos $v\\in V$ como $||v||:=\\sqrt{\\langle v,v\\rangle}$\n",
    "- distancia entre dos elementos $u,v\\in V$ como $d(u,v):=||u-v||$\n",
    "- ángulo $\\alpha$ que forman dos elementos $u,v \\in V$ a través de $\\operatorname{cos}(\\alpha):=\\dfrac{|\\langle u,v\\rangle|}{||u||\\cdot||v||}\\in[-1,1]$\n",
    "\n",
    "Veamos dos maneras alternativas de calcular el producto escalar de dos vectores en $V=\\mathbb{R}^3$."
   ]
  },
  {
   "cell_type": "code",
   "execution_count": 1,
   "metadata": {},
   "outputs": [
    {
     "name": "stdout",
     "output_type": "stream",
     "text": [
      "u = [[1 0 1]] \n",
      "\n",
      "v = [[1]\n",
      " [2]\n",
      " [3]]\n"
     ]
    }
   ],
   "source": [
    "import numpy as np\n",
    "from numpy import linalg as la\n",
    "\n",
    "u=np.array([[1,0,1]])\n",
    "v=np.array([[1],[2],[3]])\n",
    "\n",
    "print(\"u =\", u, \"\\n\")\n",
    "print(\"v =\", v)"
   ]
  },
  {
   "cell_type": "code",
   "execution_count": null,
   "metadata": {},
   "outputs": [],
   "source": [
    "print(np.sum(u*v.T), \"\\n\")\n",
    "print(u@v)"
   ]
  },
  {
   "cell_type": "code",
   "execution_count": null,
   "metadata": {},
   "outputs": [],
   "source": [
    "print(\"La distancia entre u y v es\", la.norm(u-v.T))\n",
    "print(\"El ángulo que forman u y v es\", (np.abs(u@v)/(la.norm(u)*la.norm(v)))[0][0])"
   ]
  },
  {
   "cell_type": "markdown",
   "metadata": {},
   "source": [
    "Además de la distancia euclídea, existen otros métodos para investigar cuándo dos vectores de $\\mathbb{R}^n$ son _cercanos_ o _similares_. Por ejemplo, cuando la longitud de los vectores no es importante, la **similitud del coseno** resulta muy útil. Esto ocurre por ejemplo en _text mining_. \n",
    "\n",
    "\n",
    "$$ \\text{sim}_{(u, v)}=\\dfrac{\\langle u, v\\rangle}{||u|| ·||v||}=\\text{cos}(\\text{ángulo}(u, v))\\in[-1,1],$$ \n",
    "\n",
    "\n",
    "<img src=https://lh6.googleusercontent.com/ycXLRE6YUiFrVJpkYXJe8I7oCiuUSYLhfBHvn81N3_AARdiEuswYKLqC5mLNqdqTiAkfCN7hBBdrIgQi6OAbOshJE1d3q_0XuWjik_KaQqryrh63PJiS9wDwT0M0NZ_AbOFpvEZgcMjbgYBXtM3VVdM width=\"1000\">\n",
    "\n",
    "\n",
    "A modo de ejemplo, veamos la _similitud del coseno_ entre los dos vectores anteriores."
   ]
  },
  {
   "cell_type": "code",
   "execution_count": null,
   "metadata": {},
   "outputs": [],
   "source": [
    "print(np.abs((u@v)[0][0])/(la.norm(u)*la.norm(v)))"
   ]
  },
  {
   "cell_type": "markdown",
   "metadata": {},
   "source": [
    "Veamos ahora cuán similares son $v$ y el vector $(1,2,4)$."
   ]
  },
  {
   "cell_type": "code",
   "execution_count": null,
   "metadata": {
    "scrolled": true
   },
   "outputs": [],
   "source": [
    "w=np.array([[1,2,4]])\n",
    "print(np.abs((w@v)[0][0])/(la.norm(v)*la.norm(w)))"
   ]
  },
  {
   "cell_type": "markdown",
   "metadata": {},
   "source": [
    "En este contexto, también se pueden definir otras distancias, como por ejemplo:\n",
    "\n",
    "\n",
    "<img src=https://miro.medium.com/v2/resize:fit:1400/1*vAtQZbROuTdp36aQQ8cqBA.png width=\"800\">\n",
    "\n",
    "\n",
    "La célebre **distancia de Manhattan**, que se define como $d(u,v):=\\displaystyle\\sum_i |u_i-v_i|$, aplicada a $u$ y $v$, y a $v$ y $w$ proporcionaría:"
   ]
  },
  {
   "cell_type": "code",
   "execution_count": null,
   "metadata": {},
   "outputs": [],
   "source": [
    "print(np.sum(np.abs(u-v.T)))\n",
    "print(np.sum(np.abs(w-v.T)))"
   ]
  },
  {
   "cell_type": "markdown",
   "metadata": {},
   "source": [
    "Por tanto, lo _cercanos_ que sean dos vectores/objetos depende de la distancia que se considere."
   ]
  },
  {
   "cell_type": "markdown",
   "metadata": {},
   "source": [
    "### 2. Algoritmos de recomendación\n",
    "\n",
    "\n",
    "Un **sistema de recomendación** es un algoritmo que nos permite dar predicciones de cuál es el producto o ítem más adecuado para un usuario. Los sistemas de recomendación pueden ser de varias clases según el algoritmo utilizado, aunque solo nos centraremos en la presente práctica en los de _filtrado colaborativo_. \n",
    "\n",
    "\n",
    "Los sistemas de recomendación basados en algoritmos de **filtrado colaborativo** utilizan las valoraciones o interacciones de los usuarios sobre ciertos elementos del conjunto de productos, con el objetivo de predecir valoraciones o interacciones en el resto de los elementos y recomendar los de mayor valoración predicha. Ejemplos en esta línea pueden ser **Netflix**, **Spotify**, **Youtube**, etc.\n",
    "\n",
    "\n",
    "Los datos iniciales de los que disponemos son una base de datos de usuarios o clientes $(user_1, user_2, \\ldots, user_M)$ a los que vamos a recomendar una serie de productos o ítems $(ítem_1, ítem_2,\\ldots, ítem_N)$, y las interacciones o puntuaciones de esos usuarios sobre algunos de los ítems, matriz $L$ de dimensión $M\\times N$. \n",
    "\n",
    "\n",
    "**Ejemplo.** Supongamos que 10 usuarios están buscando en la página de **Ryanair** en el último mes vuelos desde Madrid (MAD) a Málaga (AGP), Las Palmas de Gran Canaria (LPA), Sevilla (SVQ), Valencia (VLC), Ibiza (IBZ) y Santiago de Compostela (SCQ). Supongamos que la fila $i$ del fichero `vuelos.csv` representa el número de búsquedas que ha realizado el usuario $i$ sobre cada una de las rutas antes mencionadas (en el orden citado). "
   ]
  },
  {
   "cell_type": "code",
   "execution_count": null,
   "metadata": {},
   "outputs": [],
   "source": [
    "import pandas as pd\n",
    "\n",
    "vuelos = pd.read_csv('/Users/vmos/Library/CloudStorage/OneDrive-UPV/Curso IA (Samsung)/Apuntes VS (04.2024)/vuelos.csv')"
   ]
  },
  {
   "cell_type": "code",
   "execution_count": null,
   "metadata": {},
   "outputs": [],
   "source": [
    "vuelos.head()"
   ]
  },
  {
   "cell_type": "code",
   "execution_count": null,
   "metadata": {},
   "outputs": [],
   "source": [
    "V=vuelos.to_numpy()\n",
    "print(V)"
   ]
  },
  {
   "cell_type": "markdown",
   "metadata": {},
   "source": [
    "**Ejercicio.** A vista de los datos anteriores:\n",
    "- ¿qué vuelo le recomendarías a los usuarios 1 y 2? \n",
    "- ¿Y a los usuarios 3, 5, 7 y 10? \n",
    "\n",
    "\n",
    "Dos filtrados colaborativos célebres son:\n",
    "\n",
    "\n",
    "1. User-user: personas con intereses similares en el pasado es probable que tengan intereses similares en el futuro. Por tanto, a la hora de recomendar a un usuario un ítem, nos fijamos en los intereses en los que se han interesado usuarios similares a él .\n",
    "\n",
    "\n",
    "**Ejemplo.** Messi ha visto Juego de Tronos y Breaking Bad. Cristiano ha visto Juego de Tronos, Breaking Bad y Vikingos. El algoritmo detecta que Messi y Cristiano son usuarios similares, luego el sistema recomienda Vikingos a Messi.\n",
    "\n",
    "\n",
    "2. Ítem-ítem: si a un usuario le ha interesado en el pasado un producto, es probable que en el futuro le interesen productos similares. Por tanto, a la hora de recomendar a un usuario un ítem, nos fijamos en ítems similares a los que se ha interesado en el pasado.\n",
    "\n",
    "\n",
    "**Ejemplo.** Messi, Cristiano, Haaland y Mbappé han visto Origen. Messi, Cristiano y Haaland también han visto Shutter Island. El algoritmo detecta que Origen y Shutter Island son productos similares, luego el sistema recomienda a Mbappé ver Shutter Island.\n",
    "\n",
    "\n",
    "Queda de manifiesto, por tanto, que la clave es conocer la similitud entre usuarios o ítems, siendo la opción más \"manejable\" aquella que tenga menos elementos. Observemos que no estamos interesados en la longitud de los vectores, sino simplemente en su similitud, luego resulta natural utilizar la similitud del coseno.\n",
    "\n",
    "\n",
    "\n",
    "En nuestro ejemplo vamos a realizar un algoritmo de recomendación ítem-ítem con el objetivo de recomendar a cada usuario un vuelo y después responderemos de nuevo a las preguntas anteriores. Comencemos analizando la similitud del resto de vuelos con el vuelo 6, pues es el que más veces ha buscado el usuario 1."
   ]
  },
  {
   "cell_type": "code",
   "execution_count": null,
   "metadata": {},
   "outputs": [],
   "source": [
    "print(\"sim(vuelo_1, vuelo_6) = \", (V[:,0:1].T@V[:,5:6])[0][0]/(la.norm(V[:,0:1])*la.norm(V[:,5:6])))"
   ]
  },
  {
   "cell_type": "code",
   "execution_count": null,
   "metadata": {},
   "outputs": [],
   "source": [
    "print(\"sim(vuelo_5, vuelo_6) = \", (V[:,4:5].T@V[:,5:6])[0][0]/(la.norm(V[:,4:5])*la.norm(V[:,5:6])))"
   ]
  },
  {
   "cell_type": "markdown",
   "metadata": {},
   "source": [
    "Ahora hagámoslo en general, es decir, calculemos las similitudes entre todos los vuelos entre sí. Esto nos derá una matriz $S$ de similitud entre vuelos, que ha de ser simétrica y con unos en la diagonal."
   ]
  },
  {
   "cell_type": "code",
   "execution_count": null,
   "metadata": {},
   "outputs": [],
   "source": [
    "S=(V/la.norm(V, axis=0)).T@(V/la.norm(V, axis=0))\n",
    "print(S)"
   ]
  },
  {
   "cell_type": "markdown",
   "metadata": {},
   "source": [
    "Sabiendo que el usuario 1 ha buscado previamente los vuelos 3 y 6 (una y dos veces, respectivamente), necesitamos buscar un vuelo que sea lo más parecido posible a los vuelos 3 y 6 (y preferiblemente más al 6 que al 3, es decir, **debemos ponderar estas búsquedas**). Por tanto, si multiplicamos (producto escalar) cada fila de $S$ por la primera fila de $V$ obtendremos unos valores que representan la _recomendación_ de los vuelos. Por tanto, bastará con quedarse con el valor más alto."
   ]
  },
  {
   "cell_type": "code",
   "execution_count": null,
   "metadata": {},
   "outputs": [],
   "source": [
    "V[0:1,:]@S"
   ]
  },
  {
   "cell_type": "markdown",
   "metadata": {},
   "source": [
    "Ahora solamente tenemos que ver el valor más alto de los anteriores y que corresponda con un cero de la primera fila de $V$ (i.e. con un vuelo que aún no haya buscado). En este caso, sería el vuelo 4. Responde a las preguntas anteriores nuevamente fijándote en la siguiente matriz."
   ]
  },
  {
   "cell_type": "code",
   "execution_count": null,
   "metadata": {},
   "outputs": [],
   "source": [
    "print(np.round(V@S, 3))\n",
    "print(V)"
   ]
  },
  {
   "cell_type": "markdown",
   "metadata": {},
   "source": [
    "Trabajemos ahora con otro ejemplo de mayores dimensiones. Concretamente, la siguiente base de datos contiene puntuaciones de usuarios sobre ciertas películas."
   ]
  },
  {
   "cell_type": "code",
   "execution_count": null,
   "metadata": {},
   "outputs": [],
   "source": [
    "import pandas as pd\n",
    "\n",
    "pelis = pd.read_csv('/Users/vmos/Library/CloudStorage/OneDrive-UPV/Curso IA (Samsung)/Apuntes VS (04.2024)/ratings_example.csv')\n",
    "pelis.head()"
   ]
  },
  {
   "cell_type": "markdown",
   "metadata": {},
   "source": [
    "Lo primero que debemos hacer en este caso es construirnos la matriz que nos interesa, donde las filas sean los usuarios y las columnas sean las películas."
   ]
  },
  {
   "cell_type": "code",
   "execution_count": null,
   "metadata": {},
   "outputs": [],
   "source": [
    "pelis_matriz=pelis.pivot_table(index='userId', columns='movieId', values='rating').fillna(0)\n",
    "pelis_matriz.head()"
   ]
  },
  {
   "cell_type": "code",
   "execution_count": null,
   "metadata": {},
   "outputs": [],
   "source": [
    "M=pelis_matriz.to_numpy()\n",
    "print(M ,\"\\n\", M.shape)"
   ]
  },
  {
   "cell_type": "markdown",
   "metadata": {},
   "source": [
    "Por tanto, tenemos 671 usuarios que han valorado 9066 películas (observemos que hay etiquetas correspondientes a películas que no han sido vistas por nadie, como por ejemplo las que hay entre la 162673 y la 163948, luego no aparecen como columnas). \n",
    "\n",
    "\n",
    "En este caso, tenemos menos usuarios que películas, luego nos interesa ver la similitud entre usuarios."
   ]
  },
  {
   "cell_type": "code",
   "execution_count": null,
   "metadata": {},
   "outputs": [],
   "source": [
    "print(\"sim(user_1, user_2) = \", (M[0:1,:]@M[1:2,:].T)[0][0]/(la.norm(M[0:1,:])*la.norm(M[1:2,:])))"
   ]
  },
  {
   "cell_type": "code",
   "execution_count": null,
   "metadata": {},
   "outputs": [],
   "source": [
    "print(\"sim(user_1, user_4) = \", (M[0:1,:]@M[3:4,:].T)[0][0]/(la.norm(M[0:1,:])*la.norm(M[3:4,:])))"
   ]
  },
  {
   "cell_type": "markdown",
   "metadata": {},
   "source": [
    "Ahora hagámoslo en general, es decir, calculemos las similitudes entre todos los usuarios."
   ]
  },
  {
   "cell_type": "code",
   "execution_count": null,
   "metadata": {},
   "outputs": [],
   "source": [
    "S=(M.T/la.norm(M.T, axis=0)).T@(M.T/la.norm(M.T, axis=0))\n",
    "print(S)"
   ]
  },
  {
   "cell_type": "markdown",
   "metadata": {},
   "source": [
    "Si multiplicamos ahora el primer vector fila de $S$ por cada una columna de $M$, obtendremos un número que indica la _recomendación_ de esa película para el usuario 1. Y, en general, si multiplicamos por todas las columnas de $M$ y nos quedamos con el valor más alto (de aquellas películas que no ha visto el usuario 1), esa será nuestra recomendación."
   ]
  },
  {
   "cell_type": "code",
   "execution_count": null,
   "metadata": {},
   "outputs": [],
   "source": [
    "S[0:1,:]@M"
   ]
  },
  {
   "cell_type": "code",
   "execution_count": null,
   "metadata": {},
   "outputs": [],
   "source": [
    "r=np.argmax(S[0:1,:]@M)\n",
    "print(r)\n",
    "print((S[0:1,:]@M)[0][r])\n",
    "print((S[0:1,:]@M)[0][r]==np.max(S[0:1,:]@M))"
   ]
  },
  {
   "cell_type": "code",
   "execution_count": null,
   "metadata": {},
   "outputs": [],
   "source": [
    "print(M[0,r])"
   ]
  },
  {
   "cell_type": "code",
   "execution_count": null,
   "metadata": {},
   "outputs": [],
   "source": [
    "recomen=(S[0:1,:]@M)[0]\n",
    "print(recomen)\n",
    "\n",
    "recomen[M[0]!=0]=0\n",
    "print(recomen)\n",
    "\n",
    "# para asegurarnos de que coge el valor máximo de aquellas películas que el usuario no ha visto\n",
    "\n",
    "r=np.argmax(recomen)\n",
    "print(r)    \n",
    "\n",
    "# seleccionamos ahora el mayor valor, y entonces seguro que no la ha visto"
   ]
  },
  {
   "cell_type": "markdown",
   "metadata": {},
   "source": [
    "Luego le recomendamos la película/columna 232 de $M$, que es la película con Id 260:"
   ]
  },
  {
   "cell_type": "code",
   "execution_count": null,
   "metadata": {},
   "outputs": [],
   "source": [
    "peliculas=pelis.movieId.to_numpy()\n",
    "\n",
    "print(\"peliculas =\", peliculas)"
   ]
  },
  {
   "cell_type": "code",
   "execution_count": null,
   "metadata": {},
   "outputs": [],
   "source": [
    "pelis_matriz.columns[r]"
   ]
  },
  {
   "cell_type": "markdown",
   "metadata": {},
   "source": [
    "Si queremos ahora saber qué recomendación haríamos a cada usuario, basta con hacer lo anterior en general: multiplicamos $S$ por $M$ y ordenaríamos los elementos de la misma forma anterior."
   ]
  },
  {
   "cell_type": "code",
   "execution_count": null,
   "metadata": {},
   "outputs": [],
   "source": [
    "K=S@M"
   ]
  },
  {
   "cell_type": "code",
   "execution_count": null,
   "metadata": {},
   "outputs": [],
   "source": [
    "def Recomendacion(i):\n",
    "    K[i-1][M[i-1]!=0]=0\n",
    "    return np.argmax(K[i-1])"
   ]
  },
  {
   "cell_type": "code",
   "execution_count": null,
   "metadata": {},
   "outputs": [],
   "source": [
    "for i in range(671):\n",
    "    print(\"Al usuario\", i+1, \"le recomendamos la película\", np.unique(peliculas)[Recomendacion(i+1)], \"\\n\")"
   ]
  },
  {
   "cell_type": "code",
   "execution_count": null,
   "metadata": {},
   "outputs": [],
   "source": []
  }
 ],
 "metadata": {
  "kernelspec": {
   "display_name": "Python 3 (ipykernel)",
   "language": "python",
   "name": "python3"
  },
  "language_info": {
   "codemirror_mode": {
    "name": "ipython",
    "version": 3
   },
   "file_extension": ".py",
   "mimetype": "text/x-python",
   "name": "python",
   "nbconvert_exporter": "python",
   "pygments_lexer": "ipython3",
   "version": "3.12.0"
  }
 },
 "nbformat": 4,
 "nbformat_minor": 4
}
