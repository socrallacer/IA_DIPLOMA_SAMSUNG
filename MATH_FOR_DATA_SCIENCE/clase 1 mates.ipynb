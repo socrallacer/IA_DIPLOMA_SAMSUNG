{
 "cells": [
  {
   "cell_type": "code",
   "execution_count": 2,
   "id": "2df78c12",
   "metadata": {},
   "outputs": [
    {
     "name": "stdout",
     "output_type": "stream",
     "text": [
      "u =  [[1 0 1]] \n",
      "\n",
      "v =  [[1]\n",
      " [2]\n",
      " [3]]\n"
     ]
    }
   ],
   "source": [
    "import numpy as np\n",
    "from numpy import linalg as la\n",
    "u=np.array([[1,0,1]]) #dobre corchete para que sea una matriz y no una lista\n",
    "v=np.array([[1],[2],[3]])\n",
    "\n",
    "\n",
    "print(\"u = \" ,u,'\\n')\n",
    "print('v = ',v)"
   ]
  },
  {
   "cell_type": "code",
   "execution_count": 35,
   "id": "66dec442",
   "metadata": {},
   "outputs": [
    {
     "name": "stdout",
     "output_type": "stream",
     "text": [
      "4 \n",
      "\n",
      "[[4]]\n"
     ]
    }
   ],
   "source": [
    "#se multiplican filas por columnas\n",
    "print(np.sum(u*v.T), '\\n')\n",
    "print(u@v)"
   ]
  },
  {
   "cell_type": "code",
   "execution_count": 4,
   "id": "7b6a46c7",
   "metadata": {},
   "outputs": [
    {
     "name": "stdout",
     "output_type": "stream",
     "text": [
      "la distancia entre u y v es [[2.82842712]]\n",
      "la distancia entre u y v es 2.8284271247461903\n"
     ]
    }
   ],
   "source": [
    "print('la distancia entre u y v es', np.sqrt((u-v.T)@(u.T-v)))\n",
    "print('la distancia entre u y v es', la.norm(u-v.T))\n",
    "\n"
   ]
  },
  {
   "cell_type": "code",
   "execution_count": 5,
   "id": "34532ff4",
   "metadata": {},
   "outputs": [
    {
     "data": {
      "text/plain": [
       "1.414213562373095"
      ]
     },
     "execution_count": 5,
     "metadata": {},
     "output_type": "execute_result"
    }
   ],
   "source": [
    "#calcular el coseno del ángulo que forman u y v\n",
    "(np.sum(u*v.T))/(la.norm(u-v.T))"
   ]
  },
  {
   "cell_type": "code",
   "execution_count": 6,
   "id": "b7d1283b",
   "metadata": {},
   "outputs": [
    {
     "data": {
      "text/plain": [
       "array([[0.75592895]])"
      ]
     },
     "execution_count": 6,
     "metadata": {},
     "output_type": "execute_result"
    }
   ],
   "source": [
    "u/la.norm(u)@v/la.norm(v)"
   ]
  },
  {
   "cell_type": "code",
   "execution_count": 7,
   "id": "0c7e7151",
   "metadata": {},
   "outputs": [],
   "source": [
    "import pandas as pd\n",
    "vuelos = pd.read_csv(\"vuelos.csv\")"
   ]
  },
  {
   "cell_type": "code",
   "execution_count": 8,
   "id": "7b3a2be5",
   "metadata": {},
   "outputs": [
    {
     "data": {
      "text/html": [
       "<div>\n",
       "<style scoped>\n",
       "    .dataframe tbody tr th:only-of-type {\n",
       "        vertical-align: middle;\n",
       "    }\n",
       "\n",
       "    .dataframe tbody tr th {\n",
       "        vertical-align: top;\n",
       "    }\n",
       "\n",
       "    .dataframe thead th {\n",
       "        text-align: right;\n",
       "    }\n",
       "</style>\n",
       "<table border=\"1\" class=\"dataframe\">\n",
       "  <thead>\n",
       "    <tr style=\"text-align: right;\">\n",
       "      <th></th>\n",
       "      <th>MAD-AGP</th>\n",
       "      <th>MAD-LPA</th>\n",
       "      <th>MAD-SVQ</th>\n",
       "      <th>MAD-VLC</th>\n",
       "      <th>MAD-IBZ</th>\n",
       "      <th>MAD-SCQ</th>\n",
       "    </tr>\n",
       "  </thead>\n",
       "  <tbody>\n",
       "    <tr>\n",
       "      <th>0</th>\n",
       "      <td>0.0</td>\n",
       "      <td>0.0</td>\n",
       "      <td>1.0</td>\n",
       "      <td>0.0</td>\n",
       "      <td>0.0</td>\n",
       "      <td>2.0</td>\n",
       "    </tr>\n",
       "    <tr>\n",
       "      <th>1</th>\n",
       "      <td>0.0</td>\n",
       "      <td>2.0</td>\n",
       "      <td>1.0</td>\n",
       "      <td>1.0</td>\n",
       "      <td>0.0</td>\n",
       "      <td>0.0</td>\n",
       "    </tr>\n",
       "    <tr>\n",
       "      <th>2</th>\n",
       "      <td>0.0</td>\n",
       "      <td>0.0</td>\n",
       "      <td>1.0</td>\n",
       "      <td>1.0</td>\n",
       "      <td>1.0</td>\n",
       "      <td>1.0</td>\n",
       "    </tr>\n",
       "    <tr>\n",
       "      <th>3</th>\n",
       "      <td>0.0</td>\n",
       "      <td>0.0</td>\n",
       "      <td>1.0</td>\n",
       "      <td>2.0</td>\n",
       "      <td>0.0</td>\n",
       "      <td>0.0</td>\n",
       "    </tr>\n",
       "    <tr>\n",
       "      <th>4</th>\n",
       "      <td>0.0</td>\n",
       "      <td>0.0</td>\n",
       "      <td>1.0</td>\n",
       "      <td>1.0</td>\n",
       "      <td>0.0</td>\n",
       "      <td>0.0</td>\n",
       "    </tr>\n",
       "  </tbody>\n",
       "</table>\n",
       "</div>"
      ],
      "text/plain": [
       "   MAD-AGP  MAD-LPA  MAD-SVQ  MAD-VLC  MAD-IBZ  MAD-SCQ\n",
       "0      0.0      0.0      1.0      0.0      0.0      2.0\n",
       "1      0.0      2.0      1.0      1.0      0.0      0.0\n",
       "2      0.0      0.0      1.0      1.0      1.0      1.0\n",
       "3      0.0      0.0      1.0      2.0      0.0      0.0\n",
       "4      0.0      0.0      1.0      1.0      0.0      0.0"
      ]
     },
     "execution_count": 8,
     "metadata": {},
     "output_type": "execute_result"
    }
   ],
   "source": [
    "vuelos.head()"
   ]
  },
  {
   "cell_type": "code",
   "execution_count": 9,
   "id": "9ff4925c",
   "metadata": {},
   "outputs": [],
   "source": [
    "V=vuelos.to_numpy()"
   ]
  },
  {
   "cell_type": "code",
   "execution_count": 10,
   "id": "117ff46f",
   "metadata": {},
   "outputs": [
    {
     "name": "stdout",
     "output_type": "stream",
     "text": [
      "[[0. 0. 1. 0. 0. 2.]\n",
      " [0. 2. 1. 1. 0. 0.]\n",
      " [0. 0. 1. 1. 1. 1.]\n",
      " [0. 0. 1. 2. 0. 0.]\n",
      " [0. 0. 1. 1. 0. 0.]\n",
      " [0. 0. 2. 0. 0. 1.]\n",
      " [1. 0. 0. 1. 0. 1.]\n",
      " [0. 1. 0. 1. 0. 2.]\n",
      " [1. 2. 0. 0. 0. 1.]\n",
      " [1. 0. 1. 0. 1. 0.]]\n"
     ]
    }
   ],
   "source": [
    "print(V)"
   ]
  },
  {
   "cell_type": "code",
   "execution_count": 11,
   "id": "2b3efac1",
   "metadata": {},
   "outputs": [
    {
     "name": "stdout",
     "output_type": "stream",
     "text": [
      "[[2.]\n",
      " [0.]\n",
      " [1.]\n",
      " [0.]\n",
      " [0.]\n",
      " [1.]\n",
      " [1.]\n",
      " [2.]\n",
      " [1.]\n",
      " [0.]]\n"
     ]
    }
   ],
   "source": [
    "# para mantener la estructura de submatriz, tienes que poner en el array [:,X:Y] siendo x la columna que quieres sacar y siendo Y = X+1 para que acabe hay\n",
    "v6 = V[:,5:6]\n",
    "print(v6)"
   ]
  },
  {
   "cell_type": "code",
   "execution_count": 12,
   "id": "81bf6e5a",
   "metadata": {},
   "outputs": [
    {
     "name": "stdout",
     "output_type": "stream",
     "text": [
      "[[0.]\n",
      " [0.]\n",
      " [0.]\n",
      " [0.]\n",
      " [0.]\n",
      " [0.]\n",
      " [1.]\n",
      " [0.]\n",
      " [1.]\n",
      " [1.]]\n"
     ]
    }
   ],
   "source": [
    "v1 = V[:,0:1]\n",
    "print(v1)"
   ]
  },
  {
   "cell_type": "code",
   "execution_count": 13,
   "id": "c2ea1ca0",
   "metadata": {},
   "outputs": [
    {
     "name": "stdout",
     "output_type": "stream",
     "text": [
      "[[0.]\n",
      " [2.]\n",
      " [0.]\n",
      " [0.]\n",
      " [0.]\n",
      " [0.]\n",
      " [0.]\n",
      " [1.]\n",
      " [2.]\n",
      " [0.]]\n"
     ]
    }
   ],
   "source": [
    "v2 = V[:,1:2]\n",
    "print(v2)"
   ]
  },
  {
   "cell_type": "code",
   "execution_count": 14,
   "id": "02c1f250",
   "metadata": {},
   "outputs": [
    {
     "name": "stdout",
     "output_type": "stream",
     "text": [
      "[[0.]\n",
      " [1.]\n",
      " [1.]\n",
      " [2.]\n",
      " [1.]\n",
      " [0.]\n",
      " [1.]\n",
      " [1.]\n",
      " [0.]\n",
      " [0.]]\n"
     ]
    }
   ],
   "source": [
    "v4=V[:,3:4]\n",
    "print(v4)"
   ]
  },
  {
   "cell_type": "code",
   "execution_count": 15,
   "id": "5c2c1754",
   "metadata": {},
   "outputs": [
    {
     "name": "stdout",
     "output_type": "stream",
     "text": [
      "[[0.]\n",
      " [0.]\n",
      " [1.]\n",
      " [0.]\n",
      " [0.]\n",
      " [0.]\n",
      " [0.]\n",
      " [0.]\n",
      " [0.]\n",
      " [1.]]\n"
     ]
    }
   ],
   "source": [
    "v5 = V[:,4:5]\n",
    "print(v5)"
   ]
  },
  {
   "cell_type": "code",
   "execution_count": 16,
   "id": "3d9ea090",
   "metadata": {},
   "outputs": [
    {
     "name": "stdout",
     "output_type": "stream",
     "text": [
      "[[0.33333333]]\n"
     ]
    }
   ],
   "source": [
    "sim61 = v6.T/la.norm(v6)@v1/la.norm(v1)\n",
    "print(sim61)"
   ]
  },
  {
   "cell_type": "code",
   "execution_count": 17,
   "id": "59e0e89b",
   "metadata": {},
   "outputs": [
    {
     "name": "stdout",
     "output_type": "stream",
     "text": [
      "[[0.38490018]]\n"
     ]
    }
   ],
   "source": [
    "sim62 = v6.T/la.norm(v6)@v2/la.norm(v2)\n",
    "print(sim62)"
   ]
  },
  {
   "cell_type": "code",
   "execution_count": 18,
   "id": "b301dca7",
   "metadata": {},
   "outputs": [
    {
     "name": "stdout",
     "output_type": "stream",
     "text": [
      "[[0.38490018]]\n"
     ]
    }
   ],
   "source": [
    "sim64 = v6.T/la.norm(v6)@v4/la.norm(v4)\n",
    "print(sim64)"
   ]
  },
  {
   "cell_type": "code",
   "execution_count": 19,
   "id": "694efe54",
   "metadata": {},
   "outputs": [
    {
     "name": "stdout",
     "output_type": "stream",
     "text": [
      "[[0.20412415]]\n"
     ]
    }
   ],
   "source": [
    "sim65 = v6.T/la.norm(v6)@v5/la.norm(v5)\n",
    "print(sim65)"
   ]
  },
  {
   "cell_type": "code",
   "execution_count": 20,
   "id": "323f81a5",
   "metadata": {},
   "outputs": [
    {
     "name": "stdout",
     "output_type": "stream",
     "text": [
      "[[1.]\n",
      " [1.]\n",
      " [1.]\n",
      " [1.]\n",
      " [1.]\n",
      " [2.]\n",
      " [0.]\n",
      " [0.]\n",
      " [0.]\n",
      " [1.]]\n"
     ]
    }
   ],
   "source": [
    "v3=V[:,2:3]\n",
    "print(v3)"
   ]
  },
  {
   "cell_type": "code",
   "execution_count": 21,
   "id": "bae3025d",
   "metadata": {},
   "outputs": [
    {
     "name": "stdout",
     "output_type": "stream",
     "text": [
      "[[0.18257419]] \n",
      " [[0.21081851]] \n",
      " [[0.52704628]] \n",
      " [[0.4472136]]\n"
     ]
    }
   ],
   "source": [
    "sim31 = v3.T/la.norm(v3)@v1/la.norm(v1)\n",
    "sim32 = v3.T/la.norm(v3)@v2/la.norm(v2)\n",
    "sim34 = v3.T/la.norm(v3)@v4/la.norm(v4)\n",
    "sim35 = v3.T/la.norm(v3)@v5/la.norm(v5)\n",
    "print(sim31,\"\\n\", sim32,\"\\n\",sim34,\"\\n\",sim35 )"
   ]
  },
  {
   "cell_type": "code",
   "execution_count": 22,
   "id": "9eb709b7",
   "metadata": {},
   "outputs": [
    {
     "name": "stdout",
     "output_type": "stream",
     "text": [
      "[1.73205081 3.         3.16227766 3.         1.41421356 3.46410162]\n"
     ]
    }
   ],
   "source": [
    "print(la.norm(V,axis=0))"
   ]
  },
  {
   "cell_type": "code",
   "execution_count": 32,
   "id": "7925fa38",
   "metadata": {},
   "outputs": [
    {
     "name": "stdout",
     "output_type": "stream",
     "text": [
      "[[1.         0.38490018 0.18257419 0.19245009 0.40824829 0.33333333]\n",
      " [0.38490018 1.         0.21081851 0.33333333 0.         0.38490018]\n",
      " [0.18257419 0.21081851 1.         0.52704628 0.4472136  0.45643546]\n",
      " [0.19245009 0.33333333 0.52704628 1.         0.23570226 0.38490018]\n",
      " [0.40824829 0.         0.4472136  0.23570226 1.         0.20412415]\n",
      " [0.33333333 0.38490018 0.45643546 0.38490018 0.20412415 1.        ]] \n",
      "\n",
      "[[0.84924085 0.98061887 1.91287093 1.29684664 0.85546189 2.45643546]]\n"
     ]
    }
   ],
   "source": [
    "# MATRIZ Normalizada, cada columna a sido dividida por su norma gracias a phyton\n",
    "#print(V/la.norm(V,axis=0))\n",
    "VN=V/la.norm(V,axis=0)\n",
    "\n",
    "S = VN.T@VN\n",
    "print(S, '\\n')\n",
    "recomnedacion1 = V[0:1,:]@S\n",
    "\n",
    "print(recomnedacion1)\n"
   ]
  },
  {
   "cell_type": "code",
   "execution_count": 34,
   "id": "c6981d25",
   "metadata": {},
   "outputs": [
    {
     "name": "stdout",
     "output_type": "stream",
     "text": [
      "[[0.84924085 0.98061887 0.         1.29684664 0.85546189 0.        ]]\n",
      "3\n"
     ]
    }
   ],
   "source": [
    "#para que no se recomiende el mismo vuelo\n",
    "recomnedacion1[V[0:1,:]!=0]=0\n",
    "print(recomnedacion1)\n",
    "print(np.argmax(recomnedacion1))"
   ]
  },
  {
   "cell_type": "code",
   "execution_count": 36,
   "id": "b65a684c",
   "metadata": {},
   "outputs": [
    {
     "data": {
      "text/plain": [
       "array([[0.84924085, 0.98061887, 1.91287093, 1.29684664, 0.85546189,\n",
       "        2.45643546],\n",
       "       [1.14482463, 2.54415184, 1.9486833 , 2.19371294, 0.68291586,\n",
       "        1.611136  ],\n",
       "       [1.1166059 , 0.92905202, 2.43069534, 2.14764872, 1.88704   ,\n",
       "        2.04545979],\n",
       "       [0.56747437, 0.87748518, 2.05409255, 2.52704628, 0.91861812,\n",
       "        1.22623582],\n",
       "       [0.37502428, 0.54415184, 1.52704628, 1.52704628, 0.68291586,\n",
       "        0.84133564],\n",
       "       [0.69848171, 0.8065372 , 2.45643546, 1.43899273, 1.09855134,\n",
       "        1.91287093],\n",
       "       [1.52578342, 1.10313369, 1.16605593, 1.57735027, 0.8480747 ,\n",
       "        1.71823351],\n",
       "       [1.24401694, 2.10313369, 1.65073572, 2.10313369, 0.64395055,\n",
       "        2.76980036],\n",
       "       [2.10313369, 2.76980036, 1.06064667, 1.24401694, 0.61237244,\n",
       "        2.10313369],\n",
       "       [1.59082248, 0.59571869, 1.62978778, 0.95519863, 1.85546189,\n",
       "        0.99389294]])"
      ]
     },
     "execution_count": 36,
     "metadata": {},
     "output_type": "execute_result"
    }
   ],
   "source": [
    "V@S\n",
    "#MAtriz de recomendación por usuarios"
   ]
  },
  {
   "cell_type": "code",
   "execution_count": null,
   "id": "d6961950",
   "metadata": {},
   "outputs": [],
   "source": []
  }
 ],
 "metadata": {
  "kernelspec": {
   "display_name": "Python 3 (ipykernel)",
   "language": "python",
   "name": "python3"
  },
  "language_info": {
   "codemirror_mode": {
    "name": "ipython",
    "version": 3
   },
   "file_extension": ".py",
   "mimetype": "text/x-python",
   "name": "python",
   "nbconvert_exporter": "python",
   "pygments_lexer": "ipython3",
   "version": "3.12.0"
  }
 },
 "nbformat": 4,
 "nbformat_minor": 5
}
