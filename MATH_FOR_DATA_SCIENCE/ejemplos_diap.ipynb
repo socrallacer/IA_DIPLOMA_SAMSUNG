{
 "cells": [
  {
   "cell_type": "code",
   "execution_count": 5,
   "metadata": {},
   "outputs": [
    {
     "name": "stdout",
     "output_type": "stream",
     "text": [
      "1 5\n",
      "2 13\n",
      "3 24\n",
      "4 38\n",
      "5 55\n",
      "6 75\n",
      "7 98\n",
      "8 124\n",
      "9 153\n",
      "10 185\n",
      "S10 =  185 by summation\n"
     ]
    }
   ],
   "source": [
    "N = 10\n",
    "a = 5\n",
    "d = 3\n",
    "\n",
    "sum1 = 0\n",
    "\n",
    "for n in range(1,N+1):\n",
    "    sum1 = sum1 + (a+(n-1)*d)\n",
    "    print(n,sum1)\n",
    "print(\"S10 = \",sum1, \"by summation\")    "
   ]
  },
  {
   "cell_type": "code",
   "execution_count": 6,
   "metadata": {},
   "outputs": [
    {
     "data": {
      "text/plain": [
       "32"
      ]
     },
     "execution_count": 6,
     "metadata": {},
     "output_type": "execute_result"
    }
   ],
   "source": [
    "(a + (N-1)*d)"
   ]
  },
  {
   "cell_type": "code",
   "execution_count": null,
   "metadata": {},
   "outputs": [],
   "source": []
  }
 ],
 "metadata": {
  "kernelspec": {
   "display_name": "Python 3",
   "language": "python",
   "name": "python3"
  },
  "language_info": {
   "codemirror_mode": {
    "name": "ipython",
    "version": 3
   },
   "file_extension": ".py",
   "mimetype": "text/x-python",
   "name": "python",
   "nbconvert_exporter": "python",
   "pygments_lexer": "ipython3",
   "version": "3.12.0"
  }
 },
 "nbformat": 4,
 "nbformat_minor": 2
}
