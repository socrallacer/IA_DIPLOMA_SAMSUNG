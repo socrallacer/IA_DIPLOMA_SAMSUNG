{
 "cells": [
  {
   "cell_type": "code",
   "execution_count": 29,
   "metadata": {},
   "outputs": [],
   "source": [
    "import numpy as np\n",
    "import matplotlib.pyplot as plt\n",
    "from numpy import linalg as la\n"
   ]
  },
  {
   "cell_type": "code",
   "execution_count": 30,
   "metadata": {},
   "outputs": [
    {
     "name": "stdout",
     "output_type": "stream",
     "text": [
      "Producto escalar de u y v = 20\n",
      "Producto escalar de u y v (otro método) = 20\n"
     ]
    }
   ],
   "source": [
    "#Considera los vectores u=(4,5,2,2) y v=(2,2,0,1) y las matrices M= [2 1 1; 1 1 0; 3 -1 2] y N= [4 3 -1; 5 0 3; 2 1 1].\n",
    "u = np.array([4,5,2,2])\n",
    "v = np.array([2,2,0,1])\n",
    "M = np.array([[2,1,1],[1,1,0],[3,-1,2]])\n",
    "N = np.array([[4,3,-1],[5,0,3],[2,1,1]])\n",
    "#1.1. Calcula el producto escalar entre u y v de dos maneras distintas.\n",
    "res1 = np.dot(u,v)\n",
    "res2 = np.sum(u*v)\n",
    "print(f\"Producto escalar de u y v = {res1}\")\n",
    "print(f\"Producto escalar de u y v (otro método) = {res2}\")"
   ]
  },
  {
   "cell_type": "code",
   "execution_count": 31,
   "metadata": {},
   "outputs": [
    {
     "name": "stdout",
     "output_type": "stream",
     "text": [
      "Coseno de M y N = 0.5773502691896257\n"
     ]
    }
   ],
   "source": [
    "#1.2. En el espacio vectorial de las matrices n×m con coeficientes números reales se puede considerar el producto escalar\n",
    "#〈A, B〉= traza(A⋅B^t). Determina la similitud del coseno de las matrices M y N, considerando dicho producto escalar.\n",
    "res3 = np.trace(np.dot(M,N.T))\n",
    "res3 = res3/(la.norm(M)*la.norm(N))\n",
    "print(f\"Coseno de M y N = {res3}\")"
   ]
  },
  {
   "cell_type": "code",
   "execution_count": 32,
   "metadata": {},
   "outputs": [
    {
     "name": "stdout",
     "output_type": "stream",
     "text": [
      "Norma de M = 4.69041575982343\n",
      "Distancia entre M y N= 6.6332495807108\n"
     ]
    }
   ],
   "source": [
    "#1.3. Utilizando el producto escalar del apartado anterior, ¿cuál es la norma de M? ¿Y la distancia de M a N?\n",
    "res4 = la.norm(M)\n",
    "res5 = la.norm(M-N)\n",
    "\n",
    "print(f\"Norma de M = {res4}\")\n",
    "print(f\"Distancia entre M y N= {res5}\")\n"
   ]
  },
  {
   "cell_type": "code",
   "execution_count": 33,
   "metadata": {},
   "outputs": [
    {
     "name": "stdout",
     "output_type": "stream",
     "text": [
      "El producto escalar de dos vectores\n"
     ]
    }
   ],
   "source": [
    "#1.4. Supongamos en particular que C y D son matrices-fila cualesquiera de dimensión 1×n. Cuando realizamos el producto escalar del apartado 1.2 entre las matrices C y D, ¿qué producto escalar conocido se obtiene?\n",
    "C = np.array([[4,5,2,2]])\n",
    "D = np.array([[2,2,0,1]])\n",
    "res6 = np.trace(np.dot(C,D.T))\n",
    "print(\"El producto escalar de dos vectores\")"
   ]
  },
  {
   "cell_type": "code",
   "execution_count": 35,
   "metadata": {},
   "outputs": [
    {
     "name": "stdout",
     "output_type": "stream",
     "text": [
      "El elemento 3x3 de M^100 es 5.877377013449247e+57\n"
     ]
    }
   ],
   "source": [
    "#1.5. Calcula la matriz M elevada a 100. ¿Cuál es el elemento 3×3?\n",
    "autovalores, autovectores=la.eig(M)\n",
    "D=np.diag(autovalores)\n",
    "P=autovectores\n",
    "P_inv=la.inv(P)\n",
    "M_100=P@D**100@P_inv\n",
    "print(f\"El elemento 3x3 de M^100 es {M_100[2,2]}\")"
   ]
  },
  {
   "cell_type": "code",
   "execution_count": 39,
   "metadata": {},
   "outputs": [
    {
     "name": "stdout",
     "output_type": "stream",
     "text": [
      "La traza de A es 1\n",
      "La matriz A es invertible? False\n",
      "La matriz noe es invertible porque tiene un autovalor igual a 0 y por lo tanto el determinante es 0\n"
     ]
    }
   ],
   "source": [
    "#1.6. Si A es una matriz con autovalores {1,1,-1,0}, ¿cuánto vale la traza de A? ¿Es A invertible?\n",
    "autovalores = np.array([1,1,-1,0])\n",
    "traza = np.sum(autovalores)\n",
    "print(f\"La traza de A es {traza}\")\n",
    "#Generar A con los autovaolres dados\n",
    "A = np.diag(autovalores)\n",
    "print(f\"La matriz A es invertible? {np.prod(autovalores)!=0}\")\n",
    "print(\"La matriz noe es invertible porque tiene un autovalor igual a 0 y por lo tanto el determinante es 0\")\n",
    "\n",
    "\n"
   ]
  },
  {
   "cell_type": "code",
   "execution_count": 42,
   "metadata": {},
   "outputs": [
    {
     "name": "stdout",
     "output_type": "stream",
     "text": [
      "El rango de B es el mínimo entre el número de filas n y columnas m. Esto se debe a que no hay valores \n",
      " singulares nulos por lo que todas las dimensiones de la matriz tienen influencia\n"
     ]
    }
   ],
   "source": [
    "#1.7. Si B es una matriz real de n filas y m columnas y tiene todos sus valores singulares estrictamente positivos, ¿cuál es el rango de B?\n",
    "print(\"El rango de B es el mínimo entre el número de filas n y columnas m. Esto se debe a que no hay valores \\n singulares nulos por lo que todas las dimensiones de la matriz tienen influencia\")"
   ]
  },
  {
   "cell_type": "code",
   "execution_count": null,
   "metadata": {},
   "outputs": [],
   "source": []
  }
 ],
 "metadata": {
  "kernelspec": {
   "display_name": "Python 3",
   "language": "python",
   "name": "python3"
  },
  "language_info": {
   "codemirror_mode": {
    "name": "ipython",
    "version": 3
   },
   "file_extension": ".py",
   "mimetype": "text/x-python",
   "name": "python",
   "nbconvert_exporter": "python",
   "pygments_lexer": "ipython3",
   "version": "3.12.0"
  }
 },
 "nbformat": 4,
 "nbformat_minor": 2
}
