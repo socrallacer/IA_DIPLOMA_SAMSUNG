{
 "cells": [
  {
   "cell_type": "markdown",
   "metadata": {},
   "source": [
    "## Coding Exercise #0503"
   ]
  },
  {
   "cell_type": "code",
   "execution_count": 1,
   "metadata": {},
   "outputs": [],
   "source": [
    "import re"
   ]
  },
  {
   "cell_type": "markdown",
   "metadata": {},
   "source": [
    "### 1. Regular expressions (groups):"
   ]
  },
  {
   "cell_type": "markdown",
   "metadata": {},
   "source": [
    "#### 1.1. Some examples of group:"
   ]
  },
  {
   "cell_type": "code",
   "execution_count": null,
   "metadata": {},
   "outputs": [],
   "source": [
    "reg_ex = re.compile(\"([0-9]+)\")\n",
    "m = reg_ex.search(\"I am 22 years old. She is 20 years old.\")\n",
    "print(m.group(1))"
   ]
  },
  {
   "cell_type": "code",
   "execution_count": null,
   "metadata": {},
   "outputs": [],
   "source": [
    "reg_ex = re.compile(\"([0-9]+)[^0-9]+([0-9]+)\")\n",
    "m = reg_ex.search(\"I am 22 years old. She is 20 years old.\")\n",
    "print(m.group(1))\n",
    "print(m.group(2))"
   ]
  },
  {
   "cell_type": "code",
   "execution_count": null,
   "metadata": {},
   "outputs": [],
   "source": [
    "reg_ex = re.compile(\"([^0-9]+)([0-9]+)[^0-9]+([0-9]+)[^0-9]+([0-9]+)\")\n",
    "m = reg_ex.search(\"John Wheeler 010-1234-5678\")\n",
    "print((m.group(1)).strip())\n",
    "print(m.group(2))\n",
    "print(m.group(3))\n",
    "print(m.group(4))"
   ]
  },
  {
   "cell_type": "markdown",
   "metadata": {},
   "source": [
    "#### 1.2. Some exaples of group with shorthand expression:\n",
    "\\d   =   [0-9]  <br>\n",
    "\\D    =  [^0-9]  <br>\n",
    "\\w   =   [0-9a-zA-Z_]  <br>\n",
    "\\W    =  [^0-9a-zA-Z_]  <br>"
   ]
  },
  {
   "cell_type": "code",
   "execution_count": null,
   "metadata": {},
   "outputs": [],
   "source": [
    "reg_ex = re.compile(\"(\\d+)\")\n",
    "m = reg_ex.search(\"I am 22 years old. She is 20 years old.\")\n",
    "print(m.group(1))"
   ]
  },
  {
   "cell_type": "code",
   "execution_count": null,
   "metadata": {},
   "outputs": [],
   "source": [
    "reg_ex = re.compile(\"(\\d+)\\D+(\\d+)\")\n",
    "m = reg_ex.search(\"I am 22 years old. She is 20 years old.\")\n",
    "print(m.group(1))\n",
    "print(m.group(2))"
   ]
  },
  {
   "cell_type": "code",
   "execution_count": null,
   "metadata": {},
   "outputs": [],
   "source": [
    "reg_ex = re.compile(\"(\\D+)(\\d+)\\D+(\\d+)\\D+(\\d+)\")\n",
    "m = reg_ex.search(\"John Wheeler 010-1234-5678\")\n",
    "print((m.group(1)).strip())\n",
    "print(m.group(2))\n",
    "print(m.group(3))\n",
    "print(m.group(4))"
   ]
  },
  {
   "cell_type": "code",
   "execution_count": null,
   "metadata": {},
   "outputs": [],
   "source": [
    "# Hide the phone number.\n",
    "reg_ex = re.compile(\"(\\D+)(\\d+)\\D+(\\d+)\\D+(\\d+)\")\n",
    "m = reg_ex.search(\"John Wheeler 010-1234-5678\")\n",
    "print((m.group(1)).strip() + \" \" + m.group(2) + \"-****-****\")"
   ]
  },
  {
   "cell_type": "code",
   "execution_count": null,
   "metadata": {},
   "outputs": [],
   "source": [
    "# Extract only the phone number.\n",
    "reg_ex = re.compile(\"(\\D+)((\\d+)\\D+(\\d+)\\D+(\\d+))\")\n",
    "m = reg_ex.search(\"John Wheeler 010-1234-5678\")\n",
    "print(\"PHONE : \" + m.group(2))"
   ]
  },
  {
   "cell_type": "markdown",
   "metadata": {},
   "source": [
    "Prueba para encontrar correo con expresión regular"
   ]
  },
  {
   "cell_type": "code",
   "execution_count": 4,
   "metadata": {},
   "outputs": [
    {
     "name": "stdout",
     "output_type": "stream",
     "text": [
      "Email : socrates@gmail.com\n"
     ]
    }
   ],
   "source": [
    "reg_ex = re.compile(\"(\\w+)([@])(\\w+)([.])(\\w+)\")\n",
    "m = reg_ex.search(\"my email is socrates@gmail.com\")\n",
    "print(\"Email : \" + m.group(0))"
   ]
  },
  {
   "cell_type": "code",
   "execution_count": 22,
   "metadata": {},
   "outputs": [
    {
     "name": "stdout",
     "output_type": "stream",
     "text": [
      "Email : <re.Match object; span=(12, 24), match='23@gmail.com'>\n",
      "Email : <re.Match object; span=(29, 45), match='llacer@gmail.com'>\n"
     ]
    }
   ],
   "source": [
    "reg_ex = re.compile(\"((\\w+)([@])(\\w+)([.])(\\w+))\")\n",
    "m = reg_ex.finditer(\"my email is 23@gmail.com and llacer@gmail.com\")\n",
    "for i in m:\n",
    "    print(\"Email : \" + str(i))"
   ]
  },
  {
   "cell_type": "code",
   "execution_count": 26,
   "metadata": {},
   "outputs": [
    {
     "name": "stdout",
     "output_type": "stream",
     "text": [
      "['ejemplo1@dominio..com', 'prueba.mail@ejemplo.net', 'otro+correo@ejemplo.org']\n"
     ]
    }
   ],
   "source": [
    "#Solución chatGPT\n",
    "\n",
    "# Ejemplo de texto que contiene correos electrónicos\n",
    "texto = \"Aquí hay algunos correos: ejemplo1@dominio..com, prueba.mail@ejemplo.net, otro+correo@ejemplo.org\"\n",
    "\n",
    "# Expresión regular para encontrar correos electrónicos\n",
    "regex_correo = r'\\b[A-Za-z0-9._%+-]+@[A-Za-z0-9.-]+\\.[A-Z|a-z]{2,}\\b'\n",
    "\n",
    "# Buscar todos los correos en el texto\n",
    "correos_encontrados = re.findall(regex_correo, texto)\n",
    "\n",
    "# Mostrar los correos encontrados\n",
    "print(correos_encontrados)\n"
   ]
  },
  {
   "cell_type": "code",
   "execution_count": null,
   "metadata": {},
   "outputs": [],
   "source": []
  }
 ],
 "metadata": {
  "kernelspec": {
   "display_name": "Python 3",
   "language": "python",
   "name": "python3"
  },
  "language_info": {
   "codemirror_mode": {
    "name": "ipython",
    "version": 3
   },
   "file_extension": ".py",
   "mimetype": "text/x-python",
   "name": "python",
   "nbconvert_exporter": "python",
   "pygments_lexer": "ipython3",
   "version": "3.11.7"
  }
 },
 "nbformat": 4,
 "nbformat_minor": 2
}
