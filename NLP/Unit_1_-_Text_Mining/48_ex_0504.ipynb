{
  "cells": [
    {
      "cell_type": "markdown",
      "metadata": {
        "id": "8hR3cjLRz5hZ"
      },
      "source": [
        "## Coding Exercise #0504"
      ]
    },
    {
      "cell_type": "code",
      "execution_count": 1,
      "metadata": {
        "id": "e5eYsWmZz5hd"
      },
      "outputs": [
        {
          "name": "stdout",
          "output_type": "stream",
          "text": [
            "Collecting bs4\n",
            "  Downloading bs4-0.0.2-py2.py3-none-any.whl.metadata (411 bytes)\n",
            "Requirement already satisfied: beautifulsoup4 in /opt/anaconda3/lib/python3.11/site-packages (from bs4) (4.12.2)\n",
            "Requirement already satisfied: soupsieve>1.2 in /opt/anaconda3/lib/python3.11/site-packages (from beautifulsoup4->bs4) (2.5)\n",
            "Downloading bs4-0.0.2-py2.py3-none-any.whl (1.2 kB)\n",
            "Installing collected packages: bs4\n",
            "Successfully installed bs4-0.0.2\n"
          ]
        }
      ],
      "source": [
        "# Install BeautifulSoup4 once.\n",
        "!pip install bs4"
      ]
    },
    {
      "cell_type": "code",
      "execution_count": 2,
      "metadata": {
        "id": "02K4Aj3Gz5he"
      },
      "outputs": [],
      "source": [
        "import requests as rq\n",
        "import bs4"
      ]
    },
    {
      "cell_type": "markdown",
      "metadata": {
        "id": "VfzJhreLz5hg"
      },
      "source": [
        "### 1. Data acquisition from a webpage:"
      ]
    },
    {
      "cell_type": "markdown",
      "metadata": {
        "id": "h7bLYCrYz5hg"
      },
      "source": [
        "#### 1.1. Using the Requests library:"
      ]
    },
    {
      "cell_type": "code",
      "execution_count": 3,
      "metadata": {
        "id": "N6If6KcFz5hh"
      },
      "outputs": [],
      "source": [
        "# The URL to get the text data from.\n",
        "res = rq.get(\"https://en.wikipedia.org/wiki/Machine_learning\")"
      ]
    },
    {
      "cell_type": "code",
      "execution_count": null,
      "metadata": {
        "id": "GYR_-L2-z5hi"
      },
      "outputs": [],
      "source": [
        "# If the status code is 200, then OK.\n",
        "# If the status code is 404, then it was not possible to locate the resource.\n",
        "res.status_code\n",
        "res.headers"
      ]
    },
    {
      "cell_type": "code",
      "execution_count": 9,
      "metadata": {
        "colab": {
          "base_uri": "https://localhost:8080/"
        },
        "id": "DHSxjrMuz5hj",
        "outputId": "35cfbeb0-65be-4913-d78c-c2e55dcacca4"
      },
      "outputs": [
        {
          "data": {
            "text/plain": [
              "dict_keys(['date', 'vary', 'server', 'x-content-type-options', 'content-language', 'last-modified', 'content-type', 'content-encoding', 'age', 'x-cache', 'x-cache-status', 'server-timing', 'strict-transport-security', 'report-to', 'nel', 'set-cookie', 'accept-ch', 'permissions-policy', 'x-client-ip', 'cache-control', 'accept-ranges', 'content-length'])"
            ]
          },
          "execution_count": 9,
          "metadata": {},
          "output_type": "execute_result"
        }
      ],
      "source": [
        "# The header as a dictionary.\n",
        "my_header = dict(res.headers)\n",
        "my_header.keys()"
      ]
    },
    {
      "cell_type": "code",
      "execution_count": 12,
      "metadata": {
        "colab": {
          "base_uri": "https://localhost:8080/"
        },
        "id": "c7gMJHHdz5hj",
        "outputId": "0be7d85c-8f65-40d0-c052-ecffcc9f20cd"
      },
      "outputs": [
        {
          "name": "stdout",
          "output_type": "stream",
          "text": [
            "Wed, 12 Oct 2022 06:54:34 GMT\n",
            "text/html; charset=UTF-8\n",
            "en\n",
            "92020\n"
          ]
        }
      ],
      "source": [
        "# Print out some header values.\n",
        "print(my_header['date'])\n",
        "print(my_header['content-type'])\n",
        "print(my_header['content-language'])\n",
        "print(my_header['content-length'])"
      ]
    },
    {
      "cell_type": "code",
      "execution_count": null,
      "metadata": {
        "id": "va_Mhy6fz5hk"
      },
      "outputs": [],
      "source": [
        "# Print out the whole data.\n",
        "# Not easily intelligible.\n",
        "print(res.text)"
      ]
    },
    {
      "cell_type": "markdown",
      "metadata": {
        "id": "36qVbX98z5hl"
      },
      "source": [
        "#### 1.2. Using the BeautifulSoup4 library:"
      ]
    },
    {
      "cell_type": "code",
      "execution_count": null,
      "metadata": {
        "id": "RotcC-BWz5hm"
      },
      "outputs": [],
      "source": [
        "# Use BeautifulSoup4 to parse the HTML.\n",
        "# There are 3 parsers: 'lxml', 'html5lib', 'html.parser'\n",
        "soup = bs4.BeautifulSoup(res.text, 'html.parser')     # Returns a BeautifulSoup object. Use 'html.parser'\n",
        "print(soup.prettify())                                # Output in a more readable way."
      ]
    },
    {
      "cell_type": "code",
      "execution_count": null,
      "metadata": {
        "id": "mNM4ZndKz5hm"
      },
      "outputs": [],
      "source": [
        "# Join the text content from all the paragraphs.\n",
        "x=soup.find_all('p')\n",
        "n = len(x)\n",
        "paragraphs = ''                              # Initialize an empty string.\n",
        "for i in range(n):\n",
        "    paragraphs += x[i].text.strip() + '\\n'   # Carriage return at the end of each paragraph.     "
      ]
    },
    {
      "cell_type": "code",
      "execution_count": null,
      "metadata": {
        "id": "R6LX-GNAz5hm"
      },
      "outputs": [],
      "source": [
        "# Display the result.\n",
        "print(paragraphs)"
      ]
    }
  ],
  "metadata": {
    "colab": {
      "provenance": []
    },
    "kernelspec": {
      "display_name": "Python 3",
      "language": "python",
      "name": "python3"
    },
    "language_info": {
      "codemirror_mode": {
        "name": "ipython",
        "version": 3
      },
      "file_extension": ".py",
      "mimetype": "text/x-python",
      "name": "python",
      "nbconvert_exporter": "python",
      "pygments_lexer": "ipython3",
      "version": "3.1.undefined"
    }
  },
  "nbformat": 4,
  "nbformat_minor": 0
}
