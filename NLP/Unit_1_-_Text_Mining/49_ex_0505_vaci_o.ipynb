{
  "cells": [
    {
      "cell_type": "markdown",
      "metadata": {
        "id": "ZDPRJ3oQ2GcR"
      },
      "source": [
        "## Coding Exercise #0505"
      ]
    },
    {
      "cell_type": "markdown",
      "source": [
        "# 1. Escribe una función que reciba como parámetro una cadena de texto y la procese realizando estos cambios:\n",
        "- Convertir toda la cadena a minúsculas\n",
        "- Deshacer las contracciones: don't --> do not; there's --> there is; there're --> there are; i'm --> i am; he's --> he is ; she's --> she is etc.\n",
        "- Sustituir las direcciones url (https//... o http//...) por la cadena \"URL\"\n",
        "- Sustituir las expresiones numéricas por la cadena \"NUMBER\"\n",
        "- Eliminar los caracteres que no sean alfabéticos\n",
        "- Eliminar las palabras de longitud 1\n",
        "- Eliminar el exceso de espacios en blanco entre palabras\n",
        "\n",
        "Ejemplo:\n",
        "print(process_text(\"   In the url https://www.aaa.es there're 1000 Python code examples for a previous version (2.7) .   \"))\n",
        "\n",
        "in the url URL there are NUMBER python code examples for previous version NUMBER\n",
        "\n"
      ],
      "metadata": {
        "id": "kdyRM7W0WaAs"
      }
    },
    {
      "cell_type": "code",
      "execution_count": null,
      "metadata": {
        "id": "y2ffm0rb2Gcc"
      },
      "outputs": [],
      "source": [
        "def process_text(t):\n",
        "  #write here your code\n",
        "\n",
        "\n",
        "\n"
      ]
    },
    {
      "cell_type": "code",
      "source": [
        "print(process_text(\" In the url https://www.aaa.es there's 1000 Python      code examples for a previous version (2.7) . \"))"
      ],
      "metadata": {
        "colab": {
          "base_uri": "https://localhost:8080/"
        },
        "id": "HvjX9gSTcpFy",
        "outputId": "bb67bfcb-6c6b-4ac5-bb2d-fdcd01bbb46d"
      },
      "execution_count": null,
      "outputs": [
        {
          "output_type": "stream",
          "name": "stdout",
          "text": [
            " in the url URL there is NUMBER python code examples for previous version NUMBER \n"
          ]
        }
      ]
    },
    {
      "cell_type": "markdown",
      "source": [
        "# 2 Escribe el código para obtener el texto de una página web a partir de su URL"
      ],
      "metadata": {
        "id": "6Ej_g4VwlAY7"
      }
    },
    {
      "cell_type": "code",
      "source": [
        "def url2text(url):\n",
        "  # write here your code\n"
      ],
      "metadata": {
        "id": "IMWRcu352hT9"
      },
      "execution_count": null,
      "outputs": []
    },
    {
      "cell_type": "markdown",
      "source": [
        "## 3. Escribe el código para procesar el texto de una página web utilizando las funciones implementadas anteriormente"
      ],
      "metadata": {
        "id": "HiQmwvq8mzkB"
      }
    },
    {
      "cell_type": "code",
      "execution_count": null,
      "metadata": {
        "id": "JvuMCFlb2Gcb"
      },
      "outputs": [],
      "source": [
        "#write here your code to print the processed text from a url"
      ]
    }
  ],
  "metadata": {
    "kernelspec": {
      "display_name": "Python 3",
      "language": "python",
      "name": "python3"
    },
    "language_info": {
      "codemirror_mode": {
        "name": "ipython",
        "version": 3
      },
      "file_extension": ".py",
      "mimetype": "text/x-python",
      "name": "python",
      "nbconvert_exporter": "python",
      "pygments_lexer": "ipython3",
      "version": "3.8.8"
    },
    "colab": {
      "provenance": []
    }
  },
  "nbformat": 4,
  "nbformat_minor": 0
}