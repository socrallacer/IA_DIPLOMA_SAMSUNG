{
  "cells": [
    {
      "cell_type": "markdown",
      "metadata": {
        "id": "g3PnYzcnd74E"
      },
      "source": [
        "## Coding Exercise #0502"
      ]
    },
    {
      "cell_type": "code",
      "execution_count": null,
      "metadata": {
        "id": "ZYHMAeOEd74J"
      },
      "outputs": [],
      "source": [
        "import re\n",
        "import os"
      ]
    },
    {
      "cell_type": "markdown",
      "metadata": {
        "id": "UI-ip4-ud74K"
      },
      "source": [
        "### 1. Regular expressions (more examples):"
      ]
    },
    {
      "cell_type": "markdown",
      "metadata": {
        "id": "sPgacqcFd74L"
      },
      "source": [
        "#### 1.1. Read in data and define a helper function:"
      ]
    },
    {
      "cell_type": "code",
      "execution_count": null,
      "metadata": {
        "id": "QqiAqgd1d74L"
      },
      "outputs": [],
      "source": [
        "# Go to the directory where the data file is located. \n",
        "# os.chdir(r'~~')                # Please, replace the path with your own.   "
      ]
    },
    {
      "cell_type": "code",
      "execution_count": null,
      "metadata": {
        "id": "yfbSpoZPd74M"
      },
      "outputs": [],
      "source": [
        "# Read the book.\n",
        "f = open(\"./book_crime_and_punishment.txt\",'r',encoding='UTF8')\n",
        "book = f.readlines()\n",
        "f.close()"
      ]
    },
    {
      "cell_type": "code",
      "execution_count": null,
      "metadata": {
        "id": "48HwXJsDd74M"
      },
      "outputs": [],
      "source": [
        "#  A function that returns the strings where the pattern is matched.\n",
        "# reg_exp: pattern as a regular expression. \n",
        "# my_text: list of strigs\n",
        "# return: list of string where the pattern is matched\n",
        "\n",
        "def grep(reg_exp, my_text):\n",
        "    "
      ]
    },
    {
      "cell_type": "markdown",
      "metadata": {
        "id": "j2sfIyqod74N"
      },
      "source": [
        "#### 1.2. Apply the grep() function:"
      ]
    },
    {
      "cell_type": "markdown",
      "metadata": {
        "id": "QTuGnOqAd74N"
      },
      "source": [
        "Some tests."
      ]
    },
    {
      "cell_type": "code",
      "execution_count": null,
      "metadata": {
        "colab": {
          "base_uri": "https://localhost:8080/"
        },
        "id": "wAH7oTAYd74O",
        "outputId": "60e228c2-b98f-46fe-807c-39587d84b624"
      },
      "outputs": [
        {
          "output_type": "execute_result",
          "data": {
            "text/plain": [
              "['I hate you']"
            ]
          },
          "metadata": {},
          "execution_count": 3
        }
      ],
      "source": [
        "grep('hate', ['I love you', 'I hate you', 'I like you'])"
      ]
    },
    {
      "cell_type": "code",
      "execution_count": null,
      "metadata": {
        "colab": {
          "base_uri": "https://localhost:8080/"
        },
        "id": "G3HrjT5xd74O",
        "outputId": "55f6313b-a674-4316-be15-8bf47897e6f6"
      },
      "outputs": [
        {
          "output_type": "execute_result",
          "data": {
            "text/plain": [
              "['1000 that is!']"
            ]
          },
          "metadata": {},
          "execution_count": 4
        }
      ],
      "source": [
        "grep(\"^[0-9]\", [\"1000 that is!\", \"you are the number 212\", \"my age is 21\"])"
      ]
    },
    {
      "cell_type": "code",
      "execution_count": null,
      "metadata": {
        "colab": {
          "base_uri": "https://localhost:8080/"
        },
        "id": "rkRhnQJwd74P",
        "outputId": "0595fc18-166d-487e-9d51-21ff8f76efdb"
      },
      "outputs": [
        {
          "output_type": "execute_result",
          "data": {
            "text/plain": [
              "['Cat purrrs']"
            ]
          },
          "metadata": {},
          "execution_count": 8
        }
      ],
      "source": [
        "grep(\"r{3}.\", [\"Dog barks\", \"Cat purrrs\", \"Brroong\"])"
      ]
    },
    {
      "cell_type": "markdown",
      "metadata": {
        "id": "k6pITgQwd74P"
      },
      "source": [
        "Search the book \"Crime and Punishment\"."
      ]
    },
    {
      "cell_type": "code",
      "execution_count": null,
      "metadata": {
        "id": "B8DR-fedd74P"
      },
      "outputs": [],
      "source": [
        "grep(\"^This\",book)            # Sentences that begin with \"This\""
      ]
    },
    {
      "cell_type": "code",
      "execution_count": null,
      "metadata": {
        "id": "Hoeu8NJrd74Q"
      },
      "outputs": [],
      "source": [
        "grep(\"end[.]$\",book)          # Sentences that end with \"end.\""
      ]
    },
    {
      "cell_type": "code",
      "execution_count": null,
      "metadata": {
        "id": "1qS9_Ebtd74Q"
      },
      "outputs": [],
      "source": [
        "grep(\"^[Ii]\",book)            # Sentences that begin with 'I' or 'i'"
      ]
    },
    {
      "cell_type": "code",
      "execution_count": null,
      "metadata": {
        "id": "x0oTFlzrd74Q"
      },
      "outputs": [],
      "source": [
        "grep(\"^[0-9]\",book)           # Sentences that begin with a number."
      ]
    },
    {
      "cell_type": "code",
      "execution_count": null,
      "metadata": {
        "id": "xiVtEXlTd74Q"
      },
      "outputs": [],
      "source": [
        "grep(\"b.d\",book)              # Sentences with the pattern 'b.d'"
      ]
    },
    {
      "cell_type": "code",
      "execution_count": null,
      "metadata": {
        "id": "sk_Yji2Fd74R"
      },
      "outputs": [],
      "source": [
        "grep(\"b...d\",book)            # Sentences with the pattern 'b...d'"
      ]
    },
    {
      "cell_type": "code",
      "execution_count": null,
      "metadata": {
        "id": "GAP41Txzd74R"
      },
      "outputs": [],
      "source": [
        "grep(\"r?ed\",book)             # Sentences with 'ed' or 'red'"
      ]
    },
    {
      "cell_type": "code",
      "execution_count": null,
      "metadata": {
        "id": "TrGWhPi2d74R"
      },
      "outputs": [],
      "source": [
        "grep(\"love|hate\",book)        # Sentences with \"love\" or \"hate\"."
      ]
    },
    {
      "cell_type": "code",
      "execution_count": null,
      "metadata": {
        "id": "TfbIkY4kd74R"
      },
      "outputs": [],
      "source": [
        "100*len(grep(\"crime|punishment\",book))/len(book)        # Percentage of the sentences with \"crime\" or \"punishment\"."
      ]
    }
  ],
  "metadata": {
    "kernelspec": {
      "display_name": "Python 3",
      "language": "python",
      "name": "python3"
    },
    "language_info": {
      "codemirror_mode": {
        "name": "ipython",
        "version": 3
      },
      "file_extension": ".py",
      "mimetype": "text/x-python",
      "name": "python",
      "nbconvert_exporter": "python",
      "pygments_lexer": "ipython3",
      "version": "3.8.8"
    },
    "colab": {
      "provenance": []
    }
  },
  "nbformat": 4,
  "nbformat_minor": 0
}