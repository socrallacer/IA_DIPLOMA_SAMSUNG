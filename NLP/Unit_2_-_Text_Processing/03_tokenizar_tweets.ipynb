{
  "cells": [
    {
      "cell_type": "markdown",
      "source": [
        "# Extracción y tratamiento de datos en redes sociales con Python. \n",
        "## A. Molina 2022 - Universidad Politécnica de Valencia (amolina@upv.es)"
      ],
      "metadata": {
        "id": "Z5SKX2erIbT1"
      }
    },
    {
      "cell_type": "markdown",
      "metadata": {
        "id": "sj3qyTnmjGE2"
      },
      "source": [
        "# 1. Texto normativo"
      ]
    },
    {
      "cell_type": "code",
      "execution_count": 3,
      "metadata": {
        "id": "hVuttaAcjGE4",
        "colab": {
          "base_uri": "https://localhost:8080/"
        },
        "outputId": "0a389ade-5e25-4f9a-c7c6-0ce3a5a9c1eb"
      },
      "outputs": [
        {
          "output_type": "stream",
          "name": "stdout",
          "text": [
            "Pepe, Ana y Pedro juegan en el parque con sus amigos.\n"
          ]
        }
      ],
      "source": [
        "text = \"Pepe, Ana y Pedro juegan en el parque con sus amigos.\"\n",
        "print(text)"
      ]
    },
    {
      "cell_type": "markdown",
      "metadata": {
        "id": "vjx-XtWrjGE6"
      },
      "source": [
        "## 1.1 El tokenizador más simple"
      ]
    },
    {
      "cell_type": "code",
      "execution_count": 4,
      "metadata": {
        "id": "tKLPSq8WjGE6",
        "colab": {
          "base_uri": "https://localhost:8080/"
        },
        "outputId": "1e5d1a7a-a48a-48fa-f918-6cb5561498cd"
      },
      "outputs": [
        {
          "output_type": "stream",
          "name": "stdout",
          "text": [
            "['Pepe,', 'Ana', 'y', 'Pedro', 'juegan', 'en', 'el', 'parque', 'con', 'sus', 'amigos.']\n"
          ]
        }
      ],
      "source": [
        "tokens = text.split()\n",
        "print(tokens)"
      ]
    },
    {
      "cell_type": "markdown",
      "metadata": {
        "id": "pG-IelhIjGE7"
      },
      "source": [
        "## 1.2 Tokenizador por expresiones regulares"
      ]
    },
    {
      "cell_type": "code",
      "execution_count": 5,
      "metadata": {
        "id": "B2wwsoK2jGE7",
        "colab": {
          "base_uri": "https://localhost:8080/"
        },
        "outputId": "b9c72fa6-b6af-4a2e-d656-3a1699d3b9e4"
      },
      "outputs": [
        {
          "output_type": "stream",
          "name": "stdout",
          "text": [
            "-> Pepe, Ana y Pedro juegan en el parque con sus amigos.\n",
            "-> pepe ana y pedro juegan en el parque con sus amigos \n",
            "\n",
            "['pepe', 'ana', 'y', 'pedro', 'juegan', 'en', 'el', 'parque', 'con', 'sus', 'amigos']\n"
          ]
        }
      ],
      "source": [
        "import re\n",
        "\n",
        "#r = re.compile('\\W')\n",
        "#text2 = r.sub(' ', text)\n",
        "text2 = re.sub('\\W+', ' ', text.lower())\n",
        "tokens2 = text2.split()\n",
        "print('->', text)\n",
        "print('->', text2)\n",
        "print()\n",
        "print(tokens2)"
      ]
    },
    {
      "cell_type": "markdown",
      "metadata": {
        "id": "UgH7flOPjGE7"
      },
      "source": [
        "# 2. Texto no normativo (Twitter)"
      ]
    },
    {
      "cell_type": "code",
      "execution_count": 6,
      "metadata": {
        "id": "b64vjU3OjGE8",
        "colab": {
          "base_uri": "https://localhost:8080/"
        },
        "outputId": "b57d7c39-d64d-4e27-b9a1-563304feb3aa"
      },
      "outputs": [
        {
          "output_type": "stream",
          "name": "stdout",
          "text": [
            "@pepe: yoooooooo 😂😻😍SOY el #mejor y tú no :-))))!!!! lol!. 🙂😍 http://www.micasa.com, tucasa.org/comedor/sillon.html\n"
          ]
        }
      ],
      "source": [
        "tweet = \"@pepe: yoooooooo 😂😻😍SOY el #mejor y tú no :-))))!!!! lol!. 🙂😍 http://www.micasa.com, tucasa.org/comedor/sillon.html\"\n",
        "print(tweet)"
      ]
    },
    {
      "cell_type": "markdown",
      "metadata": {
        "id": "t8-F0kXujGE8"
      },
      "source": [
        "## 2.1 El tokenizador más simple\n"
      ]
    },
    {
      "cell_type": "code",
      "execution_count": 7,
      "metadata": {
        "id": "eL6pV-CfjGE8",
        "colab": {
          "base_uri": "https://localhost:8080/"
        },
        "outputId": "8d5b3b6a-3973-4337-cd84-5a50874796a5"
      },
      "outputs": [
        {
          "output_type": "stream",
          "name": "stdout",
          "text": [
            "['@pepe:', 'yoooooooo', '😂😻😍SOY', 'el', '#mejor', 'y', 'tú', 'no', ':-))))!!!!', 'lol!.', '🙂😍', 'http://www.micasa.com,', 'tucasa.org/comedor/sillon.html']\n"
          ]
        }
      ],
      "source": [
        "tokens = tweet.split()\n",
        "print(tokens)"
      ]
    },
    {
      "cell_type": "markdown",
      "metadata": {
        "id": "BhQAchHBjGE9"
      },
      "source": [
        "## 2.2 Tokenizador por expresiones regulares"
      ]
    },
    {
      "cell_type": "code",
      "execution_count": 8,
      "metadata": {
        "id": "_O5FAScvjGE9",
        "colab": {
          "base_uri": "https://localhost:8080/"
        },
        "outputId": "a2129521-3ab8-403a-c0b3-6d58dfe7a15e"
      },
      "outputs": [
        {
          "output_type": "stream",
          "name": "stdout",
          "text": [
            "-> @pepe: yoooooooo 😂😻😍SOY el #mejor y tú no :-))))!!!! lol!. 🙂😍 http://www.micasa.com, tucasa.org/comedor/sillon.html\n",
            "->  pepe yoooooooo SOY el mejor y tú no lol http www micasa com tucasa org comedor sillon html\n",
            "\n",
            "['pepe', 'yoooooooo', 'SOY', 'el', 'mejor', 'y', 'tú', 'no', 'lol', 'http', 'www', 'micasa', 'com', 'tucasa', 'org', 'comedor', 'sillon', 'html']\n"
          ]
        }
      ],
      "source": [
        "import re\n",
        "\n",
        "#r = re.compile('\\W')\n",
        "#text2 = r.sub(' ', text)\n",
        "text2 = re.sub('\\W+', ' ', tweet)\n",
        "tokens2 = text2.split()\n",
        "print('->', tweet)\n",
        "print('->', text2)\n",
        "print()\n",
        "print(tokens2)"
      ]
    },
    {
      "cell_type": "markdown",
      "metadata": {
        "id": "zw4c_-ITjGE9"
      },
      "source": [
        "## 2.3 El tokenizador para tweets del NLTK: TweetTokenizer"
      ]
    },
    {
      "cell_type": "code",
      "execution_count": 9,
      "metadata": {
        "id": "FQO2ZFS4jGE9"
      },
      "outputs": [],
      "source": [
        "import nltk.tokenize\n",
        "#dir(nltk.tokenize)"
      ]
    },
    {
      "cell_type": "code",
      "execution_count": 10,
      "metadata": {
        "id": "tUcMz6QLjGE-"
      },
      "outputs": [],
      "source": [
        "from nltk.tokenize import TweetTokenizer\n",
        "#help(TweetTokenizer)"
      ]
    },
    {
      "cell_type": "code",
      "execution_count": 11,
      "metadata": {
        "id": "sBa3sXgZjGE-",
        "colab": {
          "base_uri": "https://localhost:8080/"
        },
        "outputId": "0c38116f-4f5c-4e60-9225-0be3ee2f9754"
      },
      "outputs": [
        {
          "output_type": "stream",
          "name": "stdout",
          "text": [
            "-> @pepe: yoooooooo 😂😻😍SOY el #mejor y tú no :-))))!!!! lol!. 🙂😍 http://www.micasa.com, tucasa.org/comedor/sillon.html\n",
            "\n",
            "['@pepe', ':', 'yoooooooo', '😂', '😻', '😍', 'SOY', 'el', '#mejor', 'y', 'tú', 'no', ':-)', ')', ')', '!', '!', '!', 'lol', '!', '.', '🙂', '😍', 'http://www.micasa.com', ',', 'tucasa.org/comedor/sillon.html']\n"
          ]
        }
      ],
      "source": [
        "#TweetTokenizer(self, preserve_case=True, reduce_len=False, strip_handles=False)\n",
        "\n",
        "tknzr = TweetTokenizer()\n",
        "tokens3 = tknzr.tokenize(tweet)\n",
        "\n",
        "print('->', tweet)\n",
        "print()\n",
        "print(tokens3)"
      ]
    },
    {
      "cell_type": "code",
      "execution_count": 12,
      "metadata": {
        "id": "y9QQnTv4jGE-",
        "colab": {
          "base_uri": "https://localhost:8080/"
        },
        "outputId": "cf1ff47d-0214-4d5e-950b-cb126f34f0b4"
      },
      "outputs": [
        {
          "output_type": "stream",
          "name": "stdout",
          "text": [
            "-> @pepe: yoooooooo 😂😻😍SOY el #mejor y tú no :-))))!!!! lol!. 🙂😍 http://www.micasa.com, tucasa.org/comedor/sillon.html\n",
            "\n",
            "[':', 'yoooooooo', '😂', '😻', '😍', 'SOY', 'el', '#mejor', 'y', 'tú', 'no', ':-)', ')', ')', '!', '!', '!', 'lol', '!', '.', '🙂', '😍', 'http://www.micasa.com', ',', 'tucasa.org/comedor/sillon.html']\n"
          ]
        }
      ],
      "source": [
        "#TweetTokenizer(self, preserve_case=True, reduce_len=False, strip_handles=False)\n",
        "\n",
        "tknzr = TweetTokenizer(strip_handles=True) # elimina mencion usuarios\n",
        "tokens3 = tknzr.tokenize(tweet)\n",
        "\n",
        "print('->', tweet)\n",
        "print()\n",
        "print(tokens3)"
      ]
    },
    {
      "cell_type": "code",
      "execution_count": 13,
      "metadata": {
        "id": "0UXYfQtijGE-",
        "colab": {
          "base_uri": "https://localhost:8080/"
        },
        "outputId": "9a46349a-6081-4210-f59c-2297999b0bce"
      },
      "outputs": [
        {
          "output_type": "stream",
          "name": "stdout",
          "text": [
            "-> @pepe: yoooooooo 😂😻😍SOY el #mejor y tú no :-))))!!!! lol!. 🙂😍 http://www.micasa.com, tucasa.org/comedor/sillon.html\n",
            "\n",
            "['@pepe', ':', 'yooo', '😂', '😻', '😍', 'SOY', 'el', '#mejor', 'y', 'tú', 'no', ':-)', ')', ')', '!', '!', '!', 'lol', '!', '.', '🙂', '😍', 'http://www.micasa.com', ',', 'tucasa.org/comedor/sillon.html']\n"
          ]
        }
      ],
      "source": [
        "#TweetTokenizer(self, preserve_case=True, reduce_len=False, strip_handles=False)\n",
        "\n",
        "tknzr = TweetTokenizer(reduce_len=True) # elimina mas de 3 letras\n",
        "tokens3 = tknzr.tokenize(tweet)\n",
        "\n",
        "print('->', tweet)\n",
        "print()\n",
        "print(tokens3)"
      ]
    },
    {
      "cell_type": "code",
      "execution_count": 14,
      "metadata": {
        "id": "hX4y4A2UjGE_",
        "colab": {
          "base_uri": "https://localhost:8080/"
        },
        "outputId": "989fb160-908b-4955-a538-10569a2c7827"
      },
      "outputs": [
        {
          "output_type": "stream",
          "name": "stdout",
          "text": [
            "-> @pepe: yoooooooo 😂😻😍SOY el #mejor y tú no :-))))!!!! lol!. 🙂😍 http://www.micasa.com, tucasa.org/comedor/sillon.html\n",
            "\n",
            "['@pepe', ':', 'yoooooooo', '😂', '😻', '😍', 'soy', 'el', '#mejor', 'y', 'tú', 'no', ':-)', ')', ')', '!', '!', '!', 'lol', '!', '.', '🙂', '😍', 'http://www.micasa.com', ',', 'tucasa.org/comedor/sillon.html']\n"
          ]
        }
      ],
      "source": [
        "#TweetTokenizer(self, preserve_case=True, reduce_len=False, strip_handles=False)\n",
        "\n",
        "tknzr = TweetTokenizer(preserve_case=False) # pasa a minusculas\n",
        "tokens3 = tknzr.tokenize(tweet)\n",
        "\n",
        "print('->', tweet)\n",
        "print()\n",
        "print(tokens3)"
      ]
    },
    {
      "cell_type": "code",
      "source": [
        "tknzr = TweetTokenizer(preserve_case=False, reduce_len=True, strip_handles=True)\n",
        "tokens3 = tknzr.tokenize(tweet)\n",
        "print('->', tweet)\n",
        "print()\n",
        "print(tokens3)"
      ],
      "metadata": {
        "id": "M41IhhxkLCjp",
        "colab": {
          "base_uri": "https://localhost:8080/"
        },
        "outputId": "06b61e6c-e36e-406e-8c71-a71659b79f81"
      },
      "execution_count": 21,
      "outputs": [
        {
          "output_type": "stream",
          "name": "stdout",
          "text": [
            "-> @pepe: yoooooooo 😂😻😍SOY el #mejor y tú no :-))))!!!! lol!. 🙂😍 http://www.micasa.com, tucasa.org/comedor/sillon.html\n",
            "\n",
            "[':', 'yooo', '😂', '😻', '😍', 'soy', 'el', '#mejor', 'y', 'tú', 'no', ':-)', ')', ')', '!', '!', '!', 'lol', '!', '.', '🙂', '😍', 'http://www.micasa.com', ',', 'tucasa.org/comedor/sillon.html']\n"
          ]
        }
      ]
    },
    {
      "cell_type": "markdown",
      "metadata": {
        "id": "p5I-9pscjGE_"
      },
      "source": [
        "# Tweeter-text-parser y Emoji\n",
        "\n",
        "https://twitter-text-python.readthedocs.io/en/latest/#\n",
        "\n",
        "https://github.com/carpedm20/emoji/"
      ]
    },
    {
      "cell_type": "code",
      "execution_count": 16,
      "metadata": {
        "id": "uju9szoUjGE_",
        "colab": {
          "base_uri": "https://localhost:8080/"
        },
        "outputId": "e88b6f3a-befc-41f0-adf9-55143142e612"
      },
      "outputs": [
        {
          "output_type": "stream",
          "name": "stdout",
          "text": [
            "Looking in indexes: https://pypi.org/simple, https://us-python.pkg.dev/colab-wheels/public/simple/\n",
            "Collecting twitter-text-parser\n",
            "  Downloading twitter_text_parser-3.0.0-py3-none-any.whl (69 kB)\n",
            "\u001b[?25l     \u001b[90m━━━━━━━━━━━━━━━━━━━━━━━━━━━━━━━━━━━━━━━━\u001b[0m \u001b[32m0.0/69.9 kB\u001b[0m \u001b[31m?\u001b[0m eta \u001b[36m-:--:--\u001b[0m\r\u001b[2K     \u001b[90m━━━━━━━━━━━━━━━━━━━━━━━━━━━━━━━━━━━━━━━━\u001b[0m \u001b[32m69.9/69.9 kB\u001b[0m \u001b[31m3.6 MB/s\u001b[0m eta \u001b[36m0:00:00\u001b[0m\n",
            "\u001b[?25hInstalling collected packages: twitter-text-parser\n",
            "Successfully installed twitter-text-parser-3.0.0\n",
            "Looking in indexes: https://pypi.org/simple, https://us-python.pkg.dev/colab-wheels/public/simple/\n",
            "Collecting emoji\n",
            "  Downloading emoji-2.5.0.tar.gz (355 kB)\n",
            "\u001b[2K     \u001b[90m━━━━━━━━━━━━━━━━━━━━━━━━━━━━━━━━━━━━━━━\u001b[0m \u001b[32m355.8/355.8 kB\u001b[0m \u001b[31m8.0 MB/s\u001b[0m eta \u001b[36m0:00:00\u001b[0m\n",
            "\u001b[?25h  Preparing metadata (setup.py) ... \u001b[?25l\u001b[?25hdone\n",
            "Building wheels for collected packages: emoji\n",
            "  Building wheel for emoji (setup.py) ... \u001b[?25l\u001b[?25hdone\n",
            "  Created wheel for emoji: filename=emoji-2.5.0-py2.py3-none-any.whl size=351211 sha256=190e88233a6e9962259bbe3d33f15322f1ae55c44a1b228fd9f3abc997995b38\n",
            "  Stored in directory: /root/.cache/pip/wheels/2a/0c/2c/07b5af72b120503fe24590691d24c462a25e5e530db8700a96\n",
            "Successfully built emoji\n",
            "Installing collected packages: emoji\n",
            "Successfully installed emoji-2.5.0\n"
          ]
        }
      ],
      "source": [
        "!pip install twitter-text-parser\n",
        "!pip install emoji --upgrade\n",
        "\n",
        "import twitter_text as twt\n",
        "import emoji\n",
        "#help(twt)"
      ]
    },
    {
      "cell_type": "code",
      "execution_count": 17,
      "metadata": {
        "id": "7ACntN-ajGE_",
        "colab": {
          "base_uri": "https://localhost:8080/"
        },
        "outputId": "174ec65a-49b4-40c5-c9fb-d5e43f6bb03e"
      },
      "outputs": [
        {
          "output_type": "stream",
          "name": "stdout",
          "text": [
            "-> @pepe: yoooooooo 😂😻😍SOY el #mejor y tú no :-))))!!!! lol!. 🙂😍 http://www.micasa.com, tucasa.org/comedor/sillon.html\n",
            "\n",
            "@pepe: yoooooooo :cara_llorando_de_risa::gato_sonriendo_con_ojos_de_corazón::cara_sonriendo_con_ojos_de_corazón:SOY el #mejor y tú no :-))))!!!! lol!. :cara_sonriendo_ligeramente::cara_sonriendo_con_ojos_de_corazón: http://www.micasa.com, tucasa.org/comedor/sillon.html\n"
          ]
        }
      ],
      "source": [
        "# interpretando emojis\n",
        "\n",
        "print('->', tweet)\n",
        "print()\n",
        "print(emoji.demojize(tweet, language='es'))"
      ]
    },
    {
      "cell_type": "code",
      "execution_count": 18,
      "metadata": {
        "id": "UVNo7yS2jGFA",
        "colab": {
          "base_uri": "https://localhost:8080/"
        },
        "outputId": "6609074f-aadf-46e8-a8f2-25db76763e43"
      },
      "outputs": [
        {
          "output_type": "stream",
          "name": "stdout",
          "text": [
            "-> @pepe: yoooooooo 😂😻😍SOY el #mejor y tú no :-))))!!!! lol!. 🙂😍 http://www.micasa.com, tucasa.org/comedor/sillon.html\n",
            "\n",
            "['http://www.micasa.com', 'tucasa.org/comedor/sillon.html']\n",
            "[{'url': 'http://www.micasa.com', 'indices': [62, 83]}, {'url': 'tucasa.org/comedor/sillon.html', 'indices': [85, 115]}]\n",
            "[{'emoji': '😂', 'indices': [17, 18]}, {'emoji': '😻', 'indices': [18, 19]}, {'emoji': '😍', 'indices': [19, 20]}, {'emoji': '🙂', 'indices': [59, 60]}, {'emoji': '😍', 'indices': [60, 61]}]\n",
            "==========\n",
            "{'emoji': '😂', 'indices': [17, 18]}\n",
            ":cara_llorando_de_risa:\n",
            "--\n",
            "{'emoji': '😻', 'indices': [18, 19]}\n",
            ":gato_sonriendo_con_ojos_de_corazón:\n",
            "--\n",
            "{'emoji': '😍', 'indices': [19, 20]}\n",
            ":cara_sonriendo_con_ojos_de_corazón:\n",
            "--\n",
            "{'emoji': '🙂', 'indices': [59, 60]}\n",
            ":cara_sonriendo_ligeramente:\n",
            "--\n",
            "{'emoji': '😍', 'indices': [60, 61]}\n",
            ":cara_sonriendo_con_ojos_de_corazón:\n",
            "--\n"
          ]
        }
      ],
      "source": [
        "# extraer urls y emojis\n",
        "\n",
        "print('->', tweet)\n",
        "print()\n",
        "print(twt.extract_urls(tweet, extract_urls_without_protocol = True))\n",
        "print(twt.extract_urls_with_indices(tweet))\n",
        "print(twt.extract_emojis_with_indices(tweet))\n",
        "print(\"==========\")\n",
        "emos = twt.extract_emojis_with_indices(tweet)\n",
        "for emo in emos:\n",
        "    print(emo)\n",
        "    print(emoji.demojize(emo['emoji'], language=\"es\"))\n",
        "    print('--')"
      ]
    },
    {
      "cell_type": "markdown",
      "metadata": {
        "id": "RWpikt9_jGFA"
      },
      "source": [
        "## EJERCICIO\n",
        "\n",
        "Crea una función *mi_tokenizador()* que tokenice el texto de entrada  eliminando emojis, urls, menciones, repeticiones y símbolos de puntuación. \n",
        "*texto_tokenizado = mi_tokenizador(texto)*"
      ]
    },
    {
      "cell_type": "code",
      "execution_count": 39,
      "metadata": {
        "id": "A1RBPvMZjGFA"
      },
      "outputs": [],
      "source": [
        "# mi_tokenizador(texto) devuelve la lista de 'tokens' eliminando emojis, urls, menciones, repeticiones y símbolos de puntuación\n",
        "# utilice: TweetTokenizer, Tweeter-text-parser y Emoji \n",
        "def mi_tokenizador(texto):\n",
        "  \n",
        " #escribe aquí tu código\n",
        "\n",
        "  return tokens"
      ]
    },
    {
      "cell_type": "code",
      "source": [
        "tweet = \"@pepe: yoooooooo 😂😻😍SOY el #mejor y tú no :-))))!!!! lol!. 🙂😍 http://www.micasa.com, tucasa.org/comedor/sillon.html\"\n",
        "print('->', tweet)\n",
        "print()\n",
        "print('->',mi_tokenizador(tweet))"
      ],
      "metadata": {
        "id": "RXznE2hbIrKZ",
        "colab": {
          "base_uri": "https://localhost:8080/"
        },
        "outputId": "3919bb9e-3ff7-4c12-f3bc-cb5beb0a72d2"
      },
      "execution_count": 40,
      "outputs": [
        {
          "output_type": "stream",
          "name": "stdout",
          "text": [
            "-> @pepe: yoooooooo 😂😻😍SOY el #mejor y tú no :-))))!!!! lol!. 🙂😍 http://www.micasa.com, tucasa.org/comedor/sillon.html\n",
            "\n",
            "-> ['yooo', 'soy', 'el', 'mejor', 'y', 'tú', 'no', 'lol']\n"
          ]
        }
      ]
    },
    {
      "cell_type": "code",
      "source": [],
      "metadata": {
        "id": "Gp89qllSlePr"
      },
      "execution_count": null,
      "outputs": []
    }
  ],
  "metadata": {
    "kernelspec": {
      "display_name": "Python 3",
      "language": "python",
      "name": "python3"
    },
    "language_info": {
      "codemirror_mode": {
        "name": "ipython",
        "version": 3
      },
      "file_extension": ".py",
      "mimetype": "text/x-python",
      "name": "python",
      "nbconvert_exporter": "python",
      "pygments_lexer": "ipython3",
      "version": "3.7.4"
    },
    "colab": {
      "provenance": []
    }
  },
  "nbformat": 4,
  "nbformat_minor": 0
}