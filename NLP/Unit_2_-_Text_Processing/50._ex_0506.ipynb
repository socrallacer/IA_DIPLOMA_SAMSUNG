{
  "cells": [
    {
      "cell_type": "markdown",
      "metadata": {
        "id": "f-8dsGypxCNT"
      },
      "source": [
        "## Coding Exercise #0506"
      ]
    },
    {
      "cell_type": "code",
      "execution_count": null,
      "metadata": {
        "id": "ZewnVp53xCNW"
      },
      "outputs": [],
      "source": [
        "# Install NLTK once.\n",
        "# !pip install nltk"
      ]
    },
    {
      "cell_type": "code",
      "execution_count": 1,
      "metadata": {
        "id": "G_0Y7sYCxCNY"
      },
      "outputs": [],
      "source": [
        "import nltk"
      ]
    },
    {
      "cell_type": "code",
      "execution_count": 2,
      "metadata": {
        "colab": {
          "base_uri": "https://localhost:8080/"
        },
        "id": "-5izB2uzxCNZ",
        "outputId": "1f039649-e168-4855-d30e-346c3bf7be59"
      },
      "outputs": [
        {
          "output_type": "stream",
          "name": "stderr",
          "text": [
            "[nltk_data] Downloading package punkt to /root/nltk_data...\n",
            "[nltk_data]   Unzipping tokenizers/punkt.zip.\n",
            "[nltk_data] Downloading package wordnet to /root/nltk_data...\n",
            "[nltk_data] Downloading package omw-1.4 to /root/nltk_data...\n"
          ]
        },
        {
          "output_type": "execute_result",
          "data": {
            "text/plain": [
              "True"
            ]
          },
          "metadata": {},
          "execution_count": 2
        }
      ],
      "source": [
        "# You should download the NLTK data once.\n",
        "# It can be a bit time consuming.\n",
        "# nltk.download()\n",
        "nltk.download('punkt')\n",
        "nltk.download('wordnet')\n",
        "nltk.download('omw-1.4')"
      ]
    },
    {
      "cell_type": "markdown",
      "metadata": {
        "id": "HvAHBd7sxCNZ"
      },
      "source": [
        "### 1. About the NLTK library:"
      ]
    },
    {
      "cell_type": "code",
      "execution_count": 52,
      "metadata": {
        "id": "mXvU3CsTxCNa"
      },
      "outputs": [],
      "source": [
        "#\n",
        "#  From the US president B. Obama's Nov-4th-2008 speech. \n",
        "#\n",
        "\n",
        "paragraph = \"\"\"Dr. House is crazy. If there is anyone out there who still doubts that America is a place where all things are possible; who still wonders if the dream of our founders is alive in our time; who still questions the power of our democracy: Tonight is your answer.\n",
        "It's the answer told by lines that stretched around schools and churches in numbers this nation has never seen; by people who waited three hours and four hours, many for the very first time in their lives, because they believed that this time must be different; that their voices could be that difference. \n",
        "It's the answer spoken by young and old, rich and poor, Democrat and Republican, black, white, Hispanic, Asian, Native American, gay, straight, disabled and not disabled -- Americans who sent a message to the world that we have never been just a collection of individuals or a collection of Red States and Blue States: we are, and always will be, the United States of America!\n",
        "It's the answer that -- that led those who have been told for so long by so many to be cynical, and fearful, and doubtful about what we can achieve to put their hands on the arc of history and bend it once more toward the hope of a better day.\n",
        "It's been a long time coming, but tonight, because of what we did on this day, in this election, at this defining moment, change has come to America.\n",
        "A little bit earlier this evening, I received an extraordinarily gracious call from Senator McCain. Senator McCain fought long and hard in this campaign, and he's fought even longer and harder for the country that he loves. He has endured sacrifices for America that most of us cannot begin to imagine. We are better off for the service rendered by this brave and selfless leader. I congratulate him; I congratulate Governor Palin for all that they've achieved, and I look forward to working with them to renew this nation's promise in the months ahead.\n",
        "I want to thank my partner in this journey, a man who campaigned from his heart and spoke for the men and women he grew up with on the streets of Scranton and rode with on the train home to Delaware, the Vice President-elect of the United States, Joe Biden. \"\"\"                  "
      ]
    },
    {
      "cell_type": "markdown",
      "metadata": {
        "id": "Q0gEhsp0xCNb"
      },
      "source": [
        "#### 1.1. Tokenization: "
      ]
    },
    {
      "cell_type": "code",
      "execution_count": 53,
      "metadata": {
        "colab": {
          "base_uri": "https://localhost:8080/"
        },
        "id": "LPeuF3tIxCNb",
        "outputId": "03a35d72-f47a-40bb-eaa1-9f0945ef40d5"
      },
      "outputs": [
        {
          "output_type": "stream",
          "name": "stdout",
          "text": [
            "Dr. House is crazy.\n",
            "If there is anyone out there who still doubts that America is a place where all things are possible; who still wonders if the dream of our founders is alive in our time; who still questions the power of our democracy: Tonight is your answer.\n",
            "It's the answer told by lines that stretched around schools and churches in numbers this nation has never seen; by people who waited three hours and four hours, many for the very first time in their lives, because they believed that this time must be different; that their voices could be that difference.\n",
            "It's the answer spoken by young and old, rich and poor, Democrat and Republican, black, white, Hispanic, Asian, Native American, gay, straight, disabled and not disabled -- Americans who sent a message to the world that we have never been just a collection of individuals or a collection of Red States and Blue States: we are, and always will be, the United States of America!\n",
            "It's the answer that -- that led those who have been told for so long by so many to be cynical, and fearful, and doubtful about what we can achieve to put their hands on the arc of history and bend it once more toward the hope of a better day.\n",
            "It's been a long time coming, but tonight, because of what we did on this day, in this election, at this defining moment, change has come to America.\n",
            "A little bit earlier this evening, I received an extraordinarily gracious call from Senator McCain.\n",
            "Senator McCain fought long and hard in this campaign, and he's fought even longer and harder for the country that he loves.\n",
            "He has endured sacrifices for America that most of us cannot begin to imagine.\n",
            "We are better off for the service rendered by this brave and selfless leader.\n",
            "I congratulate him; I congratulate Governor Palin for all that they've achieved, and I look forward to working with them to renew this nation's promise in the months ahead.\n",
            "I want to thank my partner in this journey, a man who campaigned from his heart and spoke for the men and women he grew up with on the streets of Scranton and rode with on the train home to Delaware, the Vice President-elect of the United States, Joe Biden.\n"
          ]
        }
      ],
      "source": [
        "# Tokenize into sentences.\n",
        "sentences = nltk.sent_tokenize(paragraph)\n",
        "for s in sentences:\n",
        "  print(s)"
      ]
    },
    {
      "cell_type": "code",
      "execution_count": null,
      "metadata": {
        "colab": {
          "base_uri": "https://localhost:8080/"
        },
        "id": "U7WMRpdbxCNc",
        "outputId": "1c3babdb-28e7-4011-a21d-7d91b52acc18"
      },
      "outputs": [
        {
          "output_type": "stream",
          "name": "stdout",
          "text": [
            "['Dr.', 'House', 'is', 'crazy', '.', 'If', 'there', 'is', 'anyone', 'out', 'there', 'who', 'still', 'doubts', 'that', 'America', 'is', 'a', 'place', 'where', 'all', 'things', 'are', 'possible', ';', 'who', 'still', 'wonders', 'if', 'the', 'dream', 'of', 'our', 'founders', 'is', 'alive', 'in', 'our', 'time', ';', 'who', 'still', 'questions', 'the', 'power', 'of', 'our', 'democracy', ':', 'Tonight', 'is', 'your', 'answer', '.', 'It', \"'s\", 'the', 'answer', 'told', 'by', 'lines', 'that', 'stretched', 'around', 'schools', 'and', 'churches', 'in', 'numbers', 'this', 'nation', 'has', 'never', 'seen', ';', 'by', 'people', 'who', 'waited', 'three', 'hours', 'and', 'four', 'hours', ',', 'many', 'for', 'the', 'very', 'first', 'time', 'in', 'their', 'lives', ',', 'because', 'they', 'believed', 'that', 'this', 'time', 'must', 'be', 'different', ';', 'that', 'their', 'voices', 'could', 'be', 'that', 'difference', '.', 'It', \"'s\", 'the', 'answer', 'spoken', 'by', 'young', 'and', 'old', ',', 'rich', 'and', 'poor', ',', 'Democrat', 'and', 'Republican', ',', 'black', ',', 'white', ',', 'Hispanic', ',', 'Asian', ',', 'Native', 'American', ',', 'gay', ',', 'straight', ',', 'disabled', 'and', 'not', 'disabled', '--', 'Americans', 'who', 'sent', 'a', 'message', 'to', 'the', 'world', 'that', 'we', 'have', 'never', 'been', 'just', 'a', 'collection', 'of', 'individuals', 'or', 'a', 'collection', 'of', 'Red', 'States', 'and', 'Blue', 'States', ':', 'we', 'are', ',', 'and', 'always', 'will', 'be', ',', 'the', 'United', 'States', 'of', 'America', '!', 'It', \"'s\", 'the', 'answer', 'that', '--', 'that', 'led', 'those', 'who', 'have', 'been', 'told', 'for', 'so', 'long', 'by', 'so', 'many', 'to', 'be', 'cynical', ',', 'and', 'fearful', ',', 'and', 'doubtful', 'about', 'what', 'we', 'can', 'achieve', 'to', 'put', 'their', 'hands', 'on', 'the', 'arc', 'of', 'history', 'and', 'bend', 'it', 'once', 'more', 'toward', 'the', 'hope', 'of', 'a', 'better', 'day', '.', 'It', \"'s\", 'been', 'a', 'long', 'time', 'coming', ',', 'but', 'tonight', ',', 'because', 'of', 'what', 'we', 'did', 'on', 'this', 'day', ',', 'in', 'this', 'election', ',', 'at', 'this', 'defining', 'moment', ',', 'change', 'has', 'come', 'to', 'America', '.', 'A', 'little', 'bit', 'earlier', 'this', 'evening', ',', 'I', 'received', 'an', 'extraordinarily', 'gracious', 'call', 'from', 'Senator', 'McCain', '.', 'Senator', 'McCain', 'fought', 'long', 'and', 'hard', 'in', 'this', 'campaign', ',', 'and', 'he', \"'s\", 'fought', 'even', 'longer', 'and', 'harder', 'for', 'the', 'country', 'that', 'he', 'loves', '.', 'He', 'has', 'endured', 'sacrifices', 'for', 'America', 'that', 'most', 'of', 'us', 'can', 'not', 'begin', 'to', 'imagine', '.', 'We', 'are', 'better', 'off', 'for', 'the', 'service', 'rendered', 'by', 'this', 'brave', 'and', 'selfless', 'leader', '.', 'I', 'congratulate', 'him', ';', 'I', 'congratulate', 'Governor', 'Palin', 'for', 'all', 'that', 'they', \"'ve\", 'achieved', ',', 'and', 'I', 'look', 'forward', 'to', 'working', 'with', 'them', 'to', 'renew', 'this', 'nation', \"'s\", 'promise', 'in', 'the', 'months', 'ahead', '.', 'I', 'want', 'to', 'thank', 'my', 'partner', 'in', 'this', 'journey', ',', 'a', 'man', 'who', 'campaigned', 'from', 'his', 'heart', 'and', 'spoke', 'for', 'the', 'men', 'and', 'women', 'he', 'grew', 'up', 'with', 'on', 'the', 'streets', 'of', 'Scranton', 'and', 'rode', 'with', 'on', 'the', 'train', 'home', 'to', 'Delaware', ',', 'the', 'Vice', 'President-elect', 'of', 'the', 'United', 'States', ',', 'Joe', 'Biden', '.']\n"
          ]
        }
      ],
      "source": [
        "# Tokenize into words.\n",
        "words = nltk.word_tokenize(paragraph)\n",
        "print(words)"
      ]
    },
    {
      "cell_type": "code",
      "source": [
        "for s in sentences:\n",
        "  print(nltk.word_tokenize(s))"
      ],
      "metadata": {
        "colab": {
          "base_uri": "https://localhost:8080/"
        },
        "id": "_6L4Kv4IJ7V-",
        "outputId": "a6b76f4f-bb7e-4415-c593-23f702eee4d4"
      },
      "execution_count": null,
      "outputs": [
        {
          "output_type": "stream",
          "name": "stdout",
          "text": [
            "['Dr.', 'House', 'is', 'crazy', '.']\n",
            "['If', 'there', 'is', 'anyone', 'out', 'there', 'who', 'still', 'doubts', 'that', 'America', 'is', 'a', 'place', 'where', 'all', 'things', 'are', 'possible', ';', 'who', 'still', 'wonders', 'if', 'the', 'dream', 'of', 'our', 'founders', 'is', 'alive', 'in', 'our', 'time', ';', 'who', 'still', 'questions', 'the', 'power', 'of', 'our', 'democracy', ':', 'Tonight', 'is', 'your', 'answer', '.']\n",
            "['It', \"'s\", 'the', 'answer', 'told', 'by', 'lines', 'that', 'stretched', 'around', 'schools', 'and', 'churches', 'in', 'numbers', 'this', 'nation', 'has', 'never', 'seen', ';', 'by', 'people', 'who', 'waited', 'three', 'hours', 'and', 'four', 'hours', ',', 'many', 'for', 'the', 'very', 'first', 'time', 'in', 'their', 'lives', ',', 'because', 'they', 'believed', 'that', 'this', 'time', 'must', 'be', 'different', ';', 'that', 'their', 'voices', 'could', 'be', 'that', 'difference', '.']\n",
            "['It', \"'s\", 'the', 'answer', 'spoken', 'by', 'young', 'and', 'old', ',', 'rich', 'and', 'poor', ',', 'Democrat', 'and', 'Republican', ',', 'black', ',', 'white', ',', 'Hispanic', ',', 'Asian', ',', 'Native', 'American', ',', 'gay', ',', 'straight', ',', 'disabled', 'and', 'not', 'disabled', '--', 'Americans', 'who', 'sent', 'a', 'message', 'to', 'the', 'world', 'that', 'we', 'have', 'never', 'been', 'just', 'a', 'collection', 'of', 'individuals', 'or', 'a', 'collection', 'of', 'Red', 'States', 'and', 'Blue', 'States', ':', 'we', 'are', ',', 'and', 'always', 'will', 'be', ',', 'the', 'United', 'States', 'of', 'America', '!']\n",
            "['It', \"'s\", 'the', 'answer', 'that', '--', 'that', 'led', 'those', 'who', 'have', 'been', 'told', 'for', 'so', 'long', 'by', 'so', 'many', 'to', 'be', 'cynical', ',', 'and', 'fearful', ',', 'and', 'doubtful', 'about', 'what', 'we', 'can', 'achieve', 'to', 'put', 'their', 'hands', 'on', 'the', 'arc', 'of', 'history', 'and', 'bend', 'it', 'once', 'more', 'toward', 'the', 'hope', 'of', 'a', 'better', 'day', '.']\n",
            "['It', \"'s\", 'been', 'a', 'long', 'time', 'coming', ',', 'but', 'tonight', ',', 'because', 'of', 'what', 'we', 'did', 'on', 'this', 'day', ',', 'in', 'this', 'election', ',', 'at', 'this', 'defining', 'moment', ',', 'change', 'has', 'come', 'to', 'America', '.']\n",
            "['A', 'little', 'bit', 'earlier', 'this', 'evening', ',', 'I', 'received', 'an', 'extraordinarily', 'gracious', 'call', 'from', 'Senator', 'McCain', '.']\n",
            "['Senator', 'McCain', 'fought', 'long', 'and', 'hard', 'in', 'this', 'campaign', ',', 'and', 'he', \"'s\", 'fought', 'even', 'longer', 'and', 'harder', 'for', 'the', 'country', 'that', 'he', 'loves', '.']\n",
            "['He', 'has', 'endured', 'sacrifices', 'for', 'America', 'that', 'most', 'of', 'us', 'can', 'not', 'begin', 'to', 'imagine', '.']\n",
            "['We', 'are', 'better', 'off', 'for', 'the', 'service', 'rendered', 'by', 'this', 'brave', 'and', 'selfless', 'leader', '.']\n",
            "['I', 'congratulate', 'him', ';', 'I', 'congratulate', 'Governor', 'Palin', 'for', 'all', 'that', 'they', \"'ve\", 'achieved', ',', 'and', 'I', 'look', 'forward', 'to', 'working', 'with', 'them', 'to', 'renew', 'this', 'nation', \"'s\", 'promise', 'in', 'the', 'months', 'ahead', '.']\n",
            "['I', 'want', 'to', 'thank', 'my', 'partner', 'in', 'this', 'journey', ',', 'a', 'man', 'who', 'campaigned', 'from', 'his', 'heart', 'and', 'spoke', 'for', 'the', 'men', 'and', 'women', 'he', 'grew', 'up', 'with', 'on', 'the', 'streets', 'of', 'Scranton', 'and', 'rode', 'with', 'on', 'the', 'train', 'home', 'to', 'Delaware', ',', 'the', 'Vice', 'President-elect', 'of', 'the', 'United', 'States', ',', 'Joe', 'Biden', '.']\n"
          ]
        }
      ]
    },
    {
      "cell_type": "markdown",
      "source": [
        "#### 1.2. Stopwords:"
      ],
      "metadata": {
        "id": "5DFH-5n_Izo7"
      }
    },
    {
      "cell_type": "code",
      "source": [
        "from nltk.corpus import stopwords\n",
        "nltk.download('stopwords')\n",
        "\n",
        "#print(stopwords.words('english')[:10])\n",
        "print(stopwords.words('spanish'))\n",
        "print(len(stopwords.words('spanish')))"
      ],
      "metadata": {
        "colab": {
          "base_uri": "https://localhost:8080/"
        },
        "id": "5VN_fgPyI_6r",
        "outputId": "1db5b86c-bcf7-4076-bb83-b40f8fe2fbb1"
      },
      "execution_count": null,
      "outputs": [
        {
          "output_type": "stream",
          "name": "stdout",
          "text": [
            "['de', 'la', 'que', 'el', 'en', 'y', 'a', 'los', 'del', 'se', 'las', 'por', 'un', 'para', 'con', 'no', 'una', 'su', 'al', 'lo', 'como', 'más', 'pero', 'sus', 'le', 'ya', 'o', 'este', 'sí', 'porque', 'esta', 'entre', 'cuando', 'muy', 'sin', 'sobre', 'también', 'me', 'hasta', 'hay', 'donde', 'quien', 'desde', 'todo', 'nos', 'durante', 'todos', 'uno', 'les', 'ni', 'contra', 'otros', 'ese', 'eso', 'ante', 'ellos', 'e', 'esto', 'mí', 'antes', 'algunos', 'qué', 'unos', 'yo', 'otro', 'otras', 'otra', 'él', 'tanto', 'esa', 'estos', 'mucho', 'quienes', 'nada', 'muchos', 'cual', 'poco', 'ella', 'estar', 'estas', 'algunas', 'algo', 'nosotros', 'mi', 'mis', 'tú', 'te', 'ti', 'tu', 'tus', 'ellas', 'nosotras', 'vosotros', 'vosotras', 'os', 'mío', 'mía', 'míos', 'mías', 'tuyo', 'tuya', 'tuyos', 'tuyas', 'suyo', 'suya', 'suyos', 'suyas', 'nuestro', 'nuestra', 'nuestros', 'nuestras', 'vuestro', 'vuestra', 'vuestros', 'vuestras', 'esos', 'esas', 'estoy', 'estás', 'está', 'estamos', 'estáis', 'están', 'esté', 'estés', 'estemos', 'estéis', 'estén', 'estaré', 'estarás', 'estará', 'estaremos', 'estaréis', 'estarán', 'estaría', 'estarías', 'estaríamos', 'estaríais', 'estarían', 'estaba', 'estabas', 'estábamos', 'estabais', 'estaban', 'estuve', 'estuviste', 'estuvo', 'estuvimos', 'estuvisteis', 'estuvieron', 'estuviera', 'estuvieras', 'estuviéramos', 'estuvierais', 'estuvieran', 'estuviese', 'estuvieses', 'estuviésemos', 'estuvieseis', 'estuviesen', 'estando', 'estado', 'estada', 'estados', 'estadas', 'estad', 'he', 'has', 'ha', 'hemos', 'habéis', 'han', 'haya', 'hayas', 'hayamos', 'hayáis', 'hayan', 'habré', 'habrás', 'habrá', 'habremos', 'habréis', 'habrán', 'habría', 'habrías', 'habríamos', 'habríais', 'habrían', 'había', 'habías', 'habíamos', 'habíais', 'habían', 'hube', 'hubiste', 'hubo', 'hubimos', 'hubisteis', 'hubieron', 'hubiera', 'hubieras', 'hubiéramos', 'hubierais', 'hubieran', 'hubiese', 'hubieses', 'hubiésemos', 'hubieseis', 'hubiesen', 'habiendo', 'habido', 'habida', 'habidos', 'habidas', 'soy', 'eres', 'es', 'somos', 'sois', 'son', 'sea', 'seas', 'seamos', 'seáis', 'sean', 'seré', 'serás', 'será', 'seremos', 'seréis', 'serán', 'sería', 'serías', 'seríamos', 'seríais', 'serían', 'era', 'eras', 'éramos', 'erais', 'eran', 'fui', 'fuiste', 'fue', 'fuimos', 'fuisteis', 'fueron', 'fuera', 'fueras', 'fuéramos', 'fuerais', 'fueran', 'fuese', 'fueses', 'fuésemos', 'fueseis', 'fuesen', 'sintiendo', 'sentido', 'sentida', 'sentidos', 'sentidas', 'siente', 'sentid', 'tengo', 'tienes', 'tiene', 'tenemos', 'tenéis', 'tienen', 'tenga', 'tengas', 'tengamos', 'tengáis', 'tengan', 'tendré', 'tendrás', 'tendrá', 'tendremos', 'tendréis', 'tendrán', 'tendría', 'tendrías', 'tendríamos', 'tendríais', 'tendrían', 'tenía', 'tenías', 'teníamos', 'teníais', 'tenían', 'tuve', 'tuviste', 'tuvo', 'tuvimos', 'tuvisteis', 'tuvieron', 'tuviera', 'tuvieras', 'tuviéramos', 'tuvierais', 'tuvieran', 'tuviese', 'tuvieses', 'tuviésemos', 'tuvieseis', 'tuviesen', 'teniendo', 'tenido', 'tenida', 'tenidos', 'tenidas', 'tened']\n",
            "313\n"
          ]
        },
        {
          "output_type": "stream",
          "name": "stderr",
          "text": [
            "[nltk_data] Downloading package stopwords to /root/nltk_data...\n",
            "[nltk_data]   Unzipping corpora/stopwords.zip.\n"
          ]
        }
      ]
    },
    {
      "cell_type": "code",
      "source": [
        "from nltk.tokenize import word_tokenize\n",
        "\n",
        "example = \"Family is not an important thing. It's everthing.\"\n",
        "stop_words = set(stopwords.words('english'))\n",
        "\n",
        "word_tokens = word_tokenize(example)\n",
        "\n",
        "result =[w for w in word_tokens if w not in stop_words]\n",
        "\n",
        "print(word_tokens)\n",
        "print(result)"
      ],
      "metadata": {
        "colab": {
          "base_uri": "https://localhost:8080/"
        },
        "id": "889eWCZJJFoT",
        "outputId": "1c7b08d5-cb28-42bf-dd46-56c13781334b"
      },
      "execution_count": null,
      "outputs": [
        {
          "output_type": "stream",
          "name": "stdout",
          "text": [
            "['Family', 'is', 'not', 'an', 'important', 'thing', '.', 'It', \"'s\", 'everthing', '.']\n",
            "['Family', 'important', 'thing', '.', 'It', \"'s\", 'everthing', '.']\n"
          ]
        }
      ]
    },
    {
      "cell_type": "markdown",
      "metadata": {
        "id": "J-Li4-UaxCNd"
      },
      "source": [
        "#### 1.2. Stemming:"
      ]
    },
    {
      "cell_type": "code",
      "execution_count": 54,
      "metadata": {
        "id": "ey5YYCVRxCNd"
      },
      "outputs": [],
      "source": [
        "from nltk.stem import PorterStemmer, LancasterStemmer, SnowballStemmer\n",
        "# Pick one of the following stemmers.\n",
        "stemmer_sn = SnowballStemmer('english')\n",
        "stemmer_la = LancasterStemmer()\n",
        "stemmer_po = PorterStemmer()"
      ]
    },
    {
      "cell_type": "code",
      "execution_count": null,
      "metadata": {
        "id": "muGETNyzxCNd"
      },
      "outputs": [],
      "source": [
        "# Stemming.\n",
        "for i in range(len(sentences)):\n",
        "    words = nltk.word_tokenize(sentences[i])               # Tokenize into words.\n",
        "    words_p = [stemmer_po.stem(x) for x in words]               # Stemming. \n",
        "    sentences[i] = ' '.join(words) # Rejoin the words as a sentence."
      ]
    },
    {
      "cell_type": "code",
      "source": [
        "for s in sentences:\n",
        "  print(s)"
      ],
      "metadata": {
        "id": "xxlbHre5D0gf"
      },
      "execution_count": null,
      "outputs": []
    },
    {
      "cell_type": "code",
      "source": [
        "# Comparing stemmers\n",
        "\n",
        "stems_sn=[]\n",
        "stems_la=[]\n",
        "stems_po=[]\n",
        "for s in sentences:\n",
        "  words=nltk.word_tokenize(s)\n",
        "  stems_sn.append([stemmer_sn.stem(x) for x in words])\n",
        "  stems_la.append([stemmer_la.stem(x) for x in words])\n",
        "  stems_po.append([stemmer_po.stem(x) for x in words])"
      ],
      "metadata": {
        "id": "nESLISvkTKzq"
      },
      "execution_count": 66,
      "outputs": []
    },
    {
      "cell_type": "code",
      "source": [
        "print(sentences)\n",
        "print(len(sentences))\n",
        "for i in range(len(sentences)):\n",
        "  print(sentences[i])\n",
        "  print(\"Snowbo >>> \" + ' '.join(stems_sn[i]))\n",
        "  print(\"Lancas >>> \" + ' '.join(stems_la[i]))\n",
        "  print(\"Porter >>> \" + ' '.join(stems_po[i]))"
      ],
      "metadata": {
        "id": "L3dCKmWHcFhr"
      },
      "execution_count": null,
      "outputs": []
    },
    {
      "cell_type": "code",
      "source": [
        "def compare_lists(l1,l2):\n",
        "  if len(l1)!=len(l2):\n",
        "    return False\n",
        "  else:\n",
        "    for i in range(len(l1)):\n",
        "      if (l1[i]!=l2[i]):\n",
        "        return False\n",
        "  return True"
      ],
      "metadata": {
        "id": "UCzdHqmNUEi5"
      },
      "execution_count": 61,
      "outputs": []
    },
    {
      "cell_type": "code",
      "source": [
        "for i in range(len(sentences)):\n",
        "  print(sentences[i])\n",
        "  if not (compare_lists(stems_sn[i],stems_la[i])):\n",
        "    print(\"Sentence \" + str(i) +\": \")\n",
        "    print(\"Snowbo >>> \" + ' '.join(stems_sn[i]))\n",
        "    print(\"Lancas >>> \" + ' '.join(stems_la[i]))\n",
        "  if not (compare_lists(stems_sn[i],stems_po[i])):\n",
        "    print(\"Sentence \" + str(i) +\": \")\n",
        "    print(\"Snowbo >>> \" + ' '.join(stems_sn[i]))\n",
        "    print(\"Porter >>> \" + ' '.join(stems_po[i]))\n",
        "  if not (compare_lists(stems_la[i],stems_po[i])):\n",
        "    print(\"Sentence \" + str(i) +\": \")\n",
        "    print(\"Lancas >>> \" + ' '.join(stems_la[i]))\n",
        "    print(\"Porter >>> \" + ' '.join(stems_po[i]))"
      ],
      "metadata": {
        "id": "bbMcBeZEZIMy"
      },
      "execution_count": null,
      "outputs": []
    },
    {
      "cell_type": "code",
      "execution_count": null,
      "metadata": {
        "colab": {
          "base_uri": "https://localhost:8080/",
          "height": 35
        },
        "id": "PAPLeSvDxCNe",
        "outputId": "89e73811-0b62-46ce-a306-4fcdc0286e13"
      },
      "outputs": [
        {
          "output_type": "execute_result",
          "data": {
            "text/plain": [
              "'work'"
            ],
            "application/vnd.google.colaboratory.intrinsic+json": {
              "type": "string"
            }
          },
          "metadata": {},
          "execution_count": 20
        }
      ],
      "source": [
        "stemmer_po.stem(\"worked\")"
      ]
    },
    {
      "cell_type": "code",
      "execution_count": null,
      "metadata": {
        "colab": {
          "base_uri": "https://localhost:8080/",
          "height": 35
        },
        "id": "QTOG2X_0xCNe",
        "outputId": "bb0e5515-c1e4-4b6f-db5a-50c19027b296"
      },
      "outputs": [
        {
          "output_type": "execute_result",
          "data": {
            "text/plain": [
              "'cri'"
            ],
            "application/vnd.google.colaboratory.intrinsic+json": {
              "type": "string"
            }
          },
          "metadata": {},
          "execution_count": 21
        }
      ],
      "source": [
        "stemmer_po.stem(\"cried\")"
      ]
    },
    {
      "cell_type": "code",
      "execution_count": null,
      "metadata": {
        "colab": {
          "base_uri": "https://localhost:8080/",
          "height": 35
        },
        "id": "i3WEOlmDxCNe",
        "outputId": "bd7c74af-537e-4687-f6b2-9259bfbbfafc"
      },
      "outputs": [
        {
          "output_type": "execute_result",
          "data": {
            "text/plain": [
              "'remembr'"
            ],
            "application/vnd.google.colaboratory.intrinsic+json": {
              "type": "string"
            }
          },
          "metadata": {},
          "execution_count": 22
        }
      ],
      "source": [
        "stemmer_po.stem(\"remembrance\")"
      ]
    },
    {
      "cell_type": "code",
      "execution_count": null,
      "metadata": {
        "colab": {
          "base_uri": "https://localhost:8080/",
          "height": 35
        },
        "id": "32ffaRIRxCNf",
        "outputId": "f6dacca6-0ec1-4d00-d0fa-e53a4f8cde2a"
      },
      "outputs": [
        {
          "output_type": "execute_result",
          "data": {
            "text/plain": [
              "'happili'"
            ],
            "application/vnd.google.colaboratory.intrinsic+json": {
              "type": "string"
            }
          },
          "metadata": {},
          "execution_count": 23
        }
      ],
      "source": [
        "stemmer_po.stem(\"happily\")"
      ]
    },
    {
      "cell_type": "markdown",
      "metadata": {
        "id": "f-Frh6evxCNf"
      },
      "source": [
        "#### 1.3. Lemmatization:"
      ]
    },
    {
      "cell_type": "code",
      "execution_count": null,
      "metadata": {
        "id": "EvebJnfpxCNf"
      },
      "outputs": [],
      "source": [
        "from nltk.stem import WordNetLemmatizer\n",
        "from nltk.corpus import wordnet\n",
        "lemmatizer = WordNetLemmatizer()"
      ]
    },
    {
      "cell_type": "code",
      "execution_count": null,
      "metadata": {
        "id": "NxZvxBtoxCNf"
      },
      "outputs": [],
      "source": [
        "# Reset to the original sentences.\n",
        "sentences = nltk.sent_tokenize(paragraph)"
      ]
    },
    {
      "cell_type": "code",
      "execution_count": null,
      "metadata": {
        "id": "7SkkXub1xCNg"
      },
      "outputs": [],
      "source": [
        "# Lemmatization.\n",
        "for i in range(len(sentences)):\n",
        "    words = nltk.word_tokenize(sentences[i])              # Tokenize into words.\n",
        "    words = [lemmatizer.lemmatize(x) for x in words]      # Lemmatization. \n",
        "    sentences[i] = ' '.join(words)                        # Rejoin the words as a sentence."
      ]
    },
    {
      "cell_type": "code",
      "execution_count": null,
      "metadata": {
        "colab": {
          "base_uri": "https://localhost:8080/"
        },
        "id": "mkLKqoFkxCNg",
        "outputId": "a64a4905-08ea-4d73-d23f-a9d641c16877"
      },
      "outputs": [
        {
          "output_type": "stream",
          "name": "stdout",
          "text": [
            "Dr. House is crazy .\n",
            "If there is anyone out there who still doubt that America is a place where all thing are possible ; who still wonder if the dream of our founder is alive in our time ; who still question the power of our democracy : Tonight is your answer .\n",
            "It 's the answer told by line that stretched around school and church in number this nation ha never seen ; by people who waited three hour and four hour , many for the very first time in their life , because they believed that this time must be different ; that their voice could be that difference .\n",
            "It 's the answer spoken by young and old , rich and poor , Democrat and Republican , black , white , Hispanic , Asian , Native American , gay , straight , disabled and not disabled -- Americans who sent a message to the world that we have never been just a collection of individual or a collection of Red States and Blue States : we are , and always will be , the United States of America !\n",
            "It 's the answer that -- that led those who have been told for so long by so many to be cynical , and fearful , and doubtful about what we can achieve to put their hand on the arc of history and bend it once more toward the hope of a better day .\n",
            "It 's been a long time coming , but tonight , because of what we did on this day , in this election , at this defining moment , change ha come to America .\n",
            "A little bit earlier this evening , I received an extraordinarily gracious call from Senator McCain .\n",
            "Senator McCain fought long and hard in this campaign , and he 's fought even longer and harder for the country that he love .\n",
            "He ha endured sacrifice for America that most of u can not begin to imagine .\n",
            "We are better off for the service rendered by this brave and selfless leader .\n",
            "I congratulate him ; I congratulate Governor Palin for all that they 've achieved , and I look forward to working with them to renew this nation 's promise in the month ahead .\n",
            "I want to thank my partner in this journey , a man who campaigned from his heart and spoke for the men and woman he grew up with on the street of Scranton and rode with on the train home to Delaware , the Vice President-elect of the United States , Joe Biden .\n"
          ]
        }
      ],
      "source": [
        "for s in sentences:\n",
        "  print(s)"
      ]
    },
    {
      "cell_type": "markdown",
      "metadata": {
        "id": "yyIKvws4xCNg"
      },
      "source": [
        "Some more examples with the POS tags specified."
      ]
    },
    {
      "cell_type": "code",
      "execution_count": null,
      "metadata": {
        "colab": {
          "base_uri": "https://localhost:8080/",
          "height": 35
        },
        "id": "Y_vw3FXixCNg",
        "outputId": "103a3fb2-5453-4159-b068-0a45917e0fdd"
      },
      "outputs": [
        {
          "output_type": "execute_result",
          "data": {
            "text/plain": [
              "'dog'"
            ],
            "application/vnd.google.colaboratory.intrinsic+json": {
              "type": "string"
            }
          },
          "metadata": {},
          "execution_count": 28
        }
      ],
      "source": [
        "lemmatizer.lemmatize(\"dogs\",wordnet.NOUN)    "
      ]
    },
    {
      "cell_type": "code",
      "source": [
        "lemmatizer.lemmatize(\"is\",wordnet.NOUN)  "
      ],
      "metadata": {
        "colab": {
          "base_uri": "https://localhost:8080/",
          "height": 35
        },
        "id": "kZ49cnN5F8ip",
        "outputId": "7e965266-0a85-41e9-ac51-1a653191ad6d"
      },
      "execution_count": null,
      "outputs": [
        {
          "output_type": "execute_result",
          "data": {
            "text/plain": [
              "'is'"
            ],
            "application/vnd.google.colaboratory.intrinsic+json": {
              "type": "string"
            }
          },
          "metadata": {},
          "execution_count": 53
        }
      ]
    },
    {
      "cell_type": "code",
      "execution_count": null,
      "metadata": {
        "colab": {
          "base_uri": "https://localhost:8080/",
          "height": 35
        },
        "id": "iuBj5u7-xCNg",
        "outputId": "f9ab424a-53a9-46c8-c8d9-ba83a2331045"
      },
      "outputs": [
        {
          "output_type": "execute_result",
          "data": {
            "text/plain": [
              "'wolf'"
            ],
            "application/vnd.google.colaboratory.intrinsic+json": {
              "type": "string"
            }
          },
          "metadata": {},
          "execution_count": 29
        }
      ],
      "source": [
        "lemmatizer.lemmatize(\"wolves\", wordnet.NOUN)"
      ]
    },
    {
      "cell_type": "code",
      "source": [
        "lemmatizer.lemmatize(\"achieved\",wordnet.ADJ)"
      ],
      "metadata": {
        "colab": {
          "base_uri": "https://localhost:8080/",
          "height": 35
        },
        "id": "gYwBnGjQHhS-",
        "outputId": "171ed37c-3e15-4875-cfbb-0b544c1443da"
      },
      "execution_count": null,
      "outputs": [
        {
          "output_type": "execute_result",
          "data": {
            "text/plain": [
              "'achieved'"
            ],
            "application/vnd.google.colaboratory.intrinsic+json": {
              "type": "string"
            }
          },
          "metadata": {},
          "execution_count": 55
        }
      ]
    },
    {
      "cell_type": "code",
      "execution_count": null,
      "metadata": {
        "colab": {
          "base_uri": "https://localhost:8080/",
          "height": 35
        },
        "id": "ZCmlm-dExCNg",
        "outputId": "a9b717de-67a2-4c6b-c3ca-2ec9925ea8c1"
      },
      "outputs": [
        {
          "output_type": "execute_result",
          "data": {
            "text/plain": [
              "'have'"
            ],
            "application/vnd.google.colaboratory.intrinsic+json": {
              "type": "string"
            }
          },
          "metadata": {},
          "execution_count": 30
        }
      ],
      "source": [
        "lemmatizer.lemmatize(\"has\",wordnet.VERB)"
      ]
    },
    {
      "cell_type": "code",
      "execution_count": null,
      "metadata": {
        "colab": {
          "base_uri": "https://localhost:8080/",
          "height": 35
        },
        "id": "xGxE3DdtxCNh",
        "outputId": "23895822-a950-4403-bc6a-bdb796a46f3f"
      },
      "outputs": [
        {
          "output_type": "execute_result",
          "data": {
            "text/plain": [
              "'helpful'"
            ],
            "application/vnd.google.colaboratory.intrinsic+json": {
              "type": "string"
            }
          },
          "metadata": {},
          "execution_count": 31
        }
      ],
      "source": [
        "lemmatizer.lemmatize(\"helpful\", wordnet.ADJ)"
      ]
    },
    {
      "cell_type": "code",
      "execution_count": null,
      "metadata": {
        "colab": {
          "base_uri": "https://localhost:8080/",
          "height": 35
        },
        "id": "7PfLBakrxCNh",
        "outputId": "561c6772-4742-4a11-a496-65f3f63bbcfa"
      },
      "outputs": [
        {
          "output_type": "execute_result",
          "data": {
            "text/plain": [
              "'happily'"
            ],
            "application/vnd.google.colaboratory.intrinsic+json": {
              "type": "string"
            }
          },
          "metadata": {},
          "execution_count": 32
        }
      ],
      "source": [
        "lemmatizer.lemmatize(\"happily\", wordnet.NOUN)"
      ]
    },
    {
      "cell_type": "code",
      "source": [],
      "metadata": {
        "id": "ZdKAg3h_yNav"
      },
      "execution_count": null,
      "outputs": []
    }
  ],
  "metadata": {
    "kernelspec": {
      "display_name": "Python 3",
      "language": "python",
      "name": "python3"
    },
    "language_info": {
      "codemirror_mode": {
        "name": "ipython",
        "version": 3
      },
      "file_extension": ".py",
      "mimetype": "text/x-python",
      "name": "python",
      "nbconvert_exporter": "python",
      "pygments_lexer": "ipython3",
      "version": "3.8.8"
    },
    "colab": {
      "provenance": []
    }
  },
  "nbformat": 4,
  "nbformat_minor": 0
}