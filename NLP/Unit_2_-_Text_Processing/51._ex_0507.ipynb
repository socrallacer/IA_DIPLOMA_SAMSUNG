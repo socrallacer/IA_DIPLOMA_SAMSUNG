{
  "cells": [
    {
      "cell_type": "markdown",
      "metadata": {
        "id": "bwxIq_l_1YqG"
      },
      "source": [
        "## Coding Exercise #0507"
      ]
    },
    {
      "cell_type": "code",
      "execution_count": 1,
      "metadata": {
        "id": "-urxtkbF1YqQ"
      },
      "outputs": [],
      "source": [
        "import nltk\n",
        "import re"
      ]
    },
    {
      "cell_type": "code",
      "execution_count": 2,
      "metadata": {
        "id": "04S5miMM1YqS",
        "colab": {
          "base_uri": "https://localhost:8080/"
        },
        "outputId": "0e38c0a7-b2a7-4a12-94e6-0f4413458ff5"
      },
      "outputs": [
        {
          "output_type": "stream",
          "name": "stderr",
          "text": [
            "[nltk_data] Downloading package punkt to /root/nltk_data...\n",
            "[nltk_data]   Unzipping tokenizers/punkt.zip.\n",
            "[nltk_data] Downloading package stopwords to /root/nltk_data...\n",
            "[nltk_data]   Unzipping corpora/stopwords.zip.\n",
            "[nltk_data] Downloading package averaged_perceptron_tagger to\n",
            "[nltk_data]     /root/nltk_data...\n",
            "[nltk_data]   Unzipping taggers/averaged_perceptron_tagger.zip.\n"
          ]
        }
      ],
      "source": [
        "# You should download the NLTK data once.\n",
        "# It can be a bit time consuming.\n",
        "# nltk.download()\n",
        "nltk.download('punkt')\n",
        "nltk.download('stopwords')\n",
        "nltk.download('averaged_perceptron_tagger')\n",
        "from nltk.corpus import stopwords"
      ]
    },
    {
      "cell_type": "markdown",
      "metadata": {
        "id": "c88eC8Qb1YqT"
      },
      "source": [
        "### 1. More about the NLTK library:"
      ]
    },
    {
      "cell_type": "code",
      "execution_count": 3,
      "metadata": {
        "id": "_rkJb7_01YqT"
      },
      "outputs": [],
      "source": [
        "#\n",
        "#  From the US president B. Obama's Nov-4th-2008 speech. \n",
        "#\n",
        "\n",
        "paragraph = \"\"\"If there is anyone out there who still doubts that America is a place where all things are possible; who still wonders if the dream of our founders is alive in our time; who still questions the power of our democracy: Tonight is your answer. It's the answer told by lines that stretched around schools and churches in numbers this nation has never seen; by people who waited three hours and four hours, many for the very first time in their lives, because they believed that this time must be different; that their voices could be that difference. It's the answer spoken by young and old, rich and poor, Democrat and Republican, black, white, Hispanic, Asian, Native American, gay, straight, disabled and not disabled -- Americans who sent a message to the world that we have never been just a collection of individuals or a collection of Red States and Blue States: we are, and always will be, the United States of America! It's the answer that -- that led those who have been told for so long by so many to be cynical, and fearful, and doubtful about what we can achieve to put their hands on the arc of history and bend it once more toward the hope of a better day. It's been a long time coming, but tonight, because of what we did on this day, in this election, at this defining moment, change has come to America. A little bit earlier this evening, I received an extraordinarily gracious call from Senator McCain. Senator McCain fought long and hard in this campaign, and he's fought even longer and harder for the country that he loves. He has endured sacrifices for America that most of us cannot begin to imagine. We are better off for the service rendered by this brave and selfless leader. I congratulate him; I congratulate Governor Palin for all that they've achieved, and I look forward to working with them to renew this nation's promise in the months ahead. I want to thank my partner in this journey, a man who campaigned from his heart and spoke for the men and women he grew up with on the streets of Scranton and rode with on the train home to Delaware, the Vice President-elect of the United States, Joe Biden. \"\"\"                  "
      ]
    },
    {
      "cell_type": "markdown",
      "metadata": {
        "id": "PCwjQOay1YqU"
      },
      "source": [
        "#### 1.1. Tokenization and pre-processing:"
      ]
    },
    {
      "cell_type": "code",
      "execution_count": 4,
      "metadata": {
        "id": "fgnlirzS1YqU",
        "colab": {
          "base_uri": "https://localhost:8080/"
        },
        "outputId": "6950cc8b-0d82-4b86-a18f-ef9c63b16b2f"
      },
      "outputs": [
        {
          "output_type": "stream",
          "name": "stdout",
          "text": [
            "if there is anyone out there who still doubts that america is a place where all things are possible who still wonders if the dream of our founders is alive in our time who still questions the power of our democracy tonight is your answer\n",
            "it s the answer told by lines that stretched around schools and churches in numbers this nation has never seen by people who waited three hours and four hours many for the very first time in their lives because they believed that this time must be different that their voices could be that difference\n",
            "it s the answer spoken by young and old rich and poor democrat and republican black white hispanic asian native american gay straight disabled and not disabled americans who sent a message to the world that we have never been just a collection of individuals or a collection of red states and blue states we are and always will be the united states of america\n",
            "it s the answer that that led those who have been told for so long by so many to be cynical and fearful and doubtful about what we can achieve to put their hands on the arc of history and bend it once more toward the hope of a better day\n",
            "it s been a long time coming but tonight because of what we did on this day in this election at this defining moment change has come to america\n",
            "a little bit earlier this evening i received an extraordinarily gracious call from senator mccain\n",
            "senator mccain fought long and hard in this campaign and he s fought even longer and harder for the country that he loves\n",
            "he has endured sacrifices for america that most of us cannot begin to imagine\n",
            "we are better off for the service rendered by this brave and selfless leader\n",
            "i congratulate him i congratulate governor palin for all that they ve achieved and i look forward to working with them to renew this nation s promise in the months ahead\n",
            "i want to thank my partner in this journey a man who campaigned from his heart and spoke for the men and women he grew up with on the streets of scranton and rode with on the train home to delaware the vice president elect of the united states joe biden\n"
          ]
        }
      ],
      "source": [
        "# Tokenize into sentences.\n",
        "sentences = nltk.sent_tokenize(paragraph)\n",
        "for i in range(len(sentences)):\n",
        "    sentences[i] = sentences[i].lower()\n",
        "    sentences[i] = re.sub(r'\\W',' ',sentences[i])            # Substitute the non-alphanumeric characters with space. \n",
        "    sentences[i] = re.sub(r'\\s+',' ',sentences[i])           # Remove the excess of white spaces.\n",
        "    sentences[i] = re.sub(r'\\s$','',sentences[i])            # Remove the space at the end of a sentence.\n",
        "for s in sentences:\n",
        "  print(s)"
      ]
    },
    {
      "cell_type": "markdown",
      "metadata": {
        "id": "o6MXppri1YqV"
      },
      "source": [
        "#### 1.2. Removal of the stop words: "
      ]
    },
    {
      "cell_type": "code",
      "execution_count": 5,
      "metadata": {
        "id": "Gf2pSKQq1YqX"
      },
      "outputs": [],
      "source": [
        "for i in range(len(sentences)):\n",
        "    words = nltk.word_tokenize(sentences[i])                                   # Tokenize into words.\n",
        "    words = [x for x in words if x not in stopwords.words('english')]         # Remove the stop words.\n",
        "    sentences[i] = ' '.join(words)                                             # Rejoin as a sentence."
      ]
    },
    {
      "cell_type": "code",
      "execution_count": 6,
      "metadata": {
        "id": "ooeKzLa_1YqX",
        "colab": {
          "base_uri": "https://localhost:8080/"
        },
        "outputId": "cf51ba0e-cafb-44fa-d4aa-246510d52ceb"
      },
      "outputs": [
        {
          "output_type": "stream",
          "name": "stdout",
          "text": [
            "anyone still doubts america place things possible still wonders dream founders alive time still questions power democracy tonight answer\n",
            "answer told lines stretched around schools churches numbers nation never seen people waited three hours four hours many first time lives believed time must different voices could difference\n",
            "answer spoken young old rich poor democrat republican black white hispanic asian native american gay straight disabled disabled americans sent message world never collection individuals collection red states blue states always united states america\n",
            "answer led told long many cynical fearful doubtful achieve put hands arc history bend toward hope better day\n",
            "long time coming tonight day election defining moment change come america\n",
            "little bit earlier evening received extraordinarily gracious call senator mccain\n",
            "senator mccain fought long hard campaign fought even longer harder country loves\n",
            "endured sacrifices america us begin imagine\n",
            "better service rendered brave selfless leader\n",
            "congratulate congratulate governor palin achieved look forward working renew nation promise months ahead\n",
            "want thank partner journey man campaigned heart spoke men women grew streets scranton rode train home delaware vice president elect united states joe biden\n"
          ]
        }
      ],
      "source": [
        "for s in sentences:\n",
        "  print(s)"
      ]
    },
    {
      "cell_type": "markdown",
      "metadata": {
        "id": "gINwENXu1YqY"
      },
      "source": [
        "#### 1.3. POS tagging:"
      ]
    },
    {
      "cell_type": "code",
      "execution_count": 7,
      "metadata": {
        "id": "jNvprYQd1YqY"
      },
      "outputs": [],
      "source": [
        "# Test sentence.\n",
        "my_sentence = \"The Colosseum was xxxxed by the emperor Vespassian\""
      ]
    },
    {
      "cell_type": "code",
      "execution_count": 8,
      "metadata": {
        "id": "JralXAdq1Yqa",
        "colab": {
          "base_uri": "https://localhost:8080/"
        },
        "outputId": "cfe7a504-bd8a-4a8e-ce23-9816fbccb737"
      },
      "outputs": [
        {
          "output_type": "execute_result",
          "data": {
            "text/plain": [
              "['The', 'Colosseum', 'was', 'xxxxed', 'by', 'the', 'emperor', 'Vespassian']"
            ]
          },
          "metadata": {},
          "execution_count": 8
        }
      ],
      "source": [
        "# Simple pre-processing.\n",
        "my_words = nltk.word_tokenize(my_sentence)\n",
        "for i in range(len(my_words)):\n",
        "    my_words[i] = my_words[i]#.lower()\n",
        "my_words"
      ]
    },
    {
      "cell_type": "code",
      "execution_count": 9,
      "metadata": {
        "id": "bDhjyQTx1Yqb",
        "colab": {
          "base_uri": "https://localhost:8080/"
        },
        "outputId": "f514e2ac-a4c5-427a-840e-bb7b0ad0252d"
      },
      "outputs": [
        {
          "output_type": "execute_result",
          "data": {
            "text/plain": [
              "[('The', 'DT'),\n",
              " ('Colosseum', 'NNP'),\n",
              " ('was', 'VBD'),\n",
              " ('xxxxed', 'VBN'),\n",
              " ('by', 'IN'),\n",
              " ('the', 'DT'),\n",
              " ('emperor', 'NN'),\n",
              " ('Vespassian', 'JJ')]"
            ]
          },
          "metadata": {},
          "execution_count": 9
        }
      ],
      "source": [
        "# POS tagging.\n",
        "# OUTPUT: A list of tuples.\n",
        "my_words_tagged = nltk.pos_tag(my_words)\n",
        "my_words_tagged\n",
        "\n"
      ]
    },
    {
      "cell_type": "code",
      "execution_count": 10,
      "metadata": {
        "id": "lPZ1urce1Yqc",
        "colab": {
          "base_uri": "https://localhost:8080/",
          "height": 36
        },
        "outputId": "ec4d8822-641f-4c60-fe22-33d18c1022f3"
      },
      "outputs": [
        {
          "output_type": "execute_result",
          "data": {
            "text/plain": [
              "'The(DT) Colosseum(NNP) was(VBD) xxxxed(VBN) by(IN) the(DT) emperor(NN) Vespassian(JJ)'"
            ],
            "application/vnd.google.colaboratory.intrinsic+json": {
              "type": "string"
            }
          },
          "metadata": {},
          "execution_count": 10
        }
      ],
      "source": [
        "# Join the words + POS as a sentence.\n",
        "my_words_tagged2 = []\n",
        "for tw in my_words_tagged:\n",
        "    my_words_tagged2.append(tw[0] + '(' + tw[1] + ')')\n",
        "my_sentence_tagged = ' '.join(my_words_tagged2)\n",
        "my_sentence_tagged"
      ]
    },
    {
      "cell_type": "code",
      "source": [
        "# Using the universal tagset\n",
        "nltk.download('universal_tagset')\n",
        "my_words_tagged = nltk.pos_tag(my_words, tagset='universal')\n",
        "my_words_tagged"
      ],
      "metadata": {
        "colab": {
          "base_uri": "https://localhost:8080/"
        },
        "id": "3LQ_09s75fKY",
        "outputId": "381bb74b-141f-4c3e-96f3-b199254d899c"
      },
      "execution_count": 12,
      "outputs": [
        {
          "output_type": "stream",
          "name": "stderr",
          "text": [
            "[nltk_data] Downloading package universal_tagset to /root/nltk_data...\n",
            "[nltk_data]   Unzipping taggers/universal_tagset.zip.\n"
          ]
        },
        {
          "output_type": "execute_result",
          "data": {
            "text/plain": [
              "[('The', 'DET'),\n",
              " ('Colosseum', 'NOUN'),\n",
              " ('was', 'VERB'),\n",
              " ('xxxxed', 'VERB'),\n",
              " ('by', 'ADP'),\n",
              " ('the', 'DET'),\n",
              " ('emperor', 'NOUN'),\n",
              " ('Vespassian', 'ADJ')]"
            ]
          },
          "metadata": {},
          "execution_count": 12
        }
      ]
    },
    {
      "cell_type": "code",
      "source": [],
      "metadata": {
        "id": "xlxAXRwx6EPH"
      },
      "execution_count": null,
      "outputs": []
    }
  ],
  "metadata": {
    "kernelspec": {
      "display_name": "Python 3",
      "language": "python",
      "name": "python3"
    },
    "language_info": {
      "codemirror_mode": {
        "name": "ipython",
        "version": 3
      },
      "file_extension": ".py",
      "mimetype": "text/x-python",
      "name": "python",
      "nbconvert_exporter": "python",
      "pygments_lexer": "ipython3",
      "version": "3.8.8"
    },
    "colab": {
      "provenance": []
    }
  },
  "nbformat": 4,
  "nbformat_minor": 0
}