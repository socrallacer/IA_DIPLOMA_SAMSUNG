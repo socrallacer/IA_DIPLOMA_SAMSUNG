{
  "cells": [
    {
      "cell_type": "markdown",
      "source": [
        "# Extracción y tratamiento de datos en redes sociales con Python.\n",
        "## A. Molina 2023 - Universidad Politécnica de Valencia (amolina@upv.es)"
      ],
      "metadata": {
        "id": "IepzBAnWImH8"
      }
    },
    {
      "cell_type": "markdown",
      "metadata": {
        "id": "ejjHwo3dQ9o9"
      },
      "source": [
        "## Generar una nube de palabras con los términos más frecuentes aparecidos en una búsqueda en Tweeter"
      ]
    },
    {
      "cell_type": "code",
      "execution_count": null,
      "metadata": {
        "id": "l8FACRHYQ9pA"
      },
      "outputs": [],
      "source": [
        " #install once.\n",
        "!pip install wordcloud\n",
        "!pip install twitter-text-parser\n",
        "!pip install emoji --upgrade"
      ]
    },
    {
      "cell_type": "code",
      "execution_count": null,
      "metadata": {
        "id": "MWMzh-YlQ9pB"
      },
      "outputs": [],
      "source": [
        "from wordcloud import WordCloud\n",
        "import numpy as np\n",
        "import nltk\n",
        "import re\n",
        "import matplotlib.pyplot as plt\n",
        "from PIL import Image\n",
        "from nltk import TweetTokenizer\n",
        "import twitter_text as twt\n",
        "import emoji"
      ]
    },
    {
      "cell_type": "markdown",
      "source": [
        "# 1. Cargar los tweets"
      ],
      "metadata": {
        "id": "83bzGx89PZ3l"
      }
    },
    {
      "cell_type": "code",
      "source": [
        "#escribe aquí tu código. Carga los tweets del archivo tweets.txt\n"
      ],
      "metadata": {
        "id": "DMenPZzkPZWu"
      },
      "execution_count": null,
      "outputs": []
    },
    {
      "cell_type": "markdown",
      "source": [
        "# 2. Tokenizar los tweets"
      ],
      "metadata": {
        "id": "wPRU__LQNvog"
      }
    },
    {
      "cell_type": "code",
      "source": [
        "def mi_tokenizador(texto):\n",
        "\n",
        "  #Pon aquí el código de tu tokenizador que has realizado en el ejercicio previo\n",
        "\n",
        "\n",
        "  return tokens\n"
      ],
      "metadata": {
        "id": "9RrH1NHpN5PA"
      },
      "execution_count": null,
      "outputs": []
    },
    {
      "cell_type": "code",
      "source": [
        "#Tokeniza los tweets y luego concaténalos en una cadena separados por blancos\n",
        "\n"
      ],
      "metadata": {
        "id": "YjebkkJKS1uS"
      },
      "execution_count": null,
      "outputs": []
    },
    {
      "cell_type": "markdown",
      "metadata": {
        "id": "O6r3GBnlQ9pB"
      },
      "source": [
        "## 3. Visualizar los términos más frecuentes en una nube de palabras"
      ]
    },
    {
      "cell_type": "markdown",
      "metadata": {
        "id": "8EazFJHpQ9pD"
      },
      "source": [
        "#### 4.1 Generar una nube de palabras básica:"
      ]
    },
    {
      "cell_type": "code",
      "execution_count": null,
      "metadata": {
        "id": "ZyTgKnZ0Q9pE"
      },
      "outputs": [],
      "source": [
        "wc = WordCloud(background_color='white', max_words=30)              # Customize the output.\n",
        "wc.generate(cadena)                                       # Recibe como entrada una cadena. Los tokens obtenidos deben concatenarse en una única cadena separados por blanco\n",
        "wc.words_                                                          # Check for the top ranking words."
      ]
    },
    {
      "cell_type": "code",
      "execution_count": null,
      "metadata": {
        "id": "bMRzJHmKQ9pE"
      },
      "outputs": [],
      "source": [
        "# Dibujar la nube de palabras\n",
        "plt.figure(figsize=(10,10))\n",
        "plt.imshow(wc, interpolation='bilinear')\n",
        "plt.axis(\"off\")                                    # Turn off the axes.\n",
        "plt.show()"
      ]
    },
    {
      "cell_type": "markdown",
      "metadata": {
        "id": "y9KIYtpBQ9pE"
      },
      "source": [
        "#### 4.2 Generar una nube de palabras utilizando una máscara:"
      ]
    },
    {
      "cell_type": "code",
      "execution_count": null,
      "metadata": {
        "id": "by1C8Ji5Q9pE"
      },
      "outputs": [],
      "source": [
        "# Pick a background mask.\n",
        "#img = Image.open('background_1.png')                    # Elipse.\n",
        "#img = Image.open('background_2.png')                   # Speech bubble.\n",
        "#img = Image.open('background_3.png')                    # Heart.\n",
        "img = Image.open('background_4.png')                    # Circle.\n",
        "back_mask = np.array(img)"
      ]
    },
    {
      "cell_type": "code",
      "execution_count": null,
      "metadata": {
        "id": "8OO2xR8BQ9pF"
      },
      "outputs": [],
      "source": [
        "wc = WordCloud(background_color='white', max_words=30, mask=back_mask)            # Customize the output.\n",
        "wc.generate(todo)\n",
        "plt.figure(figsize=(10,10))\n",
        "plt.imshow(wc, interpolation='bilinear')\n",
        "plt.axis(\"off\")                                    # Turn off the axes.\n",
        "plt.show()"
      ]
    },
    {
      "cell_type": "markdown",
      "source": [
        "## 4. Elimina las stop words y vuelve a generar la nube de palabras"
      ],
      "metadata": {
        "id": "nD6UYHkz8dW4"
      }
    },
    {
      "cell_type": "code",
      "source": [
        "nltk.download('stopwords')\n",
        "from nltk.corpus import stopwords"
      ],
      "metadata": {
        "colab": {
          "base_uri": "https://localhost:8080/"
        },
        "id": "2f1hL8fM8b9F",
        "outputId": "fafcbeea-42a5-4342-b8ac-d43010fe29cf"
      },
      "execution_count": null,
      "outputs": [
        {
          "output_type": "stream",
          "name": "stderr",
          "text": [
            "[nltk_data] Downloading package stopwords to /root/nltk_data...\n",
            "[nltk_data]   Package stopwords is already up-to-date!\n"
          ]
        }
      ]
    },
    {
      "cell_type": "code",
      "source": [
        "# Escribe aquí tu código. Tienes que eliminar las stopwords del texto tokenizado y volver a generar la nube de palabras\n"
      ],
      "metadata": {
        "id": "yNXaNR-_9QJC"
      },
      "execution_count": null,
      "outputs": []
    },
    {
      "cell_type": "markdown",
      "source": [
        "## 5. Generar la nube de palabras para el libro \"book_three_little_pigs.txt\", únicamente para las palabras del texto que sean Nombres"
      ],
      "metadata": {
        "id": "GDTJV9JuS7iQ"
      }
    },
    {
      "cell_type": "code",
      "source": [
        "# Escribe aquí tu código.\n",
        "# Utiliza el POS Tagger de NLTK, con el juego de etiquetas universal, y selecciona las palabras etiquetadas con la categoría NOUN."
      ],
      "metadata": {
        "id": "od3GfOebTN8U"
      },
      "execution_count": 2,
      "outputs": []
    },
    {
      "cell_type": "markdown",
      "source": [],
      "metadata": {
        "id": "BRcdilEATW15"
      }
    }
  ],
  "metadata": {
    "kernelspec": {
      "display_name": "Python 3",
      "language": "python",
      "name": "python3"
    },
    "language_info": {
      "codemirror_mode": {
        "name": "ipython",
        "version": 3
      },
      "file_extension": ".py",
      "mimetype": "text/x-python",
      "name": "python",
      "nbconvert_exporter": "python",
      "pygments_lexer": "ipython3",
      "version": "3.8.8"
    },
    "colab": {
      "provenance": []
    }
  },
  "nbformat": 4,
  "nbformat_minor": 0
}