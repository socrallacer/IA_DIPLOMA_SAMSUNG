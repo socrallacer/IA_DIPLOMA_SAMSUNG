{
  "cells": [
    {
      "cell_type": "markdown",
      "metadata": {
        "id": "MuQNiYuLYaZn"
      },
      "source": [
        "## Coding Exercise #0509"
      ]
    },
    {
      "cell_type": "code",
      "execution_count": 3,
      "metadata": {
        "id": "PdglQ6cnYaZs"
      },
      "outputs": [
        {
          "name": "stderr",
          "output_type": "stream",
          "text": [
            "[nltk_data] Downloading package punkt to /Users/socrates/nltk_data...\n",
            "[nltk_data]   Unzipping tokenizers/punkt.zip.\n"
          ]
        },
        {
          "data": {
            "text/plain": [
              "True"
            ]
          },
          "execution_count": 3,
          "metadata": {},
          "output_type": "execute_result"
        }
      ],
      "source": [
        "import nltk\n",
        "from numpy.random import randint, seed\n",
        "from sklearn.feature_extraction.text import CountVectorizer\n",
        "nltk.download('punkt')"
      ]
    },
    {
      "cell_type": "markdown",
      "metadata": {
        "id": "Nj2eyDezYaZv"
      },
      "source": [
        "### 1. n-Gram based autofill:"
      ]
    },
    {
      "cell_type": "code",
      "execution_count": 4,
      "metadata": {
        "id": "hZc8fD3cYaZw"
      },
      "outputs": [],
      "source": [
        "# Text data for training.\n",
        "my_text = \"\"\"Machine learning is the scientific study of algorithms and statistical models that computer systems use to effectively perform a specific task without using explicit instructions, relying on patterns and inference instead. It is seen as a subset of artificial intelligence. Machine learning algorithms build a mathematical model of sample data, known as \"training data\", in order to make predictions or decisions without being explicitly programmed to perform the task.[1][2]:2 Machine learning algorithms are used in the applications of email filtering, detection of network intruders, and computer vision, where it is infeasible to develop an algorithm of specific instructions for performing the task. Machine learning is closely related to computational statistics, which focuses on making predictions using computers. The study of mathematical optimization delivers methods, theory and application domains to the field of machine learning. Data mining is a field of study within machine learning, and focuses on exploratory data analysis through unsupervised learning In its application across business problems, machine learning is also referred to as predictive analytics.\"\"\""
      ]
    },
    {
      "cell_type": "code",
      "execution_count": 5,
      "metadata": {
        "id": "zkwmK-ssYaZw"
      },
      "outputs": [],
      "source": [
        "my_text = [my_text.lower()]                       # Convert to lowercase and make a list. => Required by the CountVectorizer()."
      ]
    },
    {
      "cell_type": "code",
      "execution_count": 6,
      "metadata": {
        "id": "b04QIDanwBUv"
      },
      "outputs": [
        {
          "data": {
            "text/plain": [
              "1179"
            ]
          },
          "execution_count": 6,
          "metadata": {},
          "output_type": "execute_result"
        }
      ],
      "source": [
        "len(my_text[0])"
      ]
    },
    {
      "cell_type": "markdown",
      "metadata": {
        "id": "lqUnVcqBYaZx"
      },
      "source": [
        "#### 1.1. n-Gram trial run:"
      ]
    },
    {
      "cell_type": "code",
      "execution_count": 7,
      "metadata": {
        "id": "VCvmQ8LgYaZx"
      },
      "outputs": [],
      "source": [
        "n = 3                                                            # Can be changed to a number equal or larger than 2.\n",
        "n_min = n\n",
        "n_max = n\n",
        "n_gram_type = 'word'                                             # n-Gram with words.\n",
        "vectorizer = CountVectorizer(ngram_range=(n_min,n_max), analyzer = n_gram_type)"
      ]
    },
    {
      "cell_type": "code",
      "execution_count": 8,
      "metadata": {
        "id": "Tbixc5CPYaZy"
      },
      "outputs": [
        {
          "data": {
            "text/plain": [
              "array(['across business problems', 'algorithm of specific',\n",
              "       'algorithms and statistical', 'algorithms are used',\n",
              "       'algorithms build mathematical', 'also referred to',\n",
              "       'an algorithm of', 'analysis through unsupervised',\n",
              "       'and application domains', 'and computer vision', 'and focuses on',\n",
              "       'and inference instead', 'and statistical models',\n",
              "       'application across business', 'application domains to',\n",
              "       'applications of email', 'are used in',\n",
              "       'artificial intelligence machine', 'as predictive analytics',\n",
              "       'as subset of', 'as training data', 'being explicitly programmed',\n",
              "       'build mathematical model', 'business problems machine',\n",
              "       'closely related to', 'computational statistics which',\n",
              "       'computer systems use', 'computer vision where',\n",
              "       'computers the study', 'data analysis through', 'data in order',\n",
              "       'data known as', 'data mining is', 'decisions without being',\n",
              "       'delivers methods theory', 'detection of network',\n",
              "       'develop an algorithm', 'domains to the',\n",
              "       'effectively perform specific', 'email filtering detection',\n",
              "       'explicit instructions relying', 'explicitly programmed to',\n",
              "       'exploratory data analysis', 'field of machine', 'field of study',\n",
              "       'filtering detection of', 'focuses on exploratory',\n",
              "       'focuses on making', 'for performing the', 'in its application',\n",
              "       'in order to', 'in the applications', 'infeasible to develop',\n",
              "       'inference instead it', 'instead it is',\n",
              "       'instructions for performing', 'instructions relying on',\n",
              "       'intelligence machine learning', 'intruders and computer',\n",
              "       'is also referred', 'is closely related', 'is field of',\n",
              "       'is infeasible to', 'is seen as', 'is the scientific',\n",
              "       'it is infeasible', 'it is seen', 'its application across',\n",
              "       'known as training', 'learning algorithms are',\n",
              "       'learning algorithms build', 'learning and focuses',\n",
              "       'learning data mining', 'learning in its', 'learning is also',\n",
              "       'learning is closely', 'learning is the',\n",
              "       'machine learning algorithms', 'machine learning and',\n",
              "       'machine learning data', 'machine learning is',\n",
              "       'make predictions or', 'making predictions using',\n",
              "       'mathematical model of', 'mathematical optimization delivers',\n",
              "       'methods theory and', 'mining is field', 'model of sample',\n",
              "       'models that computer', 'network intruders and',\n",
              "       'of algorithms and', 'of artificial intelligence',\n",
              "       'of email filtering', 'of machine learning',\n",
              "       'of mathematical optimization', 'of network intruders',\n",
              "       'of sample data', 'of specific instructions', 'of study within',\n",
              "       'on exploratory data', 'on making predictions', 'on patterns and',\n",
              "       'optimization delivers methods', 'or decisions without',\n",
              "       'order to make', 'patterns and inference', 'perform specific task',\n",
              "       'perform the task', 'performing the task',\n",
              "       'predictions or decisions', 'predictions using computers',\n",
              "       'problems machine learning', 'programmed to perform',\n",
              "       'referred to as', 'related to computational',\n",
              "       'relying on patterns', 'sample data known', 'scientific study of',\n",
              "       'seen as subset', 'specific instructions for',\n",
              "       'specific task without', 'statistical models that',\n",
              "       'statistics which focuses', 'study of algorithms',\n",
              "       'study of mathematical', 'study within machine',\n",
              "       'subset of artificial', 'systems use to', 'task machine learning',\n",
              "       'task without using', 'that computer systems',\n",
              "       'the applications of', 'the field of', 'the scientific study',\n",
              "       'the study of', 'the task machine', 'theory and application',\n",
              "       'through unsupervised learning', 'to as predictive',\n",
              "       'to computational statistics', 'to develop an',\n",
              "       'to effectively perform', 'to make predictions', 'to perform the',\n",
              "       'to the field', 'training data in', 'unsupervised learning in',\n",
              "       'use to effectively', 'used in the', 'using computers the',\n",
              "       'using explicit instructions', 'vision where it', 'where it is',\n",
              "       'which focuses on', 'within machine learning',\n",
              "       'without being explicitly', 'without using explicit'], dtype=object)"
            ]
          },
          "execution_count": 8,
          "metadata": {},
          "output_type": "execute_result"
        }
      ],
      "source": [
        "n_grams = vectorizer.fit(my_text).get_feature_names_out()  # Get the n-Grams as a list.\n",
        "n_grams"
      ]
    },
    {
      "cell_type": "code",
      "execution_count": 9,
      "metadata": {
        "id": "0QLId16tvxKb"
      },
      "outputs": [
        {
          "data": {
            "text/plain": [
              "array([[1, 1, 1, 1, 1, 1, 1, 1, 1, 1, 1, 1, 1, 1, 1, 1, 1, 1, 1, 1, 1, 1,\n",
              "        1, 1, 1, 1, 1, 1, 1, 1, 1, 1, 1, 1, 1, 1, 1, 1, 1, 1, 1, 1, 1, 1,\n",
              "        1, 1, 1, 1, 1, 1, 1, 1, 1, 1, 1, 1, 1, 1, 1, 1, 1, 1, 1, 1, 1, 1,\n",
              "        1, 1, 1, 1, 1, 1, 1, 1, 1, 1, 1, 2, 1, 1, 3, 1, 1, 1, 1, 1, 1, 1,\n",
              "        1, 1, 1, 1, 1, 1, 1, 1, 1, 1, 1, 1, 1, 1, 1, 1, 1, 1, 1, 1, 1, 1,\n",
              "        1, 1, 1, 1, 1, 1, 1, 1, 1, 1, 1, 1, 1, 1, 1, 1, 1, 1, 2, 1, 1, 1,\n",
              "        1, 1, 1, 2, 1, 1, 1, 1, 1, 1, 1, 1, 1, 1, 1, 1, 1, 1, 1, 1, 1, 1,\n",
              "        1, 1, 1]])"
            ]
          },
          "execution_count": 9,
          "metadata": {},
          "output_type": "execute_result"
        }
      ],
      "source": [
        "n_gram_cts = vectorizer.transform(my_text).toarray()    #  The output is an array of array.\n",
        "n_gram_cts"
      ]
    },
    {
      "cell_type": "code",
      "execution_count": 10,
      "metadata": {
        "id": "sihiiNhZwR2N"
      },
      "outputs": [
        {
          "data": {
            "text/plain": [
              "[1,\n",
              " 1,\n",
              " 1,\n",
              " 1,\n",
              " 1,\n",
              " 1,\n",
              " 1,\n",
              " 1,\n",
              " 1,\n",
              " 1,\n",
              " 1,\n",
              " 1,\n",
              " 1,\n",
              " 1,\n",
              " 1,\n",
              " 1,\n",
              " 1,\n",
              " 1,\n",
              " 1,\n",
              " 1,\n",
              " 1,\n",
              " 1,\n",
              " 1,\n",
              " 1,\n",
              " 1,\n",
              " 1,\n",
              " 1,\n",
              " 1,\n",
              " 1,\n",
              " 1,\n",
              " 1,\n",
              " 1,\n",
              " 1,\n",
              " 1,\n",
              " 1,\n",
              " 1,\n",
              " 1,\n",
              " 1,\n",
              " 1,\n",
              " 1,\n",
              " 1,\n",
              " 1,\n",
              " 1,\n",
              " 1,\n",
              " 1,\n",
              " 1,\n",
              " 1,\n",
              " 1,\n",
              " 1,\n",
              " 1,\n",
              " 1,\n",
              " 1,\n",
              " 1,\n",
              " 1,\n",
              " 1,\n",
              " 1,\n",
              " 1,\n",
              " 1,\n",
              " 1,\n",
              " 1,\n",
              " 1,\n",
              " 1,\n",
              " 1,\n",
              " 1,\n",
              " 1,\n",
              " 1,\n",
              " 1,\n",
              " 1,\n",
              " 1,\n",
              " 1,\n",
              " 1,\n",
              " 1,\n",
              " 1,\n",
              " 1,\n",
              " 1,\n",
              " 1,\n",
              " 1,\n",
              " 2,\n",
              " 1,\n",
              " 1,\n",
              " 3,\n",
              " 1,\n",
              " 1,\n",
              " 1,\n",
              " 1,\n",
              " 1,\n",
              " 1,\n",
              " 1,\n",
              " 1,\n",
              " 1,\n",
              " 1,\n",
              " 1,\n",
              " 1,\n",
              " 1,\n",
              " 1,\n",
              " 1,\n",
              " 1,\n",
              " 1,\n",
              " 1,\n",
              " 1,\n",
              " 1,\n",
              " 1,\n",
              " 1,\n",
              " 1,\n",
              " 1,\n",
              " 1,\n",
              " 1,\n",
              " 1,\n",
              " 1,\n",
              " 1,\n",
              " 1,\n",
              " 1,\n",
              " 1,\n",
              " 1,\n",
              " 1,\n",
              " 1,\n",
              " 1,\n",
              " 1,\n",
              " 1,\n",
              " 1,\n",
              " 1,\n",
              " 1,\n",
              " 1,\n",
              " 1,\n",
              " 1,\n",
              " 1,\n",
              " 1,\n",
              " 1,\n",
              " 2,\n",
              " 1,\n",
              " 1,\n",
              " 1,\n",
              " 1,\n",
              " 1,\n",
              " 1,\n",
              " 2,\n",
              " 1,\n",
              " 1,\n",
              " 1,\n",
              " 1,\n",
              " 1,\n",
              " 1,\n",
              " 1,\n",
              " 1,\n",
              " 1,\n",
              " 1,\n",
              " 1,\n",
              " 1,\n",
              " 1,\n",
              " 1,\n",
              " 1,\n",
              " 1,\n",
              " 1,\n",
              " 1,\n",
              " 1,\n",
              " 1,\n",
              " 1]"
            ]
          },
          "execution_count": 10,
          "metadata": {},
          "output_type": "execute_result"
        }
      ],
      "source": [
        "n_gram_cts = list(n_gram_cts[0])  # Convert into a simple list.\n",
        "n_gram_cts"
      ]
    },
    {
      "cell_type": "code",
      "execution_count": 11,
      "metadata": {
        "id": "3T3l_K_IYaZz"
      },
      "outputs": [
        {
          "data": {
            "text/plain": [
              "[('across business problems', 1),\n",
              " ('algorithm of specific', 1),\n",
              " ('algorithms and statistical', 1),\n",
              " ('algorithms are used', 1),\n",
              " ('algorithms build mathematical', 1),\n",
              " ('also referred to', 1),\n",
              " ('an algorithm of', 1),\n",
              " ('analysis through unsupervised', 1),\n",
              " ('and application domains', 1),\n",
              " ('and computer vision', 1),\n",
              " ('and focuses on', 1),\n",
              " ('and inference instead', 1),\n",
              " ('and statistical models', 1),\n",
              " ('application across business', 1),\n",
              " ('application domains to', 1),\n",
              " ('applications of email', 1),\n",
              " ('are used in', 1),\n",
              " ('artificial intelligence machine', 1),\n",
              " ('as predictive analytics', 1),\n",
              " ('as subset of', 1),\n",
              " ('as training data', 1),\n",
              " ('being explicitly programmed', 1),\n",
              " ('build mathematical model', 1),\n",
              " ('business problems machine', 1),\n",
              " ('closely related to', 1),\n",
              " ('computational statistics which', 1),\n",
              " ('computer systems use', 1),\n",
              " ('computer vision where', 1),\n",
              " ('computers the study', 1),\n",
              " ('data analysis through', 1),\n",
              " ('data in order', 1),\n",
              " ('data known as', 1),\n",
              " ('data mining is', 1),\n",
              " ('decisions without being', 1),\n",
              " ('delivers methods theory', 1),\n",
              " ('detection of network', 1),\n",
              " ('develop an algorithm', 1),\n",
              " ('domains to the', 1),\n",
              " ('effectively perform specific', 1),\n",
              " ('email filtering detection', 1),\n",
              " ('explicit instructions relying', 1),\n",
              " ('explicitly programmed to', 1),\n",
              " ('exploratory data analysis', 1),\n",
              " ('field of machine', 1),\n",
              " ('field of study', 1),\n",
              " ('filtering detection of', 1),\n",
              " ('focuses on exploratory', 1),\n",
              " ('focuses on making', 1),\n",
              " ('for performing the', 1),\n",
              " ('in its application', 1),\n",
              " ('in order to', 1),\n",
              " ('in the applications', 1),\n",
              " ('infeasible to develop', 1),\n",
              " ('inference instead it', 1),\n",
              " ('instead it is', 1),\n",
              " ('instructions for performing', 1),\n",
              " ('instructions relying on', 1),\n",
              " ('intelligence machine learning', 1),\n",
              " ('intruders and computer', 1),\n",
              " ('is also referred', 1),\n",
              " ('is closely related', 1),\n",
              " ('is field of', 1),\n",
              " ('is infeasible to', 1),\n",
              " ('is seen as', 1),\n",
              " ('is the scientific', 1),\n",
              " ('it is infeasible', 1),\n",
              " ('it is seen', 1),\n",
              " ('its application across', 1),\n",
              " ('known as training', 1),\n",
              " ('learning algorithms are', 1),\n",
              " ('learning algorithms build', 1),\n",
              " ('learning and focuses', 1),\n",
              " ('learning data mining', 1),\n",
              " ('learning in its', 1),\n",
              " ('learning is also', 1),\n",
              " ('learning is closely', 1),\n",
              " ('learning is the', 1),\n",
              " ('machine learning algorithms', 2),\n",
              " ('machine learning and', 1),\n",
              " ('machine learning data', 1),\n",
              " ('machine learning is', 3),\n",
              " ('make predictions or', 1),\n",
              " ('making predictions using', 1),\n",
              " ('mathematical model of', 1),\n",
              " ('mathematical optimization delivers', 1),\n",
              " ('methods theory and', 1),\n",
              " ('mining is field', 1),\n",
              " ('model of sample', 1),\n",
              " ('models that computer', 1),\n",
              " ('network intruders and', 1),\n",
              " ('of algorithms and', 1),\n",
              " ('of artificial intelligence', 1),\n",
              " ('of email filtering', 1),\n",
              " ('of machine learning', 1),\n",
              " ('of mathematical optimization', 1),\n",
              " ('of network intruders', 1),\n",
              " ('of sample data', 1),\n",
              " ('of specific instructions', 1),\n",
              " ('of study within', 1),\n",
              " ('on exploratory data', 1),\n",
              " ('on making predictions', 1),\n",
              " ('on patterns and', 1),\n",
              " ('optimization delivers methods', 1),\n",
              " ('or decisions without', 1),\n",
              " ('order to make', 1),\n",
              " ('patterns and inference', 1),\n",
              " ('perform specific task', 1),\n",
              " ('perform the task', 1),\n",
              " ('performing the task', 1),\n",
              " ('predictions or decisions', 1),\n",
              " ('predictions using computers', 1),\n",
              " ('problems machine learning', 1),\n",
              " ('programmed to perform', 1),\n",
              " ('referred to as', 1),\n",
              " ('related to computational', 1),\n",
              " ('relying on patterns', 1),\n",
              " ('sample data known', 1),\n",
              " ('scientific study of', 1),\n",
              " ('seen as subset', 1),\n",
              " ('specific instructions for', 1),\n",
              " ('specific task without', 1),\n",
              " ('statistical models that', 1),\n",
              " ('statistics which focuses', 1),\n",
              " ('study of algorithms', 1),\n",
              " ('study of mathematical', 1),\n",
              " ('study within machine', 1),\n",
              " ('subset of artificial', 1),\n",
              " ('systems use to', 1),\n",
              " ('task machine learning', 2),\n",
              " ('task without using', 1),\n",
              " ('that computer systems', 1),\n",
              " ('the applications of', 1),\n",
              " ('the field of', 1),\n",
              " ('the scientific study', 1),\n",
              " ('the study of', 1),\n",
              " ('the task machine', 2),\n",
              " ('theory and application', 1),\n",
              " ('through unsupervised learning', 1),\n",
              " ('to as predictive', 1),\n",
              " ('to computational statistics', 1),\n",
              " ('to develop an', 1),\n",
              " ('to effectively perform', 1),\n",
              " ('to make predictions', 1),\n",
              " ('to perform the', 1),\n",
              " ('to the field', 1),\n",
              " ('training data in', 1),\n",
              " ('unsupervised learning in', 1),\n",
              " ('use to effectively', 1),\n",
              " ('used in the', 1),\n",
              " ('using computers the', 1),\n",
              " ('using explicit instructions', 1),\n",
              " ('vision where it', 1),\n",
              " ('where it is', 1),\n",
              " ('which focuses on', 1),\n",
              " ('within machine learning', 1),\n",
              " ('without being explicitly', 1),\n",
              " ('without using explicit', 1)]"
            ]
          },
          "execution_count": 11,
          "metadata": {},
          "output_type": "execute_result"
        }
      ],
      "source": [
        "list(zip(n_grams,n_gram_cts))                                # Make a list of tuples and show."
      ]
    },
    {
      "cell_type": "markdown",
      "metadata": {
        "id": "q6baqFF2YaZz"
      },
      "source": [
        "#### 1.2. Train by making a dictionary based on n-Grams:"
      ]
    },
    {
      "cell_type": "code",
      "execution_count": 12,
      "metadata": {
        "id": "QmYPH_UzYaZ0"
      },
      "outputs": [],
      "source": [
        "n = 3                                                           # Can be changed to a number equal or larger than 2.\n",
        "n_min = n\n",
        "n_max = n\n",
        "n_gram_type = 'word'\n",
        "vectorizer = CountVectorizer(ngram_range=(n_min,n_max), analyzer = n_gram_type)"
      ]
    },
    {
      "cell_type": "code",
      "execution_count": 15,
      "metadata": {
        "id": "Csh8wEfxYaZ0"
      },
      "outputs": [],
      "source": [
        "n_grams = vectorizer.fit(my_text).get_feature_names_out()           # A list of n-Grams.\n",
        "my_dict = {}\n",
        "for a_gram in n_grams:\n",
        "    words = nltk.word_tokenize(a_gram)\n",
        "    a_nm1_gram = ' '.join(words[0:n-1])                         # (n-1)-Gram.\n",
        "    next_word = words[-1]                                       # Word after the a_nm1_gram.\n",
        "    if a_nm1_gram not in my_dict.keys():\n",
        "        my_dict[a_nm1_gram] = [next_word]                       # a_nm1_gram is a new key. So, initialize the dictionary entry.\n",
        "    else:\n",
        "        my_dict[a_nm1_gram] += [next_word]                      # an_nm1_gram is already in the dictionary."
      ]
    },
    {
      "cell_type": "code",
      "execution_count": 16,
      "metadata": {
        "id": "exSbCfa6YaZ1"
      },
      "outputs": [
        {
          "data": {
            "text/plain": [
              "{'across business': ['problems'],\n",
              " 'algorithm of': ['specific'],\n",
              " 'algorithms and': ['statistical'],\n",
              " 'algorithms are': ['used'],\n",
              " 'algorithms build': ['mathematical'],\n",
              " 'also referred': ['to'],\n",
              " 'an algorithm': ['of'],\n",
              " 'analysis through': ['unsupervised'],\n",
              " 'and application': ['domains'],\n",
              " 'and computer': ['vision'],\n",
              " 'and focuses': ['on'],\n",
              " 'and inference': ['instead'],\n",
              " 'and statistical': ['models'],\n",
              " 'application across': ['business'],\n",
              " 'application domains': ['to'],\n",
              " 'applications of': ['email'],\n",
              " 'are used': ['in'],\n",
              " 'artificial intelligence': ['machine'],\n",
              " 'as predictive': ['analytics'],\n",
              " 'as subset': ['of'],\n",
              " 'as training': ['data'],\n",
              " 'being explicitly': ['programmed'],\n",
              " 'build mathematical': ['model'],\n",
              " 'business problems': ['machine'],\n",
              " 'closely related': ['to'],\n",
              " 'computational statistics': ['which'],\n",
              " 'computer systems': ['use'],\n",
              " 'computer vision': ['where'],\n",
              " 'computers the': ['study'],\n",
              " 'data analysis': ['through'],\n",
              " 'data in': ['order'],\n",
              " 'data known': ['as'],\n",
              " 'data mining': ['is'],\n",
              " 'decisions without': ['being'],\n",
              " 'delivers methods': ['theory'],\n",
              " 'detection of': ['network'],\n",
              " 'develop an': ['algorithm'],\n",
              " 'domains to': ['the'],\n",
              " 'effectively perform': ['specific'],\n",
              " 'email filtering': ['detection'],\n",
              " 'explicit instructions': ['relying'],\n",
              " 'explicitly programmed': ['to'],\n",
              " 'exploratory data': ['analysis'],\n",
              " 'field of': ['machine', 'study'],\n",
              " 'filtering detection': ['of'],\n",
              " 'focuses on': ['exploratory', 'making'],\n",
              " 'for performing': ['the'],\n",
              " 'in its': ['application'],\n",
              " 'in order': ['to'],\n",
              " 'in the': ['applications'],\n",
              " 'infeasible to': ['develop'],\n",
              " 'inference instead': ['it'],\n",
              " 'instead it': ['is'],\n",
              " 'instructions for': ['performing'],\n",
              " 'instructions relying': ['on'],\n",
              " 'intelligence machine': ['learning'],\n",
              " 'intruders and': ['computer'],\n",
              " 'is also': ['referred'],\n",
              " 'is closely': ['related'],\n",
              " 'is field': ['of'],\n",
              " 'is infeasible': ['to'],\n",
              " 'is seen': ['as'],\n",
              " 'is the': ['scientific'],\n",
              " 'it is': ['infeasible', 'seen'],\n",
              " 'its application': ['across'],\n",
              " 'known as': ['training'],\n",
              " 'learning algorithms': ['are', 'build'],\n",
              " 'learning and': ['focuses'],\n",
              " 'learning data': ['mining'],\n",
              " 'learning in': ['its'],\n",
              " 'learning is': ['also', 'closely', 'the'],\n",
              " 'machine learning': ['algorithms', 'and', 'data', 'is'],\n",
              " 'make predictions': ['or'],\n",
              " 'making predictions': ['using'],\n",
              " 'mathematical model': ['of'],\n",
              " 'mathematical optimization': ['delivers'],\n",
              " 'methods theory': ['and'],\n",
              " 'mining is': ['field'],\n",
              " 'model of': ['sample'],\n",
              " 'models that': ['computer'],\n",
              " 'network intruders': ['and'],\n",
              " 'of algorithms': ['and'],\n",
              " 'of artificial': ['intelligence'],\n",
              " 'of email': ['filtering'],\n",
              " 'of machine': ['learning'],\n",
              " 'of mathematical': ['optimization'],\n",
              " 'of network': ['intruders'],\n",
              " 'of sample': ['data'],\n",
              " 'of specific': ['instructions'],\n",
              " 'of study': ['within'],\n",
              " 'on exploratory': ['data'],\n",
              " 'on making': ['predictions'],\n",
              " 'on patterns': ['and'],\n",
              " 'optimization delivers': ['methods'],\n",
              " 'or decisions': ['without'],\n",
              " 'order to': ['make'],\n",
              " 'patterns and': ['inference'],\n",
              " 'perform specific': ['task'],\n",
              " 'perform the': ['task'],\n",
              " 'performing the': ['task'],\n",
              " 'predictions or': ['decisions'],\n",
              " 'predictions using': ['computers'],\n",
              " 'problems machine': ['learning'],\n",
              " 'programmed to': ['perform'],\n",
              " 'referred to': ['as'],\n",
              " 'related to': ['computational'],\n",
              " 'relying on': ['patterns'],\n",
              " 'sample data': ['known'],\n",
              " 'scientific study': ['of'],\n",
              " 'seen as': ['subset'],\n",
              " 'specific instructions': ['for'],\n",
              " 'specific task': ['without'],\n",
              " 'statistical models': ['that'],\n",
              " 'statistics which': ['focuses'],\n",
              " 'study of': ['algorithms', 'mathematical'],\n",
              " 'study within': ['machine'],\n",
              " 'subset of': ['artificial'],\n",
              " 'systems use': ['to'],\n",
              " 'task machine': ['learning'],\n",
              " 'task without': ['using'],\n",
              " 'that computer': ['systems'],\n",
              " 'the applications': ['of'],\n",
              " 'the field': ['of'],\n",
              " 'the scientific': ['study'],\n",
              " 'the study': ['of'],\n",
              " 'the task': ['machine'],\n",
              " 'theory and': ['application'],\n",
              " 'through unsupervised': ['learning'],\n",
              " 'to as': ['predictive'],\n",
              " 'to computational': ['statistics'],\n",
              " 'to develop': ['an'],\n",
              " 'to effectively': ['perform'],\n",
              " 'to make': ['predictions'],\n",
              " 'to perform': ['the'],\n",
              " 'to the': ['field'],\n",
              " 'training data': ['in'],\n",
              " 'unsupervised learning': ['in'],\n",
              " 'use to': ['effectively'],\n",
              " 'used in': ['the'],\n",
              " 'using computers': ['the'],\n",
              " 'using explicit': ['instructions'],\n",
              " 'vision where': ['it'],\n",
              " 'where it': ['is'],\n",
              " 'which focuses': ['on'],\n",
              " 'within machine': ['learning'],\n",
              " 'without being': ['explicitly'],\n",
              " 'without using': ['explicit']}"
            ]
          },
          "execution_count": 16,
          "metadata": {},
          "output_type": "execute_result"
        }
      ],
      "source": [
        "# View the dictionary.\n",
        "my_dict"
      ]
    },
    {
      "cell_type": "markdown",
      "metadata": {
        "id": "IES8Fs_JYaZ1"
      },
      "source": [
        "#### 1.3. Predict the next word:"
      ]
    },
    {
      "cell_type": "code",
      "execution_count": 17,
      "metadata": {
        "id": "_3vUD9EZYaZ1"
      },
      "outputs": [],
      "source": [
        "# Helper function that picks the following word.\n",
        "def predict_next(a_nm1_gram):\n",
        "    value_list_size = len(my_dict[a_nm1_gram])         # length of the value corresponding to the key = a_nm1_gram.\n",
        "    i_pick = randint(0, value_list_size)               # A random number from the range 0 ~ value_list_size.\n",
        "    return(my_dict[a_nm1_gram][i_pick])                  # Return the randomly chosen next word."
      ]
    },
    {
      "cell_type": "code",
      "execution_count": 18,
      "metadata": {
        "id": "DYTd0FYDYaZ2"
      },
      "outputs": [
        {
          "data": {
            "text/plain": [
              "'make'"
            ]
          },
          "execution_count": 18,
          "metadata": {},
          "output_type": "execute_result"
        }
      ],
      "source": [
        "# Test.\n",
        "input_str = 'order to'                                 # Has to be a VALID (n-1)-Gram!\n",
        "predict_next(input_str)"
      ]
    },
    {
      "cell_type": "code",
      "execution_count": 19,
      "metadata": {
        "id": "zzva6VHmYaZ2"
      },
      "outputs": [
        {
          "name": "stdout",
          "output_type": "stream",
          "text": [
            "and\n",
            "data\n",
            "is\n",
            "data\n",
            "and\n",
            "algorithms\n",
            "algorithms\n",
            "data\n",
            "data\n",
            "algorithms\n"
          ]
        }
      ],
      "source": [
        "# Another test.\n",
        "# Repeat for 10 times and see that the next word is chosen randomly with a probability proportional to the occurrence.\n",
        "input_str = 'machine learning'                                 # Has to be a VALID (n-1)-Gram!\n",
        "for i in range(10):\n",
        "    print(predict_next(input_str))"
      ]
    },
    {
      "cell_type": "markdown",
      "metadata": {
        "id": "Anw4etKaYaZ2"
      },
      "source": [
        "#### 1.4. Predict a sequence:"
      ]
    },
    {
      "cell_type": "code",
      "execution_count": 20,
      "metadata": {
        "id": "HISOxsqYYaZ2"
      },
      "outputs": [],
      "source": [
        "# Initialize the random seed.\n",
        "seed(123)"
      ]
    },
    {
      "cell_type": "code",
      "execution_count": 21,
      "metadata": {
        "id": "ML4VWMlQYaZ3"
      },
      "outputs": [],
      "source": [
        "# A seed string has to be input by the user.\n",
        "my_seed_str = 'machine learning'                                   # Has to be a VALID (n-1)-Gram!\n",
        "#my_seed_str = 'in order'                                         # Has to be a VALID (n-1)-Gram!"
      ]
    },
    {
      "cell_type": "code",
      "execution_count": 22,
      "metadata": {
        "id": "YWOpd7L-YaZ3"
      },
      "outputs": [],
      "source": [
        "a_nm1_gram = my_seed_str\n",
        "output_string = my_seed_str                                         # Initialize the output string.\n",
        "while a_nm1_gram in my_dict:\n",
        "    output_string += \" \" + predict_next(a_nm1_gram)\n",
        "    words = nltk.word_tokenize(output_string)\n",
        "    a_nm1_gram = ' '.join(words[-n+1:])                            # Update a_nm1_gram."
      ]
    },
    {
      "cell_type": "code",
      "execution_count": null,
      "metadata": {
        "id": "6OiA86E_YaZ3"
      },
      "outputs": [],
      "source": [
        "# Output the predicted sequence.\n",
        "output_string"
      ]
    },
    {
      "cell_type": "code",
      "execution_count": null,
      "metadata": {
        "id": "RtvYt9M1yNmC"
      },
      "outputs": [],
      "source": [
        "len(nltk.word_tokenize(output_string))"
      ]
    },
    {
      "cell_type": "code",
      "execution_count": null,
      "metadata": {
        "id": "pRvnozWW3oI8"
      },
      "outputs": [],
      "source": []
    }
  ],
  "metadata": {
    "colab": {
      "provenance": []
    },
    "kernelspec": {
      "display_name": "Python 3",
      "language": "python",
      "name": "python3"
    },
    "language_info": {
      "codemirror_mode": {
        "name": "ipython",
        "version": 3
      },
      "file_extension": ".py",
      "mimetype": "text/x-python",
      "name": "python",
      "nbconvert_exporter": "python",
      "pygments_lexer": "ipython3",
      "version": "3.12.0"
    }
  },
  "nbformat": 4,
  "nbformat_minor": 0
}
