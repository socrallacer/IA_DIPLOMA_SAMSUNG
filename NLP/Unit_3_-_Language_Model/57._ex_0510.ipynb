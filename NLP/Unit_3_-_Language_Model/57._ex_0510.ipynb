{
  "cells": [
    {
      "cell_type": "markdown",
      "metadata": {
        "id": "iVMHVhZQwYTv"
      },
      "source": [
        "## Coding Excercise #0510\n",
        "Ejercicio basado en el material del Máster en Big Data Analytics de Lluís F. Hurtado (lhurtado at dsic.upv.es)"
      ]
    },
    {
      "cell_type": "code",
      "execution_count": 40,
      "metadata": {
        "colab": {
          "base_uri": "https://localhost:8080/"
        },
        "id": "5QydMJDbwYTx",
        "outputId": "2a835400-0307-4ae4-fed8-f027a487e92d"
      },
      "outputs": [
        {
          "output_type": "stream",
          "name": "stderr",
          "text": [
            "[nltk_data] Downloading package stopwords to /root/nltk_data...\n",
            "[nltk_data]   Package stopwords is already up-to-date!\n"
          ]
        },
        {
          "output_type": "execute_result",
          "data": {
            "text/plain": [
              "True"
            ]
          },
          "metadata": {},
          "execution_count": 40
        }
      ],
      "source": [
        "import nltk\n",
        "import numpy as np\n",
        "from nltk.corpus import stopwords\n",
        "from sklearn.feature_extraction.text import TfidfVectorizer, CountVectorizer\n",
        "from sklearn.metrics import pairwise_distances\n",
        "from sklearn.metrics.pairwise import cosine_similarity,cosine_distances\n",
        "nltk.download('stopwords')"
      ]
    },
    {
      "cell_type": "code",
      "source": [
        "# Funciones auxiliares\n",
        "\n",
        "from prettytable import PrettyTable\n",
        "\n",
        "def pinta_matriz_dispersa(M, nombre_col=None, pre=2):\n",
        "    filas, columnas = M.shape\n",
        "    header = nombre_col != None\n",
        "    pt = PrettyTable(nombre_col, header=header)\n",
        "    for fila in range(filas):\n",
        "        vf = M.getrow(fila)\n",
        "        _, cind = vf.nonzero()\n",
        "        pt.add_row([round(vf[0, c],pre) if c in cind else '-' for c in range(columnas)])\n",
        "    return pt\n"
      ],
      "metadata": {
        "id": "ytp6B-cmVUtu"
      },
      "execution_count": 36,
      "outputs": []
    },
    {
      "cell_type": "markdown",
      "metadata": {
        "id": "44m6iduDwYTx"
      },
      "source": [
        "### 1. TF IDF representation:"
      ]
    },
    {
      "cell_type": "markdown",
      "metadata": {
        "id": "Yeppze_AwYTy"
      },
      "source": [
        "#### 1.1. Create a TF IDF matrix:"
      ]
    },
    {
      "cell_type": "code",
      "execution_count": 37,
      "metadata": {
        "id": "fAeDDKI3wYTy"
      },
      "outputs": [],
      "source": [
        "# The data.\n",
        "my_docs = [\"learning intelligence machine learning statistics\",\n",
        "           \"machine classification learning performance\",\n",
        "           \"machine classification machine learning machine performance\"]"
      ]
    },
    {
      "cell_type": "code",
      "execution_count": 38,
      "metadata": {
        "id": "JeKoJSTFwYTy"
      },
      "outputs": [],
      "source": [
        "# A very simple pre-processing.\n",
        "my_docs = [x.lower() for x in my_docs]"
      ]
    },
    {
      "cell_type": "markdown",
      "source": [
        "###TF usando CountVectorizer o TfidfVectorizer"
      ],
      "metadata": {
        "id": "cubaAdGdW_1E"
      }
    },
    {
      "cell_type": "code",
      "source": [
        "print('\\nContadores binarios')\n",
        "vec = CountVectorizer(binary=True)\n",
        "X = vec.fit_transform(my_docs)\n",
        "voca = list(vec.get_feature_names_out())\n",
        "print(pinta_matriz_dispersa(X, voca, 4))\n",
        "\n",
        "print('\\nContadores')\n",
        "vec = CountVectorizer()\n",
        "X = vec.fit_transform(my_docs)\n",
        "voca = list(vec.get_feature_names_out())\n",
        "print(pinta_matriz_dispersa(X, voca, 4))\n",
        "\n",
        "print('\\nTF sin normalizar (equivalente a Contadores)')\n",
        "vec = TfidfVectorizer(norm=None, use_idf=False)\n",
        "X = vec.fit_transform(my_docs)\n",
        "voca = list(vec.get_feature_names_out())\n",
        "print(pinta_matriz_dispersa(X, voca, 4))\n",
        "\n",
        "print(\"\\nTF normalizado 'l1' (Contadores normalizados para sumar 1): TF(t,d)= frec(t,d) / |d|\")\n",
        "vec = TfidfVectorizer(norm='l1', use_idf=False)\n",
        "X = vec.fit_transform(my_docs)\n",
        "voca = list(vec.get_feature_names_out())\n",
        "print(pinta_matriz_dispersa(X, voca, 4))\n",
        "\n",
        "\n",
        "print(\"\\nTF normalizado 'l2' (Contadores normalizados para que el módulo del vector sea 1)\")\n",
        "vec = TfidfVectorizer(norm='l2', use_idf=False)\n",
        "X = vec.fit_transform(my_docs)\n",
        "voca = list(vec.get_feature_names_out())\n",
        "print(pinta_matriz_dispersa(X, voca, 4))"
      ],
      "metadata": {
        "id": "8ozHv8D2WG9x"
      },
      "execution_count": null,
      "outputs": []
    },
    {
      "cell_type": "markdown",
      "source": [
        "## tf-idf (Term frequency – Inverse document frequency)\n",
        "\n",
        "$$\n",
        "\\color{Blue}{\n",
        "tf(t,d) = \\text{número de veces que el token $t$ está en el document $d$}}\n",
        "$$\n",
        "\n",
        "\n",
        "$$\n",
        "\\color{Red}{\n",
        "idf(t,D) = \\left\\{\\begin{matrix}\n",
        "{\\text{no suavizado} : ln \\left ( \\frac{|D|}{|\\{d\\in D: t \\in d\\}|} \\right ) }\n",
        "\\\\\n",
        "{\\text{suavizado}  : ln \\left ( \\frac{|D|+1}{ | \\{d\\in D: t \\in d\\} |+1} \\right )}\n",
        "\\end{matrix}\\right.}\n",
        "$$\n",
        "\n",
        "$$ tf\\text{-}idf = \\color{Blue}{tf} \\cdot (\\color{Red}{idf} + 1) $$\n",
        "\n"
      ],
      "metadata": {
        "id": "stRSSXb5Yubc"
      }
    },
    {
      "cell_type": "markdown",
      "metadata": {
        "id": "mZhngOxSwYTy"
      },
      "source": [
        "TfidfVectorizer() arguments: <br>\n",
        "- *max_features* : maximum number of features (distict words). <br>\n",
        "- *min_df* : The minimum DF. Integer value means count and real number (0~1) means proportion. <br>\n",
        "- *max_df* : The maximum DF. Integer value means count and real number (0~1) means proportion. Helps to filter out the stop words. <br>\n"
      ]
    },
    {
      "cell_type": "code",
      "source": [
        "print(\"\\nTF-IDF sin suavizar\")\n",
        "vec = TfidfVectorizer(norm=None, smooth_idf=False)\n",
        "X = vec.fit_transform(my_docs)\n",
        "voca = list(vec.get_feature_names_out())\n",
        "print(pinta_matriz_dispersa(X, voca, 4))\n",
        "\n",
        "print(\"\\nTF-IDF con idf suavizado\")\n",
        "vec = TfidfVectorizer(norm=None, smooth_idf=True)\n",
        "X = vec.fit_transform(my_docs)\n",
        "voca = list(vec.get_feature_names_out())\n",
        "print(pinta_matriz_dispersa(X, voca, 4))\n",
        "\n",
        "print(\"\\nTF-IDF: con idf suavizado y normalización 'l1'\")\n",
        "vec = TfidfVectorizer(norm='l1', smooth_idf=True)\n",
        "X = vec.fit_transform(my_docs)\n",
        "voca = list(vec.get_feature_names_out())\n",
        "print(pinta_matriz_dispersa(X, voca, 4))\n",
        "\n",
        "print(\"\\nTF-IDF: con idf suavizado y normalización 'l2'(opción por defecto)\")\n",
        "vec = TfidfVectorizer()\n",
        "X = vec.fit_transform(my_docs)\n",
        "voca = list(vec.get_feature_names_out())\n",
        "print(pinta_matriz_dispersa(X, voca, 4))\n",
        "\n",
        "print(\"\\nTF-IDF: sin suavizado y normalización 'l1'\")\n",
        "vec = TfidfVectorizer(norm='l1', smooth_idf=False)\n",
        "X = vec.fit_transform(my_docs)\n",
        "voca = list(vec.get_feature_names_out())\n",
        "print(pinta_matriz_dispersa(X, voca, 4))"
      ],
      "metadata": {
        "colab": {
          "base_uri": "https://localhost:8080/"
        },
        "id": "QFNDVs5cY3IV",
        "outputId": "295a5190-8b16-4e19-8108-4a13de558a0e"
      },
      "execution_count": 51,
      "outputs": [
        {
          "output_type": "stream",
          "name": "stdout",
          "text": [
            "\n",
            "TF-IDF sin suavizar\n",
            "+----------------+--------------+----------+---------+-------------+------------+\n",
            "| classification | intelligence | learning | machine | performance | statistics |\n",
            "+----------------+--------------+----------+---------+-------------+------------+\n",
            "|       -        |    2.0986    |   2.0    |   1.0   |      -      |   2.0986   |\n",
            "|     1.4055     |      -       |   1.0    |   1.0   |    1.4055   |     -      |\n",
            "|     1.4055     |      -       |   1.0    |   3.0   |    1.4055   |     -      |\n",
            "+----------------+--------------+----------+---------+-------------+------------+\n",
            "\n",
            "TF-IDF con idf suavizado\n",
            "+----------------+--------------+----------+---------+-------------+------------+\n",
            "| classification | intelligence | learning | machine | performance | statistics |\n",
            "+----------------+--------------+----------+---------+-------------+------------+\n",
            "|       -        |    1.6931    |   2.0    |   1.0   |      -      |   1.6931   |\n",
            "|     1.2877     |      -       |   1.0    |   1.0   |    1.2877   |     -      |\n",
            "|     1.2877     |      -       |   1.0    |   3.0   |    1.2877   |     -      |\n",
            "+----------------+--------------+----------+---------+-------------+------------+\n",
            "\n",
            "TF-IDF: con idf suavizado y normalización 'l1'\n",
            "+----------------+--------------+----------+---------+-------------+------------+\n",
            "| classification | intelligence | learning | machine | performance | statistics |\n",
            "+----------------+--------------+----------+---------+-------------+------------+\n",
            "|       -        |    0.2651    |  0.3132  |  0.1566 |      -      |   0.2651   |\n",
            "|     0.2814     |      -       |  0.2186  |  0.2186 |    0.2814   |     -      |\n",
            "|     0.1958     |      -       |  0.1521  |  0.4562 |    0.1958   |     -      |\n",
            "+----------------+--------------+----------+---------+-------------+------------+\n",
            "\n",
            "TF-IDF: con idf suavizado y normalización 'l2'(opción por defecto)\n",
            "+----------------+--------------+----------+---------+-------------+------------+\n",
            "| classification | intelligence | learning | machine | performance | statistics |\n",
            "+----------------+--------------+----------+---------+-------------+------------+\n",
            "|       -        |    0.5168    |  0.6105  |  0.3052 |      -      |   0.5168   |\n",
            "|     0.5585     |      -       |  0.4337  |  0.4337 |    0.5585   |     -      |\n",
            "|     0.3529     |      -       |  0.274   |  0.8221 |    0.3529   |     -      |\n",
            "+----------------+--------------+----------+---------+-------------+------------+\n",
            "\n",
            "TF-IDF: sin suavizado y normalización 'l1'\n",
            "+----------------+--------------+----------+---------+-------------+------------+\n",
            "| classification | intelligence | learning | machine | performance | statistics |\n",
            "+----------------+--------------+----------+---------+-------------+------------+\n",
            "|       -        |    0.2916    |  0.2779  |  0.1389 |      -      |   0.2916   |\n",
            "|     0.2921     |      -       |  0.2079  |  0.2079 |    0.2921   |     -      |\n",
            "|     0.2064     |      -       |  0.1468  |  0.4405 |    0.2064   |     -      |\n",
            "+----------------+--------------+----------+---------+-------------+------------+\n"
          ]
        }
      ]
    },
    {
      "cell_type": "code",
      "source": [
        "print(\"\\nTF-IDF: con idf suavizado y normalización 'l1'\")\n",
        "vec = TfidfVectorizer(norm='l1', smooth_idf=True)\n",
        "X = vec.fit_transform(my_docs)\n",
        "voca = list(vec.get_feature_names_out())\n",
        "print(pinta_matriz_dispersa(X, voca, 4))"
      ],
      "metadata": {
        "colab": {
          "base_uri": "https://localhost:8080/"
        },
        "id": "25ngAfi3cVhK",
        "outputId": "1238798c-ca64-4193-9b21-fd0d42b97172"
      },
      "execution_count": 52,
      "outputs": [
        {
          "output_type": "stream",
          "name": "stdout",
          "text": [
            "\n",
            "TF-IDF: con idf suavizado y normalización 'l1'\n",
            "+----------------+--------------+----------+---------+-------------+------------+\n",
            "| classification | intelligence | learning | machine | performance | statistics |\n",
            "+----------------+--------------+----------+---------+-------------+------------+\n",
            "|       -        |    0.2651    |  0.3132  |  0.1566 |      -      |   0.2651   |\n",
            "|     0.2814     |      -       |  0.2186  |  0.2186 |    0.2814   |     -      |\n",
            "|     0.1958     |      -       |  0.1521  |  0.4562 |    0.1958   |     -      |\n",
            "+----------------+--------------+----------+---------+-------------+------------+\n"
          ]
        }
      ]
    },
    {
      "cell_type": "code",
      "execution_count": 56,
      "metadata": {
        "colab": {
          "base_uri": "https://localhost:8080/"
        },
        "id": "3HjZ-YJuwYTz",
        "outputId": "2ef9089a-5d32-4c1b-d484-6e7497b068af"
      },
      "outputs": [
        {
          "output_type": "stream",
          "name": "stdout",
          "text": [
            "['classification' 'intelligence' 'learning' 'machine' 'performance'\n",
            " 'statistics']\n"
          ]
        }
      ],
      "source": [
        "# Output the features.\n",
        "print(vec.get_feature_names_out())"
      ]
    },
    {
      "cell_type": "markdown",
      "metadata": {
        "id": "hZpKtC4OwYT0"
      },
      "source": [
        "#### 1.2. Calculate the cosine similarity:"
      ]
    },
    {
      "cell_type": "code",
      "execution_count": 59,
      "metadata": {
        "colab": {
          "base_uri": "https://localhost:8080/"
        },
        "id": "DVwJkzzDwYT0",
        "outputId": "016035e8-0284-40ec-c4c6-11f169d471cf"
      },
      "outputs": [
        {
          "output_type": "execute_result",
          "data": {
            "text/plain": [
              "array([[1.   , 0.397, 0.418],\n",
              "       [0.397, 1.   , 0.87 ],\n",
              "       [0.418, 0.87 , 1.   ]])"
            ]
          },
          "metadata": {},
          "execution_count": 59
        }
      ],
      "source": [
        "# The cosine similarity matrix.\n",
        "1 - np.round(pairwise_distances(X, metric=\"cosine\"),3)"
      ]
    },
    {
      "cell_type": "code",
      "source": [
        "np.round(cosine_similarity(X),3)"
      ],
      "metadata": {
        "colab": {
          "base_uri": "https://localhost:8080/"
        },
        "id": "q8xMPNHXda7G",
        "outputId": "af619e75-6e83-4a28-d89b-f25c4c04ab0f"
      },
      "execution_count": 60,
      "outputs": [
        {
          "output_type": "execute_result",
          "data": {
            "text/plain": [
              "array([[1.   , 0.397, 0.418],\n",
              "       [0.397, 1.   , 0.87 ],\n",
              "       [0.418, 0.87 , 1.   ]])"
            ]
          },
          "metadata": {},
          "execution_count": 60
        }
      ]
    },
    {
      "cell_type": "code",
      "source": [
        "Q1 = ['machine intelligence']\n",
        "Y=vec.transform(Q1)\n",
        "print(pinta_matriz_dispersa(Y, voca, 4))"
      ],
      "metadata": {
        "colab": {
          "base_uri": "https://localhost:8080/"
        },
        "id": "R_34hQBmcYZ9",
        "outputId": "624025e4-0025-4544-8c99-4cf7aa334653"
      },
      "execution_count": 69,
      "outputs": [
        {
          "output_type": "stream",
          "name": "stdout",
          "text": [
            "+----------------+--------------+----------+---------+-------------+------------+\n",
            "| classification | intelligence | learning | machine | performance | statistics |\n",
            "+----------------+--------------+----------+---------+-------------+------------+\n",
            "|       -        |    0.6287    |    -     |  0.3713 |      -      |     -      |\n",
            "+----------------+--------------+----------+---------+-------------+------------+\n"
          ]
        }
      ]
    },
    {
      "cell_type": "code",
      "source": [
        "Y.shape,X.shape"
      ],
      "metadata": {
        "colab": {
          "base_uri": "https://localhost:8080/"
        },
        "id": "McP3QbBWcwRh",
        "outputId": "e798f354-f681-43ca-c592-b2c4776d60bd"
      },
      "execution_count": 70,
      "outputs": [
        {
          "output_type": "execute_result",
          "data": {
            "text/plain": [
              "((1, 6), (3, 6))"
            ]
          },
          "metadata": {},
          "execution_count": 70
        }
      ]
    },
    {
      "cell_type": "code",
      "source": [
        "cosine_similarity(Y,X)"
      ],
      "metadata": {
        "colab": {
          "base_uri": "https://localhost:8080/"
        },
        "id": "i3Zx-kOReG9-",
        "outputId": "161c6064-a327-42ef-ffd9-1d155800b43e"
      },
      "execution_count": 71,
      "outputs": [
        {
          "output_type": "execute_result",
          "data": {
            "text/plain": [
              "array([[0.60020875, 0.2205588 , 0.41807806]])"
            ]
          },
          "metadata": {},
          "execution_count": 71
        }
      ]
    },
    {
      "cell_type": "code",
      "source": [
        "Q2 = ['machine learning']\n",
        "Y=vec.transform(Q2)\n",
        "print(pinta_matriz_dispersa(Y, voca, 4))\n",
        "cosine_similarity(Y,X)"
      ],
      "metadata": {
        "colab": {
          "base_uri": "https://localhost:8080/"
        },
        "id": "L4Z3-7ZEQnzZ",
        "outputId": "63199b37-0e5e-48cf-dbd8-436cf63c05fd"
      },
      "execution_count": 72,
      "outputs": [
        {
          "output_type": "stream",
          "name": "stdout",
          "text": [
            "+----------------+--------------+----------+---------+-------------+------------+\n",
            "| classification | intelligence | learning | machine | performance | statistics |\n",
            "+----------------+--------------+----------+---------+-------------+------------+\n",
            "|       -        |      -       |   0.5    |   0.5   |      -      |     -      |\n",
            "+----------------+--------------+----------+---------+-------------+------------+\n"
          ]
        },
        {
          "output_type": "execute_result",
          "data": {
            "text/plain": [
              "array([[0.6474939 , 0.61335554, 0.77509337]])"
            ]
          },
          "metadata": {},
          "execution_count": 72
        }
      ]
    },
    {
      "cell_type": "code",
      "source": [
        "Q3 = ['machine learning classification']\n",
        "Y=vec.transform(Q3)\n",
        "print(pinta_matriz_dispersa(Y, voca, 4))\n",
        "cosine_similarity(Y,X)"
      ],
      "metadata": {
        "colab": {
          "base_uri": "https://localhost:8080/"
        },
        "id": "m6H-U4qifpCa",
        "outputId": "d5de3f70-dd95-4624-e3d7-c324654b90b9"
      },
      "execution_count": 73,
      "outputs": [
        {
          "output_type": "stream",
          "name": "stdout",
          "text": [
            "+----------------+--------------+----------+---------+-------------+------------+\n",
            "| classification | intelligence | learning | machine | performance | statistics |\n",
            "+----------------+--------------+----------+---------+-------------+------------+\n",
            "|     0.3917     |      -       |  0.3042  |  0.3042 |      -      |     -      |\n",
            "+----------------+--------------+----------+---------+-------------+------------+\n"
          ]
        },
        {
          "output_type": "execute_result",
          "data": {
            "text/plain": [
              "array([[0.47876391, 0.82951944, 0.81068529]])"
            ]
          },
          "metadata": {},
          "execution_count": 73
        }
      ]
    },
    {
      "cell_type": "code",
      "source": [],
      "metadata": {
        "id": "rO7h5CULftrP"
      },
      "execution_count": null,
      "outputs": []
    }
  ],
  "metadata": {
    "kernelspec": {
      "display_name": "Python 3",
      "language": "python",
      "name": "python3"
    },
    "language_info": {
      "codemirror_mode": {
        "name": "ipython",
        "version": 3
      },
      "file_extension": ".py",
      "mimetype": "text/x-python",
      "name": "python",
      "nbconvert_exporter": "python",
      "pygments_lexer": "ipython3",
      "version": "3.8.8"
    },
    "colab": {
      "provenance": []
    }
  },
  "nbformat": 4,
  "nbformat_minor": 0
}