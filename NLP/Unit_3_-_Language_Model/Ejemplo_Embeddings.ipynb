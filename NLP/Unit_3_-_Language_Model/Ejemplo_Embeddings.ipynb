{
  "cells": [
    {
      "cell_type": "code",
      "execution_count": 1,
      "source": [
        "# Word embeddings\n",
        "import nltk\n",
        "import gensim\n",
        "from nltk.data import find\n",
        "nltk.download('word2vec_sample')\n",
        "# Cargar el modelo de embeding pre-entrenados del NLTK\n",
        "word2vec_sample = str(find('models/word2vec_sample/pruned.word2vec.txt'))\n",
        "model = gensim.models.KeyedVectors.load_word2vec_format(word2vec_sample, binary=False)\n"
      ],
      "outputs": [
        {
          "output_type": "stream",
          "name": "stderr",
          "text": [
            "[nltk_data] Downloading package word2vec_sample to /root/nltk_data...\n",
            "[nltk_data]   Unzipping models/word2vec_sample.zip.\n"
          ]
        }
      ],
      "metadata": {
        "scrolled": false,
        "id": "I04a9ieB32uA",
        "colab": {
          "base_uri": "https://localhost:8080/"
        },
        "outputId": "2e26a34e-4e8d-4dff-91d4-7a00ce20d7fe"
      }
    },
    {
      "cell_type": "code",
      "source": [
        "# Vector de una palabra\n",
        "print (model['class'])\n",
        "# Número palabras\n",
        "print(\"#palabras: \", len(model.key_to_index))\n",
        "# Tamaño del vector\n",
        "print (\"#componentes: \",len(model['class']))\n"
      ],
      "metadata": {
        "id": "Z-oPytVF81dY"
      },
      "execution_count": null,
      "outputs": []
    },
    {
      "cell_type": "code",
      "source": [
        "vector1 = model['class']\n",
        "vector2 = model['school']\n",
        "print (vector1)\n",
        "print (\"--------\")\n",
        "print (vector1 + vector2)\n"
      ],
      "metadata": {
        "id": "6Ibf5yno8wnA"
      },
      "execution_count": null,
      "outputs": []
    },
    {
      "cell_type": "code",
      "execution_count": null,
      "source": [
        "#Buscar n palabras similares a una dada\n",
        "model.most_similar(positive=['football'], topn = 10)"
      ],
      "outputs": [],
      "metadata": {
        "id": "pd5T8i1A32uI"
      }
    },
    {
      "cell_type": "code",
      "execution_count": null,
      "source": [
        "#Palabras que no son de un dominio temático\n",
        "\n",
        "model.doesnt_match(['breakfast','house', 'dinner', 'lunch'])"
      ],
      "outputs": [],
      "metadata": {
        "id": "qOIR7Xw832uI"
      }
    },
    {
      "cell_type": "code",
      "execution_count": null,
      "source": [
        "#Mikolov et al. (2013) figured out that word embedding captures much of syntactic and semantic regularities.\n",
        "#For example, the vector 'King - Man + Woman' is close to 'Queen' and 'Germany - Berlin + Paris' is close to 'France'."
      ],
      "outputs": [],
      "metadata": {
        "id": "lsQAUn6432uJ"
      }
    },
    {
      "cell_type": "code",
      "execution_count": 8,
      "source": [
        "model.most_similar(positive=['woman','king'], negative=['man'], topn = 1)"
      ],
      "outputs": [
        {
          "output_type": "execute_result",
          "data": {
            "text/plain": [
              "[('queen', 0.7118193507194519)]"
            ]
          },
          "metadata": {},
          "execution_count": 8
        }
      ],
      "metadata": {
        "id": "Vp449wIi32uK",
        "colab": {
          "base_uri": "https://localhost:8080/"
        },
        "outputId": "670fa0b6-bb27-4c6b-ae94-4ab0039d944f"
      }
    },
    {
      "cell_type": "code",
      "source": [
        "model.most_similar([\"king\", \"queen\"], topn=5)"
      ],
      "metadata": {
        "id": "Zr-bCPRBP1w9"
      },
      "execution_count": null,
      "outputs": []
    },
    {
      "cell_type": "code",
      "execution_count": null,
      "source": [
        "model.most_similar(positive=['Paris','Germany'], negative=['Berlin'], topn = 1)"
      ],
      "outputs": [],
      "metadata": {
        "id": "x1URBAEW32uK"
      }
    },
    {
      "cell_type": "code",
      "source": [
        "model.most_similar_to_given(\"banana\",['monkey','tree','coconut'])"
      ],
      "metadata": {
        "id": "ujzZZj4aPTdK"
      },
      "execution_count": null,
      "outputs": []
    },
    {
      "cell_type": "code",
      "execution_count": null,
      "source": [
        "model.similarity('woman','bad')"
      ],
      "outputs": [],
      "metadata": {
        "id": "uvy5fvLS32uK"
      }
    },
    {
      "cell_type": "code",
      "execution_count": null,
      "source": [
        "model.similarity('man','bad')"
      ],
      "outputs": [],
      "metadata": {
        "id": "dKmWPbQG32uL"
      }
    },
    {
      "cell_type": "code",
      "execution_count": null,
      "source": [
        "model.similarity('good','bad')"
      ],
      "outputs": [],
      "metadata": {
        "id": "M6Y0VCjN32uM"
      }
    },
    {
      "cell_type": "code",
      "execution_count": null,
      "source": [
        "model.similarity('handsome','ugly')"
      ],
      "outputs": [],
      "metadata": {
        "id": "_ashYN_132uN"
      }
    },
    {
      "cell_type": "code",
      "execution_count": null,
      "source": [
        "model.similarity('handsome','beautiful')"
      ],
      "outputs": [],
      "metadata": {
        "id": "Tl91QWTN32uN"
      }
    },
    {
      "cell_type": "code",
      "execution_count": null,
      "source": [
        "model.similarity('chocolate','salt')"
      ],
      "outputs": [],
      "metadata": {
        "id": "8jlcHO_632uP"
      }
    },
    {
      "cell_type": "code",
      "execution_count": null,
      "source": [
        "model.similarity('chocolate','sweet')"
      ],
      "outputs": [],
      "metadata": {
        "id": "ZxWXaSg532uQ"
      }
    },
    {
      "cell_type": "code",
      "execution_count": null,
      "source": [
        "model.similarity('chocolate','cream')"
      ],
      "outputs": [],
      "metadata": {
        "id": "6yBzxTcv32uQ"
      }
    },
    {
      "cell_type": "code",
      "execution_count": null,
      "source": [
        "model.similarity('orange','car')"
      ],
      "outputs": [],
      "metadata": {
        "id": "0XzstX2k32uQ"
      }
    },
    {
      "cell_type": "code",
      "source": [
        "model.most_similar(positive=['throne','judge'], negative=['king'], topn = 5)"
      ],
      "metadata": {
        "id": "UIoIKssolpYh"
      },
      "execution_count": null,
      "outputs": []
    },
    {
      "cell_type": "code",
      "source": [
        "model.most_similar(positive=['France','Spanish'], negative=['French'], topn = 5)"
      ],
      "metadata": {
        "id": "LvgCtT4MmdtM"
      },
      "execution_count": null,
      "outputs": []
    },
    {
      "cell_type": "code",
      "source": [
        "model.most_similar(positive=['good','sad'], negative=['bad'], topn = 5)"
      ],
      "metadata": {
        "id": "qPUm6Jjjml0K"
      },
      "execution_count": null,
      "outputs": []
    },
    {
      "cell_type": "code",
      "source": [
        "model.most_similar(positive=['hospital','teacher'], negative=['nurse'], topn = 5)"
      ],
      "metadata": {
        "id": "Vvb44OIqmra9"
      },
      "execution_count": null,
      "outputs": []
    },
    {
      "cell_type": "code",
      "source": [
        "model.most_similar(positive=['planet','house'], negative=['universe'], topn = 5)"
      ],
      "metadata": {
        "id": "FPPasP88myK9"
      },
      "execution_count": null,
      "outputs": []
    }
  ],
  "metadata": {
    "kernelspec": {
      "display_name": "Python 3 (ipykernel)",
      "language": "python",
      "name": "python3"
    },
    "language_info": {
      "codemirror_mode": {
        "name": "ipython",
        "version": 3
      },
      "file_extension": ".py",
      "mimetype": "text/x-python",
      "name": "python",
      "nbconvert_exporter": "python",
      "pygments_lexer": "ipython3",
      "version": "3.8.11"
    },
    "colab": {
      "provenance": []
    }
  },
  "nbformat": 4,
  "nbformat_minor": 0
}