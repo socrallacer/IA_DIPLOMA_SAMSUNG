{
  "nbformat": 4,
  "nbformat_minor": 0,
  "metadata": {
    "colab": {
      "provenance": []
    },
    "kernelspec": {
      "name": "python3",
      "display_name": "Python 3"
    },
    "language_info": {
      "name": "python"
    }
  },
  "cells": [
    {
      "cell_type": "code",
      "execution_count": null,
      "metadata": {
        "id": "m32iT9kL1vR3"
      },
      "outputs": [],
      "source": [
        "import numpy as np\n",
        "\n",
        "\n",
        "def similarity(Q,D):\n",
        "  # Implementa un función que dados dos vectores devuelva su similitud (valor entre 0 y 1)\n",
        "  # producto escalar: Q.dot(D)\n",
        "  # módulo:  np.linalg.norm(Q)\n",
        "\n",
        "\n",
        "\n",
        "\n"
      ]
    },
    {
      "cell_type": "code",
      "source": [
        "#['learning','intelligence','machine','statistics','classification','performance']\n",
        "# Matriz TF\n",
        "D1=np.array([0.4,0.2,0.2,0.2,0,0])\n",
        "D2=np.array([0.25,0,0.25,0,0.25,0.25])\n",
        "D3=np.array([0.17,0,0.5,0,0.17,0.17])\n",
        "Q1=np.array([0,0.5,0.5,0,0,0]) #Machine intelligence\n",
        "Q2=np.array([0.5,0,0.5,0,0,0]) #Machine learning\n",
        "Q3=np.array([0.33,0,0.33,0,0.33,0]) #Machine learning classification"
      ],
      "metadata": {
        "id": "FK-TnZGR5_8B"
      },
      "execution_count": null,
      "outputs": []
    },
    {
      "cell_type": "code",
      "source": [
        "# Calcula la similitud entre cada consulta (Q1,Q2,Q3) y los documentos (D1,D2,D3) utilizando la matriz TF"
      ],
      "metadata": {
        "id": "8UWy5jtJ1w45"
      },
      "execution_count": null,
      "outputs": []
    },
    {
      "cell_type": "code",
      "source": [
        "#['learning','intelligence','machine','statistics','classification','performance']\n",
        "# Matriz TF-IDF\n",
        "D1=np.array([0,0.095,0,0.095,0,0])\n",
        "D2=np.array([0,0,0,0,0.044,0.044])\n",
        "D3=np.array([0,0,0,0,0.03,0.03])\n",
        "Q1=np.array([0,0.5,0.5,0,0,0]) #Machine intelligence\n",
        "Q2=np.array([0.5,0,0.5,0,0,0]) #Machine learning\n",
        "Q3=np.array([0.33,0,0.33,0,0.33,0]) #Machine learning classification"
      ],
      "metadata": {
        "id": "ymUKxN5w8tEj"
      },
      "execution_count": null,
      "outputs": []
    },
    {
      "cell_type": "code",
      "source": [
        "# Calcula la similitud entre cada consulta (Q1,Q2,Q3) y los documentos (D1,D2,D3) utilizando la matriz TF-IDF"
      ],
      "metadata": {
        "id": "DmKBWS4JE2fX"
      },
      "execution_count": null,
      "outputs": []
    }
  ]
}