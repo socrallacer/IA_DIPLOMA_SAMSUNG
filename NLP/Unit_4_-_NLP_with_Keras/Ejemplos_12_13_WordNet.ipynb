{
  "nbformat": 4,
  "nbformat_minor": 0,
  "metadata": {
    "colab": {
      "provenance": [],
      "toc_visible": true
    },
    "kernelspec": {
      "name": "python3",
      "display_name": "Python 3"
    }
  },
  "cells": [
    {
      "cell_type": "markdown",
      "source": [
        "# Ejemplo 12: uso de WordNet"
      ],
      "metadata": {
        "id": "77-diAhawwvT"
      }
    },
    {
      "cell_type": "code",
      "metadata": {
        "id": "UgibhtK-p5VO"
      },
      "source": [
        "import nltk\n",
        "nltk.download('wordnet')\n",
        "from nltk.corpus import wordnet as wn\n",
        "nltk.download('omw-1.4')\n",
        "wn.ensure_loaded()\n",
        "help(wn)"
      ],
      "execution_count": null,
      "outputs": []
    },
    {
      "cell_type": "code",
      "metadata": {
        "colab": {
          "base_uri": "https://localhost:8080/"
        },
        "id": "u72FmQn2rtDZ",
        "outputId": "55d878ec-a8c7-403f-a42e-8443714c1bc2"
      },
      "source": [
        "print('Lemas en wordnet:')\n",
        "for i in 'nvar':\n",
        "  print(f'{i} -> {len(list(wn.all_lemma_names(pos=i))):10d}')\n",
        "print(f'Total -> {len(list(wn.all_lemma_names())):6d}')\n",
        "print('Synsets en wordnet:')\n",
        "for i in 'nvar':\n",
        "  print(f'{i} -> {len(list(wn.all_synsets(pos=i))):10d}')\n",
        "print(f'Total -> {len(list(wn.all_synsets())):6d}')"
      ],
      "execution_count": 6,
      "outputs": [
        {
          "output_type": "stream",
          "name": "stdout",
          "text": [
            "Lemas en wordnet:\n",
            "n ->     117798\n",
            "v ->      11529\n",
            "a ->      21479\n",
            "r ->       4481\n",
            "Total -> 147306\n",
            "Synsets en wordnet:\n",
            "n ->      82115\n",
            "v ->      13767\n",
            "a ->      18156\n",
            "r ->       3621\n",
            "Total -> 117659\n"
          ]
        }
      ]
    },
    {
      "cell_type": "code",
      "metadata": {
        "colab": {
          "base_uri": "https://localhost:8080/"
        },
        "id": "wCrjmWG7AqLr",
        "outputId": "2319e330-80e9-4e44-817c-85dfa9adfb96"
      },
      "source": [
        "# synsets de un lema\n",
        "wn.synsets('car')"
      ],
      "execution_count": 29,
      "outputs": [
        {
          "output_type": "execute_result",
          "data": {
            "text/plain": [
              "[Synset('car.n.01'),\n",
              " Synset('car.n.02'),\n",
              " Synset('car.n.03'),\n",
              " Synset('car.n.04'),\n",
              " Synset('cable_car.n.01')]"
            ]
          },
          "metadata": {},
          "execution_count": 29
        }
      ]
    },
    {
      "cell_type": "code",
      "metadata": {
        "colab": {
          "base_uri": "https://localhost:8080/"
        },
        "outputId": "b6423065-43b8-419d-c403-f64aa7f6c04f",
        "id": "41b0-oElwk8L"
      },
      "source": [
        "# synsets de un lema en otro idioma\n",
        "wn.synsets('coche',lang='spa')"
      ],
      "execution_count": null,
      "outputs": [
        {
          "output_type": "execute_result",
          "data": {
            "text/plain": [
              "[Synset('car.n.01'), Synset('car.n.02'), Synset('passenger_car.n.01')]"
            ]
          },
          "metadata": {},
          "execution_count": 31
        }
      ]
    },
    {
      "cell_type": "code",
      "metadata": {
        "colab": {
          "base_uri": "https://localhost:8080/"
        },
        "id": "6CWEtUhgA63j",
        "outputId": "b604707c-bcf4-4a6d-9fed-4a789fc13272"
      },
      "source": [
        "# desde un synset podemos acceder a sus propiedades como \n",
        "# los nombres de los lemas que forman el conjunto de sinónimos\n",
        "for s in wn.synsets('car'):\n",
        "  print(str(s)+' '+ str(s.lemma_names()))"
      ],
      "execution_count": 33,
      "outputs": [
        {
          "output_type": "stream",
          "name": "stdout",
          "text": [
            "Synset('car.n.01') ['car', 'auto', 'automobile', 'machine', 'motorcar']\n",
            "Synset('car.n.02') ['car', 'railcar', 'railway_car', 'railroad_car']\n",
            "Synset('car.n.03') ['car', 'gondola']\n",
            "Synset('car.n.04') ['car', 'elevator_car']\n",
            "Synset('cable_car.n.01') ['cable_car', 'car']\n"
          ]
        }
      ]
    },
    {
      "cell_type": "code",
      "source": [
        "# lo mismo en otro idioma\n",
        "for s in wn.synsets('coche',lang='spa'):\n",
        "  print(str(s)+' '+ str(s.lemma_names()))"
      ],
      "metadata": {
        "colab": {
          "base_uri": "https://localhost:8080/"
        },
        "id": "MAKzR4wfw_wp",
        "outputId": "bc38236e-1017-4502-cf86-479d17fb117b"
      },
      "execution_count": 38,
      "outputs": [
        {
          "output_type": "stream",
          "name": "stdout",
          "text": [
            "Synset('car.n.01') ['car', 'auto', 'automobile', 'machine', 'motorcar']\n",
            "Synset('car.n.02') ['car', 'railcar', 'railway_car', 'railroad_car']\n",
            "Synset('passenger_car.n.01') ['passenger_car', 'coach', 'carriage']\n"
          ]
        }
      ]
    },
    {
      "cell_type": "code",
      "metadata": {
        "id": "5YjvPhNvOILz",
        "colab": {
          "base_uri": "https://localhost:8080/"
        },
        "outputId": "96daae39-b103-460d-f2e7-f3a90bed3f62"
      },
      "source": [
        "# para acceder a la definición o glosa del synset\n",
        "for s in wn.synsets('car'):\n",
        "  print(str(s)+' '+ str(s.definition()))"
      ],
      "execution_count": 20,
      "outputs": [
        {
          "output_type": "stream",
          "name": "stdout",
          "text": [
            "Synset('car.n.01') a motor vehicle with four wheels; usually propelled by an internal combustion engine\n",
            "Synset('car.n.02') a wheeled vehicle adapted to the rails of railroad\n",
            "Synset('car.n.03') the compartment that is suspended from an airship and that carries personnel and the cargo and the power plant\n",
            "Synset('car.n.04') where passengers ride up and down\n",
            "Synset('cable_car.n.01') a conveyance for passengers or freight on a cable railway\n"
          ]
        }
      ]
    },
    {
      "cell_type": "code",
      "metadata": {
        "colab": {
          "base_uri": "https://localhost:8080/"
        },
        "id": "u09JBj2c5Lee",
        "outputId": "13b0898d-6fe9-46bc-a1c3-ef2f4a0108f6"
      },
      "source": [
        "#  para acceder a los ejemplos de uso del synset. Devuelve una lista que puede ser vacía.\n",
        "for s in wn.synsets('car'):\n",
        "  print(str(s)+' '+ str(s.examples()))"
      ],
      "execution_count": 10,
      "outputs": [
        {
          "output_type": "stream",
          "name": "stdout",
          "text": [
            "Synset('car.n.01') ['he needs a car to get to work']\n",
            "Synset('car.n.02') ['three cars had jumped the rails']\n",
            "Synset('car.n.03') []\n",
            "Synset('car.n.04') ['the car was on the top floor']\n",
            "Synset('cable_car.n.01') ['they took a cable car to the top of the mountain']\n"
          ]
        }
      ]
    },
    {
      "cell_type": "code",
      "metadata": {
        "colab": {
          "base_uri": "https://localhost:8080/"
        },
        "id": "RXoP0Eli1mDK",
        "outputId": "0bfc1e1e-6f0d-40c9-bc3a-4dbb806e25fa"
      },
      "source": [
        "#wornet incluye algunas medidas de similitud entre sentidos, calculadas sobre la taxonomia de wordnet.\n",
        "s1=wn.synsets('car')[0]\n",
        "s2=wn.synsets('truck')[0]\n",
        "s3=wn.synsets('table')[0]\n",
        "print(f'Similitud entre {s1} y {s2} es {wn.path_similarity(s1,s2)}')\n",
        "print(f'Similitud entre {s1} y {s3} es {wn.path_similarity(s1,s3)}')\n"
      ],
      "execution_count": 11,
      "outputs": [
        {
          "output_type": "stream",
          "name": "stdout",
          "text": [
            "Similitud entre Synset('car.n.01') y Synset('truck.n.01') es 0.3333333333333333\n",
            "Similitud entre Synset('car.n.01') y Synset('table.n.01') es 0.0625\n"
          ]
        }
      ]
    },
    {
      "cell_type": "code",
      "metadata": {
        "colab": {
          "base_uri": "https://localhost:8080/"
        },
        "id": "W8fgJglf1DWe",
        "outputId": "00268d95-760a-4189-cd56-b692a639fc74"
      },
      "source": [
        "# Dado un objeto lema podemos acceder a su nombre o a su synset:\n",
        "s1=wn.synsets('car')[0]\n",
        "print(s1)\n",
        "lema=s1.lemmas()[0]\n",
        "print(lema.name())\n",
        "print(lema.synset())"
      ],
      "execution_count": 12,
      "outputs": [
        {
          "output_type": "stream",
          "name": "stdout",
          "text": [
            "Synset('car.n.01')\n",
            "car\n",
            "Synset('car.n.01')\n"
          ]
        }
      ]
    },
    {
      "cell_type": "markdown",
      "source": [
        "# Ejemplo 13: relaciones en WordNet"
      ],
      "metadata": {
        "id": "ZXJtsNJ7P5F5"
      }
    },
    {
      "cell_type": "code",
      "metadata": {
        "id": "cebCLuAYHHMm",
        "colab": {
          "base_uri": "https://localhost:8080/"
        },
        "outputId": "bcf32ea2-58f2-4c41-ec34-9dbda00661a8"
      },
      "source": [
        "print(\"Hiperónimos de car\")\n",
        "for s in wn.synsets('bank'):\n",
        "  print(str(s)+' '+ str(s.hypernyms()))"
      ],
      "execution_count": 24,
      "outputs": [
        {
          "output_type": "stream",
          "name": "stdout",
          "text": [
            "Hiperónimos de car\n",
            "Synset('bank.n.01') [Synset('slope.n.01')]\n",
            "Synset('depository_financial_institution.n.01') [Synset('financial_institution.n.01')]\n",
            "Synset('bank.n.03') [Synset('ridge.n.01')]\n",
            "Synset('bank.n.04') [Synset('array.n.01')]\n",
            "Synset('bank.n.05') [Synset('reserve.n.02')]\n",
            "Synset('bank.n.06') [Synset('funds.n.01')]\n",
            "Synset('bank.n.07') [Synset('slope.n.01')]\n",
            "Synset('savings_bank.n.02') [Synset('container.n.01')]\n",
            "Synset('bank.n.09') [Synset('depository.n.01')]\n",
            "Synset('bank.n.10') [Synset('flight_maneuver.n.01')]\n",
            "Synset('bank.v.01') [Synset('tip.v.01')]\n",
            "Synset('bank.v.02') [Synset('enclose.v.03')]\n",
            "Synset('bank.v.03') [Synset('transact.v.01')]\n",
            "Synset('bank.v.04') [Synset('act.v.04')]\n",
            "Synset('bank.v.05') [Synset('work.v.02')]\n",
            "Synset('deposit.v.02') [Synset('give.v.03')]\n",
            "Synset('bank.v.07') [Synset('cover.v.01')]\n",
            "Synset('trust.v.01') [Synset('believe.v.01')]\n"
          ]
        }
      ]
    },
    {
      "cell_type": "code",
      "metadata": {
        "colab": {
          "base_uri": "https://localhost:8080/"
        },
        "id": "Uju1Ag3SG-aT",
        "outputId": "d95af61f-157c-484d-de7b-764e27fac22a"
      },
      "source": [
        "#  podemos acceder a la cadena de hyperonimos / hipoónimos y otras relaciones.\n",
        "print(\"Hiperónimos de car\")\n",
        "for s in wn.synsets('car'):\n",
        "  print(str(s)+' '+ str(s.hypernyms()))\n",
        "\n",
        "print(\"Hipónimos de car\")\n",
        "for s in wn.synsets('car'):\n",
        "  print(str(s)+' '+ str(s.hyponyms()))"
      ],
      "execution_count": 13,
      "outputs": [
        {
          "output_type": "stream",
          "name": "stdout",
          "text": [
            "Hiperónimos de car\n",
            "Synset('car.n.01') [Synset('motor_vehicle.n.01')]\n",
            "Synset('car.n.02') [Synset('wheeled_vehicle.n.01')]\n",
            "Synset('car.n.03') [Synset('compartment.n.02')]\n",
            "Synset('car.n.04') [Synset('compartment.n.02')]\n",
            "Synset('cable_car.n.01') [Synset('compartment.n.02')]\n",
            "Hipónimos de car\n",
            "Synset('car.n.01') [Synset('ambulance.n.01'), Synset('beach_wagon.n.01'), Synset('bus.n.04'), Synset('cab.n.03'), Synset('compact.n.03'), Synset('convertible.n.01'), Synset('coupe.n.01'), Synset('cruiser.n.01'), Synset('electric.n.01'), Synset('gas_guzzler.n.01'), Synset('hardtop.n.01'), Synset('hatchback.n.01'), Synset('horseless_carriage.n.01'), Synset('hot_rod.n.01'), Synset('jeep.n.01'), Synset('limousine.n.01'), Synset('loaner.n.02'), Synset('minicar.n.01'), Synset('minivan.n.01'), Synset('model_t.n.01'), Synset('pace_car.n.01'), Synset('racer.n.02'), Synset('roadster.n.01'), Synset('sedan.n.01'), Synset('sport_utility.n.01'), Synset('sports_car.n.01'), Synset('stanley_steamer.n.01'), Synset('stock_car.n.01'), Synset('subcompact.n.01'), Synset('touring_car.n.01'), Synset('used-car.n.01')]\n",
            "Synset('car.n.02') [Synset('baggage_car.n.01'), Synset('cabin_car.n.01'), Synset('club_car.n.01'), Synset('freight_car.n.01'), Synset('guard's_van.n.01'), Synset('handcar.n.01'), Synset('mail_car.n.01'), Synset('passenger_car.n.01'), Synset('slip_coach.n.01'), Synset('tender.n.04'), Synset('van.n.03')]\n",
            "Synset('car.n.03') []\n",
            "Synset('car.n.04') []\n",
            "Synset('cable_car.n.01') []\n"
          ]
        }
      ]
    },
    {
      "cell_type": "code",
      "source": [
        "def relaciones(pal):\n",
        "  syn=wn.synsets(pal)[0]\n",
        "  print(\"Palabra: \", pal)\n",
        "  print(\"Synset: \", syn)\n",
        "  print(\"Glosa: \", syn.definition())\n",
        "  print(\"----------------\")\n",
        "\n",
        "  mer = lambda syn:syn.part_meronyms()\n",
        "  print(\"Merónimos de \" + str(syn) + \" (está formado por partes) \")\n",
        "  print(list(syn.closure(mer)))\n",
        "  print(\"----------------\")\n",
        "\n",
        "  mer = lambda syn:syn.member_meronyms()\n",
        "  print(\"Merónimos de \" + str(syn) + \" (está formado por miembros) \")\n",
        "  print(list(syn.closure(mer)))  \n",
        "  print(\"----------------\")\n",
        "\n",
        "  hol = lambda syn:syn.part_holonyms()\n",
        "  print(\"Holónimos de \" + str(syn) + \" (es parte de) \")\n",
        "  print(list(syn.closure(hol)))  \n",
        "  print(\"----------------\")\n",
        "\n",
        "  hol = lambda syn:syn.member_holonyms()\n",
        "  print(\"Holónimos de \" + str(syn) + \" (es miembro de) \")\n",
        "  print(list(syn.closure(hol)))  \n",
        "  print(\"----------------\")\n",
        "\n",
        "  hyp = lambda syn:syn.hypernyms()\n",
        "  print(\"Cadena de hiperónimos de \" + str(syn))\n",
        "  print(list(syn.closure(hyp)))\n",
        "  print(\"----------------\")\n",
        "\n",
        "  hyp = lambda syn:syn.hyponyms()\n",
        "  print(\"Cadena de hipónimos de \" + str(syn))\n",
        "  print(list(syn.closure(hyp)))\n",
        "  print(\"----------------\")"
      ],
      "metadata": {
        "id": "lu9lgK27Bjgd"
      },
      "execution_count": 87,
      "outputs": []
    },
    {
      "cell_type": "code",
      "source": [
        "relaciones('car')"
      ],
      "metadata": {
        "colab": {
          "base_uri": "https://localhost:8080/"
        },
        "id": "z0Rb2GNKJIar",
        "outputId": "0ab014bc-cdab-46b4-dc71-0e2605833f6f"
      },
      "execution_count": 100,
      "outputs": [
        {
          "output_type": "stream",
          "name": "stdout",
          "text": [
            "Palabra:  car\n",
            "Synset:  Synset('car.n.01')\n",
            "Glosa:  a motor vehicle with four wheels; usually propelled by an internal combustion engine\n",
            "----------------\n",
            "Merónimos de Synset('car.n.01') (está formado por partes) \n",
            "[Synset('accelerator.n.01'), Synset('air_bag.n.01'), Synset('auto_accessory.n.01'), Synset('automobile_engine.n.01'), Synset('automobile_horn.n.01'), Synset('buffer.n.06'), Synset('bumper.n.02'), Synset('car_door.n.01'), Synset('car_mirror.n.01'), Synset('car_seat.n.01'), Synset('car_window.n.01'), Synset('fender.n.01'), Synset('first_gear.n.01'), Synset('floorboard.n.02'), Synset('gasoline_engine.n.01'), Synset('glove_compartment.n.01'), Synset('grille.n.02'), Synset('high_gear.n.01'), Synset('hood.n.09'), Synset('luggage_compartment.n.01'), Synset('rear_window.n.01'), Synset('reverse.n.02'), Synset('roof.n.02'), Synset('running_board.n.01'), Synset('stabilizer_bar.n.01'), Synset('sunroof.n.01'), Synset('tail_fin.n.02'), Synset('third_gear.n.01'), Synset('window.n.02'), Synset('exhaust.n.02'), Synset('horn_button.n.01'), Synset('bumper_guard.n.01'), Synset('armrest.n.01'), Synset('doorlock.n.01'), Synset('hinge.n.01'), Synset('back.n.08'), Synset('headrest.n.01'), Synset('seat_belt.n.01'), Synset('inlet_manifold.n.01'), Synset('hood_ornament.n.01'), Synset('exhaust_manifold.n.01'), Synset('exhaust_pipe.n.01'), Synset('exhaust_valve.n.01'), Synset('silencer.n.02'), Synset('tailpipe.n.01'), Synset('pintle.n.01')]\n",
            "----------------\n",
            "Merónimos de Synset('car.n.01') (está formado por miembros) \n",
            "[]\n",
            "----------------\n",
            "Holónimos de Synset('car.n.01') (es parte de) \n",
            "[]\n",
            "----------------\n",
            "Holónimos de Synset('car.n.01') (es miembro de) \n",
            "[]\n",
            "----------------\n",
            "Cadena de hiperónimos de Synset('car.n.01')\n",
            "[Synset('motor_vehicle.n.01'), Synset('self-propelled_vehicle.n.01'), Synset('wheeled_vehicle.n.01'), Synset('container.n.01'), Synset('vehicle.n.01'), Synset('instrumentality.n.03'), Synset('conveyance.n.03'), Synset('artifact.n.01'), Synset('whole.n.02'), Synset('object.n.01'), Synset('physical_entity.n.01'), Synset('entity.n.01')]\n",
            "----------------\n",
            "Cadena de hipónimos de Synset('car.n.01')\n",
            "[Synset('ambulance.n.01'), Synset('beach_wagon.n.01'), Synset('bus.n.04'), Synset('cab.n.03'), Synset('compact.n.03'), Synset('convertible.n.01'), Synset('coupe.n.01'), Synset('cruiser.n.01'), Synset('electric.n.01'), Synset('gas_guzzler.n.01'), Synset('hardtop.n.01'), Synset('hatchback.n.01'), Synset('horseless_carriage.n.01'), Synset('hot_rod.n.01'), Synset('jeep.n.01'), Synset('limousine.n.01'), Synset('loaner.n.02'), Synset('minicar.n.01'), Synset('minivan.n.01'), Synset('model_t.n.01'), Synset('pace_car.n.01'), Synset('racer.n.02'), Synset('roadster.n.01'), Synset('sedan.n.01'), Synset('sport_utility.n.01'), Synset('sports_car.n.01'), Synset('stanley_steamer.n.01'), Synset('stock_car.n.01'), Synset('subcompact.n.01'), Synset('touring_car.n.01'), Synset('used-car.n.01'), Synset('funny_wagon.n.01'), Synset('shooting_brake.n.01'), Synset('gypsy_cab.n.01'), Synset('minicab.n.01'), Synset('panda_car.n.01'), Synset('berlin.n.03'), Synset('minicab.n.01'), Synset('finisher.n.05'), Synset('stock_car.n.02'), Synset('brougham.n.02')]\n",
            "----------------\n"
          ]
        }
      ]
    },
    {
      "cell_type": "code",
      "source": [
        "relaciones('church')"
      ],
      "metadata": {
        "colab": {
          "base_uri": "https://localhost:8080/"
        },
        "id": "f2YCFiFfPDPT",
        "outputId": "08cbef54-9494-4137-89d9-e263942e2509"
      },
      "execution_count": 104,
      "outputs": [
        {
          "output_type": "stream",
          "name": "stdout",
          "text": [
            "Palabra:  church\n",
            "Synset:  Synset('church.n.01')\n",
            "Glosa:  one of the groups of Christians who have their own beliefs and forms of worship\n",
            "----------------\n",
            "Merónimos de Synset('church.n.01') (está formado por partes) \n",
            "[]\n",
            "----------------\n",
            "Merónimos de Synset('church.n.01') (está formado por miembros) \n",
            "[Synset('christian.n.01')]\n",
            "----------------\n",
            "Holónimos de Synset('church.n.01') (es parte de) \n",
            "[Synset('christendom.n.01')]\n",
            "----------------\n",
            "Holónimos de Synset('church.n.01') (es miembro de) \n",
            "[]\n",
            "----------------\n",
            "Cadena de hiperónimos de Synset('church.n.01')\n",
            "[Synset('religion.n.02'), Synset('institution.n.01'), Synset('organization.n.01'), Synset('social_group.n.01'), Synset('group.n.01'), Synset('abstraction.n.06'), Synset('entity.n.01')]\n",
            "----------------\n",
            "Cadena de hipónimos de Synset('church.n.01')\n",
            "[Synset('armenian_church.n.01'), Synset('catholic_church.n.01'), Synset('coptic_church.n.01'), Synset('nestorian_church.n.01'), Synset('protestant_church.n.01'), Synset('unification_church.n.01'), Synset('eastern_church.n.02'), Synset('old_catholic_church.n.01'), Synset('orthodox_church.n.01'), Synset('roman_catholic.n.02'), Synset('uniat_church.n.01'), Synset('pentecostal_religion.n.01'), Synset('greek_orthodox_church.n.01'), Synset('russian_orthodox_church.n.01')]\n",
            "----------------\n"
          ]
        }
      ]
    }
  ]
}