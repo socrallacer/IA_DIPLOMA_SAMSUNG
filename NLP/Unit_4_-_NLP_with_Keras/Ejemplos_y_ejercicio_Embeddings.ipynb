{
  "cells": [
    {
      "cell_type": "markdown",
      "source": [
        "# Word2vec con Gensim"
      ],
      "metadata": {
        "id": "AZt1VV0oUXvd"
      }
    },
    {
      "cell_type": "markdown",
      "source": [
        "# Carga del modelo\n",
        "\n",
        "Un modelo reducido se puede descargar de nltk.\n",
        "Para descargar el modelo completo:\n",
        "\n",
        "\n",
        "\n",
        "```\n",
        "import gensim.downloader as api\n",
        "\n",
        "model = api.load('word2vec-google-news-300')\n",
        "```\n",
        "\n"
      ],
      "metadata": {
        "id": "JnH9Dm6SUj_V"
      }
    },
    {
      "cell_type": "code",
      "execution_count": null,
      "source": [
        "# Word embeddings\n",
        "import nltk\n",
        "import gensim\n",
        "from nltk.data import find\n",
        "nltk.download('word2vec_sample')\n",
        "# Cargar el modelo de embeding pre-entrenados del NLTK\n",
        "word2vec_sample = str(find('models/word2vec_sample/pruned.word2vec.txt'))\n",
        "model = gensim.models.KeyedVectors.load_word2vec_format(word2vec_sample, binary=False)\n"
      ],
      "outputs": [],
      "metadata": {
        "scrolled": false,
        "id": "I04a9ieB32uA"
      }
    },
    {
      "cell_type": "markdown",
      "source": [
        "# Algunas operaciones"
      ],
      "metadata": {
        "id": "9HEtOcYTVKt9"
      }
    },
    {
      "cell_type": "code",
      "source": [
        "# Vector de una palabra\n",
        "print (model['class'])\n"
      ],
      "metadata": {
        "id": "Z-oPytVF81dY"
      },
      "execution_count": null,
      "outputs": []
    },
    {
      "cell_type": "code",
      "source": [
        "# Número palabras\n",
        "print(\"#palabras: \", len(model.key_to_index))\n",
        "# Tamaño del vector\n",
        "print (\"#componentes: \",len(model['class']))\n"
      ],
      "metadata": {
        "id": "d2oj9-6wyB9M"
      },
      "execution_count": null,
      "outputs": []
    },
    {
      "cell_type": "code",
      "source": [
        "vector1 = model['class']\n",
        "vector2 = model['school']\n",
        "print (vector1)\n",
        "print (\"--------\")\n",
        "print (vector1 + vector2)\n"
      ],
      "metadata": {
        "id": "6Ibf5yno8wnA"
      },
      "execution_count": null,
      "outputs": []
    },
    {
      "cell_type": "markdown",
      "source": [
        "# Similitud de palabras"
      ],
      "metadata": {
        "id": "FNVDt5NnVRIM"
      }
    },
    {
      "cell_type": "code",
      "source": [
        "#Calcular la similitud entre dos palabras\n",
        "\n",
        "model.similarity(\"king\", \"man\")"
      ],
      "metadata": {
        "id": "bycxMaoCVkZm"
      },
      "execution_count": null,
      "outputs": []
    },
    {
      "cell_type": "code",
      "source": [
        "model.similarity(\"king\", \"potato\")"
      ],
      "metadata": {
        "id": "-NYfmnaCVplE"
      },
      "execution_count": null,
      "outputs": []
    },
    {
      "cell_type": "code",
      "source": [
        "model.similarity(\"king\", \"queen\")"
      ],
      "metadata": {
        "id": "TGRnVn7PVwFi"
      },
      "execution_count": null,
      "outputs": []
    },
    {
      "cell_type": "code",
      "source": [
        "model.similarity(\"king\", \"king\")"
      ],
      "metadata": {
        "id": "HF6ofHtHWH7G"
      },
      "execution_count": null,
      "outputs": []
    },
    {
      "cell_type": "code",
      "source": [
        "# el modelo de nltk solo es para el inglés, esta instrucción fallará:\n",
        "\n",
        "model.similarity(\"king\", \"rey\")"
      ],
      "metadata": {
        "id": "w4H_abK2V3Dq"
      },
      "execution_count": null,
      "outputs": []
    },
    {
      "cell_type": "code",
      "execution_count": null,
      "source": [
        "#Buscar n palabras similares a una dada\n",
        "\n",
        "model.most_similar(positive=['football'], topn = 10)"
      ],
      "outputs": [],
      "metadata": {
        "id": "pd5T8i1A32uI"
      }
    },
    {
      "cell_type": "code",
      "execution_count": null,
      "source": [
        "#Palabras que no son de un dominio temático\n",
        "\n",
        "model.doesnt_match(['breakfast','house', 'dinner', 'lunch'])"
      ],
      "outputs": [],
      "metadata": {
        "id": "qOIR7Xw832uI"
      }
    },
    {
      "cell_type": "code",
      "source": [
        "model.doesnt_match([\"summer\", \"fall\", \"spring\", \"air\"])"
      ],
      "metadata": {
        "id": "6yVCfVQGTqas"
      },
      "execution_count": null,
      "outputs": []
    },
    {
      "cell_type": "code",
      "execution_count": null,
      "source": [
        "#Mikolov et al. (2013) figured out that word embedding captures much of syntactic and semantic regularities.\n",
        "#For example, the vector 'King - Man + Woman' is close to 'Queen' and 'Germany - Berlin + Paris' is close to 'France'."
      ],
      "outputs": [],
      "metadata": {
        "id": "lsQAUn6432uJ"
      }
    },
    {
      "cell_type": "code",
      "execution_count": null,
      "source": [
        "model.most_similar(positive=['woman','king'], negative=['man'], topn = 5)"
      ],
      "outputs": [],
      "metadata": {
        "id": "Vp449wIi32uK",
        "collapsed": true
      }
    },
    {
      "cell_type": "code",
      "source": [
        "model.most_similar([\"king\", \"queen\"], topn=5)"
      ],
      "metadata": {
        "id": "Zr-bCPRBP1w9",
        "collapsed": true
      },
      "execution_count": null,
      "outputs": []
    },
    {
      "cell_type": "code",
      "execution_count": null,
      "source": [
        "model.most_similar(positive=['Paris','Germany'], negative=['Berlin'], topn = 10)"
      ],
      "outputs": [],
      "metadata": {
        "id": "x1URBAEW32uK"
      }
    },
    {
      "cell_type": "code",
      "source": [
        "model.most_similar_to_given(\"banana\",['monkey','tree','coconut'])\n",
        "print(model.similarity('banana','monkey'))\n",
        "print(model.similarity('banana','tree'))\n",
        "print(model.similarity('banana','coconut'))"
      ],
      "metadata": {
        "id": "ujzZZj4aPTdK"
      },
      "execution_count": null,
      "outputs": []
    },
    {
      "cell_type": "code",
      "execution_count": null,
      "source": [
        "model.similarity('person','bad')"
      ],
      "outputs": [],
      "metadata": {
        "id": "uvy5fvLS32uK",
        "collapsed": true
      }
    },
    {
      "cell_type": "code",
      "execution_count": null,
      "source": [
        "model.similarity('good','bad')"
      ],
      "outputs": [],
      "metadata": {
        "id": "M6Y0VCjN32uM",
        "collapsed": true
      }
    },
    {
      "cell_type": "code",
      "execution_count": null,
      "source": [
        "model.similarity('handsome','ugly')"
      ],
      "outputs": [],
      "metadata": {
        "id": "_ashYN_132uN"
      }
    },
    {
      "cell_type": "code",
      "execution_count": null,
      "source": [
        "model.similarity('handsome','beautiful')"
      ],
      "outputs": [],
      "metadata": {
        "id": "Tl91QWTN32uN"
      }
    },
    {
      "cell_type": "code",
      "execution_count": null,
      "source": [
        "model.similarity('chocolate','salt')"
      ],
      "outputs": [],
      "metadata": {
        "id": "8jlcHO_632uP"
      }
    },
    {
      "cell_type": "code",
      "execution_count": null,
      "source": [
        "model.similarity('chocolate','sweet')"
      ],
      "outputs": [],
      "metadata": {
        "id": "ZxWXaSg532uQ"
      }
    },
    {
      "cell_type": "code",
      "execution_count": null,
      "source": [
        "model.similarity('chocolate','cream')"
      ],
      "outputs": [],
      "metadata": {
        "id": "6yBzxTcv32uQ"
      }
    },
    {
      "cell_type": "code",
      "execution_count": null,
      "source": [
        "model.similarity('orange','car')"
      ],
      "outputs": [],
      "metadata": {
        "id": "0XzstX2k32uQ"
      }
    },
    {
      "cell_type": "markdown",
      "source": [
        "# Ejercicios\n",
        "\n",
        "1. Usa el modelo word2vec para hacer un ranking de las siguientes 15 palabras según su similitud con las palabras \"man\" y \"woman\". Para cada par, imprime su similitud."
      ],
      "metadata": {
        "id": "OOoU5DlyWad6"
      }
    },
    {
      "cell_type": "code",
      "source": [
        "words = [\n",
        "\"wife\",\n",
        "\"husband\",\n",
        "\"child\",\n",
        "\"queen\",\n",
        "\"king\",\n",
        "\"man\",\n",
        "\"woman\",\n",
        "\"birth\",\n",
        "\"doctor\",\n",
        "\"nurse\",\n",
        "\"teacher\",\n",
        "\"professor\",\n",
        "\"engineer\",\n",
        "\"scientist\",\n",
        "\"president\"]"
      ],
      "metadata": {
        "id": "xCFcPNhTWdSA"
      },
      "execution_count": null,
      "outputs": []
    },
    {
      "cell_type": "markdown",
      "source": [
        "**2. Completa las siguientes analogías por tu cuenta (sin usar el modelo)**\n",
        "\n",
        "a. king is to throne as judge is to _\n",
        "\n",
        "b. giant is to dwarf as genius is to _\n",
        "\n",
        "c. French is to France as Spanish is to _\n",
        "\n",
        "d. bad is to good as sad is to _\n",
        "\n",
        "e. nurse is to hospital as teacher is to _\n",
        "\n",
        "f. universe is to planet as house is to _"
      ],
      "metadata": {
        "id": "lyXMRAriWlog"
      }
    },
    {
      "cell_type": "markdown",
      "source": [
        "**3. Ahora completa las analogías usando un modelo word2vec**\n",
        "\n",
        "Aquí hay un ejemplo de cómo hacerlo. Puedes resolver analogías como \"A es a B como C es a _\" haciendo A + C - B."
      ],
      "metadata": {
        "id": "0FVCsJK1WwSM"
      }
    },
    {
      "cell_type": "code",
      "source": [
        "# man is to woman as king is to ___?\n",
        "model.most_similar(positive=[\"king\", \"woman\"], negative=[\"man\"], topn=1)"
      ],
      "metadata": {
        "colab": {
          "base_uri": "https://localhost:8080/"
        },
        "id": "zpfD2J2PWmTx",
        "outputId": "920d266f-eca7-4685-f3e2-6a1562d7396e"
      },
      "execution_count": 11,
      "outputs": [
        {
          "output_type": "execute_result",
          "data": {
            "text/plain": [
              "[('queen', 0.7118193507194519)]"
            ]
          },
          "metadata": {},
          "execution_count": 11
        }
      ]
    },
    {
      "cell_type": "code",
      "source": [],
      "metadata": {
        "id": "CR9fz-LHXeSF"
      },
      "execution_count": null,
      "outputs": []
    }
  ],
  "metadata": {
    "kernelspec": {
      "display_name": "Python 3 (ipykernel)",
      "language": "python",
      "name": "python3"
    },
    "language_info": {
      "codemirror_mode": {
        "name": "ipython",
        "version": 3
      },
      "file_extension": ".py",
      "mimetype": "text/x-python",
      "name": "python",
      "nbconvert_exporter": "python",
      "pygments_lexer": "ipython3",
      "version": "3.8.11"
    },
    "colab": {
      "provenance": []
    }
  },
  "nbformat": 4,
  "nbformat_minor": 0
}