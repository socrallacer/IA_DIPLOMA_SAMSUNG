{
 "cells": [
  {
   "cell_type": "markdown",
   "id": "1d89646a-5d31-4fe2-a7e7-0d98e2edffa7",
   "metadata": {},
   "source": [
    "# Financial Data Analysis Mini Project"
   ]
  },
  {
   "cell_type": "markdown",
   "id": "3250ccca-99a4-45e6-a1c9-5018f9145b86",
   "metadata": {},
   "source": [
    "Con el rápido aumento de la velocidad de los ordenadores, la humanidad ha sido capaz de organizar y analizar grandes cantidades de datos que nunca antes se habían experimentado a una velocidad increíblemente alta.\n",
    "\n",
    "Basándose en ello, es posible que los ordenadores aprendan y se desarrollen hasta el estado actual de la inteligencia artificial.\n",
    "\n",
    "Incluso si no te conviertes en un ingeniero de software, puedes resolver muchos problemas prácticos que puedes ver en el mundo real a través de las habilidades de procesamiento de datos que has aprendido hasta ahora usando Python y especialmente Pandas.\n",
    "\n",
    "Pandas, una biblioteca central de análisis de datos aplicada en diversos campos, se desarrolló originalmente para analizar y organizar datos financieros.\n",
    "\n",
    "El núcleo del análisis de datos es el análisis de datos financieros. A través de la práctica de adquirir y procesar datos financieros de diversos factores acumulados durante un período de tiempo, puede estar suficientemente preparado para la mayoría de los tipos de datos que verá en el trabajo del mundo real.\n",
    "\n",
    "El análisis de datos financieros es la práctica más eficaz en el análisis de datos."
   ]
  },
  {
   "cell_type": "markdown",
   "id": "2aa6e1d9-7140-4b41-b852-72a3613f89b0",
   "metadata": {},
   "source": [
    "El material utilizado para el análisis de datos son los datos bursátiles que rastrean diversos sectores y condiciones económicas. \n",
    "\n",
    "No se trata simplemente de analizar el precio de las acciones de una empresa concreta. Se eligió porque no hay mejores datos objetivo para comprender cada situación económica como una economía real. \n",
    "\n",
    "Además, los datos objetivo no se refieren a empresas, materias primas, bonos o a un país concreto, sino al precio de los productos agrícolas en todo el mundo.\n",
    "\n",
    "Dado que el mercado de EE.UU. tiene un impacto muy grande en la economía real del mundo, fue seleccionado como una buena práctica con datos significativos.\n",
    "\n",
    "**Nombre del marcador**\n",
    "  \n",
    "* SPY, que sigue el índice líder de EE.UU. S&P500\n",
    "* IYW, que sigue el índice de capitalización bursátil de empresas tecnológicas de EE.UU.\n",
    "* VT, que invierte en empresas de todo el mundo.\n",
    "* DBA, que sigue la oferta y la demanda de productos y precios agrícolas.\n",
    "* Tipo de los bonos estadounidenses TLT\n",
    "* PDBC, que sigue la oferta y la demanda de otras materias primas y sus precios.\n",
    "* Oro IAU"
   ]
  },
  {
   "cell_type": "markdown",
   "id": "b3d23216-0882-4dcf-9b78-16f5f9799d28",
   "metadata": {},
   "source": [
    "## Paso 1\n",
    "**Preparémonos para la adquisición de datos y creemos funciones de adquisición de datos.**"
   ]
  },
  {
   "cell_type": "code",
   "execution_count": 1,
   "id": "9479ccd9-117a-41e0-882f-b4eb1e9e12e2",
   "metadata": {},
   "outputs": [
    {
     "name": "stdout",
     "output_type": "stream",
     "text": [
      "Collecting yfinance\n",
      "  Downloading yfinance-0.2.38-py2.py3-none-any.whl.metadata (11 kB)\n",
      "Requirement already satisfied: pandas>=1.3.0 in /Library/Frameworks/Python.framework/Versions/3.12/lib/python3.12/site-packages (from yfinance) (2.2.2)\n",
      "Requirement already satisfied: numpy>=1.16.5 in /Library/Frameworks/Python.framework/Versions/3.12/lib/python3.12/site-packages (from yfinance) (1.26.4)\n",
      "Requirement already satisfied: requests>=2.31 in /Library/Frameworks/Python.framework/Versions/3.12/lib/python3.12/site-packages (from yfinance) (2.31.0)\n",
      "Collecting multitasking>=0.0.7 (from yfinance)\n",
      "  Downloading multitasking-0.0.11-py3-none-any.whl.metadata (5.5 kB)\n",
      "Collecting lxml>=4.9.1 (from yfinance)\n",
      "  Downloading lxml-5.2.1-cp312-cp312-macosx_10_9_x86_64.whl.metadata (3.4 kB)\n",
      "Collecting appdirs>=1.4.4 (from yfinance)\n",
      "  Downloading appdirs-1.4.4-py2.py3-none-any.whl.metadata (9.0 kB)\n",
      "Requirement already satisfied: pytz>=2022.5 in /Library/Frameworks/Python.framework/Versions/3.12/lib/python3.12/site-packages (from yfinance) (2024.1)\n",
      "Collecting frozendict>=2.3.4 (from yfinance)\n",
      "  Downloading frozendict-2.4.2.tar.gz (315 kB)\n",
      "\u001b[2K     \u001b[90m━━━━━━━━━━━━━━━━━━━━━━━━━━━━━━━━━━━━━━━\u001b[0m \u001b[32m315.3/315.3 kB\u001b[0m \u001b[31m5.0 MB/s\u001b[0m eta \u001b[36m0:00:00\u001b[0m00:01\u001b[0m\n",
      "\u001b[?25h  Installing build dependencies ... \u001b[?25ldone\n",
      "\u001b[?25h  Getting requirements to build wheel ... \u001b[?25ldone\n",
      "\u001b[?25h  Installing backend dependencies ... \u001b[?25ldone\n",
      "\u001b[?25h  Preparing metadata (pyproject.toml) ... \u001b[?25ldone\n",
      "\u001b[?25hCollecting peewee>=3.16.2 (from yfinance)\n",
      "  Downloading peewee-3.17.3.tar.gz (3.0 MB)\n",
      "\u001b[2K     \u001b[90m━━━━━━━━━━━━━━━━━━━━━━━━━━━━━━━━━━━━━━━━\u001b[0m \u001b[32m3.0/3.0 MB\u001b[0m \u001b[31m22.6 MB/s\u001b[0m eta \u001b[36m0:00:00\u001b[0m00:01\u001b[0m00:01\u001b[0m\n",
      "\u001b[?25h  Installing build dependencies ... \u001b[?25ldone\n",
      "\u001b[?25h  Getting requirements to build wheel ... \u001b[?25ldone\n",
      "\u001b[?25h  Preparing metadata (pyproject.toml) ... \u001b[?25ldone\n",
      "\u001b[?25hRequirement already satisfied: beautifulsoup4>=4.11.1 in /Library/Frameworks/Python.framework/Versions/3.12/lib/python3.12/site-packages (from yfinance) (4.12.3)\n",
      "Collecting html5lib>=1.1 (from yfinance)\n",
      "  Downloading html5lib-1.1-py2.py3-none-any.whl.metadata (16 kB)\n",
      "Requirement already satisfied: soupsieve>1.2 in /Library/Frameworks/Python.framework/Versions/3.12/lib/python3.12/site-packages (from beautifulsoup4>=4.11.1->yfinance) (2.5)\n",
      "Requirement already satisfied: six>=1.9 in /Library/Frameworks/Python.framework/Versions/3.12/lib/python3.12/site-packages (from html5lib>=1.1->yfinance) (1.16.0)\n",
      "Requirement already satisfied: webencodings in /Library/Frameworks/Python.framework/Versions/3.12/lib/python3.12/site-packages (from html5lib>=1.1->yfinance) (0.5.1)\n",
      "Requirement already satisfied: python-dateutil>=2.8.2 in /Library/Frameworks/Python.framework/Versions/3.12/lib/python3.12/site-packages (from pandas>=1.3.0->yfinance) (2.9.0.post0)\n",
      "Requirement already satisfied: tzdata>=2022.7 in /Library/Frameworks/Python.framework/Versions/3.12/lib/python3.12/site-packages (from pandas>=1.3.0->yfinance) (2024.1)\n",
      "Requirement already satisfied: charset-normalizer<4,>=2 in /Library/Frameworks/Python.framework/Versions/3.12/lib/python3.12/site-packages (from requests>=2.31->yfinance) (3.3.2)\n",
      "Requirement already satisfied: idna<4,>=2.5 in /Library/Frameworks/Python.framework/Versions/3.12/lib/python3.12/site-packages (from requests>=2.31->yfinance) (3.7)\n",
      "Requirement already satisfied: urllib3<3,>=1.21.1 in /Library/Frameworks/Python.framework/Versions/3.12/lib/python3.12/site-packages (from requests>=2.31->yfinance) (2.2.1)\n",
      "Requirement already satisfied: certifi>=2017.4.17 in /Library/Frameworks/Python.framework/Versions/3.12/lib/python3.12/site-packages (from requests>=2.31->yfinance) (2023.7.22)\n",
      "Downloading yfinance-0.2.38-py2.py3-none-any.whl (72 kB)\n",
      "\u001b[2K   \u001b[90m━━━━━━━━━━━━━━━━━━━━━━━━━━━━━━━━━━━━━━━━\u001b[0m \u001b[32m73.0/73.0 kB\u001b[0m \u001b[31m2.1 MB/s\u001b[0m eta \u001b[36m0:00:00\u001b[0m\n",
      "\u001b[?25hDownloading appdirs-1.4.4-py2.py3-none-any.whl (9.6 kB)\n",
      "Downloading html5lib-1.1-py2.py3-none-any.whl (112 kB)\n",
      "\u001b[2K   \u001b[90m━━━━━━━━━━━━━━━━━━━━━━━━━━━━━━━━━━━━━━━━\u001b[0m \u001b[32m112.2/112.2 kB\u001b[0m \u001b[31m3.4 MB/s\u001b[0m eta \u001b[36m0:00:00\u001b[0m\n",
      "\u001b[?25hDownloading lxml-5.2.1-cp312-cp312-macosx_10_9_x86_64.whl (4.6 MB)\n",
      "\u001b[2K   \u001b[90m━━━━━━━━━━━━━━━━━━━━━━━━━━━━━━━━━━━━━━━━\u001b[0m \u001b[32m4.6/4.6 MB\u001b[0m \u001b[31m12.7 MB/s\u001b[0m eta \u001b[36m0:00:00\u001b[0m00:01\u001b[0m00:01\u001b[0m\n",
      "\u001b[?25hDownloading multitasking-0.0.11-py3-none-any.whl (8.5 kB)\n",
      "Building wheels for collected packages: frozendict, peewee\n",
      "  Building wheel for frozendict (pyproject.toml) ... \u001b[?25ldone\n",
      "\u001b[?25h  Created wheel for frozendict: filename=frozendict-2.4.2-cp312-cp312-macosx_10_9_universal2.whl size=15508 sha256=74ced5495dcaff0273503a990e4bcc94ea42a2a94e259c6d80844818dadf2572\n",
      "  Stored in directory: /Users/socrates/Library/Caches/pip/wheels/27/ad/d9/1c34a1bc48bf0fc4aee0887230b95ac6329426bffd89d5b6ac\n",
      "  Building wheel for peewee (pyproject.toml) ... \u001b[?25ldone\n",
      "\u001b[?25h  Created wheel for peewee: filename=peewee-3.17.3-py3-none-any.whl size=138407 sha256=1453735970591af8c76a9947dc57d9e3dd2c8506629daee1370cd50f036176fb\n",
      "  Stored in directory: /Users/socrates/Library/Caches/pip/wheels/39/c7/dd/909d267742f7fbb941ff081dacd661f622a0b4eb38f667b84b\n",
      "Successfully built frozendict peewee\n",
      "Installing collected packages: peewee, multitasking, appdirs, lxml, html5lib, frozendict, yfinance\n",
      "Successfully installed appdirs-1.4.4 frozendict-2.4.2 html5lib-1.1 lxml-5.2.1 multitasking-0.0.11 peewee-3.17.3 yfinance-0.2.38\n"
     ]
    }
   ],
   "source": [
    "!pip install yfinance"
   ]
  },
  {
   "cell_type": "code",
   "execution_count": 2,
   "id": "1e78b5bc-e3b4-4f2c-a467-dbc5b1d1e7e4",
   "metadata": {},
   "outputs": [],
   "source": [
    "import pandas as pd\n",
    "import numpy as np\n",
    "import datetime\n",
    "import matplotlib.pyplot as plt\n",
    "import yfinance as yf\n",
    "\n",
    "from datetime import date, datetime, time, timezone"
   ]
  },
  {
   "cell_type": "code",
   "execution_count": 3,
   "id": "1e7072d1-8dc2-4b26-adcf-3b0b15f3ffaf",
   "metadata": {},
   "outputs": [],
   "source": [
    "def get_stock_data(ticker, start, end):\n",
    "    data = yf.download(ticker, start, end)\n",
    "    data.insert(0, \"Ticker\", ticker)\n",
    "    return data"
   ]
  },
  {
   "cell_type": "markdown",
   "id": "d042f86f-0b86-4be5-bcc8-bcce4fd3f742",
   "metadata": {},
   "source": [
    "Para comprobar si la adquisición de datos funciona correctamente, **introduzca el código del ticker de Disney (\"DIS\") para probar la función.**\n",
    "\n",
    "Utilice como fecha inicial el 1 de Enero de 2020 y como fecha final hoy.\n",
    "\n",
    "Una búsqueda de ticker se puede hacer fácilmente a través de Yahoo Finanzas o investing.com"
   ]
  },
  {
   "cell_type": "code",
   "execution_count": 4,
   "id": "52df18f9-4fd3-44d7-9ea4-fc5dd101f89f",
   "metadata": {},
   "outputs": [
    {
     "name": "stderr",
     "output_type": "stream",
     "text": [
      "[*********************100%%**********************]  1 of 1 completed\n"
     ]
    },
    {
     "data": {
      "text/html": [
       "<div>\n",
       "<style scoped>\n",
       "    .dataframe tbody tr th:only-of-type {\n",
       "        vertical-align: middle;\n",
       "    }\n",
       "\n",
       "    .dataframe tbody tr th {\n",
       "        vertical-align: top;\n",
       "    }\n",
       "\n",
       "    .dataframe thead th {\n",
       "        text-align: right;\n",
       "    }\n",
       "</style>\n",
       "<table border=\"1\" class=\"dataframe\">\n",
       "  <thead>\n",
       "    <tr style=\"text-align: right;\">\n",
       "      <th></th>\n",
       "      <th>Ticker</th>\n",
       "      <th>Open</th>\n",
       "      <th>High</th>\n",
       "      <th>Low</th>\n",
       "      <th>Close</th>\n",
       "      <th>Adj Close</th>\n",
       "      <th>Volume</th>\n",
       "    </tr>\n",
       "    <tr>\n",
       "      <th>Date</th>\n",
       "      <th></th>\n",
       "      <th></th>\n",
       "      <th></th>\n",
       "      <th></th>\n",
       "      <th></th>\n",
       "      <th></th>\n",
       "      <th></th>\n",
       "    </tr>\n",
       "  </thead>\n",
       "  <tbody>\n",
       "    <tr>\n",
       "      <th>2020-01-02</th>\n",
       "      <td>DIS</td>\n",
       "      <td>145.289993</td>\n",
       "      <td>148.199997</td>\n",
       "      <td>145.100006</td>\n",
       "      <td>148.199997</td>\n",
       "      <td>147.718567</td>\n",
       "      <td>9502100</td>\n",
       "    </tr>\n",
       "    <tr>\n",
       "      <th>2020-01-03</th>\n",
       "      <td>DIS</td>\n",
       "      <td>146.399994</td>\n",
       "      <td>147.899994</td>\n",
       "      <td>146.050003</td>\n",
       "      <td>146.500000</td>\n",
       "      <td>146.024094</td>\n",
       "      <td>7320200</td>\n",
       "    </tr>\n",
       "    <tr>\n",
       "      <th>2020-01-06</th>\n",
       "      <td>DIS</td>\n",
       "      <td>145.539993</td>\n",
       "      <td>146.029999</td>\n",
       "      <td>144.309998</td>\n",
       "      <td>145.649994</td>\n",
       "      <td>145.176849</td>\n",
       "      <td>8262500</td>\n",
       "    </tr>\n",
       "    <tr>\n",
       "      <th>2020-01-07</th>\n",
       "      <td>DIS</td>\n",
       "      <td>145.990005</td>\n",
       "      <td>146.869995</td>\n",
       "      <td>145.419998</td>\n",
       "      <td>145.699997</td>\n",
       "      <td>145.226685</td>\n",
       "      <td>6906500</td>\n",
       "    </tr>\n",
       "    <tr>\n",
       "      <th>2020-01-08</th>\n",
       "      <td>DIS</td>\n",
       "      <td>145.490005</td>\n",
       "      <td>146.130005</td>\n",
       "      <td>144.820007</td>\n",
       "      <td>145.399994</td>\n",
       "      <td>144.927658</td>\n",
       "      <td>6984200</td>\n",
       "    </tr>\n",
       "  </tbody>\n",
       "</table>\n",
       "</div>"
      ],
      "text/plain": [
       "           Ticker        Open        High         Low       Close   Adj Close  \\\n",
       "Date                                                                            \n",
       "2020-01-02    DIS  145.289993  148.199997  145.100006  148.199997  147.718567   \n",
       "2020-01-03    DIS  146.399994  147.899994  146.050003  146.500000  146.024094   \n",
       "2020-01-06    DIS  145.539993  146.029999  144.309998  145.649994  145.176849   \n",
       "2020-01-07    DIS  145.990005  146.869995  145.419998  145.699997  145.226685   \n",
       "2020-01-08    DIS  145.490005  146.130005  144.820007  145.399994  144.927658   \n",
       "\n",
       "             Volume  \n",
       "Date                 \n",
       "2020-01-02  9502100  \n",
       "2020-01-03  7320200  \n",
       "2020-01-06  8262500  \n",
       "2020-01-07  6906500  \n",
       "2020-01-08  6984200  "
      ]
     },
     "execution_count": 4,
     "metadata": {},
     "output_type": "execute_result"
    }
   ],
   "source": [
    "df = get_stock_data(\"DIS\",'2020-01-01','2024-04-24')\n",
    "df.head()"
   ]
  },
  {
   "cell_type": "markdown",
   "id": "e554be12-c6f6-4d58-8263-9d4655db5171",
   "metadata": {},
   "source": [
    "Dado que el análisis se basará únicamente en el precio de cierre de cada teletipo (\"Close\"), **pivote en la forma requerida.**"
   ]
  },
  {
   "cell_type": "code",
   "execution_count": 5,
   "id": "8e2026b0-b136-46d7-9a06-91751e07cc21",
   "metadata": {},
   "outputs": [
    {
     "data": {
      "text/html": [
       "<div>\n",
       "<style scoped>\n",
       "    .dataframe tbody tr th:only-of-type {\n",
       "        vertical-align: middle;\n",
       "    }\n",
       "\n",
       "    .dataframe tbody tr th {\n",
       "        vertical-align: top;\n",
       "    }\n",
       "\n",
       "    .dataframe thead th {\n",
       "        text-align: right;\n",
       "    }\n",
       "</style>\n",
       "<table border=\"1\" class=\"dataframe\">\n",
       "  <thead>\n",
       "    <tr style=\"text-align: right;\">\n",
       "      <th></th>\n",
       "      <th>Close</th>\n",
       "    </tr>\n",
       "    <tr>\n",
       "      <th>Date</th>\n",
       "      <th></th>\n",
       "    </tr>\n",
       "  </thead>\n",
       "  <tbody>\n",
       "    <tr>\n",
       "      <th>2020-01-02</th>\n",
       "      <td>148.199997</td>\n",
       "    </tr>\n",
       "    <tr>\n",
       "      <th>2020-01-03</th>\n",
       "      <td>146.500000</td>\n",
       "    </tr>\n",
       "    <tr>\n",
       "      <th>2020-01-06</th>\n",
       "      <td>145.649994</td>\n",
       "    </tr>\n",
       "    <tr>\n",
       "      <th>2020-01-07</th>\n",
       "      <td>145.699997</td>\n",
       "    </tr>\n",
       "    <tr>\n",
       "      <th>2020-01-08</th>\n",
       "      <td>145.399994</td>\n",
       "    </tr>\n",
       "  </tbody>\n",
       "</table>\n",
       "</div>"
      ],
      "text/plain": [
       "                 Close\n",
       "Date                  \n",
       "2020-01-02  148.199997\n",
       "2020-01-03  146.500000\n",
       "2020-01-06  145.649994\n",
       "2020-01-07  145.699997\n",
       "2020-01-08  145.399994"
      ]
     },
     "execution_count": 5,
     "metadata": {},
     "output_type": "execute_result"
    }
   ],
   "source": [
    "# pivot dataframe\n",
    "df = pd.pivot_table(df,values='Close', index='Date')\n",
    "df.head()"
   ]
  },
  {
   "cell_type": "markdown",
   "id": "84efc173-636f-45d0-9ebd-690ea6e8547d",
   "metadata": {},
   "source": [
    "## Paso 2"
   ]
  },
  {
   "cell_type": "markdown",
   "id": "be1b8706-dd92-4a71-82e1-9b3c02561fb2",
   "metadata": {},
   "source": [
    "**Cree cada dataframe necesario para el análisis utilizando la función creada.**\n",
    "\n",
    "El nombre del dataframe Será el nombre de la etiqueta: SPY / IYW / VT / DBA / TLT / PDBC / IAU"
   ]
  },
  {
   "cell_type": "code",
   "execution_count": 6,
   "id": "f161b8f0-d4a3-44e9-b602-36f87a34575a",
   "metadata": {},
   "outputs": [
    {
     "name": "stderr",
     "output_type": "stream",
     "text": [
      "[*********************100%%**********************]  1 of 1 completed\n",
      "[*********************100%%**********************]  1 of 1 completed\n",
      "[*********************100%%**********************]  1 of 1 completed\n",
      "[*********************100%%**********************]  1 of 1 completed\n",
      "[*********************100%%**********************]  1 of 1 completed\n",
      "[*********************100%%**********************]  1 of 1 completed\n",
      "[*********************100%%**********************]  1 of 1 completed\n"
     ]
    }
   ],
   "source": [
    "SPY = get_stock_data(\"SPY\",'2020-01-01','2024-04-24')\n",
    "IYW = get_stock_data(\"IYW\",'2020-01-01','2024-04-24')\n",
    "VT = get_stock_data(\"VT\",'2020-01-01','2024-04-24')\n",
    "DBA = get_stock_data(\"DBA\",'2020-01-01','2024-04-24')\n",
    "TLT = get_stock_data(\"TLT\",'2020-01-01','2024-04-24')\n",
    "PDBC = get_stock_data(\"PDBC\",'2020-01-01','2024-04-24')\n",
    "IAU = get_stock_data(\"IAU\",'2020-01-01','2024-04-24')"
   ]
  },
  {
   "cell_type": "code",
   "execution_count": 7,
   "id": "a110b2c7-9502-4a7a-ad3b-5feb6c8126ad",
   "metadata": {},
   "outputs": [
    {
     "data": {
      "text/plain": [
       "Index(['Ticker', 'Open', 'High', 'Low', 'Close', 'Adj Close', 'Volume'], dtype='object')"
      ]
     },
     "execution_count": 7,
     "metadata": {},
     "output_type": "execute_result"
    }
   ],
   "source": [
    "SPY.columns\n"
   ]
  },
  {
   "cell_type": "markdown",
   "id": "cdb95968-c7da-445b-844f-ff2033ad22ed",
   "metadata": {},
   "source": [
    "**Pivote cada dataframe para visualizar únicamente el cierre (\"Close\")**"
   ]
  },
  {
   "cell_type": "code",
   "execution_count": 8,
   "id": "30123bf1-4d18-4d62-b3db-afa66904e831",
   "metadata": {},
   "outputs": [
    {
     "data": {
      "text/html": [
       "<div>\n",
       "<style scoped>\n",
       "    .dataframe tbody tr th:only-of-type {\n",
       "        vertical-align: middle;\n",
       "    }\n",
       "\n",
       "    .dataframe tbody tr th {\n",
       "        vertical-align: top;\n",
       "    }\n",
       "\n",
       "    .dataframe thead th {\n",
       "        text-align: right;\n",
       "    }\n",
       "</style>\n",
       "<table border=\"1\" class=\"dataframe\">\n",
       "  <thead>\n",
       "    <tr style=\"text-align: right;\">\n",
       "      <th></th>\n",
       "      <th>Close</th>\n",
       "    </tr>\n",
       "    <tr>\n",
       "      <th>Date</th>\n",
       "      <th></th>\n",
       "    </tr>\n",
       "  </thead>\n",
       "  <tbody>\n",
       "    <tr>\n",
       "      <th>2020-01-02</th>\n",
       "      <td>16.500000</td>\n",
       "    </tr>\n",
       "    <tr>\n",
       "      <th>2020-01-03</th>\n",
       "      <td>16.309999</td>\n",
       "    </tr>\n",
       "    <tr>\n",
       "      <th>2020-01-06</th>\n",
       "      <td>16.350000</td>\n",
       "    </tr>\n",
       "    <tr>\n",
       "      <th>2020-01-07</th>\n",
       "      <td>16.389999</td>\n",
       "    </tr>\n",
       "    <tr>\n",
       "      <th>2020-01-08</th>\n",
       "      <td>16.309999</td>\n",
       "    </tr>\n",
       "  </tbody>\n",
       "</table>\n",
       "</div>"
      ],
      "text/plain": [
       "                Close\n",
       "Date                 \n",
       "2020-01-02  16.500000\n",
       "2020-01-03  16.309999\n",
       "2020-01-06  16.350000\n",
       "2020-01-07  16.389999\n",
       "2020-01-08  16.309999"
      ]
     },
     "execution_count": 8,
     "metadata": {},
     "output_type": "execute_result"
    }
   ],
   "source": [
    "\n",
    "SPY = pd.pivot_table(SPY,values='Close', index='Date')\n",
    "IYW = pd.pivot_table(IYW,values='Close', index='Date')\n",
    "VT = pd.pivot_table(VT,values='Close', index='Date')\n",
    "DBA = pd.pivot_table(DBA,values='Close', index='Date')\n",
    "TLT = pd.pivot_table(TLT,values='Close', index='Date')\n",
    "PDBC = pd.pivot_table(PDBC,values='Close', index='Date')\n",
    "IAU = pd.pivot_table(IAU,values='Close', index='Date')\n",
    "\n",
    "DBA.head()"
   ]
  },
  {
   "cell_type": "markdown",
   "id": "3f0aeef0-2749-4253-be57-3420269e1a1e",
   "metadata": {},
   "source": [
    "**Cada dataframe creado se combinará en un único dataframe para un análisis eficiente.**\n",
    "\n",
    "En este momento, si la configuración y las propiedades de los dataframes a fusionar son las mismas, se puede mantener la consistencia de los datos independientemente de la dirección de la fila o columna. Recuerda que esto es algo que debes comprobar antes de fusionar dataframe.\n",
    "\n",
    "Cada dataframe que vamos a fusionar ahora tiene el mismo índice, la misma columna y el mismo tipo de elementos de datos. Por lo tanto, utilizamos la función concat() para concatenar manteniendo la forma del marco de datos existente.\n",
    "\n",
    "https://pandas.pydata.org/pandas-docs/stable/reference/api/pandas.concat.html"
   ]
  },
  {
   "cell_type": "code",
   "execution_count": null,
   "id": "41cacee5",
   "metadata": {},
   "outputs": [],
   "source": []
  },
  {
   "cell_type": "code",
   "execution_count": 9,
   "id": "ae3623a2-0ecf-4851-928f-a647453c75f3",
   "metadata": {},
   "outputs": [
    {
     "data": {
      "text/html": [
       "<div>\n",
       "<style scoped>\n",
       "    .dataframe tbody tr th:only-of-type {\n",
       "        vertical-align: middle;\n",
       "    }\n",
       "\n",
       "    .dataframe tbody tr th {\n",
       "        vertical-align: top;\n",
       "    }\n",
       "\n",
       "    .dataframe thead th {\n",
       "        text-align: right;\n",
       "    }\n",
       "</style>\n",
       "<table border=\"1\" class=\"dataframe\">\n",
       "  <thead>\n",
       "    <tr style=\"text-align: right;\">\n",
       "      <th></th>\n",
       "      <th>SPY</th>\n",
       "      <th>IYW</th>\n",
       "      <th>VT</th>\n",
       "      <th>DBA</th>\n",
       "      <th>TLT</th>\n",
       "      <th>PDBC</th>\n",
       "      <th>IAU</th>\n",
       "    </tr>\n",
       "    <tr>\n",
       "      <th>Date</th>\n",
       "      <th></th>\n",
       "      <th></th>\n",
       "      <th></th>\n",
       "      <th></th>\n",
       "      <th></th>\n",
       "      <th></th>\n",
       "      <th></th>\n",
       "    </tr>\n",
       "  </thead>\n",
       "  <tbody>\n",
       "    <tr>\n",
       "      <th>2020-01-02</th>\n",
       "      <td>324.869995</td>\n",
       "      <td>59.355000</td>\n",
       "      <td>81.809998</td>\n",
       "      <td>16.500000</td>\n",
       "      <td>137.009995</td>\n",
       "      <td>16.639999</td>\n",
       "      <td>29.219999</td>\n",
       "    </tr>\n",
       "    <tr>\n",
       "      <th>2020-01-03</th>\n",
       "      <td>322.410004</td>\n",
       "      <td>58.762501</td>\n",
       "      <td>81.070000</td>\n",
       "      <td>16.309999</td>\n",
       "      <td>139.119995</td>\n",
       "      <td>16.780001</td>\n",
       "      <td>29.620001</td>\n",
       "    </tr>\n",
       "    <tr>\n",
       "      <th>2020-01-06</th>\n",
       "      <td>323.640015</td>\n",
       "      <td>59.125000</td>\n",
       "      <td>81.370003</td>\n",
       "      <td>16.350000</td>\n",
       "      <td>138.330002</td>\n",
       "      <td>16.799999</td>\n",
       "      <td>29.920000</td>\n",
       "    </tr>\n",
       "    <tr>\n",
       "      <th>2020-01-07</th>\n",
       "      <td>322.730011</td>\n",
       "      <td>59.147499</td>\n",
       "      <td>81.120003</td>\n",
       "      <td>16.389999</td>\n",
       "      <td>137.649994</td>\n",
       "      <td>16.770000</td>\n",
       "      <td>30.040001</td>\n",
       "    </tr>\n",
       "    <tr>\n",
       "      <th>2020-01-08</th>\n",
       "      <td>324.450012</td>\n",
       "      <td>59.737499</td>\n",
       "      <td>81.449997</td>\n",
       "      <td>16.309999</td>\n",
       "      <td>136.740005</td>\n",
       "      <td>16.540001</td>\n",
       "      <td>29.820000</td>\n",
       "    </tr>\n",
       "  </tbody>\n",
       "</table>\n",
       "</div>"
      ],
      "text/plain": [
       "                   SPY        IYW         VT        DBA         TLT  \\\n",
       "Date                                                                  \n",
       "2020-01-02  324.869995  59.355000  81.809998  16.500000  137.009995   \n",
       "2020-01-03  322.410004  58.762501  81.070000  16.309999  139.119995   \n",
       "2020-01-06  323.640015  59.125000  81.370003  16.350000  138.330002   \n",
       "2020-01-07  322.730011  59.147499  81.120003  16.389999  137.649994   \n",
       "2020-01-08  324.450012  59.737499  81.449997  16.309999  136.740005   \n",
       "\n",
       "                 PDBC        IAU  \n",
       "Date                              \n",
       "2020-01-02  16.639999  29.219999  \n",
       "2020-01-03  16.780001  29.620001  \n",
       "2020-01-06  16.799999  29.920000  \n",
       "2020-01-07  16.770000  30.040001  \n",
       "2020-01-08  16.540001  29.820000  "
      ]
     },
     "execution_count": 9,
     "metadata": {},
     "output_type": "execute_result"
    }
   ],
   "source": [
    "\n",
    "stock = pd.concat([SPY, IYW, VT, DBA, TLT, PDBC, IAU], axis=1, keys=['SPY', 'IYW', 'VT', 'DBA', 'TLT', 'PDBC', 'IAU'])\n",
    "stock = stock.droplevel(1, axis=1)\n",
    "stock.head()"
   ]
  },
  {
   "cell_type": "markdown",
   "id": "2d113c1d-934e-49b6-aeec-2338f386a11f",
   "metadata": {},
   "source": [
    "## Paso 3"
   ]
  },
  {
   "cell_type": "markdown",
   "id": "1a691aff-f6b2-489f-b0e2-63e91e5627a0",
   "metadata": {},
   "source": [
    "Si **dibuja un gráfico basado en los datos del precio de cierre en una serie temporal** (fecha), podrá comprobar el movimiento del precio de las acciones.\n",
    "\n",
    "Si superpone los gráficos de cada ticker, podrá ver la correlación aproximada."
   ]
  },
  {
   "cell_type": "code",
   "execution_count": 10,
   "id": "a163ea0d",
   "metadata": {},
   "outputs": [
    {
     "name": "stdout",
     "output_type": "stream",
     "text": [
      "Date\n",
      "2020-01-02    324.869995\n",
      "2020-01-03    322.410004\n",
      "2020-01-06    323.640015\n",
      "2020-01-07    322.730011\n",
      "2020-01-08    324.450012\n",
      "                 ...    \n",
      "2024-04-17    500.549988\n",
      "2024-04-18    499.519989\n",
      "2024-04-19    495.160004\n",
      "2024-04-22    499.720001\n",
      "2024-04-23    505.649994\n",
      "Name: SPY, Length: 1084, dtype: float64\n",
      "Date\n",
      "2020-01-02     59.355000\n",
      "2020-01-03     58.762501\n",
      "2020-01-06     59.125000\n",
      "2020-01-07     59.147499\n",
      "2020-01-08     59.737499\n",
      "                 ...    \n",
      "2024-04-17    129.339996\n",
      "2024-04-18    128.410004\n",
      "2024-04-19    124.750000\n",
      "2024-04-22    126.239998\n",
      "2024-04-23    128.520004\n",
      "Name: IYW, Length: 1084, dtype: float64\n",
      "Date\n",
      "2020-01-02     81.809998\n",
      "2020-01-03     81.070000\n",
      "2020-01-06     81.370003\n",
      "2020-01-07     81.120003\n",
      "2020-01-08     81.449997\n",
      "                 ...    \n",
      "2024-04-17    105.589996\n",
      "2024-04-18    105.430000\n",
      "2024-04-19    104.940002\n",
      "2024-04-22    105.919998\n",
      "2024-04-23    107.129997\n",
      "Name: VT, Length: 1084, dtype: float64\n",
      "Date\n",
      "2020-01-02    16.500000\n",
      "2020-01-03    16.309999\n",
      "2020-01-06    16.350000\n",
      "2020-01-07    16.389999\n",
      "2020-01-08    16.309999\n",
      "                ...    \n",
      "2024-04-17    25.410000\n",
      "2024-04-18    25.930000\n",
      "2024-04-19    26.510000\n",
      "2024-04-22    26.190001\n",
      "2024-04-23    25.950001\n",
      "Name: DBA, Length: 1084, dtype: float64\n",
      "Date\n",
      "2020-01-02    137.009995\n",
      "2020-01-03    139.119995\n",
      "2020-01-06    138.330002\n",
      "2020-01-07    137.649994\n",
      "2020-01-08    136.740005\n",
      "                 ...    \n",
      "2024-04-17     89.279999\n",
      "2024-04-18     88.830002\n",
      "2024-04-19     89.150002\n",
      "2024-04-22     89.000000\n",
      "2024-04-23     89.029999\n",
      "Name: TLT, Length: 1084, dtype: float64\n",
      "Date\n",
      "2020-01-02    16.639999\n",
      "2020-01-03    16.780001\n",
      "2020-01-06    16.799999\n",
      "2020-01-07    16.770000\n",
      "2020-01-08    16.540001\n",
      "                ...    \n",
      "2024-04-17    14.110000\n",
      "2024-04-18    14.080000\n",
      "2024-04-19    14.150000\n",
      "2024-04-22    14.160000\n",
      "2024-04-23    14.220000\n",
      "Name: PDBC, Length: 1084, dtype: float64\n",
      "Date\n",
      "2020-01-02    29.219999\n",
      "2020-01-03    29.620001\n",
      "2020-01-06    29.920000\n",
      "2020-01-07    30.040001\n",
      "2020-01-08    29.820000\n",
      "                ...    \n",
      "2024-04-17    44.860001\n",
      "2024-04-18    45.000000\n",
      "2024-04-19    45.139999\n",
      "2024-04-22    44.040001\n",
      "2024-04-23    43.910000\n",
      "Name: IAU, Length: 1084, dtype: float64\n"
     ]
    }
   ],
   "source": [
    "for key in stock.columns.unique():\n",
    "    print(stock[key])\n"
   ]
  },
  {
   "cell_type": "code",
   "execution_count": 11,
   "id": "4f939a29-72b8-47c9-ba11-8685e7d17451",
   "metadata": {},
   "outputs": [
    {
     "data": {
      "image/png": "[encoded data removed]",
      "text/plain": [
       "<Figure size 1000x500 with 1 Axes>"
      ]
     },
     "metadata": {},
     "output_type": "display_data"
    }
   ],
   "source": [
    "#show diferent stocks\n",
    "plt.figure(figsize=(10,5))\n",
    "for i in stock.columns.unique():\n",
    "    plt.plot(stock[i].index, stock[i], label=stock[i].name)\n",
    "plt.legend()\n",
    "plt.show()\n"
   ]
  },
  {
   "cell_type": "markdown",
   "id": "3eb50008-c65a-496d-b7b8-565b7c7b544d",
   "metadata": {},
   "source": [
    "Si observa el gráfico siguiente, hay una sección con graves fluctuaciones de precios. Se trata del periodo en el que comenzó Coronavirus.\n",
    "\n",
    "**Comprobemos los datos cortándolos utilizando el índice de datos de series temporales sólo para este periodo (1 de Febrero de 2020 a 31 de Julio de 2020).**"
   ]
  },
  {
   "cell_type": "code",
   "execution_count": 12,
   "id": "6cc4a0c1-35b8-425a-af47-27db928094b1",
   "metadata": {},
   "outputs": [],
   "source": [
    "covid_df = stock.copy()\n",
    "covid_df.sort_index(inplace=True)\n",
    "covid_df = covid_df.loc['2020-02-01':'2020-07-31']"
   ]
  },
  {
   "cell_type": "markdown",
   "id": "c862b3b0-3815-4b2e-a2d6-0c01bc858319",
   "metadata": {},
   "source": [
    "**Dibuje los datos en una gráfica**"
   ]
  },
  {
   "cell_type": "code",
   "execution_count": 13,
   "id": "8f29a7d4-7aeb-49d4-bfb9-eaa5d7281705",
   "metadata": {},
   "outputs": [
    {
     "data": {
      "image/png": "[encoded data removed]",
      "text/plain": [
       "<Figure size 1000x500 with 1 Axes>"
      ]
     },
     "metadata": {},
     "output_type": "display_data"
    }
   ],
   "source": [
    "plt.figure(figsize=(10,5))\n",
    "for i in covid_df.columns.unique():\n",
    "    plt.plot(covid_df[i].index, covid_df[i], label=covid_df[i].name)\n",
    "plt.legend()\n",
    "plt.show()"
   ]
  },
  {
   "cell_type": "markdown",
   "id": "7950a756-bc2e-4c57-b6c7-4e46a4e856f9",
   "metadata": {},
   "source": [
    "**Separemos los factores de periodo relevantes para comprobar el gráfico.**"
   ]
  },
  {
   "cell_type": "code",
   "execution_count": 14,
   "id": "dacb63e3-3299-45fd-a06c-0e42199c6ce9",
   "metadata": {},
   "outputs": [],
   "source": [
    "x = covid_df.index\n",
    "s_y = covid_df[[\"SPY\"]]\n",
    "i_y = covid_df[[\"IAU\"]]\n",
    "d_y = covid_df[[\"DBA\"]]\n",
    "t_y = covid_df[[\"TLT\"]]"
   ]
  },
  {
   "cell_type": "markdown",
   "id": "9d951c43-a520-4496-8d8f-93979c8fc735",
   "metadata": {},
   "source": [
    "Comparemos cómo reaccionan activos con personalidades diferentes en momentos de gran conmoción económica como el coronavirus.\n",
    "\n",
    "Puede ver que, en general, el precio de las acciones cae bruscamente y luego se recupera gradualmente, pero en el caso del oro y los bonos ocurre lo contrario. En particular, en el caso de los bonos, se puede ver que la tendencia es opuesta a la del precio de las acciones.\n",
    "\n",
    "Para visualizarlo, **dibuje 3 gráficas en una única fila y 3 columnas, con los datos de la época de covid de SPY, IAU y TLT.**\n",
    "\n",
    "El título de la gráfica general será \"Covid 19\""
   ]
  },
  {
   "cell_type": "code",
   "execution_count": null,
   "id": "1fddbe1f-ab38-4e9b-a594-e380ade8a9eb",
   "metadata": {},
   "outputs": [],
   "source": []
  },
  {
   "cell_type": "markdown",
   "id": "d31d5e90-0879-4b06-9e7a-8e8ee3e9803f",
   "metadata": {},
   "source": [
    "## Paso 4"
   ]
  },
  {
   "cell_type": "markdown",
   "id": "69ce0ddd-78be-41a6-a9a4-7adf74372dcc",
   "metadata": {},
   "source": [
    "**Descarguemos los datos de volumen de negociación (\"Volume\") para un ticker concreto (\"PDBC\"), entre el 1 de Enero de 2020 y hoy.**"
   ]
  },
  {
   "cell_type": "code",
   "execution_count": null,
   "id": "122c67e8-3bba-4829-abc0-8ac1f3957e4f",
   "metadata": {},
   "outputs": [],
   "source": [
    "df = get_stock_data(..."
   ]
  },
  {
   "cell_type": "markdown",
   "id": "f9e555c6-dd6d-4c09-b3dd-755454d9b58f",
   "metadata": {},
   "source": [
    "**Ahora visualicemos en forma de gráfico de barras esos datos.**"
   ]
  },
  {
   "cell_type": "code",
   "execution_count": null,
   "id": "7bc37892-4aeb-4249-ab4c-13d797eb42ee",
   "metadata": {},
   "outputs": [],
   "source": [
    "...\n",
    "plt.show()"
   ]
  },
  {
   "cell_type": "markdown",
   "id": "6e81154c-2a89-4b1c-bf8d-d6d19d8b50d6",
   "metadata": {},
   "source": [
    "## Paso 5"
   ]
  },
  {
   "cell_type": "markdown",
   "id": "b95bc245-0d2c-493e-93f5-5e9a5b1ccfe3",
   "metadata": {},
   "source": [
    "Utilizando el método `subplot2grid` de matplotlib, el gráfico del precio de cierre (\"Closing\") se debe visualizar en la parte superior y el volumen de negociación (\"Volume\") en el mismo periodo se visualiza en la parte inferior.\n",
    "\n",
    "`ax = subplot2grid((nrows, ncols), (row, col), rowspan, colspan)`\n",
    "\n",
    "https://matplotlib.org/stable/gallery/userdemo/demo_gridspec01.html#sphx-glr-gallery-userdemo-demo-gridspec01-py"
   ]
  },
  {
   "cell_type": "code",
   "execution_count": null,
   "id": "49082c11-e1cb-4037-8ae4-c210addf73f0",
   "metadata": {},
   "outputs": [],
   "source": [
    "...\n",
    "plt.show()"
   ]
  },
  {
   "cell_type": "markdown",
   "id": "5a1a4126-e42a-4933-976f-51e4be8fce81",
   "metadata": {},
   "source": [
    "## Paso 6"
   ]
  },
  {
   "cell_type": "markdown",
   "id": "77f679cd-11c7-46fd-93a8-58c3e497a9a5",
   "metadata": {},
   "source": [
    "Utilizaremos el método `pandas.Series.shift()` para calcular el cambio porcentual diario.\n",
    "\n",
    "https://pandas.pydata.org/pandas-docs/stable/reference/api/pandas.Series.shift.html?highlight=shift#pandas.Series.shift\n",
    "\n",
    "Comparar los datos actuales con los datos en un punto específico en el tiempo para calcular el cambio porcentual es también una tarea común en el trabajo diario."
   ]
  },
  {
   "cell_type": "markdown",
   "id": "3ab77d05-23d1-4c89-bc0a-cdd60d4e2497",
   "metadata": {},
   "source": [
    "La fórmula para calcular la variación porcentual diaria basada en el precio de cierre es sencilla:\n",
    " \n",
    " \n",
    "$Todays\\_daily\\_percentage\\_change = ((Todays\\_closing\\_price - Yesterdays\\_closing\\_price) / Yesterdays\\_closing\\_price) * 100 Daily\\_Percentage\\_Change = (New\\_Value – Original\\_Value) / Original\\_Value * 100$"
   ]
  },
  {
   "cell_type": "markdown",
   "id": "9e87dd19-2e0d-40a8-aef6-6b984ebd840b",
   "metadata": {},
   "source": [
    "**Calcula en la serie `spy_daily_pc`  el cambio porcentual para cada día con respecto al anterior. Utiliza para ello la fórmula anterior y el método `shift` con desplazamiento de 1.**"
   ]
  },
  {
   "cell_type": "code",
   "execution_count": null,
   "id": "1780bdeb-e5cf-4987-9498-a73f9ce72f58",
   "metadata": {},
   "outputs": [],
   "source": [
    "spy_daily_pc = ...\n",
    "spy_daily_pc.head()"
   ]
  },
  {
   "cell_type": "markdown",
   "id": "c034272c-bb1c-4fed-a26c-d9621fc5d0be",
   "metadata": {},
   "source": [
    "**Dibuja la gráfica del cambio porcentual a lo largo del tiempo.**"
   ]
  },
  {
   "cell_type": "code",
   "execution_count": null,
   "id": "deac4ba9-3ca7-42a3-99b9-3f0e1f3c92ba",
   "metadata": {},
   "outputs": [],
   "source": [
    "...\n",
    "plt.show()"
   ]
  },
  {
   "cell_type": "markdown",
   "id": "5afb3105-ffbf-472a-82fd-c5153ec5efeb",
   "metadata": {},
   "source": [
    "Un histograma es un gráfico que muestra la distribución de frecuencias.\n",
    "\n",
    "Representa la frecuencia de los valores de datos por tiempo.\n",
    "\n",
    "En este momento, el número de secciones se utiliza fijando el valor del parámetro bins de la función `hist()`.\n",
    "\n",
    "Como referencia, el valor por defecto de hist() es 10. La forma del gráfico cambia en función de los bins. Debe establecer el valor de bins comprobando cuidadosamente las características de los datos."
   ]
  },
  {
   "cell_type": "markdown",
   "id": "54f10d35-6f01-4976-bb4f-f2bf352e5d7f",
   "metadata": {},
   "source": [
    "`pandas.DataFrame.hist()`\n",
    "\n",
    "https://pandas.pydata.org/pandas-docs/stable/reference/api/pandas.DataFrame.hist.html?highlight=hist#pandas.DataFrame.hist"
   ]
  },
  {
   "cell_type": "markdown",
   "id": "25285f9e-8fe6-4d98-840f-88010ccd8d0a",
   "metadata": {},
   "source": [
    "Como en la primera fila el cambio porcentual no tiene valor, debe poner un valor de 0."
   ]
  },
  {
   "cell_type": "markdown",
   "id": "3c7ab467-c2cb-4f18-bbba-e103dd100bb0",
   "metadata": {},
   "source": [
    "**Dibuje el histograma de `spy_daily_pc` con un valor de bins de 50.**\n",
    "\n",
    "La frecuencia se expresa dividiendo la variación porcentual diaria del precio de las acciones en 50 tramos."
   ]
  },
  {
   "cell_type": "markdown",
   "id": "78ac51f7-c3cb-43c3-8514-960839205317",
   "metadata": {},
   "source": [
    "## Paso 7"
   ]
  },
  {
   "cell_type": "markdown",
   "id": "e1cf0ff0-115a-466f-9b83-ab201675c944",
   "metadata": {},
   "source": [
    "Vamos a crear un nuevo dataframe que calcule las variaciones diarias del precio de las acciones para todos los tickers, calcule los rendimientos acumulados diarios y analice la correlación."
   ]
  },
  {
   "cell_type": "code",
   "execution_count": null,
   "id": "93525c80-fdc7-4506-8961-562a9bd225ce",
   "metadata": {},
   "outputs": [],
   "source": [
    "stock_daily_pc = ...\n",
    "stock_daily_pc.head()"
   ]
  },
  {
   "cell_type": "markdown",
   "id": "19b9b6c1-987e-4cdb-99f6-be96844758c7",
   "metadata": {},
   "source": [
    "La fórmula de la rentabilidad acumulada diaria simple también es sencilla.\n",
    "\n",
    "Se puede obtener acumulando y multiplicando la tasa de variación diaria de la cotización obtenida anteriormente. Podemos utilizar el método `.cumsum()`.\n",
    " \n",
    "https://pandas.pydata.org/docs/reference/api/pandas.DataFrame.cumsum.html\n",
    "\n",
    "**Calcule la rentabilidad acumulada.**"
   ]
  },
  {
   "cell_type": "code",
   "execution_count": null,
   "id": "95c1ea5f-4d96-485e-a142-75b20e1e8769",
   "metadata": {},
   "outputs": [],
   "source": [
    "stock_d_cr = ..."
   ]
  },
  {
   "cell_type": "markdown",
   "id": "6718f9f3-4691-4cc2-a0b3-e9ba59963c1d",
   "metadata": {},
   "source": [
    "**Dibuje una gráfica del dataframe con la rentabilidad acumulada (cumsum).**"
   ]
  },
  {
   "cell_type": "code",
   "execution_count": null,
   "id": "2f1c7627-0d1d-4409-b955-e8f7a41e5c39",
   "metadata": {},
   "outputs": [],
   "source": [
    "...\n",
    "plt.show()"
   ]
  },
  {
   "cell_type": "markdown",
   "id": "3d7746ff-e8a7-4c01-87ef-742b7702c294",
   "metadata": {},
   "source": [
    "## Paso 8"
   ]
  },
  {
   "cell_type": "markdown",
   "id": "9ed1656a-16e6-44bd-9334-06de5c417deb",
   "metadata": {},
   "source": [
    "El coeficiente de correlación se refiere a la medición de la fuerza de la asociación entre los datos, como hemos aprendido antes.\n",
    "\n",
    "Cuanto más cercano a 1.0, más fuerte es la relación, y cuanto más cercano a 0, menor es la relación.\n",
    "\n",
    "**Analicémoslo utilizando la función aprendida `.corr()`.**"
   ]
  },
  {
   "cell_type": "code",
   "execution_count": null,
   "id": "5958d349-1fc0-4dfd-93f9-6d5d7d3fa909",
   "metadata": {},
   "outputs": [],
   "source": [
    "df_corr = ...\n",
    "df_corr.head()"
   ]
  },
  {
   "cell_type": "markdown",
   "id": "869bf9fc-0a3d-4bb3-a543-58fe093bfcea",
   "metadata": {},
   "source": [
    "**Visualicémoslo como un mapa de calor.**\n",
    "\n",
    "Cuanto más oscuro es el color, menor es la correlación, y cuanto más brillante es el color, mayor es la correlación. \n",
    "\n",
    "Comprobemos cómo se correlaciona cada factor económico en la economía real."
   ]
  },
  {
   "cell_type": "code",
   "execution_count": null,
   "id": "aa1f3ffc-6c7c-4502-a187-dc44d6ac81d5",
   "metadata": {},
   "outputs": [],
   "source": [
    "plt..."
   ]
  },
  {
   "cell_type": "markdown",
   "id": "24ca459e-882f-4ab0-a479-0fa7c76ff0e3",
   "metadata": {},
   "source": [
    "**Ahora dibuja un scatter plot entre los valores correlacionados de SPY y VT**"
   ]
  },
  {
   "cell_type": "code",
   "execution_count": null,
   "id": "191c0943-6a78-4681-8a04-cc49d27f202e",
   "metadata": {},
   "outputs": [],
   "source": [
    "...\n",
    "plt.show()"
   ]
  },
  {
   "cell_type": "markdown",
   "id": "3c5b9692-2ddf-4d15-a835-2e8b0d7a75a2",
   "metadata": {},
   "source": [
    "Puede ver que los bonos estadounidenses y las acciones en general no están nada correlacionados con las condiciones económicas.\n",
    "\n",
    "Si piensas una vez más aplicando el coeficiente de correlación en la práctica, existe un efecto complementario para cada activo. Puedes crear una estrategia para mitigar el riesgo.\n",
    "\n",
    "Un coeficiente de correlación cercano a 1 significa que el valor sube cuando este sube y baja cuando este baja. Significa que no hay un efecto de mitigación del riesgo entre ellos.\n",
    "\n",
    "Si el coeficiente de correlación es cercano a 0, significa que no hay relación entre las subidas y las bajadas del valor y, por el contrario, el efecto de mitigación del riesgo es grande.\n",
    "\n",
    "Por ejemplo, puede utilizarse para elaborar un plan de marketing en el mundo real. \n",
    "\n",
    "Como herramienta de toma de decisiones basada en datos, puede utilizarse para analizar la correlación entre el calendario de ventas y las ventas por producto, establecer el momento de lanzamiento de un producto y crear carteras de empresas."
   ]
  },
  {
   "cell_type": "markdown",
   "id": "76e4af4a-86ed-49b0-8a33-24a0f8cd00d0",
   "metadata": {},
   "source": [
    "## Paso 9"
   ]
  },
  {
   "cell_type": "markdown",
   "id": "5aa273fc-353f-427b-be29-aa09d94f7ca6",
   "metadata": {},
   "source": [
    "Sigamos la evolución del precio de las acciones durante un periodo de tiempo determinado.\n",
    "\n",
    "Esta técnica suele utilizarse para determinar la tasa de riesgo de la acción comparando la volatilidad de todo el índice del mercado como dato de referencia.\n",
    "\n",
    "El propósito es medir la cantidad de cambio en un periodo específico y compararlo con datos de referencia estables para utilizarlo para determinar el riesgo de los datos evaluados en ese momento.\n",
    "\n",
    "En primer lugar, la volatilidad del precio de las acciones puede obtenerse calculando la desviación típica de la volatilidad del precio de las acciones a través de la media móvil.\n",
    "\n",
    "Lo que más influye en estos datos es el periodo de tiempo que se va a seguir. Es decir, el tamaño de la ventana tiene un gran efecto.\n",
    "\n",
    "Si la ventana es amplia, la representatividad será borrosa, y si es demasiado estrecha, se acercará a la desviación típica. Es muy difícil e importante fijar el tamaño de la ventana que se va a medir.\n",
    "\n",
    "No todo se puede concluir mediante cálculos informáticos. Hay muchos momentos en los que hay que tomar una decisión basándose en la comprensión del contexto y del resultado a conseguir.\n",
    "\n",
    "Es muy importante entender que los resultados de los datos pueden ser diferentes dependiendo del juicio del alumno, y la toma de decisiones en el mundo real se puede cambiar en consecuencia, en lugar de limitarse a aprender las habilidades como una tarea práctica utilizando pandas."
   ]
  },
  {
   "cell_type": "markdown",
   "id": "05c58fc0-3bc0-4a73-b16d-cdaa0d2f1d6e",
   "metadata": {},
   "source": [
    "**Calcula la desviación típica para el dataframe de variaciones diarias de precio (`stock_daily_pc`) con un periodo de 75 días.**"
   ]
  },
  {
   "cell_type": "code",
   "execution_count": null,
   "id": "e03efe4c-0801-4647-b856-3b7a8effb9a3",
   "metadata": {},
   "outputs": [],
   "source": [
    "periods = 75\n",
    "\n",
    "vol = ...\n",
    "\n",
    "vol.tail()"
   ]
  },
  {
   "cell_type": "markdown",
   "id": "50bea27a-492f-4882-b0c2-9ab59617bcbf",
   "metadata": {},
   "source": [
    "**Visualice los valores para los tickers de SPY, TLT y DBA.**"
   ]
  },
  {
   "cell_type": "code",
   "execution_count": null,
   "id": "0a861c45-c523-45fe-a838-c659ee0f113a",
   "metadata": {},
   "outputs": [],
   "source": [
    "...\n",
    "plt.show()"
   ]
  },
  {
   "cell_type": "code",
   "execution_count": null,
   "id": "7d7fe0a9-3c01-4a66-b564-a42d5e766bc9",
   "metadata": {},
   "outputs": [],
   "source": []
  }
 ],
 "metadata": {
  "kernelspec": {
   "display_name": "Python 3 (ipykernel)",
   "language": "python",
   "name": "python3"
  },
  "language_info": {
   "codemirror_mode": {
    "name": "ipython",
    "version": 3
   },
   "file_extension": ".py",
   "mimetype": "text/x-python",
   "name": "python",
   "nbconvert_exporter": "python",
   "pygments_lexer": "ipython3",
   "version": "3.12.0"
  }
 },
 "nbformat": 4,
 "nbformat_minor": 5
}
