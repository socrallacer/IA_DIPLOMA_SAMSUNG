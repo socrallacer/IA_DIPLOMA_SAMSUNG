{
 "cells": [
  {
   "cell_type": "markdown",
   "id": "1d89646a-5d31-4fe2-a7e7-0d98e2edffa7",
   "metadata": {},
   "source": [
    "# Financial Data Analysis Mini Project"
   ]
  },
  {
   "cell_type": "markdown",
   "id": "3250ccca-99a4-45e6-a1c9-5018f9145b86",
   "metadata": {},
   "source": [
    "Con el rápido aumento de la velocidad de los ordenadores, la humanidad ha sido capaz de organizar y analizar grandes cantidades de datos que nunca antes se habían experimentado a una velocidad increíblemente alta.\n",
    "\n",
    "Basándose en ello, es posible que los ordenadores aprendan y se desarrollen hasta el estado actual de la inteligencia artificial.\n",
    "\n",
    "Incluso si no te conviertes en un ingeniero de software, puedes resolver muchos problemas prácticos que puedes ver en el mundo real a través de las habilidades de procesamiento de datos que has aprendido hasta ahora usando Python y especialmente Pandas.\n",
    "\n",
    "Pandas, una biblioteca central de análisis de datos aplicada en diversos campos, se desarrolló originalmente para analizar y organizar datos financieros.\n",
    "\n",
    "El núcleo del análisis de datos es el análisis de datos financieros. A través de la práctica de adquirir y procesar datos financieros de diversos factores acumulados durante un período de tiempo, puede estar suficientemente preparado para la mayoría de los tipos de datos que verá en el trabajo del mundo real.\n",
    "\n",
    "El análisis de datos financieros es la práctica más eficaz en el análisis de datos."
   ]
  },
  {
   "cell_type": "markdown",
   "id": "2aa6e1d9-7140-4b41-b852-72a3613f89b0",
   "metadata": {},
   "source": [
    "El material utilizado para el análisis de datos son los datos bursátiles que rastrean diversos sectores y condiciones económicas. \n",
    "\n",
    "No se trata simplemente de analizar el precio de las acciones de una empresa concreta. Se eligió porque no hay mejores datos objetivo para comprender cada situación económica como una economía real. \n",
    "\n",
    "Además, los datos objetivo no se refieren a empresas, materias primas, bonos o a un país concreto, sino al precio de los productos agrícolas en todo el mundo.\n",
    "\n",
    "Dado que el mercado de EE.UU. tiene un impacto muy grande en la economía real del mundo, fue seleccionado como una buena práctica con datos significativos.\n",
    "\n",
    "**Nombre del marcador**\n",
    "  \n",
    "* SPY, que sigue el índice líder de EE.UU. S&P500\n",
    "* IYW, que sigue el índice de capitalización bursátil de empresas tecnológicas de EE.UU.\n",
    "* VT, que invierte en empresas de todo el mundo.\n",
    "* DBA, que sigue la oferta y la demanda de productos y precios agrícolas.\n",
    "* Tipo de los bonos estadounidenses TLT\n",
    "* PDBC, que sigue la oferta y la demanda de otras materias primas y sus precios.\n",
    "* Oro IAU"
   ]
  },
  {
   "cell_type": "markdown",
   "id": "b3d23216-0882-4dcf-9b78-16f5f9799d28",
   "metadata": {},
   "source": [
    "## Paso 1\n",
    "**Preparémonos para la adquisición de datos y creemos funciones de adquisición de datos.**"
   ]
  },
  {
   "cell_type": "code",
   "execution_count": null,
   "id": "9479ccd9-117a-41e0-882f-b4eb1e9e12e2",
   "metadata": {},
   "outputs": [],
   "source": [
    "!pip install yfinance"
   ]
  },
  {
   "cell_type": "code",
   "execution_count": 3,
   "id": "1e78b5bc-e3b4-4f2c-a467-dbc5b1d1e7e4",
   "metadata": {},
   "outputs": [],
   "source": [
    "import pandas as pd\n",
    "import numpy as np\n",
    "import datetime\n",
    "import matplotlib.pyplot as plt\n",
    "import yfinance as yf\n",
    "\n",
    "from datetime import date, datetime, time, timezone"
   ]
  },
  {
   "cell_type": "code",
   "execution_count": 4,
   "id": "1e7072d1-8dc2-4b26-adcf-3b0b15f3ffaf",
   "metadata": {},
   "outputs": [],
   "source": [
    "def get_stock_data(ticker, start, end):\n",
    "    data = yf.download(ticker, start, end)\n",
    "    data.insert(0, \"Ticker\", ticker)\n",
    "    return data"
   ]
  },
  {
   "cell_type": "markdown",
   "id": "d042f86f-0b86-4be5-bcc8-bcce4fd3f742",
   "metadata": {},
   "source": [
    "Para comprobar si la adquisición de datos funciona correctamente, **introduzca el código del ticker de Disney (\"DIS\") para probar la función.**\n",
    "\n",
    "Utilice como fecha inicial el 1 de Enero de 2020 y como fecha final hoy.\n",
    "\n",
    "Una búsqueda de ticker se puede hacer fácilmente a través de Yahoo Finanzas o investing.com"
   ]
  },
  {
   "cell_type": "code",
   "execution_count": null,
   "id": "52df18f9-4fd3-44d7-9ea4-fc5dd101f89f",
   "metadata": {},
   "outputs": [],
   "source": [
    "df = ...\n",
    "df.head()"
   ]
  },
  {
   "cell_type": "markdown",
   "id": "e554be12-c6f6-4d58-8263-9d4655db5171",
   "metadata": {},
   "source": [
    "Dado que el análisis se basará únicamente en el precio de cierre de cada teletipo (\"Close\"), **pivote en la forma requerida.**"
   ]
  },
  {
   "cell_type": "code",
   "execution_count": 7,
   "id": "8e2026b0-b136-46d7-9a06-91751e07cc21",
   "metadata": {},
   "outputs": [
    {
     "data": {
      "text/html": [
       "<div>\n",
       "<style scoped>\n",
       "    .dataframe tbody tr th:only-of-type {\n",
       "        vertical-align: middle;\n",
       "    }\n",
       "\n",
       "    .dataframe tbody tr th {\n",
       "        vertical-align: top;\n",
       "    }\n",
       "\n",
       "    .dataframe thead th {\n",
       "        text-align: right;\n",
       "    }\n",
       "</style>\n",
       "<table border=\"1\" class=\"dataframe\">\n",
       "  <thead>\n",
       "    <tr style=\"text-align: right;\">\n",
       "      <th>Ticker</th>\n",
       "      <th>DIS</th>\n",
       "    </tr>\n",
       "    <tr>\n",
       "      <th>Date</th>\n",
       "      <th></th>\n",
       "    </tr>\n",
       "  </thead>\n",
       "  <tbody>\n",
       "    <tr>\n",
       "      <th>2020-01-02</th>\n",
       "      <td>148.199997</td>\n",
       "    </tr>\n",
       "    <tr>\n",
       "      <th>2020-01-03</th>\n",
       "      <td>146.500000</td>\n",
       "    </tr>\n",
       "    <tr>\n",
       "      <th>2020-01-06</th>\n",
       "      <td>145.649994</td>\n",
       "    </tr>\n",
       "    <tr>\n",
       "      <th>2020-01-07</th>\n",
       "      <td>145.699997</td>\n",
       "    </tr>\n",
       "    <tr>\n",
       "      <th>2020-01-08</th>\n",
       "      <td>145.399994</td>\n",
       "    </tr>\n",
       "  </tbody>\n",
       "</table>\n",
       "</div>"
      ],
      "text/plain": [
       "Ticker             DIS\n",
       "Date                  \n",
       "2020-01-02  148.199997\n",
       "2020-01-03  146.500000\n",
       "2020-01-06  145.649994\n",
       "2020-01-07  145.699997\n",
       "2020-01-08  145.399994"
      ]
     },
     "execution_count": 7,
     "metadata": {},
     "output_type": "execute_result"
    }
   ],
   "source": [
    "# pivot dataframe\n",
    "df = ...\n",
    "df.head()"
   ]
  },
  {
   "cell_type": "markdown",
   "id": "84efc173-636f-45d0-9ebd-690ea6e8547d",
   "metadata": {},
   "source": [
    "## Paso 2"
   ]
  },
  {
   "cell_type": "markdown",
   "id": "be1b8706-dd92-4a71-82e1-9b3c02561fb2",
   "metadata": {},
   "source": [
    "**Cree cada dataframe necesario para el análisis utilizando la función creada.**\n",
    "\n",
    "El nombre del dataframe Será el nombre de la etiqueta: SPY / IYW / VT / DBA / TLT / PDBC / IAU"
   ]
  },
  {
   "cell_type": "code",
   "execution_count": null,
   "id": "f161b8f0-d4a3-44e9-b602-36f87a34575a",
   "metadata": {},
   "outputs": [],
   "source": [
    "SPY = ...\n",
    "IYW = ...\n",
    "VT = ...\n",
    "DBA = ...\n",
    "TLT = ...\n",
    "PDBC = ...\n",
    "IAU = ..."
   ]
  },
  {
   "cell_type": "code",
   "execution_count": null,
   "id": "a110b2c7-9502-4a7a-ad3b-5feb6c8126ad",
   "metadata": {},
   "outputs": [],
   "source": [
    "SPY.info()"
   ]
  },
  {
   "cell_type": "markdown",
   "id": "cdb95968-c7da-445b-844f-ff2033ad22ed",
   "metadata": {},
   "source": [
    "**Pivote cada dataframe para visualizar únicamente el cierre (\"Close\")**"
   ]
  },
  {
   "cell_type": "code",
   "execution_count": null,
   "id": "30123bf1-4d18-4d62-b3db-afa66904e831",
   "metadata": {},
   "outputs": [],
   "source": [
    "# Execute pivoting per dataframe\n",
    "SPY = ...\n",
    "IYW = ...\n",
    "VT = ...\n",
    "DBA = ...\n",
    "TLT = ...\n",
    "PDBC = ...\n",
    "IAU = ..."
   ]
  },
  {
   "cell_type": "markdown",
   "id": "3f0aeef0-2749-4253-be57-3420269e1a1e",
   "metadata": {},
   "source": [
    "**Cada dataframe creado se combinará en un único dataframe para un análisis eficiente.**\n",
    "\n",
    "En este momento, si la configuración y las propiedades de los dataframes a fusionar son las mismas, se puede mantener la consistencia de los datos independientemente de la dirección de la fila o columna. Recuerda que esto es algo que debes comprobar antes de fusionar dataframe.\n",
    "\n",
    "Cada dataframe que vamos a fusionar ahora tiene el mismo índice, la misma columna y el mismo tipo de elementos de datos. Por lo tanto, utilizamos la función concat() para concatenar manteniendo la forma del marco de datos existente.\n",
    "\n",
    "https://pandas.pydata.org/pandas-docs/stable/reference/api/pandas.concat.html"
   ]
  },
  {
   "cell_type": "code",
   "execution_count": null,
   "id": "ae3623a2-0ecf-4851-928f-a647453c75f3",
   "metadata": {},
   "outputs": [],
   "source": [
    "stock = ...\n",
    "stock.head()"
   ]
  },
  {
   "cell_type": "markdown",
   "id": "2d113c1d-934e-49b6-aeec-2338f386a11f",
   "metadata": {},
   "source": [
    "## Paso 3"
   ]
  },
  {
   "cell_type": "markdown",
   "id": "1a691aff-f6b2-489f-b0e2-63e91e5627a0",
   "metadata": {},
   "source": [
    "Si **dibuja un gráfico basado en los datos del precio de cierre en una serie temporal** (fecha), podrá comprobar el movimiento del precio de las acciones.\n",
    "\n",
    "Si superpone los gráficos de cada ticker, podrá ver la correlación aproximada."
   ]
  },
  {
   "cell_type": "code",
   "execution_count": null,
   "id": "4f939a29-72b8-47c9-ba11-8685e7d17451",
   "metadata": {},
   "outputs": [],
   "source": [
    "...\n",
    "plt.show()"
   ]
  },
  {
   "cell_type": "markdown",
   "id": "3eb50008-c65a-496d-b7b8-565b7c7b544d",
   "metadata": {},
   "source": [
    "Si observa el gráfico siguiente, hay una sección con graves fluctuaciones de precios. Se trata del periodo en el que comenzó Coronavirus.\n",
    "\n",
    "**Comprobemos los datos cortándolos utilizando el índice de datos de series temporales sólo para este periodo (1 de Febrero de 2020 a 31 de Julio de 2020).**"
   ]
  },
  {
   "cell_type": "code",
   "execution_count": null,
   "id": "6cc4a0c1-35b8-425a-af47-27db928094b1",
   "metadata": {},
   "outputs": [],
   "source": [
    "covid_df = ..."
   ]
  },
  {
   "cell_type": "markdown",
   "id": "c862b3b0-3815-4b2e-a2d6-0c01bc858319",
   "metadata": {},
   "source": [
    "**Dibuje los datos en una gráfica**"
   ]
  },
  {
   "cell_type": "code",
   "execution_count": null,
   "id": "8f29a7d4-7aeb-49d4-bfb9-eaa5d7281705",
   "metadata": {},
   "outputs": [],
   "source": [
    "...\n",
    "plt.show()"
   ]
  },
  {
   "cell_type": "markdown",
   "id": "7950a756-bc2e-4c57-b6c7-4e46a4e856f9",
   "metadata": {},
   "source": [
    "**Separemos los factores de periodo relevantes para comprobar el gráfico.**"
   ]
  },
  {
   "cell_type": "code",
   "execution_count": null,
   "id": "dacb63e3-3299-45fd-a06c-0e42199c6ce9",
   "metadata": {},
   "outputs": [],
   "source": [
    "x = covid_df.index\n",
    "s_y = covid_df[[\"SPY\"]]\n",
    "i_y = covid_df[[\"IAU\"]]\n",
    "d_y = covid_df[[\"DBA\"]]\n",
    "t_y = covid_df[[\"TLT\"]]"
   ]
  },
  {
   "cell_type": "markdown",
   "id": "9d951c43-a520-4496-8d8f-93979c8fc735",
   "metadata": {},
   "source": [
    "Comparemos cómo reaccionan activos con personalidades diferentes en momentos de gran conmoción económica como el coronavirus.\n",
    "\n",
    "Puede ver que, en general, el precio de las acciones cae bruscamente y luego se recupera gradualmente, pero en el caso del oro y los bonos ocurre lo contrario. En particular, en el caso de los bonos, se puede ver que la tendencia es opuesta a la del precio de las acciones.\n",
    "\n",
    "Para visualizarlo, **dibuje 3 gráficas en una única fila y 3 columnas, con los datos de la época de covid de SPY, IAU y TLT.**\n",
    "\n",
    "El título de la gráfica general será \"Covid 19\""
   ]
  },
  {
   "cell_type": "code",
   "execution_count": null,
   "id": "1fddbe1f-ab38-4e9b-a594-e380ade8a9eb",
   "metadata": {},
   "outputs": [],
   "source": []
  },
  {
   "cell_type": "markdown",
   "id": "d31d5e90-0879-4b06-9e7a-8e8ee3e9803f",
   "metadata": {},
   "source": [
    "## Paso 4"
   ]
  },
  {
   "cell_type": "markdown",
   "id": "69ce0ddd-78be-41a6-a9a4-7adf74372dcc",
   "metadata": {},
   "source": [
    "**Descarguemos los datos de volumen de negociación (\"Volume\") para un ticker concreto (\"PDBC\"), entre el 1 de Enero de 2020 y hoy.**"
   ]
  },
  {
   "cell_type": "code",
   "execution_count": null,
   "id": "122c67e8-3bba-4829-abc0-8ac1f3957e4f",
   "metadata": {},
   "outputs": [],
   "source": [
    "df = get_stock_data(..."
   ]
  },
  {
   "cell_type": "markdown",
   "id": "f9e555c6-dd6d-4c09-b3dd-755454d9b58f",
   "metadata": {},
   "source": [
    "**Ahora visualicemos en forma de gráfico de barras esos datos.**"
   ]
  },
  {
   "cell_type": "code",
   "execution_count": null,
   "id": "7bc37892-4aeb-4249-ab4c-13d797eb42ee",
   "metadata": {},
   "outputs": [],
   "source": [
    "...\n",
    "plt.show()"
   ]
  },
  {
   "cell_type": "markdown",
   "id": "6e81154c-2a89-4b1c-bf8d-d6d19d8b50d6",
   "metadata": {},
   "source": [
    "## Paso 5"
   ]
  },
  {
   "cell_type": "markdown",
   "id": "b95bc245-0d2c-493e-93f5-5e9a5b1ccfe3",
   "metadata": {},
   "source": [
    "Utilizando el método `subplot2grid` de matplotlib, el gráfico del precio de cierre (\"Closing\") se debe visualizar en la parte superior y el volumen de negociación (\"Volume\") en el mismo periodo se visualiza en la parte inferior.\n",
    "\n",
    "`ax = subplot2grid((nrows, ncols), (row, col), rowspan, colspan)`\n",
    "\n",
    "https://matplotlib.org/stable/gallery/userdemo/demo_gridspec01.html#sphx-glr-gallery-userdemo-demo-gridspec01-py"
   ]
  },
  {
   "cell_type": "code",
   "execution_count": null,
   "id": "49082c11-e1cb-4037-8ae4-c210addf73f0",
   "metadata": {},
   "outputs": [],
   "source": [
    "...\n",
    "plt.show()"
   ]
  },
  {
   "cell_type": "markdown",
   "id": "5a1a4126-e42a-4933-976f-51e4be8fce81",
   "metadata": {},
   "source": [
    "## Paso 6"
   ]
  },
  {
   "cell_type": "markdown",
   "id": "77f679cd-11c7-46fd-93a8-58c3e497a9a5",
   "metadata": {},
   "source": [
    "Utilizaremos el método `pandas.Series.shift()` para calcular el cambio porcentual diario.\n",
    "\n",
    "https://pandas.pydata.org/pandas-docs/stable/reference/api/pandas.Series.shift.html?highlight=shift#pandas.Series.shift\n",
    "\n",
    "Comparar los datos actuales con los datos en un punto específico en el tiempo para calcular el cambio porcentual es también una tarea común en el trabajo diario."
   ]
  },
  {
   "cell_type": "markdown",
   "id": "3ab77d05-23d1-4c89-bc0a-cdd60d4e2497",
   "metadata": {},
   "source": [
    "La fórmula para calcular la variación porcentual diaria basada en el precio de cierre es sencilla:\n",
    " \n",
    " \n",
    "$Todays\\_daily\\_percentage\\_change = ((Todays\\_closing\\_price - Yesterdays\\_closing\\_price) / Yesterdays\\_closing\\_price) * 100 Daily\\_Percentage\\_Change = (New\\_Value – Original\\_Value) / Original\\_Value * 100$"
   ]
  },
  {
   "cell_type": "markdown",
   "id": "9e87dd19-2e0d-40a8-aef6-6b984ebd840b",
   "metadata": {},
   "source": [
    "**Calcula en la serie `spy_daily_pc`  el cambio porcentual para cada día con respecto al anterior. Utiliza para ello la fórmula anterior y el método `shift` con desplazamiento de 1.**"
   ]
  },
  {
   "cell_type": "code",
   "execution_count": null,
   "id": "1780bdeb-e5cf-4987-9498-a73f9ce72f58",
   "metadata": {},
   "outputs": [],
   "source": [
    "spy_daily_pc = ...\n",
    "spy_daily_pc.head()"
   ]
  },
  {
   "cell_type": "markdown",
   "id": "c034272c-bb1c-4fed-a26c-d9621fc5d0be",
   "metadata": {},
   "source": [
    "**Dibuja la gráfica del cambio porcentual a lo largo del tiempo.**"
   ]
  },
  {
   "cell_type": "code",
   "execution_count": null,
   "id": "deac4ba9-3ca7-42a3-99b9-3f0e1f3c92ba",
   "metadata": {},
   "outputs": [],
   "source": [
    "...\n",
    "plt.show()"
   ]
  },
  {
   "cell_type": "markdown",
   "id": "5afb3105-ffbf-472a-82fd-c5153ec5efeb",
   "metadata": {},
   "source": [
    "Un histograma es un gráfico que muestra la distribución de frecuencias.\n",
    "\n",
    "Representa la frecuencia de los valores de datos por tiempo.\n",
    "\n",
    "En este momento, el número de secciones se utiliza fijando el valor del parámetro bins de la función `hist()`.\n",
    "\n",
    "Como referencia, el valor por defecto de hist() es 10. La forma del gráfico cambia en función de los bins. Debe establecer el valor de bins comprobando cuidadosamente las características de los datos."
   ]
  },
  {
   "cell_type": "markdown",
   "id": "54f10d35-6f01-4976-bb4f-f2bf352e5d7f",
   "metadata": {},
   "source": [
    "`pandas.DataFrame.hist()`\n",
    "\n",
    "https://pandas.pydata.org/pandas-docs/stable/reference/api/pandas.DataFrame.hist.html?highlight=hist#pandas.DataFrame.hist"
   ]
  },
  {
   "cell_type": "markdown",
   "id": "25285f9e-8fe6-4d98-840f-88010ccd8d0a",
   "metadata": {},
   "source": [
    "Como en la primera fila el cambio porcentual no tiene valor, debe poner un valor de 0."
   ]
  },
  {
   "cell_type": "markdown",
   "id": "3c7ab467-c2cb-4f18-bbba-e103dd100bb0",
   "metadata": {},
   "source": [
    "**Dibuje el histograma de `spy_daily_pc` con un valor de bins de 50.**\n",
    "\n",
    "La frecuencia se expresa dividiendo la variación porcentual diaria del precio de las acciones en 50 tramos."
   ]
  },
  {
   "cell_type": "markdown",
   "id": "78ac51f7-c3cb-43c3-8514-960839205317",
   "metadata": {},
   "source": [
    "## Paso 7"
   ]
  },
  {
   "cell_type": "markdown",
   "id": "e1cf0ff0-115a-466f-9b83-ab201675c944",
   "metadata": {},
   "source": [
    "Vamos a crear un nuevo dataframe que calcule las variaciones diarias del precio de las acciones para todos los tickers, calcule los rendimientos acumulados diarios y analice la correlación."
   ]
  },
  {
   "cell_type": "code",
   "execution_count": null,
   "id": "93525c80-fdc7-4506-8961-562a9bd225ce",
   "metadata": {},
   "outputs": [],
   "source": [
    "stock_daily_pc = ...\n",
    "stock_daily_pc.head()"
   ]
  },
  {
   "cell_type": "markdown",
   "id": "19b9b6c1-987e-4cdb-99f6-be96844758c7",
   "metadata": {},
   "source": [
    "La fórmula de la rentabilidad acumulada diaria simple también es sencilla.\n",
    "\n",
    "Se puede obtener acumulando y multiplicando la tasa de variación diaria de la cotización obtenida anteriormente. Podemos utilizar el método `.cumsum()`.\n",
    " \n",
    "https://pandas.pydata.org/docs/reference/api/pandas.DataFrame.cumsum.html\n",
    "\n",
    "**Calcule la rentabilidad acumulada.**"
   ]
  },
  {
   "cell_type": "code",
   "execution_count": null,
   "id": "95c1ea5f-4d96-485e-a142-75b20e1e8769",
   "metadata": {},
   "outputs": [],
   "source": [
    "stock_d_cr = ..."
   ]
  },
  {
   "cell_type": "markdown",
   "id": "6718f9f3-4691-4cc2-a0b3-e9ba59963c1d",
   "metadata": {},
   "source": [
    "**Dibuje una gráfica del dataframe con la rentabilidad acumulada (cumsum).**"
   ]
  },
  {
   "cell_type": "code",
   "execution_count": null,
   "id": "2f1c7627-0d1d-4409-b955-e8f7a41e5c39",
   "metadata": {},
   "outputs": [],
   "source": [
    "...\n",
    "plt.show()"
   ]
  },
  {
   "cell_type": "markdown",
   "id": "3d7746ff-e8a7-4c01-87ef-742b7702c294",
   "metadata": {},
   "source": [
    "## Paso 8"
   ]
  },
  {
   "cell_type": "markdown",
   "id": "9ed1656a-16e6-44bd-9334-06de5c417deb",
   "metadata": {},
   "source": [
    "El coeficiente de correlación se refiere a la medición de la fuerza de la asociación entre los datos, como hemos aprendido antes.\n",
    "\n",
    "Cuanto más cercano a 1.0, más fuerte es la relación, y cuanto más cercano a 0, menor es la relación.\n",
    "\n",
    "**Analicémoslo utilizando la función aprendida `.corr()`.**"
   ]
  },
  {
   "cell_type": "code",
   "execution_count": null,
   "id": "5958d349-1fc0-4dfd-93f9-6d5d7d3fa909",
   "metadata": {},
   "outputs": [],
   "source": [
    "df_corr = ...\n",
    "df_corr.head()"
   ]
  },
  {
   "cell_type": "markdown",
   "id": "869bf9fc-0a3d-4bb3-a543-58fe093bfcea",
   "metadata": {},
   "source": [
    "**Visualicémoslo como un mapa de calor.**\n",
    "\n",
    "Cuanto más oscuro es el color, menor es la correlación, y cuanto más brillante es el color, mayor es la correlación. \n",
    "\n",
    "Comprobemos cómo se correlaciona cada factor económico en la economía real."
   ]
  },
  {
   "cell_type": "code",
   "execution_count": null,
   "id": "aa1f3ffc-6c7c-4502-a187-dc44d6ac81d5",
   "metadata": {},
   "outputs": [],
   "source": [
    "plt..."
   ]
  },
  {
   "cell_type": "markdown",
   "id": "24ca459e-882f-4ab0-a479-0fa7c76ff0e3",
   "metadata": {},
   "source": [
    "**Ahora dibuja un scatter plot entre los valores correlacionados de SPY y VT**"
   ]
  },
  {
   "cell_type": "code",
   "execution_count": null,
   "id": "191c0943-6a78-4681-8a04-cc49d27f202e",
   "metadata": {},
   "outputs": [],
   "source": [
    "...\n",
    "plt.show()"
   ]
  },
  {
   "cell_type": "markdown",
   "id": "3c5b9692-2ddf-4d15-a835-2e8b0d7a75a2",
   "metadata": {},
   "source": [
    "Puede ver que los bonos estadounidenses y las acciones en general no están nada correlacionados con las condiciones económicas.\n",
    "\n",
    "Si piensas una vez más aplicando el coeficiente de correlación en la práctica, existe un efecto complementario para cada activo. Puedes crear una estrategia para mitigar el riesgo.\n",
    "\n",
    "Un coeficiente de correlación cercano a 1 significa que el valor sube cuando este sube y baja cuando este baja. Significa que no hay un efecto de mitigación del riesgo entre ellos.\n",
    "\n",
    "Si el coeficiente de correlación es cercano a 0, significa que no hay relación entre las subidas y las bajadas del valor y, por el contrario, el efecto de mitigación del riesgo es grande.\n",
    "\n",
    "Por ejemplo, puede utilizarse para elaborar un plan de marketing en el mundo real. \n",
    "\n",
    "Como herramienta de toma de decisiones basada en datos, puede utilizarse para analizar la correlación entre el calendario de ventas y las ventas por producto, establecer el momento de lanzamiento de un producto y crear carteras de empresas."
   ]
  },
  {
   "cell_type": "markdown",
   "id": "76e4af4a-86ed-49b0-8a33-24a0f8cd00d0",
   "metadata": {},
   "source": [
    "## Paso 9"
   ]
  },
  {
   "cell_type": "markdown",
   "id": "5aa273fc-353f-427b-be29-aa09d94f7ca6",
   "metadata": {},
   "source": [
    "Sigamos la evolución del precio de las acciones durante un periodo de tiempo determinado.\n",
    "\n",
    "Esta técnica suele utilizarse para determinar la tasa de riesgo de la acción comparando la volatilidad de todo el índice del mercado como dato de referencia.\n",
    "\n",
    "El propósito es medir la cantidad de cambio en un periodo específico y compararlo con datos de referencia estables para utilizarlo para determinar el riesgo de los datos evaluados en ese momento.\n",
    "\n",
    "En primer lugar, la volatilidad del precio de las acciones puede obtenerse calculando la desviación típica de la volatilidad del precio de las acciones a través de la media móvil.\n",
    "\n",
    "Lo que más influye en estos datos es el periodo de tiempo que se va a seguir. Es decir, el tamaño de la ventana tiene un gran efecto.\n",
    "\n",
    "Si la ventana es amplia, la representatividad será borrosa, y si es demasiado estrecha, se acercará a la desviación típica. Es muy difícil e importante fijar el tamaño de la ventana que se va a medir.\n",
    "\n",
    "No todo se puede concluir mediante cálculos informáticos. Hay muchos momentos en los que hay que tomar una decisión basándose en la comprensión del contexto y del resultado a conseguir.\n",
    "\n",
    "Es muy importante entender que los resultados de los datos pueden ser diferentes dependiendo del juicio del alumno, y la toma de decisiones en el mundo real se puede cambiar en consecuencia, en lugar de limitarse a aprender las habilidades como una tarea práctica utilizando pandas."
   ]
  },
  {
   "cell_type": "markdown",
   "id": "05c58fc0-3bc0-4a73-b16d-cdaa0d2f1d6e",
   "metadata": {},
   "source": [
    "**Calcula la desviación típica para el dataframe de variaciones diarias de precio (`stock_daily_pc`) con un periodo de 75 días.**"
   ]
  },
  {
   "cell_type": "code",
   "execution_count": null,
   "id": "e03efe4c-0801-4647-b856-3b7a8effb9a3",
   "metadata": {},
   "outputs": [],
   "source": [
    "periods = 75\n",
    "\n",
    "vol = ...\n",
    "\n",
    "vol.tail()"
   ]
  },
  {
   "cell_type": "markdown",
   "id": "50bea27a-492f-4882-b0c2-9ab59617bcbf",
   "metadata": {},
   "source": [
    "**Visualice los valores para los tickers de SPY, TLT y DBA.**"
   ]
  },
  {
   "cell_type": "code",
   "execution_count": null,
   "id": "0a861c45-c523-45fe-a838-c659ee0f113a",
   "metadata": {},
   "outputs": [],
   "source": [
    "...\n",
    "plt.show()"
   ]
  },
  {
   "cell_type": "code",
   "execution_count": null,
   "id": "7d7fe0a9-3c01-4a66-b564-a42d5e766bc9",
   "metadata": {},
   "outputs": [],
   "source": []
  }
 ],
 "metadata": {
  "kernelspec": {
   "display_name": "Python 3 (ipykernel)",
   "language": "python",
   "name": "python3"
  },
  "language_info": {
   "codemirror_mode": {
    "name": "ipython",
    "version": 3
   },
   "file_extension": ".py",
   "mimetype": "text/x-python",
   "name": "python",
   "nbconvert_exporter": "python",
   "pygments_lexer": "ipython3",
   "version": "3.9.7"
  }
 },
 "nbformat": 4,
 "nbformat_minor": 5
}
