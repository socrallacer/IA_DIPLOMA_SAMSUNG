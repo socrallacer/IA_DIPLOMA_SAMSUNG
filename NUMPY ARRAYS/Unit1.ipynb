{
 "cells": [
  {
   "cell_type": "markdown",
   "id": "9b2be409",
   "metadata": {
    "editable": true,
    "slideshow": {
     "slide_type": ""
    },
    "tags": []
   },
   "source": [
    "# Unit 1: Numpy Array Data Structure for Optimal Computational Performance"
   ]
  },
  {
   "cell_type": "markdown",
   "id": "2cf843a1",
   "metadata": {},
   "source": [
    "## Unit 1.2 NumPy Array Basics"
   ]
  },
  {
   "cell_type": "code",
   "execution_count": 5,
   "id": "c801cfec",
   "metadata": {},
   "outputs": [],
   "source": [
    "import numpy as np"
   ]
  },
  {
   "cell_type": "code",
   "execution_count": 2,
   "id": "a18e5c92",
   "metadata": {},
   "outputs": [
    {
     "data": {
      "text/plain": [
       "'1.26.4'"
      ]
     },
     "execution_count": 2,
     "metadata": {},
     "output_type": "execute_result"
    }
   ],
   "source": [
    "np.__version__"
   ]
  },
  {
   "cell_type": "markdown",
   "id": "85b5f470",
   "metadata": {},
   "source": [
    "`ndarray` es un objeto que representa un array n-dimensional"
   ]
  },
  {
   "cell_type": "code",
   "execution_count": 3,
   "id": "b45d91de",
   "metadata": {},
   "outputs": [
    {
     "data": {
      "text/plain": [
       "array([1, 3, 5, 7, 9])"
      ]
     },
     "execution_count": 3,
     "metadata": {},
     "output_type": "execute_result"
    }
   ],
   "source": [
    "np.array([1,3,5,7,9])"
   ]
  },
  {
   "cell_type": "code",
   "execution_count": 4,
   "id": "6ebf8769",
   "metadata": {},
   "outputs": [],
   "source": [
    "arr1 = np.array([1,3,5,7,9])"
   ]
  },
  {
   "cell_type": "code",
   "execution_count": 5,
   "id": "2e63e327",
   "metadata": {},
   "outputs": [
    {
     "data": {
      "text/plain": [
       "numpy.ndarray"
      ]
     },
     "execution_count": 5,
     "metadata": {},
     "output_type": "execute_result"
    }
   ],
   "source": [
    "type(arr1)"
   ]
  },
  {
   "cell_type": "markdown",
   "id": "42b6c9e6",
   "metadata": {},
   "source": [
    "Creamos otro similar:"
   ]
  },
  {
   "cell_type": "code",
   "execution_count": 6,
   "id": "22a07dae",
   "metadata": {},
   "outputs": [],
   "source": [
    "arr2 = np.array([1,3,5,7,9])"
   ]
  },
  {
   "cell_type": "markdown",
   "id": "fe36bf78",
   "metadata": {},
   "source": [
    "Observemos que no tienen la misma identidad:"
   ]
  },
  {
   "cell_type": "code",
   "execution_count": 7,
   "id": "8d95eb20",
   "metadata": {},
   "outputs": [
    {
     "data": {
      "text/plain": [
       "False"
      ]
     },
     "execution_count": 7,
     "metadata": {},
     "output_type": "execute_result"
    }
   ],
   "source": [
    "arr1 is arr2"
   ]
  },
  {
   "cell_type": "code",
   "execution_count": 8,
   "id": "3a47352c",
   "metadata": {},
   "outputs": [
    {
     "data": {
      "text/plain": [
       "4442070864"
      ]
     },
     "execution_count": 8,
     "metadata": {},
     "output_type": "execute_result"
    }
   ],
   "source": [
    "id(arr1)"
   ]
  },
  {
   "cell_type": "code",
   "execution_count": 9,
   "id": "19856915",
   "metadata": {},
   "outputs": [
    {
     "data": {
      "text/plain": [
       "4442068944"
      ]
     },
     "execution_count": 9,
     "metadata": {},
     "output_type": "execute_result"
    }
   ],
   "source": [
    "id(arr2)"
   ]
  },
  {
   "cell_type": "code",
   "execution_count": 10,
   "id": "e949c785",
   "metadata": {},
   "outputs": [
    {
     "data": {
      "text/plain": [
       "False"
      ]
     },
     "execution_count": 10,
     "metadata": {},
     "output_type": "execute_result"
    }
   ],
   "source": [
    "#Nos permite conocer si comparten memoria dos array:\n",
    "np.shares_memory(arr1,arr2)"
   ]
  },
  {
   "cell_type": "markdown",
   "id": "51e3ada4",
   "metadata": {},
   "source": [
    "Si ahora asignamos uno de ellos a otra variable, serán 2 referencias al mismo objeto:"
   ]
  },
  {
   "cell_type": "code",
   "execution_count": 11,
   "id": "317b07ef",
   "metadata": {},
   "outputs": [],
   "source": [
    "arr3 = arr1"
   ]
  },
  {
   "cell_type": "code",
   "execution_count": 12,
   "id": "e6131096",
   "metadata": {},
   "outputs": [
    {
     "data": {
      "text/plain": [
       "True"
      ]
     },
     "execution_count": 12,
     "metadata": {},
     "output_type": "execute_result"
    }
   ],
   "source": [
    "arr3 is arr1"
   ]
  },
  {
   "cell_type": "code",
   "execution_count": 13,
   "id": "23fec2d0",
   "metadata": {},
   "outputs": [
    {
     "data": {
      "text/plain": [
       "False"
      ]
     },
     "execution_count": 13,
     "metadata": {},
     "output_type": "execute_result"
    }
   ],
   "source": [
    "arr3 is arr2"
   ]
  },
  {
   "cell_type": "code",
   "execution_count": 14,
   "id": "f94f02d2",
   "metadata": {},
   "outputs": [
    {
     "data": {
      "text/plain": [
       "4442070864"
      ]
     },
     "execution_count": 14,
     "metadata": {},
     "output_type": "execute_result"
    }
   ],
   "source": [
    "id(arr3) # coincide con id(arra1)"
   ]
  },
  {
   "cell_type": "markdown",
   "id": "98de2b31",
   "metadata": {},
   "source": [
    "Si queremos copiar un valor (por oposición a copiar la referencia al objeto), podemos usar:"
   ]
  },
  {
   "cell_type": "code",
   "execution_count": 15,
   "id": "15842168",
   "metadata": {},
   "outputs": [],
   "source": [
    "arr4 = np.copy(arr1)"
   ]
  },
  {
   "cell_type": "code",
   "execution_count": 16,
   "id": "956799c1",
   "metadata": {},
   "outputs": [
    {
     "data": {
      "text/plain": [
       "array([1, 3, 5, 7, 9])"
      ]
     },
     "execution_count": 16,
     "metadata": {},
     "output_type": "execute_result"
    }
   ],
   "source": [
    "arr4"
   ]
  },
  {
   "cell_type": "code",
   "execution_count": 17,
   "id": "a4ed508c",
   "metadata": {},
   "outputs": [
    {
     "data": {
      "text/plain": [
       "False"
      ]
     },
     "execution_count": 17,
     "metadata": {},
     "output_type": "execute_result"
    }
   ],
   "source": [
    "arr4 is arr1"
   ]
  },
  {
   "cell_type": "code",
   "execution_count": 18,
   "id": "0e7a65cd",
   "metadata": {},
   "outputs": [
    {
     "data": {
      "text/plain": [
       "False"
      ]
     },
     "execution_count": 18,
     "metadata": {},
     "output_type": "execute_result"
    }
   ],
   "source": [
    "np.shares_memory(arr1,arr4)"
   ]
  },
  {
   "cell_type": "code",
   "execution_count": 19,
   "id": "16b4dbad",
   "metadata": {},
   "outputs": [
    {
     "data": {
      "text/plain": [
       "array([1, 3, 5, 7, 9])"
      ]
     },
     "execution_count": 19,
     "metadata": {},
     "output_type": "execute_result"
    }
   ],
   "source": [
    "# Creamos una copia usando slice en lugar del método copy:\n",
    "arr5 = arr1[:]\n",
    "arr5"
   ]
  },
  {
   "cell_type": "code",
   "execution_count": 20,
   "id": "b3bac5e2",
   "metadata": {},
   "outputs": [
    {
     "data": {
      "text/plain": [
       "False"
      ]
     },
     "execution_count": 20,
     "metadata": {},
     "output_type": "execute_result"
    }
   ],
   "source": [
    "arr5 is arr1"
   ]
  },
  {
   "cell_type": "code",
   "execution_count": 21,
   "id": "f7088e58",
   "metadata": {},
   "outputs": [
    {
     "data": {
      "text/plain": [
       "True"
      ]
     },
     "execution_count": 21,
     "metadata": {},
     "output_type": "execute_result"
    }
   ],
   "source": [
    "np.shares_memory(arr1, arr5) # atención:"
   ]
  },
  {
   "cell_type": "code",
   "execution_count": 22,
   "id": "27efd2cd",
   "metadata": {},
   "outputs": [
    {
     "data": {
      "text/plain": [
       "array([1000,    3,    5,    7,    9])"
      ]
     },
     "execution_count": 22,
     "metadata": {},
     "output_type": "execute_result"
    }
   ],
   "source": [
    "arr1[0] = 1000\n",
    "arr1"
   ]
  },
  {
   "cell_type": "code",
   "execution_count": 23,
   "id": "6c9e5287",
   "metadata": {},
   "outputs": [
    {
     "data": {
      "text/plain": [
       "array([1000,    3,    5,    7,    9])"
      ]
     },
     "execution_count": 23,
     "metadata": {},
     "output_type": "execute_result"
    }
   ],
   "source": [
    "arr5 # a pesar de que arr5 y arr1 NO son el mismo objeto"
   ]
  },
  {
   "cell_type": "code",
   "execution_count": 24,
   "id": "bf2d4b3e",
   "metadata": {},
   "outputs": [
    {
     "data": {
      "text/plain": [
       "array([1, 3, 5, 7, 9])"
      ]
     },
     "execution_count": 24,
     "metadata": {},
     "output_type": "execute_result"
    }
   ],
   "source": [
    "# sin embargo\n",
    "arr4"
   ]
  },
  {
   "cell_type": "markdown",
   "id": "8c5c6564",
   "metadata": {},
   "source": [
    "### Creando arrays con tuplas\n",
    "\n",
    "También podemos crear un ndarray desde una tupla (los ejemplos anteriores eran desde una lista)"
   ]
  },
  {
   "cell_type": "code",
   "execution_count": 25,
   "id": "3afe86fe",
   "metadata": {},
   "outputs": [
    {
     "data": {
      "text/plain": [
       "tuple"
      ]
     },
     "execution_count": 25,
     "metadata": {},
     "output_type": "execute_result"
    }
   ],
   "source": [
    "type( (1,3,5,7,9) )"
   ]
  },
  {
   "cell_type": "code",
   "execution_count": 29,
   "id": "78bdb953",
   "metadata": {},
   "outputs": [
    {
     "name": "stdout",
     "output_type": "stream",
     "text": [
      "[1 3 5 7 9]\n"
     ]
    },
    {
     "data": {
      "text/plain": [
       "numpy.ndarray"
      ]
     },
     "execution_count": 29,
     "metadata": {},
     "output_type": "execute_result"
    }
   ],
   "source": [
    "print(np.array( (1,3,5,7,9) ))\n",
    "type(np.array( (1,3,5,7,9) ))"
   ]
  },
  {
   "cell_type": "markdown",
   "id": "d6d3467c",
   "metadata": {},
   "source": [
    "### Creando arrays con diccionarios"
   ]
  },
  {
   "cell_type": "code",
   "execution_count": 30,
   "id": "0a4d76cf",
   "metadata": {},
   "outputs": [
    {
     "data": {
      "text/plain": [
       "dict"
      ]
     },
     "execution_count": 30,
     "metadata": {},
     "output_type": "execute_result"
    }
   ],
   "source": [
    "type( {'one':1, 'two':2, 'three':3 } )"
   ]
  },
  {
   "cell_type": "code",
   "execution_count": 31,
   "id": "ea8d79ab",
   "metadata": {},
   "outputs": [
    {
     "data": {
      "text/plain": [
       "array({'one': 1, 'two': 2, 'three': 3}, dtype=object)"
      ]
     },
     "execution_count": 31,
     "metadata": {},
     "output_type": "execute_result"
    }
   ],
   "source": [
    "arr = np.array( {'one':1, 'two':2, 'three':3 } ) \n",
    "arr"
   ]
  },
  {
   "cell_type": "code",
   "execution_count": 32,
   "id": "bbf55a15",
   "metadata": {},
   "outputs": [
    {
     "data": {
      "text/plain": [
       "()"
      ]
     },
     "execution_count": 32,
     "metadata": {},
     "output_type": "execute_result"
    }
   ],
   "source": [
    "arr.shape"
   ]
  },
  {
   "cell_type": "markdown",
   "id": "3169123e",
   "metadata": {},
   "source": [
    "¿cómo accedemos al contenido de este array que no tiene dimensiones?"
   ]
  },
  {
   "cell_type": "code",
   "execution_count": 30,
   "id": "e6477f10",
   "metadata": {},
   "outputs": [
    {
     "ename": "IndexError",
     "evalue": "too many indices for array: array is 0-dimensional, but 1 were indexed",
     "output_type": "error",
     "traceback": [
      "\u001b[0;31m---------------------------------------------------------------------------\u001b[0m",
      "\u001b[0;31mIndexError\u001b[0m                                Traceback (most recent call last)",
      "Cell \u001b[0;32mIn[30], line 1\u001b[0m\n\u001b[0;32m----> 1\u001b[0m \u001b[43marr\u001b[49m\u001b[43m[\u001b[49m\u001b[38;5;241;43m0\u001b[39;49m\u001b[43m]\u001b[49m \u001b[38;5;66;03m# no funciona\u001b[39;00m\n",
      "\u001b[0;31mIndexError\u001b[0m: too many indices for array: array is 0-dimensional, but 1 were indexed"
     ]
    }
   ],
   "source": [
    "arr[0] # no funciona"
   ]
  },
  {
   "cell_type": "code",
   "execution_count": 31,
   "id": "5a9334e9",
   "metadata": {},
   "outputs": [
    {
     "data": {
      "text/plain": [
       "{'one': 1, 'two': 2, 'three': 3}"
      ]
     },
     "execution_count": 31,
     "metadata": {},
     "output_type": "execute_result"
    }
   ],
   "source": [
    "arr.item() # podemos acceder con el método item\n",
    "# Copy an element of an array to a standard Python scalar and return it."
   ]
  },
  {
   "cell_type": "markdown",
   "id": "547bc048",
   "metadata": {},
   "source": [
    "veremos algún ejemplo más del método `item` cuando veamos arrays multidimensionales"
   ]
  },
  {
   "cell_type": "markdown",
   "id": "4f8871d3",
   "metadata": {},
   "source": [
    "### Creando arrays con sets (conjuntos)"
   ]
  },
  {
   "cell_type": "code",
   "execution_count": 33,
   "id": "5ae4bff7",
   "metadata": {},
   "outputs": [
    {
     "data": {
      "text/plain": [
       "{1, 2, 3, 4}"
      ]
     },
     "execution_count": 33,
     "metadata": {},
     "output_type": "execute_result"
    }
   ],
   "source": [
    "{1, 2, 2, 2, 3, 3, 3, 4}"
   ]
  },
  {
   "cell_type": "code",
   "execution_count": 34,
   "id": "67fbfa76",
   "metadata": {},
   "outputs": [
    {
     "data": {
      "text/plain": [
       "set"
      ]
     },
     "execution_count": 34,
     "metadata": {},
     "output_type": "execute_result"
    }
   ],
   "source": [
    "type( {1, 2, 2, 2, 3, 3, 3, 4} )"
   ]
  },
  {
   "cell_type": "code",
   "execution_count": 3,
   "id": "1cea1467",
   "metadata": {},
   "outputs": [
    {
     "name": "stdout",
     "output_type": "stream",
     "text": [
      "Set original: {1, 2, 4, 5, 6}\n",
      "Unión: {1, 2, 4, 5, 6, 7, 8}\n",
      "Intersección: {4, 5, 6}\n",
      "Diferencia: {1, 2}\n"
     ]
    }
   ],
   "source": [
    "# Crear un set\n",
    "mi_set = {1, 2, 3, 4, 5}\n",
    "\n",
    "# Añadir un elemento\n",
    "mi_set.add(6)\n",
    "\n",
    "# Eliminar un elemento\n",
    "mi_set.discard(3)\n",
    "\n",
    "# Operaciones de conjunto\n",
    "otro_set = {4, 5, 6, 7, 8}\n",
    "union = mi_set.union(otro_set)\n",
    "interseccion = mi_set.intersection(otro_set)\n",
    "diferencia = mi_set.difference(otro_set)\n",
    "\n",
    "print(\"Set original:\", mi_set)\n",
    "print(\"Unión:\", union)\n",
    "print(\"Intersección:\", interseccion)\n",
    "print(\"Diferencia:\", diferencia)\n"
   ]
  },
  {
   "cell_type": "code",
   "execution_count": 35,
   "id": "858f3208",
   "metadata": {},
   "outputs": [
    {
     "data": {
      "text/plain": [
       "array({1, 2, 3, 4}, dtype=object)"
      ]
     },
     "execution_count": 35,
     "metadata": {},
     "output_type": "execute_result"
    }
   ],
   "source": [
    "np.array( {1, 2, 2, 2, 3, 3, 3, 4} )"
   ]
  },
  {
   "cell_type": "markdown",
   "id": "6f746cb3",
   "metadata": {},
   "source": [
    "### Creando arrays con `arange`\n",
    "\n",
    "Es la misma idea que el uso de `range` en Python"
   ]
  },
  {
   "cell_type": "code",
   "execution_count": 35,
   "id": "aac5ec33",
   "metadata": {},
   "outputs": [
    {
     "data": {
      "text/plain": [
       "[0, 1, 2, 3, 4, 5, 6, 7, 8, 9]"
      ]
     },
     "execution_count": 35,
     "metadata": {},
     "output_type": "execute_result"
    }
   ],
   "source": [
    "#Comprehesion list, mucho más optimizadas, entre 10 y 100 veces mejor.\n",
    "[i for i in range(10)]"
   ]
  },
  {
   "cell_type": "code",
   "execution_count": 14,
   "id": "02fecd43",
   "metadata": {},
   "outputs": [
    {
     "name": "stdout",
     "output_type": "stream",
     "text": [
      "0\n",
      "1\n",
      "2\n",
      "3\n",
      "4\n",
      "5\n",
      "6\n",
      "7\n",
      "8\n",
      "9\n"
     ]
    }
   ],
   "source": [
    "for i in range(10):\n",
    "    print(i)"
   ]
  },
  {
   "cell_type": "code",
   "execution_count": 7,
   "id": "7100ac6b",
   "metadata": {},
   "outputs": [
    {
     "data": {
      "text/plain": [
       "[0.0,\n",
       " 122.22222222222223,\n",
       " 244.44444444444446,\n",
       " 366.6666666666667,\n",
       " 488.8888888888889,\n",
       " 611.1111111111111,\n",
       " 733.3333333333334,\n",
       " 855.5555555555557,\n",
       " 977.7777777777778,\n",
       " 1100.0]"
      ]
     },
     "execution_count": 7,
     "metadata": {},
     "output_type": "execute_result"
    }
   ],
   "source": [
    "#Devuelve un array de 10 valores entre 0 y 1100 con espacios intermedios iguales\n",
    "[i for i in np.linspace(0,1100,10)]"
   ]
  },
  {
   "cell_type": "code",
   "execution_count": 8,
   "id": "e6583b35",
   "metadata": {},
   "outputs": [
    {
     "data": {
      "text/plain": [
       "[0, 1, 2, 3, 4, 5, 6, 7, 8, 9]"
      ]
     },
     "execution_count": 8,
     "metadata": {},
     "output_type": "execute_result"
    }
   ],
   "source": [
    "[i for i in np.arange(10)]"
   ]
  },
  {
   "cell_type": "code",
   "execution_count": 37,
   "id": "3af779b5",
   "metadata": {},
   "outputs": [
    {
     "data": {
      "text/plain": [
       "array([0, 1, 2, 3, 4, 5, 6, 7, 8, 9])"
      ]
     },
     "execution_count": 37,
     "metadata": {},
     "output_type": "execute_result"
    }
   ],
   "source": [
    "np.arange(10)"
   ]
  },
  {
   "cell_type": "code",
   "execution_count": 38,
   "id": "2b5a36ed",
   "metadata": {},
   "outputs": [
    {
     "data": {
      "text/plain": [
       "array([1, 2, 3, 4, 5, 6, 7, 8, 9])"
      ]
     },
     "execution_count": 38,
     "metadata": {},
     "output_type": "execute_result"
    }
   ],
   "source": [
    "np.arange(1,10)"
   ]
  },
  {
   "cell_type": "code",
   "execution_count": 39,
   "id": "58f1aee0",
   "metadata": {},
   "outputs": [
    {
     "data": {
      "text/plain": [
       "array([1, 3, 5, 7, 9])"
      ]
     },
     "execution_count": 39,
     "metadata": {},
     "output_type": "execute_result"
    }
   ],
   "source": [
    "np.arange(1,10,2)"
   ]
  },
  {
   "cell_type": "markdown",
   "id": "ac933f5d",
   "metadata": {},
   "source": [
    "### El método `len` y la propiedad `size` para ver el tamaño de un array"
   ]
  },
  {
   "cell_type": "code",
   "execution_count": 40,
   "id": "fd8a39f1",
   "metadata": {},
   "outputs": [],
   "source": [
    "len10 = np.arange(10)"
   ]
  },
  {
   "cell_type": "code",
   "execution_count": 41,
   "id": "2a3f0951-42d3-4945-b88f-7e76b6358145",
   "metadata": {},
   "outputs": [
    {
     "ename": "TypeError",
     "evalue": "len() takes exactly one argument (0 given)",
     "output_type": "error",
     "traceback": [
      "\u001b[0;31m---------------------------------------------------------------------------\u001b[0m",
      "\u001b[0;31mTypeError\u001b[0m                                 Traceback (most recent call last)",
      "Cell \u001b[0;32mIn[41], line 1\u001b[0m\n\u001b[0;32m----> 1\u001b[0m \u001b[38;5;28;43mlen\u001b[39;49m\u001b[43m(\u001b[49m\u001b[43m)\u001b[49m\n",
      "\u001b[0;31mTypeError\u001b[0m: len() takes exactly one argument (0 given)"
     ]
    }
   ],
   "source": [
    "len()"
   ]
  },
  {
   "cell_type": "code",
   "execution_count": 42,
   "id": "cc258b03",
   "metadata": {},
   "outputs": [
    {
     "data": {
      "text/plain": [
       "array([0, 1, 2, 3, 4, 5, 6, 7, 8, 9])"
      ]
     },
     "execution_count": 42,
     "metadata": {},
     "output_type": "execute_result"
    }
   ],
   "source": [
    "len10"
   ]
  },
  {
   "cell_type": "code",
   "execution_count": 43,
   "id": "67a87f8d",
   "metadata": {},
   "outputs": [
    {
     "data": {
      "text/plain": [
       "10"
      ]
     },
     "execution_count": 43,
     "metadata": {},
     "output_type": "execute_result"
    }
   ],
   "source": [
    "len( len10 )"
   ]
  },
  {
   "cell_type": "code",
   "execution_count": 44,
   "id": "28b736e6",
   "metadata": {},
   "outputs": [
    {
     "data": {
      "text/plain": [
       "10"
      ]
     },
     "execution_count": 44,
     "metadata": {},
     "output_type": "execute_result"
    }
   ],
   "source": [
    "len10.size"
   ]
  },
  {
   "cell_type": "markdown",
   "id": "77047293",
   "metadata": {},
   "source": [
    "### Los arrays numpy lo convierten todo a un mismo tipo"
   ]
  },
  {
   "cell_type": "code",
   "execution_count": 45,
   "id": "02b882be",
   "metadata": {},
   "outputs": [
    {
     "data": {
      "text/plain": [
       "array([111. ,   2.3,   1. ])"
      ]
     },
     "execution_count": 45,
     "metadata": {},
     "output_type": "execute_result"
    }
   ],
   "source": [
    "np.array( [111, 2.3, True] )"
   ]
  },
  {
   "cell_type": "code",
   "execution_count": 46,
   "id": "dcc73fc6",
   "metadata": {},
   "outputs": [],
   "source": [
    "arr5 = np.array( [111, 2.3, True] )"
   ]
  },
  {
   "cell_type": "code",
   "execution_count": 47,
   "id": "e8ba79a2",
   "metadata": {},
   "outputs": [
    {
     "data": {
      "text/plain": [
       "numpy.float64"
      ]
     },
     "execution_count": 47,
     "metadata": {},
     "output_type": "execute_result"
    }
   ],
   "source": [
    "type( arr5[0] )"
   ]
  },
  {
   "cell_type": "code",
   "execution_count": 48,
   "id": "155a5a07",
   "metadata": {},
   "outputs": [],
   "source": [
    "arr6 = np.array( [111, 2.3, 'hi'] )"
   ]
  },
  {
   "cell_type": "code",
   "execution_count": 49,
   "id": "1bace97e",
   "metadata": {},
   "outputs": [
    {
     "data": {
      "text/plain": [
       "array(['111', '2.3', 'hi'], dtype='<U32')"
      ]
     },
     "execution_count": 49,
     "metadata": {},
     "output_type": "execute_result"
    }
   ],
   "source": [
    "arr6"
   ]
  },
  {
   "cell_type": "code",
   "execution_count": 50,
   "id": "b40ed741",
   "metadata": {},
   "outputs": [
    {
     "data": {
      "text/plain": [
       "numpy.str_"
      ]
     },
     "execution_count": 50,
     "metadata": {},
     "output_type": "execute_result"
    }
   ],
   "source": [
    "type(arr6[0])"
   ]
  },
  {
   "cell_type": "code",
   "execution_count": 51,
   "id": "b1304013",
   "metadata": {},
   "outputs": [
    {
     "data": {
      "text/plain": [
       "array(['apple', 'banana', 'strawberry'], dtype='<U10')"
      ]
     },
     "execution_count": 51,
     "metadata": {},
     "output_type": "execute_result"
    }
   ],
   "source": [
    "s = np.array( ['apple', 'banana', 'strawberry'] )\n",
    "s"
   ]
  },
  {
   "cell_type": "code",
   "execution_count": 52,
   "id": "5eb72bbf",
   "metadata": {},
   "outputs": [
    {
     "data": {
      "text/plain": [
       "array([ 97,   0,   0,   0, 112,   0,   0,   0, 112,   0,   0,   0, 108,\n",
       "         0,   0,   0, 101,   0,   0,   0,   0,   0,   0,   0,   0,   0,\n",
       "         0,   0,   0,   0,   0,   0,   0,   0,   0,   0,   0,   0,   0,\n",
       "         0,  98,   0,   0,   0,  97,   0,   0,   0, 110,   0,   0,   0,\n",
       "        97,   0,   0,   0, 110,   0,   0,   0,  97,   0,   0,   0,   0,\n",
       "         0,   0,   0,   0,   0,   0,   0,   0,   0,   0,   0,   0,   0,\n",
       "         0,   0, 115,   0,   0,   0, 116,   0,   0,   0, 114,   0,   0,\n",
       "         0,  97,   0,   0,   0, 119,   0,   0,   0,  98,   0,   0,   0,\n",
       "       101,   0,   0,   0, 114,   0,   0,   0, 114,   0,   0,   0, 121,\n",
       "         0,   0,   0], dtype=uint8)"
      ]
     },
     "execution_count": 52,
     "metadata": {},
     "output_type": "execute_result"
    }
   ],
   "source": [
    "# vemos la misma información como si fuesen enteros sin signo de 8 bits\n",
    "# observa que cada letra ocupa 4 bytes\n",
    "# por ejemplo, 97 es el código ASCII de la 'a'\n",
    "s.view('uint8')"
   ]
  },
  {
   "cell_type": "code",
   "execution_count": 53,
   "id": "d857832f",
   "metadata": {
    "scrolled": true
   },
   "outputs": [
    {
     "data": {
      "text/plain": [
       "120"
      ]
     },
     "execution_count": 53,
     "metadata": {},
     "output_type": "execute_result"
    }
   ],
   "source": [
    "# 120 bytes porque son 3 elementos '<U10', 10*4=40 bytes cada uno\n",
    "s.nbytes"
   ]
  },
  {
   "cell_type": "code",
   "execution_count": 54,
   "id": "f8c74d15",
   "metadata": {},
   "outputs": [
    {
     "data": {
      "text/plain": [
       "40"
      ]
     },
     "execution_count": 54,
     "metadata": {},
     "output_type": "execute_result"
    }
   ],
   "source": [
    "s.itemsize # lo que ocupa (en bytes) cada elemento del array"
   ]
  },
  {
   "cell_type": "code",
   "execution_count": 55,
   "id": "29f81112",
   "metadata": {},
   "outputs": [
    {
     "data": {
      "text/plain": [
       "array(['apple', 'banana', 'strawberry'], dtype='<U10')"
      ]
     },
     "execution_count": 55,
     "metadata": {},
     "output_type": "execute_result"
    }
   ],
   "source": [
    "s = np.array( ['apple', 'banana', 'strawberry'], dtype='str')\n",
    "s"
   ]
  },
  {
   "cell_type": "code",
   "execution_count": 56,
   "id": "dd3f7db1",
   "metadata": {},
   "outputs": [
    {
     "data": {
      "text/plain": [
       "array(['apple', 'banana', 'strawberry'], dtype='<U12')"
      ]
     },
     "execution_count": 56,
     "metadata": {},
     "output_type": "execute_result"
    }
   ],
   "source": [
    "# ocupará más de lo necesario\n",
    "s = np.array( ['apple', 'banana', 'strawberry'], dtype='<U12')\n",
    "s"
   ]
  },
  {
   "cell_type": "code",
   "execution_count": 57,
   "id": "4a151997-d19d-44d2-b99b-28b4f3fb5d96",
   "metadata": {},
   "outputs": [
    {
     "ename": "SyntaxError",
     "evalue": "invalid syntax (2792523948.py, line 1)",
     "output_type": "error",
     "traceback": [
      "\u001b[0;36m  Cell \u001b[0;32mIn[57], line 1\u001b[0;36m\u001b[0m\n\u001b[0;31m    a =\u001b[0m\n\u001b[0m        ^\u001b[0m\n\u001b[0;31mSyntaxError\u001b[0m\u001b[0;31m:\u001b[0m invalid syntax\n"
     ]
    }
   ],
   "source": [
    "a = "
   ]
  },
  {
   "cell_type": "code",
   "execution_count": 58,
   "id": "8afcb545",
   "metadata": {},
   "outputs": [
    {
     "data": {
      "text/plain": [
       "48"
      ]
     },
     "execution_count": 58,
     "metadata": {},
     "output_type": "execute_result"
    }
   ],
   "source": [
    "s.itemsize # 12*4´"
   ]
  },
  {
   "cell_type": "code",
   "execution_count": 59,
   "id": "ed8d698a",
   "metadata": {},
   "outputs": [
    {
     "data": {
      "text/plain": [
       "144"
      ]
     },
     "execution_count": 59,
     "metadata": {},
     "output_type": "execute_result"
    }
   ],
   "source": [
    "s.nbytes"
   ]
  },
  {
   "cell_type": "code",
   "execution_count": 60,
   "id": "6afbc842",
   "metadata": {},
   "outputs": [
    {
     "data": {
      "text/plain": [
       "array(['app', 'ban', 'str'], dtype='<U3')"
      ]
     },
     "execution_count": 60,
     "metadata": {},
     "output_type": "execute_result"
    }
   ],
   "source": [
    "# si no cabe recorta en lugar de dar error\n",
    "s = np.array( ['apple', 'banana', 'strawberry'], dtype='<U3')\n",
    "s"
   ]
  },
  {
   "cell_type": "code",
   "execution_count": 61,
   "id": "947f9ee5",
   "metadata": {},
   "outputs": [
    {
     "data": {
      "text/plain": [
       "12"
      ]
     },
     "execution_count": 61,
     "metadata": {},
     "output_type": "execute_result"
    }
   ],
   "source": [
    "s.itemsize # 3*4 = 12"
   ]
  },
  {
   "cell_type": "code",
   "execution_count": 62,
   "id": "c10e677b",
   "metadata": {},
   "outputs": [
    {
     "data": {
      "text/plain": [
       "array(['apple', 'banana', 'strawberry'], dtype='>U10')"
      ]
     },
     "execution_count": 62,
     "metadata": {},
     "output_type": "execute_result"
    }
   ],
   "source": [
    "# > cambia el 'endianismo'\n",
    "s = np.array( ['apple', 'banana', 'strawberry'], dtype='>U10')\n",
    "s"
   ]
  },
  {
   "cell_type": "code",
   "execution_count": 63,
   "id": "c951ff6c",
   "metadata": {},
   "outputs": [
    {
     "data": {
      "text/plain": [
       "array([  0,   0,   0,  97,   0,   0,   0, 112,   0,   0,   0, 112,   0,\n",
       "         0,   0, 108,   0,   0,   0, 101,   0,   0,   0,   0,   0,   0,\n",
       "         0,   0,   0,   0,   0,   0,   0,   0,   0,   0,   0,   0,   0,\n",
       "         0,   0,   0,   0,  98,   0,   0,   0,  97,   0,   0,   0, 110,\n",
       "         0,   0,   0,  97,   0,   0,   0, 110,   0,   0,   0,  97,   0,\n",
       "         0,   0,   0,   0,   0,   0,   0,   0,   0,   0,   0,   0,   0,\n",
       "         0,   0,   0,   0,   0, 115,   0,   0,   0, 116,   0,   0,   0,\n",
       "       114,   0,   0,   0,  97,   0,   0,   0, 119,   0,   0,   0,  98,\n",
       "         0,   0,   0, 101,   0,   0,   0, 114,   0,   0,   0, 114,   0,\n",
       "         0,   0, 121], dtype=uint8)"
      ]
     },
     "execution_count": 63,
     "metadata": {},
     "output_type": "execute_result"
    }
   ],
   "source": [
    "s.view('uint8') # compara con la salida anterior"
   ]
  },
  {
   "cell_type": "code",
   "execution_count": 64,
   "id": "8f395f42",
   "metadata": {},
   "outputs": [
    {
     "data": {
      "text/plain": [
       "array([b'apple', b'banana', b'strawberry'], dtype='|S10')"
      ]
     },
     "execution_count": 64,
     "metadata": {},
     "output_type": "execute_result"
    }
   ],
   "source": [
    "s = np.array( ['apple', 'banana', 'strawberry'], dtype='S')\n",
    "s"
   ]
  },
  {
   "cell_type": "code",
   "execution_count": 65,
   "id": "f02364dd",
   "metadata": {},
   "outputs": [
    {
     "data": {
      "text/plain": [
       "array([ 97, 112, 112, 108, 101,   0,   0,   0,   0,   0,  98,  97, 110,\n",
       "        97, 110,  97,   0,   0,   0,   0, 115, 116, 114,  97, 119,  98,\n",
       "       101, 114, 114, 121], dtype=uint8)"
      ]
     },
     "execution_count": 65,
     "metadata": {},
     "output_type": "execute_result"
    }
   ],
   "source": [
    "s.view('uint8')"
   ]
  },
  {
   "cell_type": "code",
   "execution_count": 66,
   "id": "e45744b8",
   "metadata": {},
   "outputs": [
    {
     "data": {
      "text/plain": [
       "30"
      ]
     },
     "execution_count": 66,
     "metadata": {},
     "output_type": "execute_result"
    }
   ],
   "source": [
    "s.nbytes # ocupa 1 solo byte por caracter"
   ]
  },
  {
   "cell_type": "code",
   "execution_count": 67,
   "id": "ba64ac94",
   "metadata": {},
   "outputs": [
    {
     "ename": "UnicodeEncodeError",
     "evalue": "'ascii' codec can't encode character '\\xf1' in position 2: ordinal not in range(128)",
     "output_type": "error",
     "traceback": [
      "\u001b[0;31m---------------------------------------------------------------------------\u001b[0m",
      "\u001b[0;31mUnicodeEncodeError\u001b[0m                        Traceback (most recent call last)",
      "Cell \u001b[0;32mIn[67], line 2\u001b[0m\n\u001b[1;32m      1\u001b[0m \u001b[38;5;66;03m# por contra, no permite caracteres no ASCII\u001b[39;00m\n\u001b[0;32m----> 2\u001b[0m \u001b[43mnp\u001b[49m\u001b[38;5;241;43m.\u001b[39;49m\u001b[43marray\u001b[49m\u001b[43m(\u001b[49m\u001b[43m \u001b[49m\u001b[43m[\u001b[49m\u001b[38;5;124;43m'\u001b[39;49m\u001b[38;5;124;43mapple\u001b[39;49m\u001b[38;5;124;43m'\u001b[39;49m\u001b[43m,\u001b[49m\u001b[43m \u001b[49m\u001b[38;5;124;43m'\u001b[39;49m\u001b[38;5;124;43mbanana\u001b[39;49m\u001b[38;5;124;43m'\u001b[39;49m\u001b[43m,\u001b[49m\u001b[43m \u001b[49m\u001b[38;5;124;43m'\u001b[39;49m\u001b[38;5;124;43mpiña\u001b[39;49m\u001b[38;5;124;43m'\u001b[39;49m\u001b[43m]\u001b[49m\u001b[43m,\u001b[49m\u001b[43m \u001b[49m\u001b[43mdtype\u001b[49m\u001b[38;5;241;43m=\u001b[39;49m\u001b[38;5;124;43m'\u001b[39;49m\u001b[38;5;124;43mS\u001b[39;49m\u001b[38;5;124;43m'\u001b[39;49m\u001b[43m)\u001b[49m\n",
      "\u001b[0;31mUnicodeEncodeError\u001b[0m: 'ascii' codec can't encode character '\\xf1' in position 2: ordinal not in range(128)"
     ]
    }
   ],
   "source": [
    "# por contra, no permite caracteres no ASCII\n",
    "np.array( ['apple', 'banana', 'piña'], dtype='S')"
   ]
  },
  {
   "cell_type": "markdown",
   "id": "30134d15",
   "metadata": {},
   "source": [
    "### Uso de `linspace` para crear arrays"
   ]
  },
  {
   "cell_type": "code",
   "execution_count": 68,
   "id": "f9980012",
   "metadata": {},
   "outputs": [
    {
     "data": {
      "text/plain": [
       "array([ 1.  ,  3.25,  5.5 ,  7.75, 10.  ])"
      ]
     },
     "execution_count": 68,
     "metadata": {},
     "output_type": "execute_result"
    }
   ],
   "source": [
    "np.linspace(1, 10, 5)"
   ]
  },
  {
   "cell_type": "code",
   "execution_count": 69,
   "id": "c939c335",
   "metadata": {},
   "outputs": [
    {
     "data": {
      "text/plain": [
       "array([-10.,  -9.,  -8.,  -7.,  -6.,  -5.,  -4.,  -3.,  -2.,  -1.,   0.,\n",
       "         1.,   2.,   3.,   4.,   5.,   6.,   7.,   8.,   9.,  10.])"
      ]
     },
     "execution_count": 69,
     "metadata": {},
     "output_type": "execute_result"
    }
   ],
   "source": [
    "np.linspace(-10, 10, 21)"
   ]
  },
  {
   "cell_type": "code",
   "execution_count": 70,
   "id": "0b9ae668",
   "metadata": {},
   "outputs": [
    {
     "data": {
      "text/plain": [
       "array([ 1.        ,  1.77827941,  3.16227766,  5.62341325, 10.        ])"
      ]
     },
     "execution_count": 70,
     "metadata": {},
     "output_type": "execute_result"
    }
   ],
   "source": [
    "# también existe logspace y geomspace\n",
    "np.geomspace(1, 10, 5)"
   ]
  },
  {
   "cell_type": "markdown",
   "id": "28737231",
   "metadata": {},
   "source": [
    "### Creando arrays con `np.zeros()` y con `np.ones()`"
   ]
  },
  {
   "cell_type": "code",
   "execution_count": 71,
   "id": "7192250a",
   "metadata": {},
   "outputs": [
    {
     "data": {
      "text/plain": [
       "array([0., 0., 0., 0., 0.])"
      ]
     },
     "execution_count": 71,
     "metadata": {},
     "output_type": "execute_result"
    }
   ],
   "source": [
    "np.zeros(5)"
   ]
  },
  {
   "cell_type": "code",
   "execution_count": 72,
   "id": "fbdc54cf",
   "metadata": {},
   "outputs": [
    {
     "data": {
      "text/plain": [
       "array([1., 1., 1., 1., 1.])"
      ]
     },
     "execution_count": 72,
     "metadata": {},
     "output_type": "execute_result"
    }
   ],
   "source": [
    "np.ones(5)"
   ]
  },
  {
   "cell_type": "markdown",
   "id": "19a0cc0c",
   "metadata": {},
   "source": [
    "## Arrays multidimensionales"
   ]
  },
  {
   "cell_type": "code",
   "execution_count": 73,
   "id": "b2ee200f",
   "metadata": {},
   "outputs": [],
   "source": [
    "# una lista de listas en Python estándar:\n",
    "li1 = [ [1,2,3],\n",
    "        [4,5,6],\n",
    "        [7,8,9] ]"
   ]
  },
  {
   "cell_type": "code",
   "execution_count": 74,
   "id": "8a3b4196",
   "metadata": {},
   "outputs": [
    {
     "data": {
      "text/plain": [
       "2"
      ]
     },
     "execution_count": 74,
     "metadata": {},
     "output_type": "execute_result"
    }
   ],
   "source": [
    "li1[0][1]"
   ]
  },
  {
   "cell_type": "code",
   "execution_count": 75,
   "id": "afac6f79",
   "metadata": {},
   "outputs": [
    {
     "data": {
      "text/plain": [
       "array([[1, 2, 3],\n",
       "       [4, 5, 6],\n",
       "       [7, 8, 9]])"
      ]
     },
     "execution_count": 75,
     "metadata": {},
     "output_type": "execute_result"
    }
   ],
   "source": [
    "# construimos un ndarray con la lista de listas:\n",
    "np.array(li1)"
   ]
  },
  {
   "cell_type": "code",
   "execution_count": 76,
   "id": "0ca40c47",
   "metadata": {},
   "outputs": [],
   "source": [
    "arr2d = np.array(li1)"
   ]
  },
  {
   "cell_type": "code",
   "execution_count": 77,
   "id": "231d4e59",
   "metadata": {},
   "outputs": [
    {
     "data": {
      "text/plain": [
       "9"
      ]
     },
     "execution_count": 77,
     "metadata": {},
     "output_type": "execute_result"
    }
   ],
   "source": [
    "arr2d.size"
   ]
  },
  {
   "cell_type": "code",
   "execution_count": 78,
   "id": "533b92cc",
   "metadata": {},
   "outputs": [
    {
     "data": {
      "text/plain": [
       "3"
      ]
     },
     "execution_count": 78,
     "metadata": {},
     "output_type": "execute_result"
    }
   ],
   "source": [
    "len(arr2d) # observa que len coincide con la primera dimensión"
   ]
  },
  {
   "cell_type": "code",
   "execution_count": 79,
   "id": "af876e86",
   "metadata": {},
   "outputs": [
    {
     "name": "stdout",
     "output_type": "stream",
     "text": [
      "[1 2 3]\n",
      "[4 5 6]\n",
      "[7 8 9]\n"
     ]
    }
   ],
   "source": [
    "# observa que len coincide con la primera dimensión\n",
    "# (nº filas) que es el nº iteraciones que realiza un\n",
    "# bucle for que lo recorre:\n",
    "for x in arr2d:\n",
    "    print(x)"
   ]
  },
  {
   "cell_type": "code",
   "execution_count": 80,
   "id": "f0e54dac",
   "metadata": {},
   "outputs": [
    {
     "data": {
      "text/plain": [
       "2"
      ]
     },
     "execution_count": 80,
     "metadata": {},
     "output_type": "execute_result"
    }
   ],
   "source": [
    "arr2d.ndim"
   ]
  },
  {
   "cell_type": "code",
   "execution_count": 81,
   "id": "46e08250",
   "metadata": {},
   "outputs": [
    {
     "data": {
      "text/plain": [
       "(3, 3)"
      ]
     },
     "execution_count": 81,
     "metadata": {},
     "output_type": "execute_result"
    }
   ],
   "source": [
    "arr2d.shape"
   ]
  },
  {
   "cell_type": "code",
   "execution_count": 82,
   "id": "94082627",
   "metadata": {},
   "outputs": [
    {
     "data": {
      "text/plain": [
       "6"
      ]
     },
     "execution_count": 82,
     "metadata": {},
     "output_type": "execute_result"
    }
   ],
   "source": [
    "arr2d[1][2]"
   ]
  },
  {
   "cell_type": "code",
   "execution_count": 83,
   "id": "9aa7bbbb",
   "metadata": {},
   "outputs": [
    {
     "data": {
      "text/plain": [
       "6"
      ]
     },
     "execution_count": 83,
     "metadata": {},
     "output_type": "execute_result"
    }
   ],
   "source": [
    "arr2d.item(1,2) # otra forma de acceder a un elemento"
   ]
  },
  {
   "cell_type": "code",
   "execution_count": 84,
   "id": "ec7a088e",
   "metadata": {},
   "outputs": [
    {
     "data": {
      "text/plain": [
       "6"
      ]
     },
     "execution_count": 84,
     "metadata": {},
     "output_type": "execute_result"
    }
   ],
   "source": [
    "# si pasamos 1 argumento interpreta el array como con estructura plana\n",
    "arr2d.item(5)"
   ]
  },
  {
   "cell_type": "markdown",
   "id": "643d4808",
   "metadata": {},
   "source": [
    "### También podemos crear un array de más de 2 dimensiones"
   ]
  },
  {
   "cell_type": "code",
   "execution_count": 85,
   "id": "ab8401e4",
   "metadata": {},
   "outputs": [],
   "source": [
    "arr3d = np.array( [ [[1,2],[3,4]], [[5,6],[7,8]] ] )"
   ]
  },
  {
   "cell_type": "code",
   "execution_count": 86,
   "id": "df8c0283",
   "metadata": {},
   "outputs": [
    {
     "data": {
      "text/plain": [
       "array([[[1, 2],\n",
       "        [3, 4]],\n",
       "\n",
       "       [[5, 6],\n",
       "        [7, 8]]])"
      ]
     },
     "execution_count": 86,
     "metadata": {},
     "output_type": "execute_result"
    }
   ],
   "source": [
    "arr3d"
   ]
  },
  {
   "cell_type": "code",
   "execution_count": 87,
   "id": "1c07ec0f",
   "metadata": {
    "scrolled": true
   },
   "outputs": [
    {
     "data": {
      "text/plain": [
       "3"
      ]
     },
     "execution_count": 87,
     "metadata": {},
     "output_type": "execute_result"
    }
   ],
   "source": [
    "arr3d.ndim"
   ]
  },
  {
   "cell_type": "code",
   "execution_count": 88,
   "id": "dc41245d",
   "metadata": {},
   "outputs": [
    {
     "data": {
      "text/plain": [
       "1"
      ]
     },
     "execution_count": 88,
     "metadata": {},
     "output_type": "execute_result"
    }
   ],
   "source": [
    "arr3d[0][0][0]"
   ]
  },
  {
   "cell_type": "code",
   "execution_count": 89,
   "id": "9daffdde",
   "metadata": {},
   "outputs": [
    {
     "data": {
      "text/plain": [
       "(2, 2, 2)"
      ]
     },
     "execution_count": 89,
     "metadata": {},
     "output_type": "execute_result"
    }
   ],
   "source": [
    "arr3d.shape"
   ]
  },
  {
   "cell_type": "markdown",
   "id": "6b42c4dd",
   "metadata": {},
   "source": [
    "### Podemos crear arrays multidimensionales con `np.zeros`"
   ]
  },
  {
   "cell_type": "code",
   "execution_count": 90,
   "id": "aef113da",
   "metadata": {},
   "outputs": [
    {
     "data": {
      "text/plain": [
       "array([[0., 0., 0.],\n",
       "       [0., 0., 0.]])"
      ]
     },
     "execution_count": 90,
     "metadata": {},
     "output_type": "execute_result"
    }
   ],
   "source": [
    "np.zeros( (2,3) )"
   ]
  },
  {
   "cell_type": "code",
   "execution_count": 91,
   "id": "d2d5c6d1",
   "metadata": {},
   "outputs": [],
   "source": [
    "arr2dzero = np.zeros( (2,3) )"
   ]
  },
  {
   "cell_type": "code",
   "execution_count": 92,
   "id": "3e7f90ff",
   "metadata": {},
   "outputs": [
    {
     "data": {
      "text/plain": [
       "array([[0., 0., 0.],\n",
       "       [0., 0., 0.]])"
      ]
     },
     "execution_count": 92,
     "metadata": {},
     "output_type": "execute_result"
    }
   ],
   "source": [
    "arr2dzero"
   ]
  },
  {
   "cell_type": "code",
   "execution_count": 93,
   "id": "c3ceec95",
   "metadata": {},
   "outputs": [
    {
     "data": {
      "text/plain": [
       "dtype('float64')"
      ]
     },
     "execution_count": 93,
     "metadata": {},
     "output_type": "execute_result"
    }
   ],
   "source": [
    "arr2dzero.dtype"
   ]
  },
  {
   "cell_type": "code",
   "execution_count": 94,
   "id": "b9f19785",
   "metadata": {},
   "outputs": [
    {
     "data": {
      "text/plain": [
       "numpy.float64"
      ]
     },
     "execution_count": 94,
     "metadata": {},
     "output_type": "execute_result"
    }
   ],
   "source": [
    "type(arr2dzero[0][0])"
   ]
  },
  {
   "cell_type": "code",
   "execution_count": 95,
   "id": "212502ee",
   "metadata": {},
   "outputs": [],
   "source": [
    "arr2dzero2 = np.zeros( (2,3), dtype='int64' )"
   ]
  },
  {
   "cell_type": "code",
   "execution_count": 96,
   "id": "936c1618",
   "metadata": {},
   "outputs": [],
   "source": [
    "arr2dzero2 = np.zeros( (2,3), dtype=np.int64 ) # otra forma"
   ]
  },
  {
   "cell_type": "code",
   "execution_count": 97,
   "id": "6d51b820",
   "metadata": {},
   "outputs": [
    {
     "data": {
      "text/plain": [
       "array([[0, 0, 0],\n",
       "       [0, 0, 0]])"
      ]
     },
     "execution_count": 97,
     "metadata": {},
     "output_type": "execute_result"
    }
   ],
   "source": [
    "arr2dzero2 # observa que los 0s no llevan punto:"
   ]
  },
  {
   "cell_type": "code",
   "execution_count": 98,
   "id": "49b5df01",
   "metadata": {},
   "outputs": [
    {
     "data": {
      "text/plain": [
       "dtype('int64')"
      ]
     },
     "execution_count": 98,
     "metadata": {},
     "output_type": "execute_result"
    }
   ],
   "source": [
    "arr2dzero2.dtype"
   ]
  },
  {
   "cell_type": "code",
   "execution_count": 99,
   "id": "4bf386a8",
   "metadata": {},
   "outputs": [
    {
     "data": {
      "text/plain": [
       "numpy.int64"
      ]
     },
     "execution_count": 99,
     "metadata": {},
     "output_type": "execute_result"
    }
   ],
   "source": [
    "type(arr2dzero2[0][0])"
   ]
  },
  {
   "cell_type": "markdown",
   "id": "86a291df",
   "metadata": {},
   "source": [
    "### El método `astype` permite cambiar de tipo:"
   ]
  },
  {
   "cell_type": "code",
   "execution_count": 100,
   "id": "6455955c",
   "metadata": {},
   "outputs": [
    {
     "data": {
      "text/plain": [
       "array([[0., 0., 0.],\n",
       "       [0., 0., 0.]], dtype=float32)"
      ]
     },
     "execution_count": 100,
     "metadata": {},
     "output_type": "execute_result"
    }
   ],
   "source": [
    "arr2dzero2.astype('float32')"
   ]
  },
  {
   "cell_type": "code",
   "execution_count": 101,
   "id": "85d6d07e",
   "metadata": {},
   "outputs": [],
   "source": [
    "arr2dzero2f = arr2dzero2.astype('float32')"
   ]
  },
  {
   "cell_type": "code",
   "execution_count": 102,
   "id": "b2618ab9",
   "metadata": {},
   "outputs": [
    {
     "data": {
      "text/plain": [
       "False"
      ]
     },
     "execution_count": 102,
     "metadata": {},
     "output_type": "execute_result"
    }
   ],
   "source": [
    "arr2dzero2 is arr2dzero2f"
   ]
  },
  {
   "cell_type": "code",
   "execution_count": 103,
   "id": "6571a7fd",
   "metadata": {},
   "outputs": [
    {
     "data": {
      "text/plain": [
       "array([1., 2., 3., 4.])"
      ]
     },
     "execution_count": 103,
     "metadata": {},
     "output_type": "execute_result"
    }
   ],
   "source": [
    "# No confundir astype con view:\n",
    "np.array([1,2,3,4]).astype('float')"
   ]
  },
  {
   "cell_type": "code",
   "execution_count": 104,
   "id": "695f7389",
   "metadata": {},
   "outputs": [
    {
     "data": {
      "text/plain": [
       "array([4.9e-324, 9.9e-324, 1.5e-323, 2.0e-323])"
      ]
     },
     "execution_count": 104,
     "metadata": {},
     "output_type": "execute_result"
    }
   ],
   "source": [
    "# No confundir astype con view:\n",
    "np.array([1,2,3,4]).view('float')"
   ]
  },
  {
   "cell_type": "markdown",
   "id": "aa8ab89d",
   "metadata": {},
   "source": [
    "## Propiedades de los arrays Numpy"
   ]
  },
  {
   "cell_type": "code",
   "execution_count": 105,
   "id": "8f9560ba",
   "metadata": {},
   "outputs": [],
   "source": [
    "a = np.array([ [1,2,3], [4,5,6], [7,8,9] ])"
   ]
  },
  {
   "cell_type": "code",
   "execution_count": 106,
   "id": "71fae009",
   "metadata": {},
   "outputs": [
    {
     "data": {
      "text/plain": [
       "array([[1, 2, 3],\n",
       "       [4, 5, 6],\n",
       "       [7, 8, 9]])"
      ]
     },
     "execution_count": 106,
     "metadata": {},
     "output_type": "execute_result"
    }
   ],
   "source": [
    "a"
   ]
  },
  {
   "cell_type": "code",
   "execution_count": 107,
   "id": "2f06da4a",
   "metadata": {},
   "outputs": [
    {
     "data": {
      "text/plain": [
       "9"
      ]
     },
     "execution_count": 107,
     "metadata": {},
     "output_type": "execute_result"
    }
   ],
   "source": [
    "a.size"
   ]
  },
  {
   "cell_type": "code",
   "execution_count": 108,
   "id": "4af6c19a",
   "metadata": {},
   "outputs": [
    {
     "data": {
      "text/plain": [
       "(3, 3)"
      ]
     },
     "execution_count": 108,
     "metadata": {},
     "output_type": "execute_result"
    }
   ],
   "source": [
    "a.shape"
   ]
  },
  {
   "cell_type": "code",
   "execution_count": 109,
   "id": "47bc610b",
   "metadata": {},
   "outputs": [
    {
     "data": {
      "text/plain": [
       "dtype('int64')"
      ]
     },
     "execution_count": 109,
     "metadata": {},
     "output_type": "execute_result"
    }
   ],
   "source": [
    "a.dtype # int64 son 8 bytes por elemento"
   ]
  },
  {
   "cell_type": "code",
   "execution_count": 110,
   "id": "9fadc4cb",
   "metadata": {},
   "outputs": [
    {
     "data": {
      "text/plain": [
       "8"
      ]
     },
     "execution_count": 110,
     "metadata": {},
     "output_type": "execute_result"
    }
   ],
   "source": [
    "a.itemsize"
   ]
  },
  {
   "cell_type": "code",
   "execution_count": 111,
   "id": "ddf4c67f",
   "metadata": {},
   "outputs": [
    {
     "data": {
      "text/plain": [
       "2"
      ]
     },
     "execution_count": 111,
     "metadata": {},
     "output_type": "execute_result"
    }
   ],
   "source": [
    "a.ndim"
   ]
  },
  {
   "cell_type": "code",
   "execution_count": 112,
   "id": "04d4d0a2",
   "metadata": {},
   "outputs": [
    {
     "data": {
      "text/plain": [
       "(4,)"
      ]
     },
     "execution_count": 112,
     "metadata": {},
     "output_type": "execute_result"
    }
   ],
   "source": [
    "# el shape de un array 1-dimensionale es una tupla 1 elemento:\n",
    "a1 = np.array([2,5,1,3])\n",
    "a1.shape"
   ]
  },
  {
   "cell_type": "markdown",
   "id": "6d4c7428",
   "metadata": {},
   "source": [
    "Existen otras propiedades:"
   ]
  },
  {
   "cell_type": "code",
   "execution_count": 113,
   "id": "89be2570",
   "metadata": {},
   "outputs": [
    {
     "data": {
      "text/plain": [
       "(24, 8)"
      ]
     },
     "execution_count": 113,
     "metadata": {},
     "output_type": "execute_result"
    }
   ],
   "source": [
    "a.strides # a era de 3x3 de np.int64"
   ]
  },
  {
   "cell_type": "code",
   "execution_count": 114,
   "id": "1f79d540",
   "metadata": {},
   "outputs": [
    {
     "data": {
      "text/plain": [
       "  C_CONTIGUOUS : True\n",
       "  F_CONTIGUOUS : False\n",
       "  OWNDATA : True\n",
       "  WRITEABLE : True\n",
       "  ALIGNED : True\n",
       "  WRITEBACKIFCOPY : False"
      ]
     },
     "execution_count": 114,
     "metadata": {},
     "output_type": "execute_result"
    }
   ],
   "source": [
    "a.flags"
   ]
  },
  {
   "cell_type": "code",
   "execution_count": 115,
   "id": "a9e4f310",
   "metadata": {},
   "outputs": [
    {
     "data": {
      "text/plain": [
       "array([[1, 2],\n",
       "       [4, 5]])"
      ]
     },
     "execution_count": 115,
     "metadata": {},
     "output_type": "execute_result"
    }
   ],
   "source": [
    "b = a[:2,:2]\n",
    "b"
   ]
  },
  {
   "cell_type": "code",
   "execution_count": 116,
   "id": "3642f116",
   "metadata": {},
   "outputs": [
    {
     "data": {
      "text/plain": [
       "  C_CONTIGUOUS : False\n",
       "  F_CONTIGUOUS : False\n",
       "  OWNDATA : False\n",
       "  WRITEABLE : True\n",
       "  ALIGNED : True\n",
       "  WRITEBACKIFCOPY : False"
      ]
     },
     "execution_count": 116,
     "metadata": {},
     "output_type": "execute_result"
    }
   ],
   "source": [
    "b.flags"
   ]
  },
  {
   "cell_type": "code",
   "execution_count": 117,
   "id": "e217574d",
   "metadata": {},
   "outputs": [
    {
     "data": {
      "text/plain": [
       "(24, 8)"
      ]
     },
     "execution_count": 117,
     "metadata": {},
     "output_type": "execute_result"
    }
   ],
   "source": [
    "b.strides"
   ]
  },
  {
   "cell_type": "code",
   "execution_count": 118,
   "id": "15d35e46",
   "metadata": {},
   "outputs": [
    {
     "data": {
      "text/plain": [
       "(8, 24)"
      ]
     },
     "execution_count": 118,
     "metadata": {},
     "output_type": "execute_result"
    }
   ],
   "source": [
    "c = b.transpose()\n",
    "c.strides"
   ]
  },
  {
   "cell_type": "code",
   "execution_count": 119,
   "id": "e1c5720e",
   "metadata": {},
   "outputs": [
    {
     "data": {
      "text/plain": [
       "True"
      ]
     },
     "execution_count": 119,
     "metadata": {},
     "output_type": "execute_result"
    }
   ],
   "source": [
    "# si modificásemos c cambiaría a\n",
    "np.shares_memory(a,c)"
   ]
  },
  {
   "cell_type": "markdown",
   "id": "69f2cd76",
   "metadata": {},
   "source": [
    "## Reshape"
   ]
  },
  {
   "cell_type": "code",
   "execution_count": 120,
   "id": "5ad6924f",
   "metadata": {},
   "outputs": [],
   "source": [
    "a2 = np.arange(15)"
   ]
  },
  {
   "cell_type": "code",
   "execution_count": 121,
   "id": "79ea17f3",
   "metadata": {},
   "outputs": [
    {
     "data": {
      "text/plain": [
       "array([ 0,  1,  2,  3,  4,  5,  6,  7,  8,  9, 10, 11, 12, 13, 14])"
      ]
     },
     "execution_count": 121,
     "metadata": {},
     "output_type": "execute_result"
    }
   ],
   "source": [
    "a2"
   ]
  },
  {
   "cell_type": "code",
   "execution_count": 122,
   "id": "0d371a6e",
   "metadata": {},
   "outputs": [
    {
     "data": {
      "text/plain": [
       "array([[ 0,  1,  2,  3,  4],\n",
       "       [ 5,  6,  7,  8,  9],\n",
       "       [10, 11, 12, 13, 14]])"
      ]
     },
     "execution_count": 122,
     "metadata": {},
     "output_type": "execute_result"
    }
   ],
   "source": [
    "a2.reshape((3,5))"
   ]
  },
  {
   "cell_type": "code",
   "execution_count": 123,
   "id": "2ff52502",
   "metadata": {},
   "outputs": [
    {
     "data": {
      "text/plain": [
       "array([ 0,  1,  2,  3,  4,  5,  6,  7,  8,  9, 10, 11, 12, 13, 14])"
      ]
     },
     "execution_count": 123,
     "metadata": {},
     "output_type": "execute_result"
    }
   ],
   "source": [
    "a2"
   ]
  },
  {
   "cell_type": "code",
   "execution_count": 124,
   "id": "0f8623a8",
   "metadata": {},
   "outputs": [],
   "source": [
    "a2 = a2.reshape((3,5))"
   ]
  },
  {
   "cell_type": "code",
   "execution_count": 125,
   "id": "2c3a93d9",
   "metadata": {},
   "outputs": [
    {
     "data": {
      "text/plain": [
       "array([[ 0,  1,  2,  3,  4],\n",
       "       [ 5,  6,  7,  8,  9],\n",
       "       [10, 11, 12, 13, 14]])"
      ]
     },
     "execution_count": 125,
     "metadata": {},
     "output_type": "execute_result"
    }
   ],
   "source": [
    "a2"
   ]
  },
  {
   "cell_type": "markdown",
   "id": "5deae13d",
   "metadata": {},
   "source": [
    "### `shape` es una *propiedad* que puede ser modificada directamente\n",
    "\n",
    "> **Nota:** las propiedades son una característica de la programación orientada a objetos de Python. Parecen atributos pero cuando lees o escribes en ellos se ejecuta un método (uno al leer, otro al escribir)."
   ]
  },
  {
   "cell_type": "code",
   "execution_count": 126,
   "id": "e3674fca",
   "metadata": {},
   "outputs": [],
   "source": [
    "a3 = np.arange(15)"
   ]
  },
  {
   "cell_type": "code",
   "execution_count": 127,
   "id": "8373b9d0",
   "metadata": {},
   "outputs": [
    {
     "data": {
      "text/plain": [
       "array([ 0,  1,  2,  3,  4,  5,  6,  7,  8,  9, 10, 11, 12, 13, 14])"
      ]
     },
     "execution_count": 127,
     "metadata": {},
     "output_type": "execute_result"
    }
   ],
   "source": [
    "a3"
   ]
  },
  {
   "cell_type": "code",
   "execution_count": 128,
   "id": "b0b8ed2d",
   "metadata": {},
   "outputs": [],
   "source": [
    "a3.shape = (3,5)"
   ]
  },
  {
   "cell_type": "code",
   "execution_count": 129,
   "id": "ac006772",
   "metadata": {},
   "outputs": [
    {
     "data": {
      "text/plain": [
       "array([[ 0,  1,  2,  3,  4],\n",
       "       [ 5,  6,  7,  8,  9],\n",
       "       [10, 11, 12, 13, 14]])"
      ]
     },
     "execution_count": 129,
     "metadata": {},
     "output_type": "execute_result"
    }
   ],
   "source": [
    "a3"
   ]
  },
  {
   "cell_type": "code",
   "execution_count": 130,
   "id": "3d07f0ff",
   "metadata": {},
   "outputs": [
    {
     "ename": "ValueError",
     "evalue": "cannot reshape array of size 15 into shape (4,4)",
     "output_type": "error",
     "traceback": [
      "\u001b[0;31m---------------------------------------------------------------------------\u001b[0m",
      "\u001b[0;31mValueError\u001b[0m                                Traceback (most recent call last)",
      "Cell \u001b[0;32mIn[130], line 1\u001b[0m\n\u001b[0;32m----> 1\u001b[0m \u001b[43ma3\u001b[49m\u001b[38;5;241;43m.\u001b[39;49m\u001b[43mshape\u001b[49m \u001b[38;5;241m=\u001b[39m (\u001b[38;5;241m4\u001b[39m,\u001b[38;5;241m4\u001b[39m) \u001b[38;5;66;03m# imposible 4*4 != 15, dará error:\u001b[39;00m\n",
      "\u001b[0;31mValueError\u001b[0m: cannot reshape array of size 15 into shape (4,4)"
     ]
    }
   ],
   "source": [
    "a3.shape = (4,4) # imposible 4*4 != 15, dará error:"
   ]
  },
  {
   "cell_type": "markdown",
   "id": "8664b6b9",
   "metadata": {},
   "source": [
    "## Random numbers\n",
    "\n",
    "`np.random.randn` devuelve una muestra de valores aleatorios extraídos de la distribución estándar (media 0, desviación típica 1)"
   ]
  },
  {
   "cell_type": "code",
   "execution_count": 131,
   "id": "11fdaf57",
   "metadata": {},
   "outputs": [],
   "source": [
    "data = np.random.randn(2,3) # los parámetros indican el shape del array devuelto"
   ]
  },
  {
   "cell_type": "code",
   "execution_count": 132,
   "id": "99c93d60",
   "metadata": {},
   "outputs": [
    {
     "data": {
      "text/plain": [
       "array([[ 1.25028126,  0.06482514, -0.19884531],\n",
       "       [ 0.94783417,  0.34872029,  0.95798279]])"
      ]
     },
     "execution_count": 132,
     "metadata": {},
     "output_type": "execute_result"
    }
   ],
   "source": [
    "data"
   ]
  },
  {
   "cell_type": "code",
   "execution_count": 133,
   "id": "878dd142",
   "metadata": {},
   "outputs": [
    {
     "data": {
      "text/plain": [
       "0.5617997214998957"
      ]
     },
     "execution_count": 133,
     "metadata": {},
     "output_type": "execute_result"
    }
   ],
   "source": [
    "np.mean(data)"
   ]
  },
  {
   "cell_type": "code",
   "execution_count": 134,
   "id": "017a746e",
   "metadata": {},
   "outputs": [],
   "source": [
    "data2 = np.random.randn(100, 100)"
   ]
  },
  {
   "cell_type": "code",
   "execution_count": 135,
   "id": "f77f7365",
   "metadata": {},
   "outputs": [
    {
     "data": {
      "text/plain": [
       "0.0010733171302022243"
      ]
     },
     "execution_count": 135,
     "metadata": {},
     "output_type": "execute_result"
    }
   ],
   "source": [
    "np.mean(data2)"
   ]
  },
  {
   "cell_type": "markdown",
   "id": "6fcf1f60",
   "metadata": {},
   "source": [
    "la media se aproxima más a 0 porque la muestra tiene mayor tamaño"
   ]
  },
  {
   "cell_type": "markdown",
   "id": "105c00a0",
   "metadata": {},
   "source": [
    "### Comparación de tiempos"
   ]
  },
  {
   "cell_type": "code",
   "execution_count": 136,
   "id": "fee05dcc",
   "metadata": {},
   "outputs": [
    {
     "name": "stdout",
     "output_type": "stream",
     "text": [
      "CPU times: user 73.9 ms, sys: 5.78 ms, total: 79.6 ms\n",
      "Wall time: 80.7 ms\n"
     ]
    }
   ],
   "source": [
    "%time for i in range(100): np.arange(1_000_000)"
   ]
  },
  {
   "cell_type": "code",
   "execution_count": 137,
   "id": "9947d022",
   "metadata": {},
   "outputs": [
    {
     "name": "stdout",
     "output_type": "stream",
     "text": [
      "CPU times: user 3.79 s, sys: 1.4 s, total: 5.2 s\n",
      "Wall time: 5.46 s\n"
     ]
    }
   ],
   "source": [
    "%time for i in range(100): list(range(1_000_000))"
   ]
  },
  {
   "cell_type": "markdown",
   "id": "6a8292e7",
   "metadata": {},
   "source": [
    "## Añadir elementos"
   ]
  },
  {
   "cell_type": "code",
   "execution_count": 138,
   "id": "12696134",
   "metadata": {},
   "outputs": [],
   "source": [
    "a = np.array( [1, 2, 3] )"
   ]
  },
  {
   "cell_type": "code",
   "execution_count": 139,
   "id": "788d3459",
   "metadata": {},
   "outputs": [],
   "source": [
    "b = np.append(a, [4, 5, 6])"
   ]
  },
  {
   "cell_type": "code",
   "execution_count": 140,
   "id": "2e2d694b",
   "metadata": {},
   "outputs": [
    {
     "data": {
      "text/plain": [
       "array([1, 2, 3, 4, 5, 6])"
      ]
     },
     "execution_count": 140,
     "metadata": {},
     "output_type": "execute_result"
    }
   ],
   "source": [
    "b"
   ]
  },
  {
   "cell_type": "markdown",
   "id": "4a6aea64",
   "metadata": {},
   "source": [
    "- A diferencia de las listas python, el operador `+` no puede ser utilizado para concatenar arrays.\n",
    "- En un array 2-dimensional, el valor `axis=0` significa extender en vertical, `axis=1` significa extender en horizontal.\n",
    "- `np.append` proporciona una vista/view, no modifica el objeto sobre el que se aplica, puedes guardar el resultado en una variable..."
   ]
  },
  {
   "cell_type": "code",
   "execution_count": 141,
   "id": "7c2ce38c",
   "metadata": {},
   "outputs": [],
   "source": [
    "a = np.array( [[1,2],[3,4]] )"
   ]
  },
  {
   "cell_type": "code",
   "execution_count": 142,
   "id": "5b6308b4",
   "metadata": {},
   "outputs": [
    {
     "data": {
      "text/plain": [
       "array([[1, 2],\n",
       "       [3, 4]])"
      ]
     },
     "execution_count": 142,
     "metadata": {},
     "output_type": "execute_result"
    }
   ],
   "source": [
    "a"
   ]
  },
  {
   "cell_type": "code",
   "execution_count": 143,
   "id": "ec8cb288",
   "metadata": {},
   "outputs": [
    {
     "data": {
      "text/plain": [
       "array([[1, 2],\n",
       "       [3, 4],\n",
       "       [9, 9]])"
      ]
     },
     "execution_count": 143,
     "metadata": {},
     "output_type": "execute_result"
    }
   ],
   "source": [
    "np.append(a,[[9,9]], axis=0)"
   ]
  },
  {
   "cell_type": "code",
   "execution_count": 144,
   "id": "203357cb",
   "metadata": {},
   "outputs": [
    {
     "data": {
      "text/plain": [
       "array([[1, 2, 9],\n",
       "       [3, 4, 9]])"
      ]
     },
     "execution_count": 144,
     "metadata": {},
     "output_type": "execute_result"
    }
   ],
   "source": [
    "np.append(a,[[9],[9]], axis=1) # observa que [[9],[9]] es vector vertical"
   ]
  },
  {
   "cell_type": "code",
   "execution_count": 145,
   "id": "898e738e",
   "metadata": {},
   "outputs": [
    {
     "data": {
      "text/plain": [
       "array([[1, 2],\n",
       "       [3, 4]])"
      ]
     },
     "execution_count": 145,
     "metadata": {},
     "output_type": "execute_result"
    }
   ],
   "source": [
    "a # np.append no ha modificado a"
   ]
  },
  {
   "cell_type": "code",
   "execution_count": 146,
   "id": "1b27dda2",
   "metadata": {},
   "outputs": [],
   "source": [
    "b = np.append(a,[[9,9]], axis=0)"
   ]
  },
  {
   "cell_type": "code",
   "execution_count": 147,
   "id": "406841b6",
   "metadata": {},
   "outputs": [
    {
     "data": {
      "text/plain": [
       "array([[1, 2],\n",
       "       [3, 4],\n",
       "       [9, 9]])"
      ]
     },
     "execution_count": 147,
     "metadata": {},
     "output_type": "execute_result"
    }
   ],
   "source": [
    "b"
   ]
  },
  {
   "cell_type": "markdown",
   "id": "80bb972f",
   "metadata": {},
   "source": [
    "## Borrado de elementos"
   ]
  },
  {
   "cell_type": "code",
   "execution_count": 148,
   "id": "f85a2628",
   "metadata": {},
   "outputs": [],
   "source": [
    "a = np.array( [[1,2,3],[4,5,6]] )"
   ]
  },
  {
   "cell_type": "code",
   "execution_count": 149,
   "id": "f09c5ce1",
   "metadata": {},
   "outputs": [
    {
     "data": {
      "text/plain": [
       "array([[1, 2, 3],\n",
       "       [4, 5, 6]])"
      ]
     },
     "execution_count": 149,
     "metadata": {},
     "output_type": "execute_result"
    }
   ],
   "source": [
    "a"
   ]
  },
  {
   "cell_type": "code",
   "execution_count": 150,
   "id": "f0f2be99",
   "metadata": {},
   "outputs": [
    {
     "data": {
      "text/plain": [
       "array([2, 3, 4, 5, 6])"
      ]
     },
     "execution_count": 150,
     "metadata": {},
     "output_type": "execute_result"
    }
   ],
   "source": [
    "np.delete(a, 0)"
   ]
  },
  {
   "cell_type": "markdown",
   "id": "9aefd8a9",
   "metadata": {},
   "source": [
    "observa que el resultado queda aplanado (*flatten*)"
   ]
  },
  {
   "cell_type": "code",
   "execution_count": 151,
   "id": "50c90294",
   "metadata": {},
   "outputs": [
    {
     "data": {
      "text/plain": [
       "array([[1, 2, 3],\n",
       "       [4, 5, 6]])"
      ]
     },
     "execution_count": 151,
     "metadata": {},
     "output_type": "execute_result"
    }
   ],
   "source": [
    "a"
   ]
  },
  {
   "cell_type": "code",
   "execution_count": 171,
   "id": "70132d81",
   "metadata": {},
   "outputs": [
    {
     "data": {
      "text/plain": [
       "array([2, 3])"
      ]
     },
     "execution_count": 171,
     "metadata": {},
     "output_type": "execute_result"
    }
   ],
   "source": [
    "np.delete(a,0,axis=0) # borrar primera fila"
   ]
  },
  {
   "cell_type": "code",
   "execution_count": 172,
   "id": "045ba1fb",
   "metadata": {},
   "outputs": [
    {
     "ename": "AxisError",
     "evalue": "axis 1 is out of bounds for array of dimension 1",
     "output_type": "error",
     "traceback": [
      "\u001b[0;31m---------------------------------------------------------------------------\u001b[0m",
      "\u001b[0;31mAxisError\u001b[0m                                 Traceback (most recent call last)",
      "Cell \u001b[0;32mIn[172], line 1\u001b[0m\n\u001b[0;32m----> 1\u001b[0m \u001b[43mnp\u001b[49m\u001b[38;5;241;43m.\u001b[39;49m\u001b[43mdelete\u001b[49m\u001b[43m(\u001b[49m\u001b[43ma\u001b[49m\u001b[43m,\u001b[49m\u001b[38;5;241;43m0\u001b[39;49m\u001b[43m,\u001b[49m\u001b[43maxis\u001b[49m\u001b[38;5;241;43m=\u001b[39;49m\u001b[38;5;241;43m1\u001b[39;49m\u001b[43m)\u001b[49m \u001b[38;5;66;03m# borrar primera columna\u001b[39;00m\n",
      "File \u001b[0;32m/Library/Frameworks/Python.framework/Versions/3.12/lib/python3.12/site-packages/numpy/lib/function_base.py:5255\u001b[0m, in \u001b[0;36mdelete\u001b[0;34m(arr, obj, axis)\u001b[0m\n\u001b[1;32m   5253\u001b[0m     axis \u001b[38;5;241m=\u001b[39m ndim \u001b[38;5;241m-\u001b[39m \u001b[38;5;241m1\u001b[39m\n\u001b[1;32m   5254\u001b[0m \u001b[38;5;28;01melse\u001b[39;00m:\n\u001b[0;32m-> 5255\u001b[0m     axis \u001b[38;5;241m=\u001b[39m \u001b[43mnormalize_axis_index\u001b[49m\u001b[43m(\u001b[49m\u001b[43maxis\u001b[49m\u001b[43m,\u001b[49m\u001b[43m \u001b[49m\u001b[43mndim\u001b[49m\u001b[43m)\u001b[49m\n\u001b[1;32m   5257\u001b[0m slobj \u001b[38;5;241m=\u001b[39m [\u001b[38;5;28mslice\u001b[39m(\u001b[38;5;28;01mNone\u001b[39;00m)]\u001b[38;5;241m*\u001b[39mndim\n\u001b[1;32m   5258\u001b[0m N \u001b[38;5;241m=\u001b[39m arr\u001b[38;5;241m.\u001b[39mshape[axis]\n",
      "\u001b[0;31mAxisError\u001b[0m: axis 1 is out of bounds for array of dimension 1"
     ]
    }
   ],
   "source": [
    "np.delete(a,0,axis=1) # borrar primera columna"
   ]
  },
  {
   "cell_type": "code",
   "execution_count": null,
   "id": "47253664",
   "metadata": {},
   "outputs": [
    {
     "data": {
      "text/plain": [
       "array([[1, 3],\n",
       "       [4, 6]])"
      ]
     },
     "execution_count": 141,
     "metadata": {},
     "output_type": "execute_result"
    }
   ],
   "source": [
    "np.delete(a,1,axis=1) # borrar segunda columna"
   ]
  },
  {
   "cell_type": "markdown",
   "id": "98dbe5ed",
   "metadata": {},
   "source": [
    "## Operaciones básicas\n",
    "\n",
    "Numpy permite realizar operaciones sobre arrays sin necesidad de bucles que recorran los elementos uno a uno. Esa técnica se llama vectorización."
   ]
  },
  {
   "cell_type": "code",
   "execution_count": null,
   "id": "e6dad467",
   "metadata": {},
   "outputs": [
    {
     "name": "stdout",
     "output_type": "stream",
     "text": [
      "CPU times: user 3 µs, sys: 1e+03 ns, total: 4 µs\n",
      "Wall time: 5.96 µs\n"
     ]
    },
    {
     "data": {
      "text/plain": [
       "[1, 2, 3, 4, 5, 6]"
      ]
     },
     "execution_count": 157,
     "metadata": {},
     "output_type": "execute_result"
    }
   ],
   "source": [
    "# comparemos el uso de + en listas python y en arrays Numpy:\n",
    "%time\n",
    "a = [1,2,3]\n",
    "b = [4,5,6]\n",
    "a+b"
   ]
  },
  {
   "cell_type": "code",
   "execution_count": null,
   "id": "e88d69cc",
   "metadata": {},
   "outputs": [
    {
     "name": "stdout",
     "output_type": "stream",
     "text": [
      "CPU times: user 3 µs, sys: 1 µs, total: 4 µs\n",
      "Wall time: 7.15 µs\n"
     ]
    },
    {
     "data": {
      "text/plain": [
       "array([5, 7, 9])"
      ]
     },
     "execution_count": 158,
     "metadata": {},
     "output_type": "execute_result"
    }
   ],
   "source": [
    "%time\n",
    "arr1 = np.array([1,2,3])\n",
    "arr2 = np.array([4,5,6])\n",
    "arr1+arr2"
   ]
  },
  {
   "cell_type": "markdown",
   "id": "3345307a",
   "metadata": {},
   "source": [
    "Cuando la forma (shape) de los arrays es la misma, podemos realizar sumas, restas, multiplicaciones y divisiones:"
   ]
  },
  {
   "cell_type": "code",
   "execution_count": null,
   "id": "5c570104",
   "metadata": {},
   "outputs": [
    {
     "name": "stdout",
     "output_type": "stream",
     "text": [
      "1\n",
      "3\n",
      "(3,)\n"
     ]
    }
   ],
   "source": [
    "print(arr1.ndim)\n",
    "print(arr1.size)\n",
    "print(arr1.shape)"
   ]
  },
  {
   "cell_type": "code",
   "execution_count": null,
   "id": "3b50edb6",
   "metadata": {},
   "outputs": [
    {
     "name": "stdout",
     "output_type": "stream",
     "text": [
      "1\n",
      "3\n",
      "(3,)\n"
     ]
    }
   ],
   "source": [
    "print(arr2.ndim)\n",
    "print(arr2.size)\n",
    "print(arr2.shape)"
   ]
  },
  {
   "cell_type": "code",
   "execution_count": null,
   "id": "55893819",
   "metadata": {},
   "outputs": [
    {
     "name": "stdout",
     "output_type": "stream",
     "text": [
      "[5 7 9]\n",
      "[-3 -3 -3]\n",
      "[ 4 10 18]\n",
      "[0.25 0.4  0.5 ]\n"
     ]
    }
   ],
   "source": [
    "print(arr1+arr2)\n",
    "print(arr1-arr2)\n",
    "print(arr1*arr2)\n",
    "print(arr1/arr2)"
   ]
  },
  {
   "cell_type": "code",
   "execution_count": 173,
   "id": "6c1bf591",
   "metadata": {},
   "outputs": [
    {
     "data": {
      "text/plain": [
       "[1, 2, 3, 1, 2, 3, 1, 2, 3]"
      ]
     },
     "execution_count": 173,
     "metadata": {},
     "output_type": "execute_result"
    }
   ],
   "source": [
    "# comparemos multiplicar por un escalar una lista python vs array:\n",
    "a = [1,2,3]\n",
    "a*3"
   ]
  },
  {
   "cell_type": "code",
   "execution_count": 174,
   "id": "d52f1345",
   "metadata": {},
   "outputs": [
    {
     "data": {
      "text/plain": [
       "array([3, 6, 9])"
      ]
     },
     "execution_count": 174,
     "metadata": {},
     "output_type": "execute_result"
    }
   ],
   "source": [
    "b = np.array([1,2,3])\n",
    "b*3"
   ]
  },
  {
   "cell_type": "markdown",
   "id": "a16094f9",
   "metadata": {},
   "source": [
    "### Repeat & tile"
   ]
  },
  {
   "cell_type": "code",
   "execution_count": 175,
   "id": "e8c22e27",
   "metadata": {},
   "outputs": [
    {
     "data": {
      "text/plain": [
       "array([1, 2, 3])"
      ]
     },
     "execution_count": 175,
     "metadata": {},
     "output_type": "execute_result"
    }
   ],
   "source": [
    "b"
   ]
  },
  {
   "cell_type": "code",
   "execution_count": 176,
   "id": "cc3cd84f",
   "metadata": {},
   "outputs": [
    {
     "data": {
      "text/plain": [
       "array([1, 1, 1, 2, 2, 2, 3, 3, 3])"
      ]
     },
     "execution_count": 176,
     "metadata": {},
     "output_type": "execute_result"
    }
   ],
   "source": [
    "np.repeat(b,3) # repite CADA ELEMENTO"
   ]
  },
  {
   "cell_type": "code",
   "execution_count": 177,
   "id": "b94c4a80",
   "metadata": {},
   "outputs": [
    {
     "data": {
      "text/plain": [
       "array([1, 2, 3, 1, 2, 3, 1, 2, 3])"
      ]
     },
     "execution_count": 177,
     "metadata": {},
     "output_type": "execute_result"
    }
   ],
   "source": [
    "np.tile(b,3) # repite EL ARRAY"
   ]
  },
  {
   "cell_type": "markdown",
   "id": "86041202",
   "metadata": {},
   "source": [
    "con `tile` podemos repetir en 2 dimensiones:"
   ]
  },
  {
   "cell_type": "code",
   "execution_count": 178,
   "id": "560e65d5",
   "metadata": {},
   "outputs": [
    {
     "data": {
      "text/plain": [
       "array([0, 1, 2, 3, 4, 5, 6, 7, 8])"
      ]
     },
     "execution_count": 178,
     "metadata": {},
     "output_type": "execute_result"
    }
   ],
   "source": [
    "c = np.arange(9)\n",
    "c"
   ]
  },
  {
   "cell_type": "code",
   "execution_count": 179,
   "id": "759a85b6",
   "metadata": {},
   "outputs": [],
   "source": [
    "c = c.reshape(3,3)"
   ]
  },
  {
   "cell_type": "code",
   "execution_count": 180,
   "id": "81132767",
   "metadata": {},
   "outputs": [
    {
     "data": {
      "text/plain": [
       "(3, 3)"
      ]
     },
     "execution_count": 180,
     "metadata": {},
     "output_type": "execute_result"
    }
   ],
   "source": [
    "c.shape"
   ]
  },
  {
   "cell_type": "code",
   "execution_count": 181,
   "id": "57f620e5",
   "metadata": {},
   "outputs": [
    {
     "data": {
      "text/plain": [
       "array([[0, 1, 2],\n",
       "       [3, 4, 5],\n",
       "       [6, 7, 8]])"
      ]
     },
     "execution_count": 181,
     "metadata": {},
     "output_type": "execute_result"
    }
   ],
   "source": [
    "c"
   ]
  },
  {
   "cell_type": "code",
   "execution_count": 182,
   "id": "a396081e",
   "metadata": {},
   "outputs": [
    {
     "data": {
      "text/plain": [
       "array([[0, 1, 2, 0, 1, 2, 0, 1, 2],\n",
       "       [3, 4, 5, 3, 4, 5, 3, 4, 5],\n",
       "       [6, 7, 8, 6, 7, 8, 6, 7, 8]])"
      ]
     },
     "execution_count": 182,
     "metadata": {},
     "output_type": "execute_result"
    }
   ],
   "source": [
    "np.tile(c,3)"
   ]
  },
  {
   "cell_type": "code",
   "execution_count": 183,
   "id": "5ef8fb7b",
   "metadata": {},
   "outputs": [
    {
     "data": {
      "text/plain": [
       "array([0, 0, 0, 1, 1, 1, 2, 2, 2, 3, 3, 3, 4, 4, 4, 5, 5, 5, 6, 6, 6, 7,\n",
       "       7, 7, 8, 8, 8])"
      ]
     },
     "execution_count": 183,
     "metadata": {},
     "output_type": "execute_result"
    }
   ],
   "source": [
    "np.repeat(c,3)"
   ]
  },
  {
   "cell_type": "markdown",
   "id": "35881042",
   "metadata": {},
   "source": [
    "### Operador `**` con arrays"
   ]
  },
  {
   "cell_type": "code",
   "execution_count": 184,
   "id": "baa425b4",
   "metadata": {},
   "outputs": [
    {
     "data": {
      "text/plain": [
       "array([4, 5, 6])"
      ]
     },
     "execution_count": 184,
     "metadata": {},
     "output_type": "execute_result"
    }
   ],
   "source": [
    "arr2"
   ]
  },
  {
   "cell_type": "code",
   "execution_count": 185,
   "id": "734d7266",
   "metadata": {},
   "outputs": [
    {
     "data": {
      "text/plain": [
       "array([16, 25, 36])"
      ]
     },
     "execution_count": 185,
     "metadata": {},
     "output_type": "execute_result"
    }
   ],
   "source": [
    "arr2 ** 2"
   ]
  },
  {
   "cell_type": "markdown",
   "id": "311d4088",
   "metadata": {},
   "source": [
    "### Comparaciones entre arrays"
   ]
  },
  {
   "cell_type": "code",
   "execution_count": 186,
   "id": "37aabc57",
   "metadata": {},
   "outputs": [],
   "source": [
    "arr3 = np.array([10, 20, 30, 40])"
   ]
  },
  {
   "cell_type": "code",
   "execution_count": 187,
   "id": "b87bcf0e",
   "metadata": {},
   "outputs": [
    {
     "data": {
      "text/plain": [
       "array([10, 20, 30, 40])"
      ]
     },
     "execution_count": 187,
     "metadata": {},
     "output_type": "execute_result"
    }
   ],
   "source": [
    "arr3"
   ]
  },
  {
   "cell_type": "code",
   "execution_count": 188,
   "id": "853715f8",
   "metadata": {},
   "outputs": [
    {
     "data": {
      "text/plain": [
       "array([False,  True,  True,  True])"
      ]
     },
     "execution_count": 188,
     "metadata": {},
     "output_type": "execute_result"
    }
   ],
   "source": [
    "arr3 > 10"
   ]
  },
  {
   "cell_type": "markdown",
   "id": "5a879517",
   "metadata": {},
   "source": [
    "### Funciones universales (ufunc)\n",
    "\n",
    "Operan elemento a elemento en todo el array. Ver `help(np.ufunc)` para más detalles"
   ]
  },
  {
   "cell_type": "code",
   "execution_count": 189,
   "id": "13d08b04",
   "metadata": {},
   "outputs": [],
   "source": [
    "x = np.array([0,1,2,3])"
   ]
  },
  {
   "cell_type": "code",
   "execution_count": 190,
   "id": "e9608337",
   "metadata": {},
   "outputs": [
    {
     "data": {
      "text/plain": [
       "array([ 0,  1,  8, 27])"
      ]
     },
     "execution_count": 190,
     "metadata": {},
     "output_type": "execute_result"
    }
   ],
   "source": [
    "x**3"
   ]
  },
  {
   "cell_type": "code",
   "execution_count": 191,
   "id": "22acae6d",
   "metadata": {},
   "outputs": [
    {
     "data": {
      "text/plain": [
       "array([0.        , 1.        , 1.41421356, 1.73205081])"
      ]
     },
     "execution_count": 191,
     "metadata": {},
     "output_type": "execute_result"
    }
   ],
   "source": [
    "np.sqrt(x)"
   ]
  },
  {
   "cell_type": "markdown",
   "id": "76085ef5",
   "metadata": {},
   "source": [
    "### Métodos estadísticos para arrays Numpy"
   ]
  },
  {
   "cell_type": "code",
   "execution_count": 175,
   "id": "5dcca4f3",
   "metadata": {},
   "outputs": [
    {
     "data": {
      "text/plain": [
       "array([ 1,  2,  3,  4,  5,  6,  7,  8,  9, 10])"
      ]
     },
     "execution_count": 175,
     "metadata": {},
     "output_type": "execute_result"
    }
   ],
   "source": [
    "x = np.arange(1,11)\n",
    "x"
   ]
  },
  {
   "cell_type": "code",
   "execution_count": 192,
   "id": "d08926dc",
   "metadata": {},
   "outputs": [
    {
     "data": {
      "text/plain": [
       "6"
      ]
     },
     "execution_count": 192,
     "metadata": {},
     "output_type": "execute_result"
    }
   ],
   "source": [
    "x.sum()"
   ]
  },
  {
   "cell_type": "code",
   "execution_count": 193,
   "id": "a2c38c55",
   "metadata": {},
   "outputs": [
    {
     "data": {
      "text/plain": [
       "1.5"
      ]
     },
     "execution_count": 193,
     "metadata": {},
     "output_type": "execute_result"
    }
   ],
   "source": [
    "x.mean()"
   ]
  },
  {
   "cell_type": "code",
   "execution_count": 194,
   "id": "123257a4",
   "metadata": {},
   "outputs": [
    {
     "data": {
      "text/plain": [
       "5.0"
      ]
     },
     "execution_count": 194,
     "metadata": {},
     "output_type": "execute_result"
    }
   ],
   "source": [
    "dev = (x - x.mean())**2\n",
    "dev.sum()"
   ]
  },
  {
   "cell_type": "code",
   "execution_count": 195,
   "id": "12df2324",
   "metadata": {},
   "outputs": [
    {
     "data": {
      "text/plain": [
       "1.25"
      ]
     },
     "execution_count": 195,
     "metadata": {},
     "output_type": "execute_result"
    }
   ],
   "source": [
    "dev.sum()/dev.size"
   ]
  },
  {
   "cell_type": "code",
   "execution_count": 196,
   "id": "ee79f48b",
   "metadata": {
    "scrolled": true
   },
   "outputs": [
    {
     "data": {
      "text/plain": [
       "1.25"
      ]
     },
     "execution_count": 196,
     "metadata": {},
     "output_type": "execute_result"
    }
   ],
   "source": [
    "x.var()"
   ]
  },
  {
   "cell_type": "markdown",
   "id": "98edb909",
   "metadata": {},
   "source": [
    "La raíz cuadrada de la varianza es la desviación típica:"
   ]
  },
  {
   "cell_type": "code",
   "execution_count": 184,
   "id": "4cf3eff5",
   "metadata": {},
   "outputs": [
    {
     "data": {
      "text/plain": [
       "2.8722813232690143"
      ]
     },
     "execution_count": 184,
     "metadata": {},
     "output_type": "execute_result"
    }
   ],
   "source": [
    "np.sqrt(x.var())"
   ]
  },
  {
   "cell_type": "code",
   "execution_count": 185,
   "id": "63d151b0",
   "metadata": {},
   "outputs": [
    {
     "data": {
      "text/plain": [
       "2.8722813232690143"
      ]
     },
     "execution_count": 185,
     "metadata": {},
     "output_type": "execute_result"
    }
   ],
   "source": [
    "x.std()"
   ]
  },
  {
   "cell_type": "code",
   "execution_count": 186,
   "id": "282fc70e",
   "metadata": {
    "scrolled": true
   },
   "outputs": [
    {
     "data": {
      "text/plain": [
       "array([ 1,  2,  3,  4,  5,  6,  7,  8,  9, 10])"
      ]
     },
     "execution_count": 186,
     "metadata": {},
     "output_type": "execute_result"
    }
   ],
   "source": [
    "x"
   ]
  },
  {
   "cell_type": "markdown",
   "id": "a8635013",
   "metadata": {},
   "source": [
    "Suma acumulada:"
   ]
  },
  {
   "cell_type": "code",
   "execution_count": 187,
   "id": "18b3504c",
   "metadata": {},
   "outputs": [
    {
     "data": {
      "text/plain": [
       "array([ 1,  3,  6, 10, 15, 21, 28, 36, 45, 55])"
      ]
     },
     "execution_count": 187,
     "metadata": {},
     "output_type": "execute_result"
    }
   ],
   "source": [
    "x.cumsum()"
   ]
  },
  {
   "cell_type": "markdown",
   "id": "5e7dc40d",
   "metadata": {},
   "source": [
    "El método `reshape` permite utilizar -1 para que deduzca el valor:"
   ]
  },
  {
   "cell_type": "code",
   "execution_count": 189,
   "id": "6e5b7b3f",
   "metadata": {},
   "outputs": [
    {
     "data": {
      "text/plain": [
       "array([1, 2, 3, 4, 5, 6])"
      ]
     },
     "execution_count": 189,
     "metadata": {},
     "output_type": "execute_result"
    }
   ],
   "source": [
    "x = np.arange(1,7)\n",
    "x"
   ]
  },
  {
   "cell_type": "code",
   "execution_count": 190,
   "id": "346b8fad",
   "metadata": {},
   "outputs": [
    {
     "data": {
      "text/plain": [
       "array([[1, 2, 3],\n",
       "       [4, 5, 6]])"
      ]
     },
     "execution_count": 190,
     "metadata": {},
     "output_type": "execute_result"
    }
   ],
   "source": [
    "x.reshape(2,3)"
   ]
  },
  {
   "cell_type": "code",
   "execution_count": 191,
   "id": "9e6954a7",
   "metadata": {},
   "outputs": [
    {
     "data": {
      "text/plain": [
       "array([[1, 2, 3],\n",
       "       [4, 5, 6]])"
      ]
     },
     "execution_count": 191,
     "metadata": {},
     "output_type": "execute_result"
    }
   ],
   "source": [
    "x.reshape(2,-1)"
   ]
  },
  {
   "cell_type": "code",
   "execution_count": 192,
   "id": "a49cbe4f",
   "metadata": {},
   "outputs": [
    {
     "data": {
      "text/plain": [
       "array([[1, 2],\n",
       "       [3, 4],\n",
       "       [5, 6]])"
      ]
     },
     "execution_count": 192,
     "metadata": {},
     "output_type": "execute_result"
    }
   ],
   "source": [
    "x.reshape(3,-1)"
   ]
  },
  {
   "cell_type": "markdown",
   "id": "30304618",
   "metadata": {},
   "source": [
    "Las funciones estadísticas pueden aplicarse a filas y/o columnas:"
   ]
  },
  {
   "cell_type": "code",
   "execution_count": 194,
   "id": "de55572b",
   "metadata": {},
   "outputs": [
    {
     "data": {
      "text/plain": [
       "array([[1, 2, 3],\n",
       "       [4, 5, 6]])"
      ]
     },
     "execution_count": 194,
     "metadata": {},
     "output_type": "execute_result"
    }
   ],
   "source": [
    "x = x.reshape(2,3)\n",
    "x"
   ]
  },
  {
   "cell_type": "code",
   "execution_count": 197,
   "id": "cabb7d74",
   "metadata": {},
   "outputs": [
    {
     "data": {
      "text/plain": [
       "3.5"
      ]
     },
     "execution_count": 197,
     "metadata": {},
     "output_type": "execute_result"
    }
   ],
   "source": [
    "x.mean()"
   ]
  },
  {
   "cell_type": "code",
   "execution_count": 195,
   "id": "3bae3ada",
   "metadata": {},
   "outputs": [
    {
     "data": {
      "text/plain": [
       "array([2.5, 3.5, 4.5])"
      ]
     },
     "execution_count": 195,
     "metadata": {},
     "output_type": "execute_result"
    }
   ],
   "source": [
    "x.mean(axis=0)"
   ]
  },
  {
   "cell_type": "code",
   "execution_count": 196,
   "id": "515dba6f",
   "metadata": {},
   "outputs": [
    {
     "data": {
      "text/plain": [
       "array([2., 5.])"
      ]
     },
     "execution_count": 196,
     "metadata": {},
     "output_type": "execute_result"
    }
   ],
   "source": [
    "x.mean(axis=1)"
   ]
  },
  {
   "cell_type": "markdown",
   "id": "17d5a659",
   "metadata": {},
   "source": [
    "### Random numbers in Numpy"
   ]
  },
  {
   "cell_type": "code",
   "execution_count": 197,
   "id": "79146e6f",
   "metadata": {},
   "outputs": [],
   "source": [
    "np.random.seed(123) # inicializar la semilla"
   ]
  },
  {
   "cell_type": "code",
   "execution_count": 198,
   "id": "2ecf9e00",
   "metadata": {},
   "outputs": [
    {
     "data": {
      "text/plain": [
       "2"
      ]
     },
     "execution_count": 198,
     "metadata": {},
     "output_type": "execute_result"
    }
   ],
   "source": [
    "np.random.randint(10) # genera un valor entero aleatorio entre 0 y 9"
   ]
  },
  {
   "cell_type": "code",
   "execution_count": 199,
   "id": "7e347ac0",
   "metadata": {},
   "outputs": [
    {
     "data": {
      "text/plain": [
       "3"
      ]
     },
     "execution_count": 199,
     "metadata": {},
     "output_type": "execute_result"
    }
   ],
   "source": [
    "np.random.randint(1,11) # genera valor entero aleatorio entre 1 y 10"
   ]
  },
  {
   "cell_type": "code",
   "execution_count": 200,
   "id": "07acbe37",
   "metadata": {},
   "outputs": [
    {
     "name": "stdout",
     "output_type": "stream",
     "text": [
      "7\n",
      "2\n",
      "4\n",
      "10\n"
     ]
    }
   ],
   "source": [
    "# este código termina por mostrar un 10:\n",
    "\n",
    "while True:\n",
    "    num = np.random.randint(1,11)\n",
    "    print(num)\n",
    "    if num == 10:\n",
    "        break"
   ]
  },
  {
   "cell_type": "markdown",
   "id": "ece2b720",
   "metadata": {},
   "source": [
    "¿qué pasaría en el ejemplo anterior si cambiamos `num == 10` por `num == 11`?"
   ]
  },
  {
   "cell_type": "code",
   "execution_count": 203,
   "id": "b3e4c411",
   "metadata": {},
   "outputs": [
    {
     "data": {
      "text/plain": [
       "array([[ 7,  2,  1,  2],\n",
       "       [10,  1,  1, 10],\n",
       "       [ 4,  5,  1,  1]])"
      ]
     },
     "execution_count": 203,
     "metadata": {},
     "output_type": "execute_result"
    }
   ],
   "source": [
    "np.random.randint(1,11, size=(3,4))"
   ]
  },
  {
   "cell_type": "code",
   "execution_count": 210,
   "id": "24618d41",
   "metadata": {},
   "outputs": [],
   "source": [
    "a = np.random.randint(1,11, size=1000)"
   ]
  },
  {
   "cell_type": "code",
   "execution_count": 209,
   "id": "45d492ad",
   "metadata": {},
   "outputs": [
    {
     "data": {
      "text/plain": [
       "1000"
      ]
     },
     "execution_count": 209,
     "metadata": {},
     "output_type": "execute_result"
    }
   ],
   "source": [
    "a.size"
   ]
  },
  {
   "cell_type": "code",
   "execution_count": 208,
   "id": "ae9262f4",
   "metadata": {},
   "outputs": [
    {
     "data": {
      "text/plain": [
       "(1000,)"
      ]
     },
     "execution_count": 208,
     "metadata": {},
     "output_type": "execute_result"
    }
   ],
   "source": [
    "a.shape"
   ]
  },
  {
   "cell_type": "code",
   "execution_count": 211,
   "id": "7e311164",
   "metadata": {},
   "outputs": [
    {
     "data": {
      "text/plain": [
       "array([ 1,  2,  3,  4,  5,  6,  7,  8,  9, 10])"
      ]
     },
     "execution_count": 211,
     "metadata": {},
     "output_type": "execute_result"
    }
   ],
   "source": [
    "np.unique(a)"
   ]
  },
  {
   "cell_type": "code",
   "execution_count": 207,
   "id": "05511155",
   "metadata": {},
   "outputs": [
    {
     "data": {
      "text/plain": [
       "5.0"
      ]
     },
     "execution_count": 207,
     "metadata": {},
     "output_type": "execute_result"
    }
   ],
   "source": [
    "np.median(a)"
   ]
  },
  {
   "cell_type": "code",
   "execution_count": 212,
   "id": "04aaca43",
   "metadata": {},
   "outputs": [
    {
     "data": {
      "text/plain": [
       "5495"
      ]
     },
     "execution_count": 212,
     "metadata": {},
     "output_type": "execute_result"
    }
   ],
   "source": [
    "np.sum(a)"
   ]
  },
  {
   "cell_type": "code",
   "execution_count": 213,
   "id": "2da137fb",
   "metadata": {},
   "outputs": [
    {
     "data": {
      "text/plain": [
       "8.06"
      ]
     },
     "execution_count": 213,
     "metadata": {},
     "output_type": "execute_result"
    }
   ],
   "source": [
    "np.round(np.var(a), 2)"
   ]
  },
  {
   "cell_type": "code",
   "execution_count": 211,
   "id": "618f4a24",
   "metadata": {},
   "outputs": [
    {
     "data": {
      "text/plain": [
       "5.51"
      ]
     },
     "execution_count": 211,
     "metadata": {},
     "output_type": "execute_result"
    }
   ],
   "source": [
    "np.round(np.mean(a), 2)"
   ]
  },
  {
   "cell_type": "code",
   "execution_count": 212,
   "id": "35157149",
   "metadata": {},
   "outputs": [
    {
     "data": {
      "text/plain": [
       "2.84"
      ]
     },
     "execution_count": 212,
     "metadata": {},
     "output_type": "execute_result"
    }
   ],
   "source": [
    "np.round(np.std(a), 2)"
   ]
  },
  {
   "cell_type": "code",
   "execution_count": 213,
   "id": "fc852091",
   "metadata": {},
   "outputs": [
    {
     "data": {
      "text/plain": [
       "10"
      ]
     },
     "execution_count": 213,
     "metadata": {},
     "output_type": "execute_result"
    }
   ],
   "source": [
    "np.max(a)"
   ]
  },
  {
   "cell_type": "code",
   "execution_count": 214,
   "id": "effb3408",
   "metadata": {},
   "outputs": [
    {
     "data": {
      "text/plain": [
       "1"
      ]
     },
     "execution_count": 214,
     "metadata": {},
     "output_type": "execute_result"
    }
   ],
   "source": [
    "np.min(a)"
   ]
  },
  {
   "cell_type": "code",
   "execution_count": 215,
   "id": "15f79f36",
   "metadata": {},
   "outputs": [
    {
     "data": {
      "text/plain": [
       "{1, 2, 3, 4, 5, 6, 7, 8, 9, 10}"
      ]
     },
     "execution_count": 215,
     "metadata": {},
     "output_type": "execute_result"
    }
   ],
   "source": [
    "set(a)"
   ]
  },
  {
   "cell_type": "code",
   "execution_count": 216,
   "id": "9c683ca1",
   "metadata": {},
   "outputs": [
    {
     "data": {
      "text/plain": [
       "array([ 2, -3,  4,  5,  7,  0,  1, -1])"
      ]
     },
     "execution_count": 216,
     "metadata": {},
     "output_type": "execute_result"
    }
   ],
   "source": [
    "a = np.array([2, -3, 4, 5, 7, 0, 1, -1])\n",
    "a"
   ]
  },
  {
   "cell_type": "code",
   "execution_count": 217,
   "id": "295864d2",
   "metadata": {},
   "outputs": [
    {
     "data": {
      "text/plain": [
       "4"
      ]
     },
     "execution_count": 217,
     "metadata": {},
     "output_type": "execute_result"
    }
   ],
   "source": [
    "a.argmax() # devuelve índice del valor más alto"
   ]
  },
  {
   "cell_type": "code",
   "execution_count": 218,
   "id": "9adc3266",
   "metadata": {},
   "outputs": [
    {
     "data": {
      "text/plain": [
       "1"
      ]
     },
     "execution_count": 218,
     "metadata": {},
     "output_type": "execute_result"
    }
   ],
   "source": [
    "a.argmin() # devuelve índice del valor más bajo"
   ]
  },
  {
   "cell_type": "code",
   "execution_count": 217,
   "id": "72967497",
   "metadata": {},
   "outputs": [
    {
     "data": {
      "text/plain": [
       "array([ 2, -3,  4,  5,  7,  0,  7, -3])"
      ]
     },
     "execution_count": 217,
     "metadata": {},
     "output_type": "execute_result"
    }
   ],
   "source": [
    "a = np.array([2, -3, 4, 5, 7, 0, 7, -3]) # están repes\n",
    "a"
   ]
  },
  {
   "cell_type": "code",
   "execution_count": 218,
   "id": "c0739e4e",
   "metadata": {},
   "outputs": [
    {
     "data": {
      "text/plain": [
       "4"
      ]
     },
     "execution_count": 218,
     "metadata": {},
     "output_type": "execute_result"
    }
   ],
   "source": [
    "a.argmax()"
   ]
  },
  {
   "cell_type": "code",
   "execution_count": 219,
   "id": "ca529881",
   "metadata": {},
   "outputs": [
    {
     "data": {
      "text/plain": [
       "1"
      ]
     },
     "execution_count": 219,
     "metadata": {},
     "output_type": "execute_result"
    }
   ],
   "source": [
    "a.argmin()"
   ]
  },
  {
   "cell_type": "markdown",
   "id": "f2bf8dfa",
   "metadata": {},
   "source": [
    "### Álgebra lineal"
   ]
  },
  {
   "cell_type": "code",
   "execution_count": 220,
   "id": "3814986c",
   "metadata": {},
   "outputs": [
    {
     "data": {
      "text/plain": [
       "array([[0, 1],\n",
       "       [2, 3]])"
      ]
     },
     "execution_count": 220,
     "metadata": {},
     "output_type": "execute_result"
    }
   ],
   "source": [
    "# creamos una matriz 2x2\n",
    "\n",
    "A = np.array([0, 1, 2, 3]).reshape(2,2)\n",
    "A"
   ]
  },
  {
   "cell_type": "code",
   "execution_count": 221,
   "id": "623d8d40",
   "metadata": {},
   "outputs": [
    {
     "data": {
      "text/plain": [
       "array([[3, 2],\n",
       "       [0, 1]])"
      ]
     },
     "execution_count": 221,
     "metadata": {},
     "output_type": "execute_result"
    }
   ],
   "source": [
    "B = np.array([3, 2, 0, 1]).reshape(2,2)\n",
    "B"
   ]
  },
  {
   "cell_type": "code",
   "execution_count": 223,
   "id": "a56f93af",
   "metadata": {},
   "outputs": [
    {
     "data": {
      "text/plain": [
       "array([[0, 1],\n",
       "       [6, 7]])"
      ]
     },
     "execution_count": 223,
     "metadata": {},
     "output_type": "execute_result"
    }
   ],
   "source": [
    "# producto de matrices, hay 3 formas, una es:\n",
    "\n",
    "A.dot(B)"
   ]
  },
  {
   "cell_type": "code",
   "execution_count": 224,
   "id": "455e0413",
   "metadata": {},
   "outputs": [
    {
     "data": {
      "text/plain": [
       "array([[0, 1],\n",
       "       [6, 7]])"
      ]
     },
     "execution_count": 224,
     "metadata": {},
     "output_type": "execute_result"
    }
   ],
   "source": [
    "np.dot(A,B)"
   ]
  },
  {
   "cell_type": "code",
   "execution_count": 225,
   "id": "8aeb25f0",
   "metadata": {},
   "outputs": [
    {
     "data": {
      "text/plain": [
       "array([[0, 1],\n",
       "       [6, 7]])"
      ]
     },
     "execution_count": 225,
     "metadata": {},
     "output_type": "execute_result"
    }
   ],
   "source": [
    "A @ B"
   ]
  },
  {
   "cell_type": "code",
   "execution_count": 226,
   "id": "90dd3462",
   "metadata": {},
   "outputs": [
    {
     "data": {
      "text/plain": [
       "array([[0, 2],\n",
       "       [1, 3]])"
      ]
     },
     "execution_count": 226,
     "metadata": {},
     "output_type": "execute_result"
    }
   ],
   "source": [
    "# transponer una matriz\n",
    "np.transpose(A)"
   ]
  },
  {
   "cell_type": "code",
   "execution_count": 227,
   "id": "839850a0",
   "metadata": {},
   "outputs": [
    {
     "data": {
      "text/plain": [
       "array([[0, 2],\n",
       "       [1, 3]])"
      ]
     },
     "execution_count": 227,
     "metadata": {},
     "output_type": "execute_result"
    }
   ],
   "source": [
    "A.transpose()"
   ]
  },
  {
   "cell_type": "code",
   "execution_count": 228,
   "id": "e3f61164",
   "metadata": {},
   "outputs": [
    {
     "data": {
      "text/plain": [
       "array([[0, 2],\n",
       "       [1, 3]])"
      ]
     },
     "execution_count": 228,
     "metadata": {},
     "output_type": "execute_result"
    }
   ],
   "source": [
    "A.T # otra forma de transponer:"
   ]
  },
  {
   "cell_type": "code",
   "execution_count": 235,
   "id": "25eeaaba",
   "metadata": {},
   "outputs": [
    {
     "data": {
      "text/plain": [
       "False"
      ]
     },
     "execution_count": 235,
     "metadata": {},
     "output_type": "execute_result"
    }
   ],
   "source": [
    "# Atención\n",
    "\n",
    "Atransposed1 = A.T\n",
    "Atransposed2 = A.T\n",
    "Atransposed1 is Atransposed2"
   ]
  },
  {
   "cell_type": "code",
   "execution_count": 236,
   "id": "945ae7a9",
   "metadata": {},
   "outputs": [
    {
     "data": {
      "text/plain": [
       "array([[-1.5,  0.5],\n",
       "       [ 1. ,  0. ]])"
      ]
     },
     "execution_count": 236,
     "metadata": {},
     "output_type": "execute_result"
    }
   ],
   "source": [
    "# inversa\n",
    "\n",
    "np.linalg.inv(A)"
   ]
  },
  {
   "cell_type": "code",
   "execution_count": 237,
   "id": "580a6fe6",
   "metadata": {},
   "outputs": [
    {
     "data": {
      "text/plain": [
       "-2.0"
      ]
     },
     "execution_count": 237,
     "metadata": {},
     "output_type": "execute_result"
    }
   ],
   "source": [
    "# determinante\n",
    "\n",
    "np.linalg.det(A)"
   ]
  },
  {
   "cell_type": "markdown",
   "id": "4868fea7",
   "metadata": {},
   "source": [
    "# Unit 1.4 indexing and slicing"
   ]
  },
  {
   "cell_type": "code",
   "execution_count": 238,
   "id": "6c98d4f5",
   "metadata": {},
   "outputs": [
    {
     "data": {
      "text/plain": [
       "0"
      ]
     },
     "execution_count": 238,
     "metadata": {},
     "output_type": "execute_result"
    }
   ],
   "source": [
    "# Indexar un vector unidimensional es como indexar una lista python\n",
    "\n",
    "a = np.array([0,1,2,3])\n",
    "a[0]"
   ]
  },
  {
   "cell_type": "code",
   "execution_count": 239,
   "id": "875e7475",
   "metadata": {},
   "outputs": [
    {
     "data": {
      "text/plain": [
       "array([[ 0,  1,  2,  3],\n",
       "       [ 4,  5,  6,  7],\n",
       "       [ 8,  9, 10, 11]])"
      ]
     },
     "execution_count": 239,
     "metadata": {},
     "output_type": "execute_result"
    }
   ],
   "source": [
    "b = np.array([[0,1,2,3],\n",
    "              [4,5,6,7],\n",
    "              [8,9,10,11]])\n",
    "b"
   ]
  },
  {
   "cell_type": "code",
   "execution_count": 240,
   "id": "3d284c16",
   "metadata": {},
   "outputs": [
    {
     "data": {
      "text/plain": [
       "array([0, 1, 2, 3])"
      ]
     },
     "execution_count": 240,
     "metadata": {},
     "output_type": "execute_result"
    }
   ],
   "source": [
    "b[0]"
   ]
  },
  {
   "cell_type": "code",
   "execution_count": 241,
   "id": "03e45f27",
   "metadata": {},
   "outputs": [
    {
     "data": {
      "text/plain": [
       "1"
      ]
     },
     "execution_count": 241,
     "metadata": {},
     "output_type": "execute_result"
    }
   ],
   "source": [
    "b[0][1]"
   ]
  },
  {
   "cell_type": "code",
   "execution_count": 242,
   "id": "2305e756",
   "metadata": {},
   "outputs": [
    {
     "data": {
      "text/plain": [
       "1"
      ]
     },
     "execution_count": 242,
     "metadata": {},
     "output_type": "execute_result"
    }
   ],
   "source": [
    "# a diferencia de las listas, podemos separar las dimensiones con comas\n",
    "# es decir, pasarle una tupla como índice:\n",
    "b[0,1]"
   ]
  },
  {
   "cell_type": "code",
   "execution_count": 243,
   "id": "a27c49df",
   "metadata": {},
   "outputs": [
    {
     "data": {
      "text/plain": [
       "tuple"
      ]
     },
     "execution_count": 243,
     "metadata": {},
     "output_type": "execute_result"
    }
   ],
   "source": [
    "t = (0,1)\n",
    "type(t)"
   ]
  },
  {
   "cell_type": "code",
   "execution_count": 244,
   "id": "a0a81a60",
   "metadata": {},
   "outputs": [
    {
     "data": {
      "text/plain": [
       "1"
      ]
     },
     "execution_count": 244,
     "metadata": {},
     "output_type": "execute_result"
    }
   ],
   "source": [
    "b[t]"
   ]
  },
  {
   "cell_type": "code",
   "execution_count": 239,
   "id": "f777852c",
   "metadata": {},
   "outputs": [
    {
     "data": {
      "text/plain": [
       "array([ 0, 10, 20, 30, 40, 50])"
      ]
     },
     "execution_count": 239,
     "metadata": {},
     "output_type": "execute_result"
    }
   ],
   "source": [
    "# obviamente podemos modificar valores:\n",
    "a1 = np.array([0, 10, 20, 30, 40, 50])\n",
    "a1"
   ]
  },
  {
   "cell_type": "code",
   "execution_count": 240,
   "id": "53730d0b",
   "metadata": {},
   "outputs": [
    {
     "data": {
      "text/plain": [
       "50"
      ]
     },
     "execution_count": 240,
     "metadata": {},
     "output_type": "execute_result"
    }
   ],
   "source": [
    "a1[5]"
   ]
  },
  {
   "cell_type": "code",
   "execution_count": 241,
   "id": "2c40e48b",
   "metadata": {},
   "outputs": [],
   "source": [
    "a1[5] = 70"
   ]
  },
  {
   "cell_type": "code",
   "execution_count": 242,
   "id": "c8530d0e",
   "metadata": {},
   "outputs": [
    {
     "data": {
      "text/plain": [
       "array([ 0, 10, 20, 30, 40, 70])"
      ]
     },
     "execution_count": 242,
     "metadata": {},
     "output_type": "execute_result"
    }
   ],
   "source": [
    "a1"
   ]
  },
  {
   "cell_type": "code",
   "execution_count": 243,
   "id": "ee8ac8b6",
   "metadata": {},
   "outputs": [
    {
     "data": {
      "text/plain": [
       "array([10, 30, 40])"
      ]
     },
     "execution_count": 243,
     "metadata": {},
     "output_type": "execute_result"
    }
   ],
   "source": [
    "# podemos acceder a múltiples elementos pasando una lista:\n",
    "a1[[1,3,4]]"
   ]
  },
  {
   "cell_type": "code",
   "execution_count": 245,
   "id": "6335bd73",
   "metadata": {},
   "outputs": [
    {
     "data": {
      "text/plain": [
       "array([10, 30, 40])"
      ]
     },
     "execution_count": 245,
     "metadata": {},
     "output_type": "execute_result"
    }
   ],
   "source": [
    "posiciones = [1,3,4]\n",
    "a1[posiciones]"
   ]
  },
  {
   "cell_type": "code",
   "execution_count": 246,
   "id": "4b795a26",
   "metadata": {},
   "outputs": [
    {
     "data": {
      "text/plain": [
       "array([[10, 20, 30],\n",
       "       [40, 50, 60],\n",
       "       [70, 80, 90]])"
      ]
     },
     "execution_count": 246,
     "metadata": {},
     "output_type": "execute_result"
    }
   ],
   "source": [
    "# acceder a un array bidimensional (matriz)\n",
    "a2 = np.arange(10, 100, 10).reshape(3,3)\n",
    "a2"
   ]
  },
  {
   "cell_type": "code",
   "execution_count": 247,
   "id": "7b0b7828",
   "metadata": {},
   "outputs": [
    {
     "data": {
      "text/plain": [
       "30"
      ]
     },
     "execution_count": 247,
     "metadata": {},
     "output_type": "execute_result"
    }
   ],
   "source": [
    "a2[0,2]"
   ]
  },
  {
   "cell_type": "code",
   "execution_count": 248,
   "id": "3bf7f9d4",
   "metadata": {},
   "outputs": [
    {
     "data": {
      "text/plain": [
       "array([[10, 20, 30],\n",
       "       [40, 50, 60],\n",
       "       [70, 80, 95]])"
      ]
     },
     "execution_count": 248,
     "metadata": {},
     "output_type": "execute_result"
    }
   ],
   "source": [
    "a2[2,2] = 95\n",
    "a2"
   ]
  },
  {
   "cell_type": "code",
   "execution_count": 249,
   "id": "e9ccecc4",
   "metadata": {},
   "outputs": [
    {
     "data": {
      "text/plain": [
       "array([40, 50, 60])"
      ]
     },
     "execution_count": 249,
     "metadata": {},
     "output_type": "execute_result"
    }
   ],
   "source": [
    "a2[1]"
   ]
  },
  {
   "cell_type": "code",
   "execution_count": 251,
   "id": "0148eb87",
   "metadata": {},
   "outputs": [
    {
     "data": {
      "text/plain": [
       "array([[10, 20, 30],\n",
       "       [40, 50, 60],\n",
       "       [45, 55, 65]])"
      ]
     },
     "execution_count": 251,
     "metadata": {},
     "output_type": "execute_result"
    }
   ],
   "source": [
    "a2[2] = np.array([45, 55, 65])\n",
    "a2"
   ]
  },
  {
   "cell_type": "code",
   "execution_count": 253,
   "id": "365f6b60",
   "metadata": {},
   "outputs": [
    {
     "data": {
      "text/plain": [
       "array([10, 55])"
      ]
     },
     "execution_count": 253,
     "metadata": {},
     "output_type": "execute_result"
    }
   ],
   "source": [
    "# indexar múltiples elementos en una matriz\n",
    "# array[ [lista de filas], [lista de columnas]]\n",
    "a2[[0,2], [0,1]] # posiciones (0,0) y (2,1)"
   ]
  },
  {
   "cell_type": "code",
   "execution_count": 254,
   "id": "827a4550",
   "metadata": {},
   "outputs": [
    {
     "data": {
      "text/plain": [
       "array([False, False, False,  True,  True,  True])"
      ]
     },
     "execution_count": 254,
     "metadata": {},
     "output_type": "execute_result"
    }
   ],
   "source": [
    "# seleccionar elementos especificando una condición\n",
    "# realmente son 2 pasos, primero genera vector de booleanos\n",
    "a = np.array([1,2,3,4,5,6])\n",
    "a>3"
   ]
  },
  {
   "cell_type": "code",
   "execution_count": 255,
   "id": "3b49c3d1",
   "metadata": {},
   "outputs": [
    {
     "data": {
      "text/plain": [
       "array([4, 5, 6])"
      ]
     },
     "execution_count": 255,
     "metadata": {},
     "output_type": "execute_result"
    }
   ],
   "source": [
    "a[a>3]"
   ]
  },
  {
   "cell_type": "code",
   "execution_count": 256,
   "id": "c7c5db05",
   "metadata": {},
   "outputs": [
    {
     "data": {
      "text/plain": [
       "array([2, 4, 6])"
      ]
     },
     "execution_count": 256,
     "metadata": {},
     "output_type": "execute_result"
    }
   ],
   "source": [
    "# otro ejemplo:\n",
    "a[a % 2 == 0]"
   ]
  },
  {
   "cell_type": "markdown",
   "id": "4f59d267",
   "metadata": {},
   "source": [
    "### Array slicing"
   ]
  },
  {
   "cell_type": "code",
   "execution_count": 257,
   "id": "946ce95d",
   "metadata": {},
   "outputs": [
    {
     "data": {
      "text/plain": [
       "array([ 0, 10, 20, 30, 40, 50])"
      ]
     },
     "execution_count": 257,
     "metadata": {},
     "output_type": "execute_result"
    }
   ],
   "source": [
    "b1 = np.array([0, 10, 20, 30, 40, 50])\n",
    "b1"
   ]
  },
  {
   "cell_type": "code",
   "execution_count": 258,
   "id": "379a1e67",
   "metadata": {},
   "outputs": [
    {
     "data": {
      "text/plain": [
       "array([10, 20, 30])"
      ]
     },
     "execution_count": 258,
     "metadata": {},
     "output_type": "execute_result"
    }
   ],
   "source": [
    "b1[1:4]"
   ]
  },
  {
   "cell_type": "code",
   "execution_count": 259,
   "id": "88f989f4",
   "metadata": {},
   "outputs": [
    {
     "data": {
      "text/plain": [
       "array([ 0, 10, 20])"
      ]
     },
     "execution_count": 259,
     "metadata": {},
     "output_type": "execute_result"
    }
   ],
   "source": [
    "b1[:3]"
   ]
  },
  {
   "cell_type": "code",
   "execution_count": 260,
   "id": "ffd165d1",
   "metadata": {},
   "outputs": [
    {
     "data": {
      "text/plain": [
       "array([20, 30, 40, 50])"
      ]
     },
     "execution_count": 260,
     "metadata": {},
     "output_type": "execute_result"
    }
   ],
   "source": [
    "b1[2:]"
   ]
  },
  {
   "cell_type": "code",
   "execution_count": 261,
   "id": "0ae72b5e",
   "metadata": {},
   "outputs": [
    {
     "data": {
      "text/plain": [
       "array([[1, 2, 3],\n",
       "       [4, 5, 6],\n",
       "       [7, 8, 9]])"
      ]
     },
     "execution_count": 261,
     "metadata": {},
     "output_type": "execute_result"
    }
   ],
   "source": [
    "# veamos ahora el caso de un array 2-dimensional:\n",
    "\n",
    "arr2d = np.arange(1,10).reshape(3,3)\n",
    "arr2d"
   ]
  },
  {
   "cell_type": "code",
   "execution_count": 262,
   "id": "f5bc5b79",
   "metadata": {},
   "outputs": [
    {
     "data": {
      "text/plain": [
       "array([[1, 2, 3],\n",
       "       [4, 5, 6]])"
      ]
     },
     "execution_count": 262,
     "metadata": {},
     "output_type": "execute_result"
    }
   ],
   "source": [
    "arr2d[:2]"
   ]
  },
  {
   "cell_type": "code",
   "execution_count": 263,
   "id": "b75449e9",
   "metadata": {},
   "outputs": [
    {
     "data": {
      "text/plain": [
       "array([[2, 3],\n",
       "       [5, 6]])"
      ]
     },
     "execution_count": 263,
     "metadata": {},
     "output_type": "execute_result"
    }
   ],
   "source": [
    "arr2d[:2, 1:]"
   ]
  },
  {
   "cell_type": "code",
   "execution_count": 264,
   "id": "b607a34e",
   "metadata": {},
   "outputs": [
    {
     "data": {
      "text/plain": [
       "array([4, 5])"
      ]
     },
     "execution_count": 264,
     "metadata": {},
     "output_type": "execute_result"
    }
   ],
   "source": [
    "# primeras 2 columnas de la segunda fila:\n",
    "\n",
    "arr2d[1, :2]"
   ]
  },
  {
   "cell_type": "code",
   "execution_count": 265,
   "id": "69f6dca0",
   "metadata": {},
   "outputs": [
    {
     "data": {
      "text/plain": [
       "array([3, 6])"
      ]
     },
     "execution_count": 265,
     "metadata": {},
     "output_type": "execute_result"
    }
   ],
   "source": [
    "# 3a columna de las 2 primeras filas:\n",
    "\n",
    "arr2d[:2, 2]"
   ]
  },
  {
   "cell_type": "code",
   "execution_count": 266,
   "id": "1dbe3f9f",
   "metadata": {},
   "outputs": [
    {
     "data": {
      "text/plain": [
       "array([[1],\n",
       "       [4],\n",
       "       [7]])"
      ]
     },
     "execution_count": 266,
     "metadata": {},
     "output_type": "execute_result"
    }
   ],
   "source": [
    "# poniendo solamente : se accede al eje entero\n",
    "\n",
    "arr2d[:, :1]"
   ]
  },
  {
   "cell_type": "markdown",
   "id": "56d9e6f2",
   "metadata": {},
   "source": [
    "> **Nota:** Recuerda que con *slicing* se comparten datos con el ndarray "
   ]
  },
  {
   "cell_type": "code",
   "execution_count": 426,
   "id": "e06a2f52",
   "metadata": {},
   "outputs": [
    {
     "data": {
      "text/plain": [
       "array([[1],\n",
       "       [4],\n",
       "       [7]])"
      ]
     },
     "execution_count": 426,
     "metadata": {},
     "output_type": "execute_result"
    }
   ],
   "source": [
    "c = arr2d[:, :1]\n",
    "c"
   ]
  },
  {
   "cell_type": "code",
   "execution_count": 427,
   "id": "4c71cb68",
   "metadata": {},
   "outputs": [
    {
     "data": {
      "text/plain": [
       "True"
      ]
     },
     "execution_count": 427,
     "metadata": {},
     "output_type": "execute_result"
    }
   ],
   "source": [
    "np.shares_memory(arr2d, c)"
   ]
  },
  {
   "cell_type": "code",
   "execution_count": 428,
   "id": "a3e02c2d",
   "metadata": {},
   "outputs": [
    {
     "data": {
      "text/plain": [
       "array([[   1],\n",
       "       [1000],\n",
       "       [   7]])"
      ]
     },
     "execution_count": 428,
     "metadata": {},
     "output_type": "execute_result"
    }
   ],
   "source": [
    "c[1] = 1000\n",
    "c"
   ]
  },
  {
   "cell_type": "code",
   "execution_count": 429,
   "id": "742ac86a",
   "metadata": {},
   "outputs": [
    {
     "data": {
      "text/plain": [
       "array([[   1,    2,    3],\n",
       "       [1000,    5,    6],\n",
       "       [   7,    8,    9]])"
      ]
     },
     "execution_count": 429,
     "metadata": {},
     "output_type": "execute_result"
    }
   ],
   "source": [
    "arr2d"
   ]
  },
  {
   "cell_type": "code",
   "execution_count": 270,
   "id": "231ec88d",
   "metadata": {},
   "outputs": [
    {
     "data": {
      "text/plain": [
       "array(['Bob', 'Joe', 'Tom', 'Bob', 'Tom', 'Joe', 'Joe'], dtype='<U3')"
      ]
     },
     "execution_count": 270,
     "metadata": {},
     "output_type": "execute_result"
    }
   ],
   "source": [
    "# Seleccionar con variables booleanas\n",
    "\n",
    "names = np.array(['Bob', 'Joe', 'Tom', 'Bob', 'Tom', 'Joe', 'Joe'])\n",
    "names"
   ]
  },
  {
   "cell_type": "code",
   "execution_count": 271,
   "id": "f31ab8bf",
   "metadata": {},
   "outputs": [
    {
     "data": {
      "text/plain": [
       "array([ True, False, False,  True, False, False, False])"
      ]
     },
     "execution_count": 271,
     "metadata": {},
     "output_type": "execute_result"
    }
   ],
   "source": [
    "names == 'Bob'"
   ]
  },
  {
   "cell_type": "code",
   "execution_count": 272,
   "id": "f5c3e387",
   "metadata": {},
   "outputs": [
    {
     "data": {
      "text/plain": [
       "array(['Bob', 'Bob'], dtype='<U3')"
      ]
     },
     "execution_count": 272,
     "metadata": {},
     "output_type": "execute_result"
    }
   ],
   "source": [
    "names[names == 'Bob']"
   ]
  },
  {
   "cell_type": "code",
   "execution_count": 274,
   "id": "9272448d",
   "metadata": {},
   "outputs": [
    {
     "data": {
      "text/plain": [
       "array(['Hi', 'Hello', 'Hello', 'Hi'], dtype='<U5')"
      ]
     },
     "execution_count": 274,
     "metadata": {},
     "output_type": "execute_result"
    }
   ],
   "source": [
    "prueba = np.array(['Hi','Hello','Hello','Hi'])\n",
    "prueba"
   ]
  },
  {
   "cell_type": "code",
   "execution_count": 275,
   "id": "c7431ed6",
   "metadata": {},
   "outputs": [
    {
     "data": {
      "text/plain": [
       "array(['Hi', 'Hi'], dtype='<U5')"
      ]
     },
     "execution_count": 275,
     "metadata": {},
     "output_type": "execute_result"
    }
   ],
   "source": [
    "prueba[prueba=='Hi']"
   ]
  },
  {
   "cell_type": "markdown",
   "id": "6adafca7",
   "metadata": {},
   "source": [
    "Veamos cómo crear un array de un tamaño/forma determinado sin inicializar los valores:"
   ]
  },
  {
   "cell_type": "code",
   "execution_count": 279,
   "id": "5f777a56",
   "metadata": {},
   "outputs": [
    {
     "data": {
      "text/plain": [
       "array([[4.67459643e-310, 0.00000000e+000, 0.00000000e+000,\n",
       "        0.00000000e+000],\n",
       "       [6.91600868e-310, 5.02034658e+175, 1.62003700e-051,\n",
       "        5.10970098e-038],\n",
       "       [1.32713353e-047, 1.42162367e+161, 3.34584545e-033,\n",
       "        2.89828961e-057],\n",
       "       [2.16385130e+190, 1.94918964e-153, 5.30581644e+180,\n",
       "        4.32453723e-096],\n",
       "       [2.14027814e+161, 4.96212149e+180, 1.04917595e-153,\n",
       "        9.08366793e+223],\n",
       "       [1.62003700e-051, 5.10970098e-038, 1.32713353e-047,\n",
       "        1.42162367e+161],\n",
       "       [1.04917753e-153, 1.94918966e-153, 4.75386444e-038,\n",
       "        9.72100734e-067],\n",
       "       [6.82358464e-038, 2.59027896e-144, 7.79952704e-143,\n",
       "        5.81186265e+294]])"
      ]
     },
     "execution_count": 279,
     "metadata": {},
     "output_type": "execute_result"
    }
   ],
   "source": [
    "arr = np.empty((8,4))\n",
    "arr"
   ]
  },
  {
   "cell_type": "code",
   "execution_count": 281,
   "id": "c60debcd",
   "metadata": {},
   "outputs": [
    {
     "data": {
      "text/plain": [
       "array([[0., 0., 0., 0.],\n",
       "       [1., 1., 1., 1.],\n",
       "       [2., 2., 2., 2.],\n",
       "       [3., 3., 3., 3.],\n",
       "       [4., 4., 4., 4.],\n",
       "       [5., 5., 5., 5.],\n",
       "       [6., 6., 6., 6.],\n",
       "       [7., 7., 7., 7.]])"
      ]
     },
     "execution_count": 281,
     "metadata": {},
     "output_type": "execute_result"
    }
   ],
   "source": [
    "for i in range(8):\n",
    "    arr[i] = i\n",
    "arr"
   ]
  },
  {
   "cell_type": "code",
   "execution_count": 282,
   "id": "e82e30eb",
   "metadata": {},
   "outputs": [
    {
     "data": {
      "text/plain": [
       "array([[4., 4., 4., 4.],\n",
       "       [3., 3., 3., 3.],\n",
       "       [0., 0., 0., 0.],\n",
       "       [3., 3., 3., 3.],\n",
       "       [6., 6., 6., 6.]])"
      ]
     },
     "execution_count": 282,
     "metadata": {},
     "output_type": "execute_result"
    }
   ],
   "source": [
    "# seleccionarmos filas en un orden específico incluso repitiendo:\n",
    "\n",
    "arr[[4,3,0,3,6]]"
   ]
  },
  {
   "cell_type": "code",
   "execution_count": 283,
   "id": "076e2aa0",
   "metadata": {},
   "outputs": [
    {
     "data": {
      "text/plain": [
       "array([[5., 5., 5., 5.],\n",
       "       [3., 3., 3., 3.]])"
      ]
     },
     "execution_count": 283,
     "metadata": {},
     "output_type": "execute_result"
    }
   ],
   "source": [
    "# podemos utilizar índices negativos para seleccionar desde el final:\n",
    "\n",
    "arr[[-3, -5]]"
   ]
  },
  {
   "cell_type": "code",
   "execution_count": 284,
   "id": "0310c0ac",
   "metadata": {},
   "outputs": [
    {
     "data": {
      "text/plain": [
       "array([ 0,  1,  2,  3,  4,  5,  6,  7,  8,  9, 10, 11, 12, 13, 14, 15, 16,\n",
       "       17, 18, 19])"
      ]
     },
     "execution_count": 284,
     "metadata": {},
     "output_type": "execute_result"
    }
   ],
   "source": [
    "# ejemplo: indexar múltiplos de 5\n",
    "\n",
    "arr2 = np.arange(20)\n",
    "arr2"
   ]
  },
  {
   "cell_type": "code",
   "execution_count": 285,
   "id": "68de9fc8",
   "metadata": {},
   "outputs": [
    {
     "data": {
      "text/plain": [
       "array([ True, False, False, False, False,  True, False, False, False,\n",
       "       False,  True, False, False, False, False,  True, False, False,\n",
       "       False, False])"
      ]
     },
     "execution_count": 285,
     "metadata": {},
     "output_type": "execute_result"
    }
   ],
   "source": [
    "arrMask = (arr2 % 5 == 0)\n",
    "arrMask"
   ]
  },
  {
   "cell_type": "code",
   "execution_count": 286,
   "id": "a99acac3",
   "metadata": {},
   "outputs": [
    {
     "data": {
      "text/plain": [
       "array([ 0,  5, 10, 15])"
      ]
     },
     "execution_count": 286,
     "metadata": {},
     "output_type": "execute_result"
    }
   ],
   "source": [
    "arr2[arrMask]"
   ]
  },
  {
   "cell_type": "code",
   "execution_count": 287,
   "id": "2b4ebeea",
   "metadata": {},
   "outputs": [
    {
     "data": {
      "text/plain": [
       "array([ 0,  5, 10, 15])"
      ]
     },
     "execution_count": 287,
     "metadata": {},
     "output_type": "execute_result"
    }
   ],
   "source": [
    "arr2[arr2 % 5 == 0]"
   ]
  },
  {
   "cell_type": "code",
   "execution_count": 289,
   "id": "707f371c",
   "metadata": {},
   "outputs": [
    {
     "data": {
      "text/plain": [
       "array([ 0,  3,  5,  6,  9, 10, 12, 15, 18])"
      ]
     },
     "execution_count": 289,
     "metadata": {},
     "output_type": "execute_result"
    }
   ],
   "source": [
    "# Cómo combinar condiciones:\n",
    "# importante utilizar | en lugar de or y & en lugar de and\n",
    "\n",
    "arr2[(arr2 % 5 == 0) | (arr2 % 3 == 0)]"
   ]
  },
  {
   "cell_type": "markdown",
   "id": "b2d4b183",
   "metadata": {},
   "source": [
    "# Unit 1.5 Array Transposition and Axis Swap"
   ]
  },
  {
   "cell_type": "code",
   "execution_count": 290,
   "id": "6b85b899",
   "metadata": {},
   "outputs": [
    {
     "data": {
      "text/plain": [
       "array([[ 0,  1,  2,  3,  4],\n",
       "       [ 5,  6,  7,  8,  9],\n",
       "       [10, 11, 12, 13, 14]])"
      ]
     },
     "execution_count": 290,
     "metadata": {},
     "output_type": "execute_result"
    }
   ],
   "source": [
    "arr = np.arange(15).reshape(3,5)\n",
    "arr"
   ]
  },
  {
   "cell_type": "code",
   "execution_count": 291,
   "id": "d7acd4b6",
   "metadata": {},
   "outputs": [
    {
     "data": {
      "text/plain": [
       "array([[ 0,  5, 10],\n",
       "       [ 1,  6, 11],\n",
       "       [ 2,  7, 12],\n",
       "       [ 3,  8, 13],\n",
       "       [ 4,  9, 14]])"
      ]
     },
     "execution_count": 291,
     "metadata": {},
     "output_type": "execute_result"
    }
   ],
   "source": [
    "arr.transpose()"
   ]
  },
  {
   "cell_type": "code",
   "execution_count": 292,
   "id": "4ab54292",
   "metadata": {},
   "outputs": [
    {
     "data": {
      "text/plain": [
       "array([[ 0,  1,  2,  3,  4],\n",
       "       [ 5,  6,  7,  8,  9],\n",
       "       [10, 11, 12, 13, 14]])"
      ]
     },
     "execution_count": 292,
     "metadata": {},
     "output_type": "execute_result"
    }
   ],
   "source": [
    "# devuelve un nuevo array, el original no ha cambiado:\n",
    "arr"
   ]
  },
  {
   "cell_type": "code",
   "execution_count": 293,
   "id": "9d158dd3",
   "metadata": {},
   "outputs": [
    {
     "data": {
      "text/plain": [
       "array([[ 0,  5, 10],\n",
       "       [ 1,  6, 11],\n",
       "       [ 2,  7, 12],\n",
       "       [ 3,  8, 13],\n",
       "       [ 4,  9, 14]])"
      ]
     },
     "execution_count": 293,
     "metadata": {},
     "output_type": "execute_result"
    }
   ],
   "source": [
    "arr.T # otra forma"
   ]
  },
  {
   "cell_type": "markdown",
   "id": "fd7cc9b1",
   "metadata": {},
   "source": [
    "Multiplicar dos matrices 2-dimensionales con `*` las multiplica elemento a elemento (no es el producto de matrices):"
   ]
  },
  {
   "cell_type": "code",
   "execution_count": 294,
   "id": "4726c7b8",
   "metadata": {},
   "outputs": [
    {
     "data": {
      "text/plain": [
       "array([[1, 2],\n",
       "       [3, 4]])"
      ]
     },
     "execution_count": 294,
     "metadata": {},
     "output_type": "execute_result"
    }
   ],
   "source": [
    "a = np.array([[1,2],[3,4]])\n",
    "a"
   ]
  },
  {
   "cell_type": "code",
   "execution_count": 295,
   "id": "898ffcfb",
   "metadata": {},
   "outputs": [
    {
     "data": {
      "text/plain": [
       "array([[5, 6],\n",
       "       [7, 8]])"
      ]
     },
     "execution_count": 295,
     "metadata": {},
     "output_type": "execute_result"
    }
   ],
   "source": [
    "b = np.array([[5,6],[7,8]])\n",
    "b"
   ]
  },
  {
   "cell_type": "code",
   "execution_count": 296,
   "id": "fcdb3a99",
   "metadata": {},
   "outputs": [
    {
     "data": {
      "text/plain": [
       "array([[ 5, 12],\n",
       "       [21, 32]])"
      ]
     },
     "execution_count": 296,
     "metadata": {},
     "output_type": "execute_result"
    }
   ],
   "source": [
    "a*b"
   ]
  },
  {
   "cell_type": "markdown",
   "id": "def454cb",
   "metadata": {},
   "source": [
    "El producto de matrices se consigue con `np.dot`"
   ]
  },
  {
   "cell_type": "code",
   "execution_count": 298,
   "id": "a2211943",
   "metadata": {},
   "outputs": [
    {
     "data": {
      "text/plain": [
       "array([[19, 22],\n",
       "       [43, 50]])"
      ]
     },
     "execution_count": 298,
     "metadata": {},
     "output_type": "execute_result"
    }
   ],
   "source": [
    "np.dot(a,b)"
   ]
  },
  {
   "cell_type": "code",
   "execution_count": 299,
   "id": "56eea7d8",
   "metadata": {},
   "outputs": [
    {
     "data": {
      "text/plain": [
       "array([[19, 22],\n",
       "       [43, 50]])"
      ]
     },
     "execution_count": 299,
     "metadata": {},
     "output_type": "execute_result"
    }
   ],
   "source": [
    "a @ b"
   ]
  },
  {
   "cell_type": "markdown",
   "id": "94387790",
   "metadata": {},
   "source": [
    "`np.dot` puede ser utilizado para calcular el producto interno (o escalar)\n",
    "ver el siguiente enlace [enlace wikipedia](https://es.wikipedia.org/wiki/Producto_escalar)"
   ]
  },
  {
   "cell_type": "code",
   "execution_count": 300,
   "id": "3fc23b11",
   "metadata": {},
   "outputs": [
    {
     "data": {
      "text/plain": [
       "array([[26, 30],\n",
       "       [38, 44]])"
      ]
     },
     "execution_count": 300,
     "metadata": {},
     "output_type": "execute_result"
    }
   ],
   "source": [
    "np.dot(a.T, b)"
   ]
  },
  {
   "cell_type": "markdown",
   "id": "8e6df305",
   "metadata": {},
   "source": [
    "veamos otros ejemplos de transposición para que quede claro cómo funciona:"
   ]
  },
  {
   "cell_type": "code",
   "execution_count": 301,
   "id": "abc8b5ff",
   "metadata": {},
   "outputs": [
    {
     "data": {
      "text/plain": [
       "array([[ 0,  1,  2,  3],\n",
       "       [ 4,  5,  6,  7],\n",
       "       [ 8,  9, 10, 11]])"
      ]
     },
     "execution_count": 301,
     "metadata": {},
     "output_type": "execute_result"
    }
   ],
   "source": [
    "arr_1 = np.arange(12).reshape(3,4)\n",
    "arr_1"
   ]
  },
  {
   "cell_type": "code",
   "execution_count": 302,
   "id": "428ad8b4",
   "metadata": {},
   "outputs": [
    {
     "data": {
      "text/plain": [
       "array([[ 0,  1,  2],\n",
       "       [ 3,  4,  5],\n",
       "       [ 6,  7,  8],\n",
       "       [ 9, 10, 11]])"
      ]
     },
     "execution_count": 302,
     "metadata": {},
     "output_type": "execute_result"
    }
   ],
   "source": [
    "arr_1.reshape(4,3)"
   ]
  },
  {
   "cell_type": "code",
   "execution_count": 303,
   "id": "7972c4b7",
   "metadata": {},
   "outputs": [
    {
     "data": {
      "text/plain": [
       "array([[ 0,  1,  2,  3],\n",
       "       [ 4,  5,  6,  7],\n",
       "       [ 8,  9, 10, 11]])"
      ]
     },
     "execution_count": 303,
     "metadata": {},
     "output_type": "execute_result"
    }
   ],
   "source": [
    "arr_1.transpose((0,1))"
   ]
  },
  {
   "cell_type": "code",
   "execution_count": 304,
   "id": "81870e13",
   "metadata": {},
   "outputs": [
    {
     "data": {
      "text/plain": [
       "array([[ 0,  4,  8],\n",
       "       [ 1,  5,  9],\n",
       "       [ 2,  6, 10],\n",
       "       [ 3,  7, 11]])"
      ]
     },
     "execution_count": 304,
     "metadata": {},
     "output_type": "execute_result"
    }
   ],
   "source": [
    "arr_1.transpose((1,0))"
   ]
  },
  {
   "cell_type": "markdown",
   "id": "6fe491c8",
   "metadata": {},
   "source": [
    "probemos con un array de 3 dimensiones:"
   ]
  },
  {
   "cell_type": "code",
   "execution_count": 306,
   "id": "4a6fc03b",
   "metadata": {},
   "outputs": [
    {
     "data": {
      "text/plain": [
       "array([[[ 0,  1,  2,  3],\n",
       "        [ 4,  5,  6,  7]],\n",
       "\n",
       "       [[ 8,  9, 10, 11],\n",
       "        [12, 13, 14, 15]]])"
      ]
     },
     "execution_count": 306,
     "metadata": {},
     "output_type": "execute_result"
    }
   ],
   "source": [
    "arr = np.arange(16).reshape(2,2,4)\n",
    "arr"
   ]
  },
  {
   "cell_type": "code",
   "execution_count": 307,
   "id": "2c474ec9",
   "metadata": {},
   "outputs": [
    {
     "data": {
      "text/plain": [
       "array([[[ 0,  1,  2,  3],\n",
       "        [ 8,  9, 10, 11]],\n",
       "\n",
       "       [[ 4,  5,  6,  7],\n",
       "        [12, 13, 14, 15]]])"
      ]
     },
     "execution_count": 307,
     "metadata": {},
     "output_type": "execute_result"
    }
   ],
   "source": [
    "arr.transpose(1,0,2)"
   ]
  },
  {
   "cell_type": "code",
   "execution_count": 308,
   "id": "ef2e8454",
   "metadata": {},
   "outputs": [
    {
     "data": {
      "text/plain": [
       "array([[[ 0,  1,  2,  3],\n",
       "        [ 4,  5,  6,  7]],\n",
       "\n",
       "       [[ 8,  9, 10, 11],\n",
       "        [12, 13, 14, 15]]])"
      ]
     },
     "execution_count": 308,
     "metadata": {},
     "output_type": "execute_result"
    }
   ],
   "source": [
    "arr.transpose(0,1,2)"
   ]
  },
  {
   "cell_type": "code",
   "execution_count": 309,
   "id": "fef4fef4",
   "metadata": {},
   "outputs": [
    {
     "data": {
      "text/plain": [
       "array([[[ 0,  8],\n",
       "        [ 4, 12]],\n",
       "\n",
       "       [[ 1,  9],\n",
       "        [ 5, 13]],\n",
       "\n",
       "       [[ 2, 10],\n",
       "        [ 6, 14]],\n",
       "\n",
       "       [[ 3, 11],\n",
       "        [ 7, 15]]])"
      ]
     },
     "execution_count": 309,
     "metadata": {},
     "output_type": "execute_result"
    }
   ],
   "source": [
    "arr.transpose(2,1,0)"
   ]
  },
  {
   "cell_type": "code",
   "execution_count": 310,
   "id": "00ae7f88",
   "metadata": {},
   "outputs": [
    {
     "data": {
      "text/plain": [
       "array([[[ 0,  8],\n",
       "        [ 4, 12]],\n",
       "\n",
       "       [[ 1,  9],\n",
       "        [ 5, 13]],\n",
       "\n",
       "       [[ 2, 10],\n",
       "        [ 6, 14]],\n",
       "\n",
       "       [[ 3, 11],\n",
       "        [ 7, 15]]])"
      ]
     },
     "execution_count": 310,
     "metadata": {},
     "output_type": "execute_result"
    }
   ],
   "source": [
    "arr.T"
   ]
  },
  {
   "cell_type": "markdown",
   "id": "298c081c",
   "metadata": {},
   "source": [
    "Existe un método en `ndarray` llamado `swapaxes` que recibe dos índices de ejes:"
   ]
  },
  {
   "cell_type": "code",
   "execution_count": 311,
   "id": "b0ff9cf4",
   "metadata": {},
   "outputs": [
    {
     "data": {
      "text/plain": [
       "array([[[ 0,  1,  2,  3],\n",
       "        [ 4,  5,  6,  7]],\n",
       "\n",
       "       [[ 8,  9, 10, 11],\n",
       "        [12, 13, 14, 15]]])"
      ]
     },
     "execution_count": 311,
     "metadata": {},
     "output_type": "execute_result"
    }
   ],
   "source": [
    "arr"
   ]
  },
  {
   "cell_type": "code",
   "execution_count": 312,
   "id": "5818f8c4",
   "metadata": {},
   "outputs": [
    {
     "data": {
      "text/plain": [
       "array([[[ 0,  4],\n",
       "        [ 1,  5],\n",
       "        [ 2,  6],\n",
       "        [ 3,  7]],\n",
       "\n",
       "       [[ 8, 12],\n",
       "        [ 9, 13],\n",
       "        [10, 14],\n",
       "        [11, 15]]])"
      ]
     },
     "execution_count": 312,
     "metadata": {},
     "output_type": "execute_result"
    }
   ],
   "source": [
    "arr.swapaxes(1,2)"
   ]
  },
  {
   "cell_type": "code",
   "execution_count": 313,
   "id": "2a267bef",
   "metadata": {},
   "outputs": [
    {
     "data": {
      "text/plain": [
       "array([[[ 0,  1,  2,  3],\n",
       "        [ 8,  9, 10, 11]],\n",
       "\n",
       "       [[ 4,  5,  6,  7],\n",
       "        [12, 13, 14, 15]]])"
      ]
     },
     "execution_count": 313,
     "metadata": {},
     "output_type": "execute_result"
    }
   ],
   "source": [
    "arr.swapaxes(0,1)"
   ]
  },
  {
   "cell_type": "code",
   "execution_count": 314,
   "id": "8b6c57c5",
   "metadata": {},
   "outputs": [
    {
     "data": {
      "text/plain": [
       "array([[[ 0,  1,  2,  3],\n",
       "        [ 8,  9, 10, 11]],\n",
       "\n",
       "       [[ 4,  5,  6,  7],\n",
       "        [12, 13, 14, 15]]])"
      ]
     },
     "execution_count": 314,
     "metadata": {},
     "output_type": "execute_result"
    }
   ],
   "source": [
    "arr.swapaxes(1,0)"
   ]
  },
  {
   "cell_type": "code",
   "execution_count": null,
   "id": "4cc0eab6",
   "metadata": {},
   "outputs": [],
   "source": []
  }
 ],
 "metadata": {
  "kernelspec": {
   "display_name": "Python 3 (ipykernel)",
   "language": "python",
   "name": "python3"
  },
  "language_info": {
   "codemirror_mode": {
    "name": "ipython",
    "version": 3
   },
   "file_extension": ".py",
   "mimetype": "text/x-python",
   "name": "python",
   "nbconvert_exporter": "python",
   "pygments_lexer": "ipython3",
   "version": "3.12.0"
  }
 },
 "nbformat": 4,
 "nbformat_minor": 5
}
