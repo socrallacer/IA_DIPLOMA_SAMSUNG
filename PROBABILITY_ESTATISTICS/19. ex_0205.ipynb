{
 "cells": [
  {
   "cell_type": "markdown",
   "metadata": {},
   "source": [
    "## Coding Exercise #0205"
   ]
  },
  {
   "cell_type": "markdown",
   "metadata": {},
   "source": [
    "### 1. Interval Estimation of the Mean:"
   ]
  },
  {
   "cell_type": "code",
   "execution_count": 1,
   "metadata": {},
   "outputs": [],
   "source": [
    "import numpy as np\n",
    "import scipy.stats as st"
   ]
  },
  {
   "cell_type": "code",
   "execution_count": 2,
   "metadata": {},
   "outputs": [],
   "source": [
    "# x contains a sample.\n",
    "# n = sample size.\n",
    "x = np.array([25,24,24,27,29,31,28,24,25,26,25,18,30,28,23,26,27,23,16,20,22,22,25,24, 24,25,25,27,26,30,25,25,26,26,25,24])\n",
    "n = len(x)"
   ]
  },
  {
   "cell_type": "code",
   "execution_count": 3,
   "metadata": {},
   "outputs": [],
   "source": [
    "# SEM = Standard Error of the Mean.\n",
    "# In order to do unbiased estimation of the standard deviation, we set ddof = 1. \n",
    "x_mean = x.mean()\n",
    "SEM = x.std(ddof=1)/np.sqrt(n*1.0)"
   ]
  },
  {
   "cell_type": "markdown",
   "metadata": {},
   "source": [
    "#### 1.1 90% Confidence Interval:"
   ]
  },
  {
   "cell_type": "code",
   "execution_count": 4,
   "metadata": {},
   "outputs": [
    {
     "data": {
      "text/plain": [
       "(24.165832750582954, 25.834167249417046)"
      ]
     },
     "execution_count": 4,
     "metadata": {},
     "output_type": "execute_result"
    }
   ],
   "source": [
    "# Using the approximated quantiles of the Standard Normal.\n",
    "(x_mean - 1.645*SEM, x_mean + 1.645*SEM)"
   ]
  },
  {
   "cell_type": "code",
   "execution_count": 5,
   "metadata": {},
   "outputs": [
    {
     "data": {
      "text/plain": [
       "(24.1659069752658, 25.8340930247342)"
      ]
     },
     "execution_count": 5,
     "metadata": {},
     "output_type": "execute_result"
    }
   ],
   "source": [
    "# Using the exact quantiles of the Standard Normal.\n",
    "(x_mean - st.norm.ppf(0.95,loc=0,scale=1)*SEM, x_mean + st.norm.ppf(0.95,loc=0,scale=1)*SEM)"
   ]
  },
  {
   "cell_type": "code",
   "execution_count": 6,
   "metadata": {},
   "outputs": [
    {
     "data": {
      "text/plain": [
       "(24.1659069752658, 25.8340930247342)"
      ]
     },
     "execution_count": 6,
     "metadata": {},
     "output_type": "execute_result"
    }
   ],
   "source": [
    "# Using the interval() function from the SciPy library (Standard Normal). \n",
    "st.norm.interval(0.9, loc = x_mean, scale = SEM )"
   ]
  },
  {
   "cell_type": "code",
   "execution_count": 7,
   "metadata": {},
   "outputs": [
    {
     "data": {
      "text/plain": [
       "(24.143230389180935, 25.856769610819065)"
      ]
     },
     "execution_count": 7,
     "metadata": {},
     "output_type": "execute_result"
    }
   ],
   "source": [
    "# Using the exact quantiles of the Student-t.\n",
    "(x_mean - st.t.ppf(0.95,df=n-1)*SEM, x_mean + st.t.ppf(0.95,df=n-1)*SEM)"
   ]
  },
  {
   "cell_type": "code",
   "execution_count": 8,
   "metadata": {},
   "outputs": [
    {
     "data": {
      "text/plain": [
       "(24.143230389180935, 25.856769610819065)"
      ]
     },
     "execution_count": 8,
     "metadata": {},
     "output_type": "execute_result"
    }
   ],
   "source": [
    "# Using the interval() function from the SciPy library (Student-t).\n",
    "st.t.interval(0.9, df = n-1, loc = x_mean, scale = SEM )"
   ]
  },
  {
   "cell_type": "markdown",
   "metadata": {},
   "source": [
    "#### 1.2. 95% Confidence Interval:"
   ]
  },
  {
   "cell_type": "code",
   "execution_count": 9,
   "metadata": {},
   "outputs": [
    {
     "data": {
      "text/plain": [
       "(24.006098596439266, 25.993901403560734)"
      ]
     },
     "execution_count": 9,
     "metadata": {},
     "output_type": "execute_result"
    }
   ],
   "source": [
    "# Using the approximated quantiles of the Standard Normal.\n",
    "(x_mean - 1.96*SEM, x_mean + 1.96*SEM)"
   ]
  },
  {
   "cell_type": "code",
   "execution_count": 10,
   "metadata": {},
   "outputs": [
    {
     "data": {
      "text/plain": [
       "(24.006116859610792, 25.993883140389208)"
      ]
     },
     "execution_count": 10,
     "metadata": {},
     "output_type": "execute_result"
    }
   ],
   "source": [
    "# Using the exact quantiles of the Standard Normal.\n",
    "(x_mean - st.norm.ppf(0.975,loc=0,scale=1)*SEM, x_mean + st.norm.ppf(0.975,loc=0,scale=1)*SEM)"
   ]
  },
  {
   "cell_type": "code",
   "execution_count": 11,
   "metadata": {},
   "outputs": [
    {
     "data": {
      "text/plain": [
       "(24.006116859610792, 25.993883140389208)"
      ]
     },
     "execution_count": 11,
     "metadata": {},
     "output_type": "execute_result"
    }
   ],
   "source": [
    "# Using the interval() function from the SciPy library (Standard Normal). \n",
    "st.norm.interval(0.95, loc = x_mean, scale = SEM )"
   ]
  },
  {
   "cell_type": "code",
   "execution_count": 12,
   "metadata": {},
   "outputs": [
    {
     "data": {
      "text/plain": [
       "(23.97054738812868, 26.02945261187132)"
      ]
     },
     "execution_count": 12,
     "metadata": {},
     "output_type": "execute_result"
    }
   ],
   "source": [
    "# Using the exact quantiles of the Student-t.\n",
    "(x_mean - st.t.ppf(0.975,df=n-1)*SEM, x_mean + st.t.ppf(0.975,df=n-1)*SEM)"
   ]
  },
  {
   "cell_type": "code",
   "execution_count": 13,
   "metadata": {},
   "outputs": [
    {
     "data": {
      "text/plain": [
       "(23.97054738812868, 26.02945261187132)"
      ]
     },
     "execution_count": 13,
     "metadata": {},
     "output_type": "execute_result"
    }
   ],
   "source": [
    "# Using the interval() function from the SciPy library (Student-t).\n",
    "st.t.interval(0.95, df = n-1, loc = x_mean, scale = SEM )"
   ]
  },
  {
   "cell_type": "markdown",
   "metadata": {},
   "source": [
    "#### 1.3. 99% Confidence Interval:"
   ]
  },
  {
   "cell_type": "code",
   "execution_count": 14,
   "metadata": {},
   "outputs": [
    {
     "data": {
      "text/plain": [
       "(23.693729583891603, 26.306270416108397)"
      ]
     },
     "execution_count": 14,
     "metadata": {},
     "output_type": "execute_result"
    }
   ],
   "source": [
    "# Using the approximated quantiles of the Standard Normal.\n",
    "(x_mean - 2.576*SEM, x_mean + 2.576*SEM)"
   ]
  },
  {
   "cell_type": "code",
   "execution_count": 15,
   "metadata": {},
   "outputs": [
    {
     "data": {
      "text/plain": [
       "(23.69381614279075, 26.30618385720925)"
      ]
     },
     "execution_count": 15,
     "metadata": {},
     "output_type": "execute_result"
    }
   ],
   "source": [
    "# Using the exact quantiles of the Standard Normal.\n",
    "(x_mean - st.norm.ppf(0.995,loc=0,scale=1)*SEM, x_mean + st.norm.ppf(0.995,loc=0,scale=1)*SEM)"
   ]
  },
  {
   "cell_type": "code",
   "execution_count": 16,
   "metadata": {},
   "outputs": [
    {
     "data": {
      "text/plain": [
       "(23.69381614279075, 26.30618385720925)"
      ]
     },
     "execution_count": 16,
     "metadata": {},
     "output_type": "execute_result"
    }
   ],
   "source": [
    "# Using the interval() function from the SciPy library (Standard Normal). \n",
    "st.norm.interval(0.99, loc = x_mean, scale = SEM )"
   ]
  },
  {
   "cell_type": "code",
   "execution_count": 17,
   "metadata": {},
   "outputs": [
    {
     "data": {
      "text/plain": [
       "(23.618778470336505, 26.381221529663495)"
      ]
     },
     "execution_count": 17,
     "metadata": {},
     "output_type": "execute_result"
    }
   ],
   "source": [
    "# Using the exact quantiles of the Student-t.\n",
    "(x_mean - st.t.ppf(0.995,df=n-1)*SEM, x_mean + st.t.ppf(0.995,df=n-1)*SEM)"
   ]
  },
  {
   "cell_type": "code",
   "execution_count": 18,
   "metadata": {},
   "outputs": [
    {
     "data": {
      "text/plain": [
       "(23.618778470336505, 26.381221529663495)"
      ]
     },
     "execution_count": 18,
     "metadata": {},
     "output_type": "execute_result"
    }
   ],
   "source": [
    "# Using the interval() function from the SciPy library (Student-t).\n",
    "st.t.interval(0.99, df = n-1, loc = x_mean, scale = SEM )"
   ]
  },
  {
   "cell_type": "code",
   "execution_count": null,
   "metadata": {},
   "outputs": [],
   "source": []
  },
  {
   "cell_type": "code",
   "execution_count": null,
   "metadata": {},
   "outputs": [],
   "source": []
  },
  {
   "cell_type": "code",
   "execution_count": null,
   "metadata": {},
   "outputs": [],
   "source": [
    "\n"
   ]
  }
 ],
 "metadata": {
  "kernelspec": {
   "display_name": "Python 3 (ipykernel)",
   "language": "python",
   "name": "python3"
  },
  "language_info": {
   "codemirror_mode": {
    "name": "ipython",
    "version": 3
   },
   "file_extension": ".py",
   "mimetype": "text/x-python",
   "name": "python",
   "nbconvert_exporter": "python",
   "pygments_lexer": "ipython3",
   "version": "3.12.0"
  }
 },
 "nbformat": 4,
 "nbformat_minor": 2
}
