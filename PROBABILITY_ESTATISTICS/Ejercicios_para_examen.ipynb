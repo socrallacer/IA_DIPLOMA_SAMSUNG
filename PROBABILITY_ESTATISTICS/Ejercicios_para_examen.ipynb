{
 "cells": [
  {
   "cell_type": "markdown",
   "metadata": {},
   "source": [
    "## Preparación examen probabilidad y estadística"
   ]
  },
  {
   "cell_type": "code",
   "execution_count": 59,
   "metadata": {},
   "outputs": [],
   "source": [
    "import scipy.stats as st\n",
    "import matplotlib.pyplot as plt\n",
    "import numpy as np\n",
    "from math import sqrt\n",
    "from math import comb\n",
    "%matplotlib inline"
   ]
  },
  {
   "cell_type": "markdown",
   "metadata": {},
   "source": [
    "### Ejercicio 1 (Binomial)"
   ]
  },
  {
   "cell_type": "code",
   "execution_count": 11,
   "metadata": {},
   "outputs": [
    {
     "data": {
      "text/plain": [
       "0.31249999999999983"
      ]
     },
     "execution_count": 11,
     "metadata": {},
     "output_type": "execute_result"
    }
   ],
   "source": [
    "# Binomial distribution\n",
    "# 5 coin flips, 0.5 probability of heads\n",
    "# What is the probability of getting 2 heads?\n",
    "n = 5\n",
    "p = 0.5\n",
    "st.binom.pmf(2, n, p)"
   ]
  },
  {
   "cell_type": "code",
   "execution_count": 12,
   "metadata": {},
   "outputs": [
    {
     "data": {
      "text/plain": [
       "2.5"
      ]
     },
     "execution_count": 12,
     "metadata": {},
     "output_type": "execute_result"
    }
   ],
   "source": [
    "# How many heads do we expect to get?\n",
    "# Expected value = n * p\n",
    "n * p"
   ]
  },
  {
   "cell_type": "code",
   "execution_count": 13,
   "metadata": {},
   "outputs": [
    {
     "data": {
      "text/plain": [
       "1.118033988749895"
      ]
     },
     "execution_count": 13,
     "metadata": {},
     "output_type": "execute_result"
    }
   ],
   "source": [
    "# What is the standard deviation?\n",
    "# Standard deviation = sqrt(n * p * (1 - p))\n",
    "np.sqrt(n * p * (1 - p))"
   ]
  },
  {
   "cell_type": "code",
   "execution_count": 14,
   "metadata": {},
   "outputs": [
    {
     "data": {
      "text/plain": [
       "0.031249999999999976"
      ]
     },
     "execution_count": 14,
     "metadata": {},
     "output_type": "execute_result"
    }
   ],
   "source": [
    "# what is the probability of getting 0 heads?\n",
    "st.binom.pmf(0, n, p)"
   ]
  },
  {
   "cell_type": "markdown",
   "metadata": {},
   "source": [
    "### Ejercicio 2 (Poisson)"
   ]
  },
  {
   "cell_type": "code",
   "execution_count": 16,
   "metadata": {},
   "outputs": [
    {
     "data": {
      "text/plain": [
       "0.051431744990343774"
      ]
     },
     "execution_count": 16,
     "metadata": {},
     "output_type": "execute_result"
    }
   ],
   "source": [
    "# poisson with lambda = 60\n",
    "l = 60\n",
    "# what is the probability of getting 60?\n",
    "st.poisson.pmf(60, l)"
   ]
  },
  {
   "cell_type": "code",
   "execution_count": 17,
   "metadata": {},
   "outputs": [
    {
     "data": {
      "text/plain": [
       "8.75651076269652e-27"
      ]
     },
     "execution_count": 17,
     "metadata": {},
     "output_type": "execute_result"
    }
   ],
   "source": [
    "# what is the probability of getting 0?\n",
    "st.poisson.pmf(0, l)"
   ]
  },
  {
   "cell_type": "code",
   "execution_count": 18,
   "metadata": {},
   "outputs": [
    {
     "data": {
      "text/plain": [
       "60"
      ]
     },
     "execution_count": 18,
     "metadata": {},
     "output_type": "execute_result"
    }
   ],
   "source": [
    "# What is the expected value?\n",
    "l"
   ]
  },
  {
   "cell_type": "code",
   "execution_count": 19,
   "metadata": {},
   "outputs": [
    {
     "data": {
      "text/plain": [
       "7.745966692414834"
      ]
     },
     "execution_count": 19,
     "metadata": {},
     "output_type": "execute_result"
    }
   ],
   "source": [
    "#What is the standard deviation?\n",
    "np.sqrt(l)"
   ]
  },
  {
   "cell_type": "markdown",
   "metadata": {},
   "source": [
    "### Ejercicio 3 (Normal)"
   ]
  },
  {
   "cell_type": "code",
   "execution_count": 47,
   "metadata": {},
   "outputs": [],
   "source": [
    "mu = 9\n",
    "sigma = 2\n",
    "#x is a range of 100 values from mu - 4*sigma to mu + 4*sigma\n",
    "x = np.linspace(mu - 4*sigma, mu + 4*sigma, 100)"
   ]
  },
  {
   "cell_type": "code",
   "execution_count": 48,
   "metadata": {},
   "outputs": [],
   "source": [
    "# Probability of x = 9\n",
    "# Probaility is 0 because it is a continuous distribution"
   ]
  },
  {
   "cell_type": "code",
   "execution_count": 49,
   "metadata": {},
   "outputs": [
    {
     "name": "stdout",
     "output_type": "stream",
     "text": [
      "0.06680720126885809\n"
     ]
    }
   ],
   "source": [
    "# probability of x>12\n",
    "p = 1 - st.norm.cdf(12, mu, sigma)\n",
    "print (p)\n"
   ]
  },
  {
   "cell_type": "code",
   "execution_count": 50,
   "metadata": {},
   "outputs": [],
   "source": [
    "def normalize(x, mu, sigma):\n",
    "    print(mu, sigma)\n",
    "    return (x - mu) / sigma"
   ]
  },
  {
   "cell_type": "code",
   "execution_count": 51,
   "metadata": {},
   "outputs": [
    {
     "name": "stdout",
     "output_type": "stream",
     "text": [
      "9 2\n"
     ]
    },
    {
     "data": {
      "text/plain": [
       "1.5"
      ]
     },
     "execution_count": 51,
     "metadata": {},
     "output_type": "execute_result"
    }
   ],
   "source": [
    "normalize(12, mu, sigma)"
   ]
  },
  {
   "cell_type": "code",
   "execution_count": 52,
   "metadata": {},
   "outputs": [
    {
     "name": "stdout",
     "output_type": "stream",
     "text": [
      "9 2\n"
     ]
    },
    {
     "data": {
      "text/plain": [
       "0.06680720126885809"
      ]
     },
     "execution_count": 52,
     "metadata": {},
     "output_type": "execute_result"
    }
   ],
   "source": [
    "\n",
    "1 - st.norm.cdf(normalize(12, mu, sigma), 0, 1)"
   ]
  },
  {
   "cell_type": "markdown",
   "metadata": {},
   "source": [
    "### Ejercicio 4 (Normal compuesta)"
   ]
  },
  {
   "cell_type": "code",
   "execution_count": 55,
   "metadata": {},
   "outputs": [
    {
     "data": {
      "text/plain": [
       "0.5"
      ]
     },
     "execution_count": 55,
     "metadata": {},
     "output_type": "execute_result"
    }
   ],
   "source": [
    "# We add a new normal distribution with mu = 3 and sigma = 1\n",
    "mu2 = 3\n",
    "sigma2 = 1\n",
    "# What is the probability of x < 12 for the new distribution?\n",
    "st.norm.cdf(12, mu2+mu, sqrt((sigma**2 + sigma2**2)))"
   ]
  },
  {
   "cell_type": "code",
   "execution_count": 57,
   "metadata": {},
   "outputs": [
    {
     "data": {
      "text/plain": [
       "0.08985624743949994"
      ]
     },
     "execution_count": 57,
     "metadata": {},
     "output_type": "execute_result"
    }
   ],
   "source": [
    "# What is the probability of x > 15 for the new distribution?\n",
    "1 - st.norm.cdf(15, mu2+mu, sqrt((sigma**2 + sigma2**2)))"
   ]
  },
  {
   "cell_type": "markdown",
   "metadata": {},
   "source": [
    "### Ejercicio 5 (Uniforme)"
   ]
  },
  {
   "cell_type": "code",
   "execution_count": 2,
   "metadata": {},
   "outputs": [],
   "source": [
    "# The a and b parameters.\n",
    "a = 10\n",
    "b = 15\n",
    "# Base del rectangulo\n",
    "base = b - a"
   ]
  },
  {
   "cell_type": "code",
   "execution_count": 3,
   "metadata": {},
   "outputs": [
    {
     "data": {
      "text/plain": [
       "0.19999999999999996"
      ]
     },
     "execution_count": 3,
     "metadata": {},
     "output_type": "execute_result"
    }
   ],
   "source": [
    "#Probabilidad de que mida entre 12 y 13\n",
    "# P(12 <= x <=13)\n",
    "st.uniform.cdf(13,a,base)-st.uniform.cdf(12,a,base)"
   ]
  },
  {
   "cell_type": "code",
   "execution_count": 5,
   "metadata": {},
   "outputs": [
    {
     "data": {
      "text/plain": [
       "0.19999999999999996"
      ]
     },
     "execution_count": 5,
     "metadata": {},
     "output_type": "execute_result"
    }
   ],
   "source": [
    "# Probabilidad de que mida mas de 14\n",
    "1- st.uniform.cdf(14,a,base)"
   ]
  },
  {
   "cell_type": "code",
   "execution_count": 7,
   "metadata": {},
   "outputs": [
    {
     "data": {
      "text/plain": [
       "0.4"
      ]
     },
     "execution_count": 7,
     "metadata": {},
     "output_type": "execute_result"
    }
   ],
   "source": [
    "# Probabilidad de que mida menos de 12\n",
    "#pdf stands for probability density function\n",
    "st.uniform.cdf(12,a,base)"
   ]
  },
  {
   "cell_type": "code",
   "execution_count": 8,
   "metadata": {},
   "outputs": [
    {
     "data": {
      "text/plain": [
       "12.5"
      ]
     },
     "execution_count": 8,
     "metadata": {},
     "output_type": "execute_result"
    }
   ],
   "source": [
    "#Cual es el valor medio que medira una pieza\n",
    "#E(x) = (a+b)/2\n",
    "(a+b)/2"
   ]
  },
  {
   "cell_type": "markdown",
   "metadata": {},
   "source": [
    "### Ejercicio 6 (Test de hipótesis)"
   ]
  },
  {
   "cell_type": "code",
   "execution_count": null,
   "metadata": {},
   "outputs": [],
   "source": [
    "#El test de hipótesis H0 : Ɵ=Ɵ0  H1: Ɵ<Ɵ0 , ¿es bilateral o unilateral?  \n",
    "#Unilateral\n",
    "#En este test, la hipótesis alternativa especifica que el parámetro de interés 𝜃\n",
    "#es menor que un valor específico 𝜃0, no simplemente diferente. Esto significa que la zona \n",
    "#de rechazo para esta prueba está solamente en un extremo de la distribución de la estadística de prueba."
   ]
  },
  {
   "cell_type": "markdown",
   "metadata": {},
   "source": [
    "### Ejercicio 7 (Regresión Lineal)"
   ]
  },
  {
   "cell_type": "code",
   "execution_count": null,
   "metadata": {},
   "outputs": [],
   "source": [
    "#El parámetro que caracteriza a una recta de regresión E(Y) = β0 + β1 X, ¿es β0 o β1?\n",
    "#β1\n",
    "#El parámetro β1 es el que indica la pendiente de la recta de regresión, es decir,\n",
    "#la variación de la variable dependiente 'Y' por cada unidad de cambio en la variable independiente X."
   ]
  },
  {
   "cell_type": "markdown",
   "metadata": {},
   "source": [
    "### Ejercicio 9 (Probabilidades conjuntas)"
   ]
  },
  {
   "cell_type": "code",
   "execution_count": null,
   "metadata": {},
   "outputs": [],
   "source": [
    "#El temario de una oposición tiene dos bloques (A y B). El bloque A tiene 9 temas y el bloque B 5. \n",
    "#Se extraen al azar 2 temas de los 14 (extracción sin reemplazamiento)"
   ]
  },
  {
   "cell_type": "code",
   "execution_count": 77,
   "metadata": {},
   "outputs": [
    {
     "name": "stdout",
     "output_type": "stream",
     "text": [
      "a=  0.10989010989010989\n",
      "b=  0.3956043956043956\n",
      "c=  0.6923076923076923\n"
     ]
    }
   ],
   "source": [
    "#Calcular la probabilidad de los siguientes sucesos:\n",
    "#a)\tQue los dos temas sean del bloque B\n",
    "a = comb(5,2)/comb(14,2)\n",
    "print(\"a= \",a)\n",
    "#b)\tQue los dos temas sean del bloque A\n",
    "b = comb(9,2)/comb(14,2)\n",
    "print(\"b= \",b)\n",
    "#c)\tQue el segundo sea del bloque A sabiendo que el primero fue del bloque B\n",
    "c = (9/13)\n",
    "print(\"c= \",c)"
   ]
  },
  {
   "cell_type": "markdown",
   "metadata": {},
   "source": [
    "### Ejercicio 10 "
   ]
  },
  {
   "cell_type": "code",
   "execution_count": 79,
   "metadata": {},
   "outputs": [
    {
     "name": "stdout",
     "output_type": "stream",
     "text": [
      "P(Rotura|Pintura)=  0.2\n"
     ]
    }
   ],
   "source": [
    "#En el proceso de producción de una empresa se ha llegado a la conclusión de que la probabilidad de que\n",
    "# una unidad del producto que fabrica sufra alguna pequeña rotura en el proceso de fabricación es de \n",
    "#0.10. Además, la probabilidad de que una unidad del producto tenga algún problema de pintura es del \n",
    "#0.25 y la probabilidad de que una unidad del producto tenga simultáneamente un problema de rotura y un\n",
    "# problema de puntura es del 0.05. Calcular la probabilidad de que una unidad del producto sufra una \n",
    "#rotura si ha tenido un problema de pintura.  \n",
    "#P(Rotura|Pintura) = P(Rotura ∩ Pintura) / P(Pintura)\n",
    "#P(Rotura|Pintura) = 0.05 / 0.25\n",
    "P_Rotura_Pintura = 0.05 / 0.25\n",
    "print(\"P(Rotura|Pintura)= \",P_Rotura_Pintura)"
   ]
  },
  {
   "cell_type": "markdown",
   "metadata": {},
   "source": [
    "### Ejercicio 11"
   ]
  },
  {
   "cell_type": "code",
   "execution_count": 80,
   "metadata": {},
   "outputs": [
    {
     "name": "stdout",
     "output_type": "stream",
     "text": [
      "P(Averia)=  0.025\n"
     ]
    }
   ],
   "source": [
    "#Una compañía dedicada al transporte público explota tres líneas de una ciudad, de forma que el 60% \n",
    "#de los autobuses cubre el servicio de la primera línea, el 30% cubre la segunda y el 10% cubre el \n",
    "#servicio de la tercera línea. Se sabe que la probabilidad de que, diariamente, un autobús se averíe es\n",
    "# del 2%, 4% y 1%, respectivamente, para cada línea. Determina la probabilidad de que, en un día, un\n",
    "# autobús sufra una avería.\n",
    "#P(Avería) = P(Avería|L1)P(L1) + P(Avería|L2)P(L2) + P(Avería|L3)P(L3)\n",
    "P_Averia = 0.02*0.60 + 0.04*0.30 + 0.01*0.10\n",
    "print(\"P(Averia)= \",P_Averia)\n"
   ]
  },
  {
   "cell_type": "markdown",
   "metadata": {},
   "source": [
    "### Actividad 12"
   ]
  },
  {
   "cell_type": "code",
   "execution_count": null,
   "metadata": {},
   "outputs": [],
   "source": [
    "#El tiempo en minutos que dura un viaje en tren entre dos ciudades A y B, es una variable aleatoria \n",
    "#normal con varianza 16. Se ha extraído una muestra aleatoria simple de 100 viajes, y la media es de 60\n",
    "# minutos. ¿Entre qué valores se encontrará la verdadera media, µ, del tiempo que dura el viaje en tren\n",
    "# desde A hasta B, con un nivel de confianza del 95%? Sin realizar más cálculos, si ahora tomo un \n",
    "#α = 0.05 para realizar el test de hipótesis H0 : μ = 60 y H1 : μ ≠ 60, \n",
    "#¿qué respuesta darías al contraste (o test) de hipótesis? ¿Y para α = 0.01?\n",
    "#μ = 60\n",
    "#σ = 4\n",
    "#n = 100\n",
    "#α = 0.05\n",
    "#α = 0.01\n",
    "#Z = 1.96\n",
    "#Z = 2.58\n",
    "#IC = μ ± Z * σ / sqrt(n)\n",
    "#IC = 60 ± 1.96 * 4 / sqrt(100)\n",
    "#IC = 60 ± 1.96 * 4 / 10\n",
    "#IC = 60 ± 1.96 * 0.4\n",
    "#IC = 60 ± 0.784\n",
    "#IC = [59.216, 60.784]\n",
    "#No se rechaza H0\n",
    "#IC = 60 ± 2.58 * 4 / 10\n",
    "#IC = 60 ± 2.58 * 0.4\n",
    "#IC = 60 ± 1.032\n",
    "#IC = [58.968, 61.032]\n",
    "#No se rechaza H0\n",
    "\n"
   ]
  },
  {
   "cell_type": "markdown",
   "metadata": {},
   "source": [
    "### Ejercicio 13"
   ]
  },
  {
   "cell_type": "code",
   "execution_count": null,
   "metadata": {},
   "outputs": [],
   "source": [
    "#El tiempo en minutos que dura un viaje en tren entre dos ciudades A y B, es una variable aleatoria \n",
    "#normal. Se ha extraído una muestra aleatoria simple de 16 viajes, y la media es 60 minutos y la \n",
    "#varianza 16 minutos2. ¿Entre qué valores se encontrará la verdadera media, µ, del tiempo que dura el \n",
    "#viaje en tren desde A hasta B, con un nivel de confianza del 95%? (o test) de hipótesis?   \n",
    "#μ = 60\n",
    "#σ = 4\n",
    "#n = 16\n",
    "#α = 0.05\n",
    "#Z = 1.96\n",
    "#IC = μ ± Z * σ / sqrt(n)"
   ]
  },
  {
   "cell_type": "markdown",
   "metadata": {},
   "source": [
    "### Importante\n",
    "\n",
    "##### La desviación estándar (SD) representa la variación en los valores de una variable, mientras que el error estándar de la media (Estándar Error of the Mean, SEM) representa la dispersión que tendría la media de una muestra de valores si se continuaran tomando muestras. Por lo tanto, el SEM proporciona una idea de la precisión de la media y el SD nos da una idea de la variabilidad de las observaciones individuales"
   ]
  },
  {
   "cell_type": "code",
   "execution_count": null,
   "metadata": {},
   "outputs": [],
   "source": []
  }
 ],
 "metadata": {
  "kernelspec": {
   "display_name": "Python 3",
   "language": "python",
   "name": "python3"
  },
  "language_info": {
   "codemirror_mode": {
    "name": "ipython",
    "version": 3
   },
   "file_extension": ".py",
   "mimetype": "text/x-python",
   "name": "python",
   "nbconvert_exporter": "python",
   "pygments_lexer": "ipython3",
   "version": "3.12.0"
  }
 },
 "nbformat": 4,
 "nbformat_minor": 2
}
