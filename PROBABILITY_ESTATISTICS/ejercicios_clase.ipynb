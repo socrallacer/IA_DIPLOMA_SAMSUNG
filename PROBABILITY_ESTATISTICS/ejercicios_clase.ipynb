{
 "cells": [
  {
   "cell_type": "code",
   "execution_count": 1,
   "metadata": {},
   "outputs": [],
   "source": [
    "import scipy.stats as st\n",
    "import matplotlib.pyplot as plt\n",
    "import numpy as np\n",
    "%matplotlib inline"
   ]
  },
  {
   "cell_type": "code",
   "execution_count": 2,
   "metadata": {},
   "outputs": [],
   "source": [
    "#función de densidad de probabilidad para una distribución normal utilizando st\n",
    "def normal_pdf(x, mu, sigma):\n",
    "    return (x, mu, sigma)\n",
    "\n",
    "#pdf correspode a la función de densidad de probabilidad"
   ]
  },
  {
   "cell_type": "code",
   "execution_count": 19,
   "metadata": {},
   "outputs": [
    {
     "name": "stdout",
     "output_type": "stream",
     "text": [
      "0.9999999998730186\n"
     ]
    }
   ],
   "source": [
    "#Un elevador puede cargar como máximo 500KG, a él se sube un repartidor de amazon que pesa 80kg con 10 paquetes iguales,\n",
    "# cada uno pesa de media 40KG con una desviación típica de 1KG ¿Cuál es la probabilidad de que el ascensor funcione?\n",
    "# la distribución de los pesos de los paquetes es normal\n",
    "# El peso del señor es una constante, por lo que no se considera en la distribución\n",
    "from cmath import sqrt\n",
    "\n",
    "\n",
    "mu = 80 + 10*40\n",
    "#sumamos las varianzas de los paquetes y cogemos la raiz positiva\n",
    "sigma = sqrt(1*10)\n",
    "#x es el peso de los paquetes\n",
    "min = st.norm.cdf(500, mu, sigma)\n",
    "\n",
    "print(min)\n"
   ]
  },
  {
   "cell_type": "code",
   "execution_count": 23,
   "metadata": {},
   "outputs": [
    {
     "data": {
      "text/plain": [
       "(3.162277660168379+0j)"
      ]
     },
     "execution_count": 23,
     "metadata": {},
     "output_type": "execute_result"
    }
   ],
   "source": [
    "20/sqrt(40)"
   ]
  },
  {
   "cell_type": "code",
   "execution_count": 22,
   "metadata": {},
   "outputs": [
    {
     "name": "stdout",
     "output_type": "stream",
     "text": [
      "0.9992172988709987\n"
     ]
    },
    {
     "name": "stderr",
     "output_type": "stream",
     "text": [
      "/Library/Frameworks/Python.framework/Versions/3.12/lib/python3.12/site-packages/scipy/stats/_distn_infrastructure.py:2071: ComplexWarning: Casting complex values to real discards the imaginary part\n",
      "  x = np.asarray((x - loc)/scale, dtype=dtyp)\n"
     ]
    }
   ],
   "source": [
    "#mismo problema pero con una desviación típica de 2KG\n",
    "# La media se mantiene igual\n",
    "mu = 80 + 10*40\n",
    "#sumamos las varianzas de los paquetes y cogemos la raiz positiva\n",
    "sigma = sqrt((2**2)*10)\n",
    "#x es el peso de los paquetes\n",
    "min = st.norm.cdf(500, mu, sigma)\n",
    "\n",
    "print(min)"
   ]
  },
  {
   "cell_type": "code",
   "execution_count": 25,
   "metadata": {},
   "outputs": [
    {
     "name": "stdout",
     "output_type": "stream",
     "text": [
      "(0.9999999998730186+0j)\n"
     ]
    }
   ],
   "source": [
    "#mismo ejercicio normalizando la distribución\n",
    "mu = 80 + 10*40\n",
    "#sumamos las varianzas de los paquetes y cogemos la raiz positiva\n",
    "sigma = sqrt(1*10)\n",
    "x = (500 - mu) / sigma\n",
    "#x es el peso de los paquetes\n",
    "min = st.norm.cdf(x, 0, 1)\n",
    "\n",
    "print(min)"
   ]
  },
  {
   "cell_type": "code",
   "execution_count": null,
   "metadata": {},
   "outputs": [],
   "source": []
  }
 ],
 "metadata": {
  "kernelspec": {
   "display_name": "Python 3",
   "language": "python",
   "name": "python3"
  },
  "language_info": {
   "codemirror_mode": {
    "name": "ipython",
    "version": 3
   },
   "file_extension": ".py",
   "mimetype": "text/x-python",
   "name": "python",
   "nbconvert_exporter": "python",
   "pygments_lexer": "ipython3",
   "version": "3.12.0"
  }
 },
 "nbformat": 4,
 "nbformat_minor": 2
}
