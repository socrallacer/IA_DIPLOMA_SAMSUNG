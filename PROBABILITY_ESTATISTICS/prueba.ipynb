{
 "cells": [
  {
   "cell_type": "code",
   "execution_count": 8,
   "metadata": {},
   "outputs": [],
   "source": [
    "import numpy as np\n",
    "import pandas as pd\n",
    "from sklearn.datasets import load_breast_cancer\n",
    "import scipy.stats as st\n",
    "import matplotlib.pyplot as plt\n",
    "import numpy as np\n",
    "from math import sqrt\n",
    "from math import comb\n",
    "%matplotlib inline\n",
    "\n",
    "\n",
    "\n"
   ]
  },
  {
   "cell_type": "markdown",
   "metadata": {},
   "source": [
    "### Ejercicio 2"
   ]
  },
  {
   "cell_type": "code",
   "execution_count": 11,
   "metadata": {},
   "outputs": [
    {
     "name": "stdout",
     "output_type": "stream",
     "text": [
      "0.125\n",
      "1.5\n",
      "0.75\n"
     ]
    }
   ],
   "source": [
    "#Assume I get married and have three children, and the random variable X is the number of sons\n",
    "#what is the probability that I have 3 sons?\n",
    "prob = st.binom.pmf(3, 3, 0.5)\n",
    "print(prob)\n",
    "#mean\n",
    "mean = st.binom.mean(3, 0.5)\n",
    "print(mean)\n",
    "#variance\n",
    "var = st.binom.var(3, 0.5)\n",
    "print(var)"
   ]
  },
  {
   "cell_type": "code",
   "execution_count": 13,
   "metadata": {},
   "outputs": [
    {
     "name": "stdout",
     "output_type": "stream",
     "text": [
      "[78.92648351376971, 81.07351648623029]\n"
     ]
    }
   ],
   "source": [
    "#Among the students taking the class of Information and Statistics, 30 students were randomly selected. When investigating the average of their\n",
    "# grades, the mean was 80 and the variance was 9. Find a 95% confidence interval for the average of their grades.\n",
    "mean = 80\n",
    "var = 9\n",
    "n = 30\n",
    "alpha = 0.05\n",
    "#percent point function\n",
    "z = st.norm.ppf(1-alpha/2)\n",
    "std = sqrt(var/n)\n",
    "ci = [mean - z*std, mean + z*std]\n",
    "print(ci)"
   ]
  },
  {
   "cell_type": "code",
   "execution_count": 127,
   "metadata": {},
   "outputs": [],
   "source": [
    "# Load data.\n",
    "data = load_breast_cancer()\n",
    "# make DataFrame\n",
    "df = pd.DataFrame(data.data, columns=[data.feature_names])\n",
    "df = df.assign(target=pd.Series(1 - data.target))\n",
    "#Find the feature that is most correlated with the target using the code above\n",
    "\n",
    "\n"
   ]
  },
  {
   "cell_type": "code",
   "execution_count": 131,
   "metadata": {},
   "outputs": [
    {
     "name": "stdout",
     "output_type": "stream",
     "text": [
      "The feature that is most correlated with the target is ('worst concave points',) with a correlation of 0.7935660171412694\n"
     ]
    }
   ],
   "source": [
    "corr = df.corr()\n",
    "corr_target = corr['target']\n",
    "\n",
    "feature = corr_target['target'][corr_target['target'] != 1].idxmax().values[0]\n",
    "correlation = corr_target['target'][corr_target['target'] != 1].max().values[0]\n",
    "\n",
    "print(f'The feature that is most correlated with the target is {feature} with a correlation of {correlation}')"
   ]
  },
  {
   "cell_type": "code",
   "execution_count": null,
   "metadata": {},
   "outputs": [],
   "source": []
  }
 ],
 "metadata": {
  "kernelspec": {
   "display_name": "Python 3",
   "language": "python",
   "name": "python3"
  },
  "language_info": {
   "codemirror_mode": {
    "name": "ipython",
    "version": 3
   },
   "file_extension": ".py",
   "mimetype": "text/x-python",
   "name": "python",
   "nbconvert_exporter": "python",
   "pygments_lexer": "ipython3",
   "version": "3.12.0"
  }
 },
 "nbformat": 4,
 "nbformat_minor": 2
}
